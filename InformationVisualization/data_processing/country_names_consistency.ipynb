{
 "cells": [
  {
   "cell_type": "code",
   "execution_count": 1,
   "metadata": {},
   "outputs": [],
   "source": [
    "import pandas as pd\n",
    "import json"
   ]
  },
  {
   "cell_type": "code",
   "execution_count": 12,
   "metadata": {},
   "outputs": [],
   "source": [
    "gdp = pd.read_json('../global-warming-visualization/public/gdp2temp2meat2ghg.json')\n",
    "\n",
    "with open('../global-warming-visualization/public/world_countries.json', 'r') as f:\n",
    "    countries = json.load(f)"
   ]
  },
  {
   "cell_type": "code",
   "execution_count": 7,
   "metadata": {
    "scrolled": true
   },
   "outputs": [
    {
     "data": {
      "text/html": [
       "<div>\n",
       "<style scoped>\n",
       "    .dataframe tbody tr th:only-of-type {\n",
       "        vertical-align: middle;\n",
       "    }\n",
       "\n",
       "    .dataframe tbody tr th {\n",
       "        vertical-align: top;\n",
       "    }\n",
       "\n",
       "    .dataframe thead th {\n",
       "        text-align: right;\n",
       "    }\n",
       "</style>\n",
       "<table border=\"1\" class=\"dataframe\">\n",
       "  <thead>\n",
       "    <tr style=\"text-align: right;\">\n",
       "      <th></th>\n",
       "      <th>country</th>\n",
       "      <th>year</th>\n",
       "      <th>gdp</th>\n",
       "      <th>meat_consumption</th>\n",
       "      <th>temperature</th>\n",
       "      <th>ghg_emission</th>\n",
       "    </tr>\n",
       "  </thead>\n",
       "  <tbody>\n",
       "    <tr>\n",
       "      <th>0</th>\n",
       "      <td>Afghanistan</td>\n",
       "      <td>1970</td>\n",
       "      <td>156.52</td>\n",
       "      <td>17.17</td>\n",
       "      <td>14.78</td>\n",
       "      <td>14306.6163</td>\n",
       "    </tr>\n",
       "    <tr>\n",
       "      <th>1</th>\n",
       "      <td>Afghanistan</td>\n",
       "      <td>1971</td>\n",
       "      <td>159.57</td>\n",
       "      <td>16.89</td>\n",
       "      <td>14.82</td>\n",
       "      <td>14391.7782</td>\n",
       "    </tr>\n",
       "  </tbody>\n",
       "</table>\n",
       "</div>"
      ],
      "text/plain": [
       "       country  year     gdp  meat_consumption  temperature  ghg_emission\n",
       "0  Afghanistan  1970  156.52             17.17        14.78    14306.6163\n",
       "1  Afghanistan  1971  159.57             16.89        14.82    14391.7782"
      ]
     },
     "execution_count": 7,
     "metadata": {},
     "output_type": "execute_result"
    }
   ],
   "source": [
    "gdp.head(2)"
   ]
  },
  {
   "cell_type": "code",
   "execution_count": 19,
   "metadata": {},
   "outputs": [],
   "source": [
    "map_countries = [x['properties']['name'] for x in countries['features']]"
   ]
  },
  {
   "cell_type": "code",
   "execution_count": 24,
   "metadata": {},
   "outputs": [
    {
     "data": {
      "text/plain": [
       "{'Antarctica',\n",
       " 'Bhutan',\n",
       " 'Bosnia and Herzegovina',\n",
       " 'Brunei',\n",
       " 'Burundi',\n",
       " 'Democratic Republic of the Congo',\n",
       " 'East Timor',\n",
       " 'Egypt',\n",
       " 'England',\n",
       " 'Equatorial Guinea',\n",
       " 'Eritrea',\n",
       " 'Falkland Islands',\n",
       " 'French Southern and Antarctic Lands',\n",
       " 'Gambia',\n",
       " 'Greenland',\n",
       " 'Guinea Bissau',\n",
       " 'Iran',\n",
       " 'Ivory Coast',\n",
       " 'Kosovo',\n",
       " 'Kyrgyzstan',\n",
       " 'Laos',\n",
       " 'Libya',\n",
       " 'Macedonia',\n",
       " 'Montenegro',\n",
       " 'Myanmar',\n",
       " 'North Korea',\n",
       " 'Northern Cyprus',\n",
       " 'Papua New Guinea',\n",
       " 'Puerto Rico',\n",
       " 'Qatar',\n",
       " 'Republic of Serbia',\n",
       " 'Republic of the Congo',\n",
       " 'Russia',\n",
       " 'Slovakia',\n",
       " 'Somalia',\n",
       " 'Somaliland',\n",
       " 'South Korea',\n",
       " 'South Sudan',\n",
       " 'Swaziland',\n",
       " 'Syria',\n",
       " 'Taiwan',\n",
       " 'The Bahamas',\n",
       " 'Trinidad and Tobago',\n",
       " 'USA',\n",
       " 'United Republic of Tanzania',\n",
       " 'Vanuatu',\n",
       " 'Venezuela',\n",
       " 'West Bank',\n",
       " 'Western Sahara',\n",
       " 'Yemen'}"
      ]
     },
     "execution_count": 24,
     "metadata": {},
     "output_type": "execute_result"
    }
   ],
   "source": [
    "set(map_countries) - set(gdp['country'].values)"
   ]
  },
  {
   "cell_type": "code",
   "execution_count": 21,
   "metadata": {},
   "outputs": [
    {
     "data": {
      "text/plain": [
       "{'Antarctica',\n",
       " 'Bhutan',\n",
       " 'Bosnia and Herzegovina',\n",
       " 'Brunei',\n",
       " 'Burundi',\n",
       " 'Democratic Republic of the Congo',\n",
       " 'East Timor',\n",
       " 'Egypt',\n",
       " 'England',\n",
       " 'Equatorial Guinea',\n",
       " 'Eritrea',\n",
       " 'Falkland Islands',\n",
       " 'French Southern and Antarctic Lands',\n",
       " 'Gambia',\n",
       " 'Greenland',\n",
       " 'Guinea Bissau',\n",
       " 'Iran',\n",
       " 'Ivory Coast',\n",
       " 'Kosovo',\n",
       " 'Kyrgyzstan',\n",
       " 'Laos',\n",
       " 'Libya',\n",
       " 'Macedonia',\n",
       " 'Montenegro',\n",
       " 'Myanmar',\n",
       " 'North Korea',\n",
       " 'Northern Cyprus',\n",
       " 'Papua New Guinea',\n",
       " 'Puerto Rico',\n",
       " 'Qatar',\n",
       " 'Republic of Serbia',\n",
       " 'Republic of the Congo',\n",
       " 'Russia',\n",
       " 'Slovakia',\n",
       " 'Somalia',\n",
       " 'Somaliland',\n",
       " 'South Korea',\n",
       " 'South Sudan',\n",
       " 'Swaziland',\n",
       " 'Syria',\n",
       " 'Taiwan',\n",
       " 'The Bahamas',\n",
       " 'Trinidad and Tobago',\n",
       " 'USA',\n",
       " 'United Republic of Tanzania',\n",
       " 'Vanuatu',\n",
       " 'Venezuela',\n",
       " 'West Bank',\n",
       " 'Western Sahara',\n",
       " 'Yemen'}"
      ]
     },
     "execution_count": 21,
     "metadata": {},
     "output_type": "execute_result"
    }
   ],
   "source": [
    "set(map_countries) - set(gdp['country'].values)"
   ]
  },
  {
   "cell_type": "code",
   "execution_count": null,
   "metadata": {},
   "outputs": [],
   "source": []
  },
  {
   "cell_type": "code",
   "execution_count": null,
   "metadata": {},
   "outputs": [],
   "source": []
  },
  {
   "cell_type": "code",
   "execution_count": 2,
   "metadata": {},
   "outputs": [],
   "source": [
    "temp = pd.read_csv('temperature_processed.csv')"
   ]
  },
  {
   "cell_type": "code",
   "execution_count": 4,
   "metadata": {},
   "outputs": [],
   "source": [
    "temp.to_json('country2temperature.json', orient='records')"
   ]
  },
  {
   "cell_type": "code",
   "execution_count": null,
   "metadata": {},
   "outputs": [],
   "source": []
  }
 ],
 "metadata": {
  "kernelspec": {
   "display_name": "Python 3",
   "language": "python",
   "name": "python3"
  },
  "language_info": {
   "codemirror_mode": {
    "name": "ipython",
    "version": 3
   },
   "file_extension": ".py",
   "mimetype": "text/x-python",
   "name": "python",
   "nbconvert_exporter": "python",
   "pygments_lexer": "ipython3",
   "version": "3.7.5"
  }
 },
 "nbformat": 4,
 "nbformat_minor": 2
}
