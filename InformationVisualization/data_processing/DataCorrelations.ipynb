{
 "cells": [
  {
   "cell_type": "code",
   "execution_count": 1,
   "metadata": {},
   "outputs": [],
   "source": [
    "import os\n",
    "import glob\n",
    "import pandas as pd"
   ]
  },
  {
   "cell_type": "code",
   "execution_count": 2,
   "metadata": {},
   "outputs": [],
   "source": [
    "temperature = pd.read_csv('temperature_processed.csv')\n",
    "global_temperature = pd.read_csv('global_temperature_processed.csv')\n",
    "sea = pd.read_csv('sea_level_processed.csv')\n",
    "glaciers = pd.read_csv('glaciers_processed.csv')\n",
    "ghg = pd.read_csv('ghg_processed.csv')\n",
    "global_ghg = pd.read_csv('global_ghg_processed.csv')\n",
    "gdp = pd.read_csv('gdp_processed.csv')\n",
    "meat = pd.read_csv('meat_processed.csv')"
   ]
  },
  {
   "cell_type": "code",
   "execution_count": 3,
   "metadata": {},
   "outputs": [
    {
     "data": {
      "text/html": [
       "<div>\n",
       "<style scoped>\n",
       "    .dataframe tbody tr th:only-of-type {\n",
       "        vertical-align: middle;\n",
       "    }\n",
       "\n",
       "    .dataframe tbody tr th {\n",
       "        vertical-align: top;\n",
       "    }\n",
       "\n",
       "    .dataframe thead th {\n",
       "        text-align: right;\n",
       "    }\n",
       "</style>\n",
       "<table border=\"1\" class=\"dataframe\">\n",
       "  <thead>\n",
       "    <tr style=\"text-align: right;\">\n",
       "      <th></th>\n",
       "      <th>year</th>\n",
       "      <th>temperature</th>\n",
       "      <th>ghg_emission</th>\n",
       "    </tr>\n",
       "  </thead>\n",
       "  <tbody>\n",
       "    <tr>\n",
       "      <th>0</th>\n",
       "      <td>1970</td>\n",
       "      <td>18.79</td>\n",
       "      <td>0.01033</td>\n",
       "    </tr>\n",
       "    <tr>\n",
       "      <th>1</th>\n",
       "      <td>1971</td>\n",
       "      <td>18.59</td>\n",
       "      <td>0.00931</td>\n",
       "    </tr>\n",
       "    <tr>\n",
       "      <th>2</th>\n",
       "      <td>1972</td>\n",
       "      <td>18.67</td>\n",
       "      <td>0.00971</td>\n",
       "    </tr>\n",
       "    <tr>\n",
       "      <th>3</th>\n",
       "      <td>1973</td>\n",
       "      <td>18.87</td>\n",
       "      <td>0.01011</td>\n",
       "    </tr>\n",
       "    <tr>\n",
       "      <th>4</th>\n",
       "      <td>1974</td>\n",
       "      <td>18.63</td>\n",
       "      <td>0.00927</td>\n",
       "    </tr>\n",
       "  </tbody>\n",
       "</table>\n",
       "</div>"
      ],
      "text/plain": [
       "   year  temperature  ghg_emission\n",
       "0  1970        18.79       0.01033\n",
       "1  1971        18.59       0.00931\n",
       "2  1972        18.67       0.00971\n",
       "3  1973        18.87       0.01011\n",
       "4  1974        18.63       0.00927"
      ]
     },
     "execution_count": 3,
     "metadata": {},
     "output_type": "execute_result"
    }
   ],
   "source": [
    "global_temperature2ghg = pd.merge(global_temperature, global_ghg, left_on='year', right_on='year', how='inner')\n",
    "global_temperature2ghg.to_csv('global_temperature2ghg.csv', index=False)\n",
    "global_temperature2ghg.head()"
   ]
  },
  {
   "cell_type": "code",
   "execution_count": 4,
   "metadata": {},
   "outputs": [
    {
     "data": {
      "text/html": [
       "<div>\n",
       "<style scoped>\n",
       "    .dataframe tbody tr th:only-of-type {\n",
       "        vertical-align: middle;\n",
       "    }\n",
       "\n",
       "    .dataframe tbody tr th {\n",
       "        vertical-align: top;\n",
       "    }\n",
       "\n",
       "    .dataframe thead th {\n",
       "        text-align: right;\n",
       "    }\n",
       "</style>\n",
       "<table border=\"1\" class=\"dataframe\">\n",
       "  <thead>\n",
       "    <tr style=\"text-align: right;\">\n",
       "      <th></th>\n",
       "      <th>country</th>\n",
       "      <th>year</th>\n",
       "      <th>gdp</th>\n",
       "      <th>meat_consumption</th>\n",
       "      <th>temperature</th>\n",
       "      <th>ghg_emission</th>\n",
       "    </tr>\n",
       "  </thead>\n",
       "  <tbody>\n",
       "    <tr>\n",
       "      <th>0</th>\n",
       "      <td>Afghanistan</td>\n",
       "      <td>1970</td>\n",
       "      <td>156.52</td>\n",
       "      <td>17.17</td>\n",
       "      <td>14.78</td>\n",
       "      <td>0.00128</td>\n",
       "    </tr>\n",
       "    <tr>\n",
       "      <th>1</th>\n",
       "      <td>Afghanistan</td>\n",
       "      <td>1971</td>\n",
       "      <td>159.57</td>\n",
       "      <td>16.89</td>\n",
       "      <td>14.82</td>\n",
       "      <td>0.00125</td>\n",
       "    </tr>\n",
       "    <tr>\n",
       "      <th>2</th>\n",
       "      <td>Afghanistan</td>\n",
       "      <td>1972</td>\n",
       "      <td>135.32</td>\n",
       "      <td>14.68</td>\n",
       "      <td>12.55</td>\n",
       "      <td>0.00111</td>\n",
       "    </tr>\n",
       "    <tr>\n",
       "      <th>3</th>\n",
       "      <td>Afghanistan</td>\n",
       "      <td>1973</td>\n",
       "      <td>143.14</td>\n",
       "      <td>15.47</td>\n",
       "      <td>14.24</td>\n",
       "      <td>0.00112</td>\n",
       "    </tr>\n",
       "    <tr>\n",
       "      <th>4</th>\n",
       "      <td>Afghanistan</td>\n",
       "      <td>1974</td>\n",
       "      <td>173.65</td>\n",
       "      <td>15.59</td>\n",
       "      <td>13.32</td>\n",
       "      <td>0.00120</td>\n",
       "    </tr>\n",
       "  </tbody>\n",
       "</table>\n",
       "</div>"
      ],
      "text/plain": [
       "       country  year     gdp  meat_consumption  temperature  ghg_emission\n",
       "0  Afghanistan  1970  156.52             17.17        14.78       0.00128\n",
       "1  Afghanistan  1971  159.57             16.89        14.82       0.00125\n",
       "2  Afghanistan  1972  135.32             14.68        12.55       0.00111\n",
       "3  Afghanistan  1973  143.14             15.47        14.24       0.00112\n",
       "4  Afghanistan  1974  173.65             15.59        13.32       0.00120"
      ]
     },
     "execution_count": 4,
     "metadata": {},
     "output_type": "execute_result"
    }
   ],
   "source": [
    "temp2ghg = pd.merge(temperature, ghg, on=['country', 'year'])\n",
    "temp2meat2ghg = pd.merge(meat, temp2ghg, on=['country', 'year'])\n",
    "gdp2temp2meat2ghg = pd.merge(gdp, temp2meat2ghg, on=['country', 'year'])\n",
    "\n",
    "gdp2temp2meat2ghg.to_csv('gdp2temp2meat2ghg.csv', index=False)\n",
    "gdp2temp2meat2ghg.head()"
   ]
  },
  {
   "cell_type": "code",
   "execution_count": 5,
   "metadata": {},
   "outputs": [
    {
     "data": {
      "text/html": [
       "<div>\n",
       "<style scoped>\n",
       "    .dataframe tbody tr th:only-of-type {\n",
       "        vertical-align: middle;\n",
       "    }\n",
       "\n",
       "    .dataframe tbody tr th {\n",
       "        vertical-align: top;\n",
       "    }\n",
       "\n",
       "    .dataframe thead th {\n",
       "        text-align: right;\n",
       "    }\n",
       "</style>\n",
       "<table border=\"1\" class=\"dataframe\">\n",
       "  <thead>\n",
       "    <tr style=\"text-align: right;\">\n",
       "      <th></th>\n",
       "      <th>year</th>\n",
       "      <th>level</th>\n",
       "      <th>mass</th>\n",
       "    </tr>\n",
       "  </thead>\n",
       "  <tbody>\n",
       "    <tr>\n",
       "      <th>0</th>\n",
       "      <td>1945</td>\n",
       "      <td>2.96</td>\n",
       "      <td>0.00</td>\n",
       "    </tr>\n",
       "    <tr>\n",
       "      <th>1</th>\n",
       "      <td>1946</td>\n",
       "      <td>3.25</td>\n",
       "      <td>-1.13</td>\n",
       "    </tr>\n",
       "    <tr>\n",
       "      <th>2</th>\n",
       "      <td>1947</td>\n",
       "      <td>3.37</td>\n",
       "      <td>-3.19</td>\n",
       "    </tr>\n",
       "    <tr>\n",
       "      <th>3</th>\n",
       "      <td>1948</td>\n",
       "      <td>3.56</td>\n",
       "      <td>-3.19</td>\n",
       "    </tr>\n",
       "    <tr>\n",
       "      <th>4</th>\n",
       "      <td>1949</td>\n",
       "      <td>3.51</td>\n",
       "      <td>-3.82</td>\n",
       "    </tr>\n",
       "  </tbody>\n",
       "</table>\n",
       "</div>"
      ],
      "text/plain": [
       "   year  level  mass\n",
       "0  1945   2.96  0.00\n",
       "1  1946   3.25 -1.13\n",
       "2  1947   3.37 -3.19\n",
       "3  1948   3.56 -3.19\n",
       "4  1949   3.51 -3.82"
      ]
     },
     "execution_count": 5,
     "metadata": {},
     "output_type": "execute_result"
    }
   ],
   "source": [
    "sea2glaciers = pd.merge(sea, glaciers, on=['year'])\n",
    "sea2glaciers.to_csv('sea2glaciers.csv', index=False)\n",
    "sea2glaciers.head()"
   ]
  },
  {
   "cell_type": "code",
   "execution_count": null,
   "metadata": {},
   "outputs": [],
   "source": []
  },
  {
   "cell_type": "code",
   "execution_count": 6,
   "metadata": {},
   "outputs": [
    {
     "name": "stdout",
     "output_type": "stream",
     "text": [
      "gdp2temp2meat2ghg.csv: 4953 lines, 219.46 KB\n",
      "gdp_processed.csv: 12099 lines, 313.00 KB\n",
      "sea2glaciers.csv: 70 lines, 1.16 KB\n",
      "sea_level.csv: 135 lines, 6.88 KB\n",
      "total_population.csv: 264 lines, 174.78 KB\n",
      "global_temperature_processed.csv: 271 lines, 2.94 KB\n",
      "sea_level_processed.csv: 135 lines, 1.36 KB\n",
      "global_ghg_processed.csv: 43 lines, 0.58 KB\n",
      "temperature.csv: 577462 lines, 22680.39 KB\n",
      "meat_processed.csv: 10393 lines, 228.25 KB\n",
      "ghg_processed.csv: 10089 lines, 266.66 KB\n",
      "glaciers_processed.csv: 70 lines, 0.82 KB\n",
      "gdp.csv: 264 lines, 258.07 KB\n",
      "glaciers.csv: 70 lines, 1.20 KB\n",
      "global_temperature2ghg.csv: 43 lines, 0.94 KB\n",
      "meat_consumption.csv: 10393 lines, 263.41 KB\n",
      "ghg.csv: 264 lines, 183.64 KB\n",
      "temperature_processed.csv: 46246 lines, 987.55 KB\n"
     ]
    }
   ],
   "source": [
    "for path in glob.glob('*.csv'):\n",
    "    dataset = pd.read_csv(path)\n",
    "    size = os.path.getsize(path)\n",
    "    print(f'{path}: {len(dataset)} lines, {size/1000:.2f} KB')"
   ]
  },
  {
   "cell_type": "code",
   "execution_count": null,
   "metadata": {},
   "outputs": [],
   "source": []
  },
  {
   "cell_type": "code",
   "execution_count": null,
   "metadata": {},
   "outputs": [],
   "source": []
  }
 ],
 "metadata": {
  "kernelspec": {
   "display_name": "Python 3",
   "language": "python",
   "name": "python3"
  },
  "language_info": {
   "codemirror_mode": {
    "name": "ipython",
    "version": 3
   },
   "file_extension": ".py",
   "mimetype": "text/x-python",
   "name": "python",
   "nbconvert_exporter": "python",
   "pygments_lexer": "ipython3",
   "version": "3.7.2"
  }
 },
 "nbformat": 4,
 "nbformat_minor": 2
}
