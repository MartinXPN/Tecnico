{
 "cells": [
  {
   "cell_type": "code",
   "execution_count": 5,
   "metadata": {},
   "outputs": [],
   "source": [
    "import time\n",
    "import random\n",
    "import subprocess\n",
    "import pandas as pd\n",
    "from tqdm.notebook import tqdm, trange\n",
    "from math import log\n",
    "import numpy as np\n",
    "import networkx as nx\n",
    "from networkx.generators.trees import random_tree\n",
    "from matplotlib import pyplot as plt\n",
    "%matplotlib inline"
   ]
  },
  {
   "cell_type": "code",
   "execution_count": 2,
   "metadata": {},
   "outputs": [
    {
     "data": {
      "image/png": "[encoded data removed]",
      "text/plain": [
       "<Figure size 432x288 with 1 Axes>"
      ]
     },
     "metadata": {},
     "output_type": "display_data"
    }
   ],
   "source": [
    "nx.draw(random_tree(10))"
   ]
  },
  {
   "cell_type": "code",
   "execution_count": 15,
   "metadata": {
    "scrolled": true
   },
   "outputs": [
    {
     "data": {
      "application/vnd.jupyter.widget-view+json": {
       "model_id": "9746a80a6173426c80b853bdbc5846ed",
       "version_major": 2,
       "version_minor": 0
      },
      "text/plain": [
       "HBox(children=(FloatProgress(value=0.0, max=200.0), HTML(value='')))"
      ]
     },
     "metadata": {},
     "output_type": "display_data"
    },
    {
     "name": "stdout",
     "output_type": "stream",
     "text": [
      "\n"
     ]
    }
   ],
   "source": [
    "X, Y = [], []\n",
    "for samples in trange(200):\n",
    "    N = random.randint(1000, 1000000)\n",
    "    Q = random.randint(1000, 1000000)\n",
    "    t = random_tree(N)\n",
    "    W = np.random.randint(low=0, high=100, size=N - 1)\n",
    "    queries_a = np.random.randint(low=0, high=N, size=Q)\n",
    "    queries_b = np.random.randint(low=0, high=N, size=Q)\n",
    "    queries_w = np.random.randint(low=0, high=500, size=Q)\n",
    "\n",
    "    with open('input.in', 'w') as f:\n",
    "        # Write the network to the input file\n",
    "        f.write(f'{N}\\n')\n",
    "        for w, (u, v) in zip(W, t.edges()):\n",
    "            f.write(f'{u} {v} {w}\\n')\n",
    "\n",
    "        # Write queries to the file\n",
    "        f.write(f'{Q}\\n')\n",
    "        for a, b, w in zip(queries_a, queries_b, queries_w):\n",
    "            f.write(f'{a} {b} {w}\\n')\n",
    "\n",
    "    # Run the program\n",
    "    start = time.process_time()\n",
    "    subprocess.run(['./MST'])\n",
    "    end = time.process_time()\n",
    "\n",
    "    X.append( N * log(N) + Q * log(N)**2 )\n",
    "    Y.append(end - start)"
   ]
  },
  {
   "cell_type": "code",
   "execution_count": 16,
   "metadata": {},
   "outputs": [
    {
     "data": {
      "application/vnd.plotly.v1+json": {
       "config": {
        "plotlyServerURL": "https://plot.ly"
       },
       "data": [
        {
         "hovertemplate": "theoretical complexity=%{x}<br>actual time=%{y}<extra></extra>",
         "legendgroup": "",
         "marker": {
          "color": "#636efa",
          "symbol": "circle"
         },
         "mode": "markers",
         "name": "",
         "showlegend": false,
         "type": "scatter",
         "x": [
          99229436.99608454,
          7447488.945315062,
          142847494.32099277,
          137055327.62930608,
          167317975.49371704,
          39050918.04627452,
          38653160.260816336,
          107387947.63770083,
          128186128.50563796,
          22616954.558444977,
          84320804.64338742,
          195040788.13986665,
          20503010.58884473,
          49810829.00560671,
          58628139.6304443,
          146700990.957855,
          27742942.893151775,
          82409173.0330286,
          109383433.1380861,
          58802811.06601056,
          40359128.12390894,
          22858334.367667567,
          80400900.18003562,
          39361059.57274864,
          72262027.0185533,
          60601379.27793154,
          110185526.38014336,
          142607845.90702194,
          24350753.18617135,
          112466138.57499105,
          64389298.13297385,
          55357775.7033517,
          124663137.02739514,
          43298131.88873031,
          4726179.327424295,
          154733971.14739686,
          139720307.1338038,
          62719615.14475206,
          6745332.714988558,
          66865995.28476402,
          141070324.24316287,
          179089066.90500265,
          6751818.617868182,
          106308642.48762615,
          118593684.79307657,
          24721233.067536257,
          126189952.02580108,
          118770840.15059668,
          115669568.57467616,
          111894368.21435216,
          186966600.9554306,
          33357346.833795466,
          61946016.7296503,
          152244595.7638942,
          133374415.4912815,
          16723924.770777993,
          99101784.23102309,
          94332672.89803898,
          86393382.38173579,
          190454189.12410867,
          90289645.6537114,
          20475044.933786094,
          13233608.422970956,
          142097058.8595589,
          82291029.37517563,
          180841880.26944152,
          86114551.16469896,
          54036428.00929052,
          17245037.439826414,
          182548080.54492542,
          171726460.8308529,
          80800335.96987483,
          161012120.31980854,
          146927941.22929046,
          56855843.855337225,
          167260148.06735572,
          128006761.06653664,
          67858618.3691539,
          74678033.58957689,
          65711366.89628855,
          168329721.3979234,
          71803719.77843817,
          34234059.51073679,
          35645383.69274142,
          89615180.3482423,
          180617672.41027507,
          134365473.18777776,
          12164220.419592854,
          154253196.03932363,
          121653351.94404621,
          44878738.11280316,
          102477686.72622348,
          123226358.26204753,
          36668807.488385126,
          91588637.79014896,
          147415803.2501477,
          69807360.01650986,
          73386039.40011226,
          11222621.925449649,
          15467368.737109609,
          8022616.495172631,
          190723888.66705054,
          102918908.72123434,
          96061973.08680409,
          142429876.8708343,
          79479620.13830584,
          155149388.58149046,
          52660579.114484765,
          127225332.28226952,
          96037031.52323444,
          175535021.5968666,
          106800819.52233854,
          113007221.28394036,
          180784197.7371218,
          150704384.13655567,
          54580830.04653018,
          24254575.1200169,
          110283723.90066634,
          106268853.95738049,
          153604654.1272032,
          63950033.48836217,
          52089037.45667569,
          33084761.13628452,
          165393429.781984,
          198589059.748226,
          186439435.30952227,
          8431978.602191592,
          34789698.10075325,
          79588353.34158964,
          160804208.5647417,
          132132141.89836802,
          57997614.730167925,
          42692972.86749194,
          84456226.80971453,
          86814839.77036026,
          76519973.52602953,
          8239441.201195872,
          9770777.667336857,
          7244843.631787991,
          101426688.78794582,
          93586229.57560024,
          54135478.45718792,
          20318511.54349939,
          52024031.08230339,
          47697472.43536964,
          104717439.41721474,
          59292251.93912814,
          109172399.33321047,
          64174254.32500373,
          17908239.469820566,
          149451952.72791043,
          126718553.0666211,
          109486313.17697667,
          82539766.20761904,
          127092668.74965037,
          61252156.032964446,
          30944644.44870407,
          97510966.19205241,
          120033277.25311507,
          22729829.7484242,
          122421852.49983099,
          123130572.70249604,
          144305232.88738704,
          106341076.76871504,
          45466986.86014762,
          20918376.1637429,
          157351178.43751422,
          27092408.880748544,
          22061632.161700297,
          114642425.00390105,
          129972172.71285959,
          24274964.492198866,
          168043951.26078907,
          150751527.94949627,
          71701652.79273944,
          121492612.69115792,
          102814306.98958294,
          57781049.036681205,
          23367366.84030685,
          52409185.32398934,
          158673541.2605267,
          91612785.13428354,
          9874975.027578125,
          82109112.79206626,
          113773160.31224538,
          101681761.67494394,
          137865052.25024605,
          105132430.39866477,
          106076917.1861011,
          129096910.87891065,
          50309499.79009486,
          101280663.50140299,
          77782440.35578299,
          72166555.99947163,
          186514568.15070522,
          97477723.80697379,
          160798553.2028706,
          140819099.80376843,
          163877941.94830784,
          28980852.413069915,
          62724821.59569111,
          33334134.75318501,
          122155667.99561754,
          83283604.2339397,
          176868857.4876956,
          62762634.55187853,
          25850369.206296016,
          108997856.93065466,
          44924251.912446246,
          136494104.67954046,
          113440819.71530612,
          172921524.7899021,
          106750463.46425737,
          36527495.06876468,
          85703754.27153741,
          115981791.0353873,
          21465512.022908084,
          101204027.94117813,
          121585869.30500096,
          70222606.66033995,
          127550341.32704476,
          47635009.85015486,
          141690819.75590146,
          37764721.68610688,
          149917984.81823906,
          8561312.34357504,
          153939515.49675,
          89183484.45471631,
          124045225.56034537,
          167531242.03778303,
          124832613.68545058,
          139787450.7270952,
          103756695.10456313,
          50890351.50146282,
          172064382.70289227,
          11677141.849670015,
          142001760.95785746,
          125728344.95818445,
          58781503.174887694,
          174114076.10779604,
          23916363.092879035,
          162268672.16423872,
          27576762.321572762,
          74396942.88604635,
          86916649.40992272,
          82627791.31412257,
          84359101.93131882,
          17942397.280059196,
          24835577.750552855,
          75672142.52486314,
          63642692.60402735,
          99677374.95006552,
          171622144.6845178,
          81443096.54120094,
          65871974.08483348,
          166778441.40578613,
          84865496.00071445,
          140421122.8008064,
          177445154.31906968,
          63816718.87837478,
          92152827.20536801,
          77434035.5929977,
          27415648.254749697,
          63266311.53242425,
          41546957.348492704,
          81734107.38480735,
          44643413.517161965,
          51117581.30010678,
          111056827.8035506,
          89856540.3145638,
          82154922.95515762,
          155115315.00404018,
          138241711.80266193,
          36621360.44759088,
          161556934.6045983,
          86286367.28256276,
          101424495.41577764,
          74206486.34013392,
          84221955.69267108,
          120130268.08485231,
          99228084.8338364,
          100486535.54041912,
          38349409.861762255,
          35805913.0901711,
          69020471.45505847,
          8031134.420898164,
          69294505.29761608,
          119842677.98890632,
          155293141.32496807,
          117014882.30102104,
          103162466.68022412,
          66348723.935365245,
          64007026.72225387,
          147765321.913701,
          121441753.65665945,
          41168103.4118725,
          176244774.8987124,
          39795215.13385258,
          123182365.03988977,
          116093805.12127353
         ],
         "xaxis": "x",
         "y": [
          0.0189660000000913,
          0.017941999999948166,
          0.009546000000000276,
          0.013946000000032654,
          0.022492999999940366,
          0.016275999999834312,
          0.011661999999887485,
          0.02306399999997666,
          0.007599999999911233,
          0.020009000000072774,
          0.00808099999994738,
          0.020403999999871303,
          0.012392999999974563,
          0.007498999999825173,
          0.018815000000131477,
          0.014239000000088708,
          0.009516999999959808,
          0.011970999999903142,
          0.009986000000026252,
          0.009452999999666645,
          0.013187999999900057,
          0.02018899999984569,
          0.011321999999836407,
          0.008548000000246248,
          0.010159999999814318,
          0.015687999999954627,
          0.009915999999975611,
          0.019697000000178377,
          0.008111000000099011,
          0.011918000000150641,
          0.011127000000215048,
          0.009570000000167056,
          0.016550000000279397,
          0.010053999999854568,
          0.007062000000132684,
          0.015170000000125583,
          0.022707999999965978,
          0.011064000000260421,
          0.007807999999840831,
          0.009528000000045722,
          0.022505999999793858,
          0.025907000000188418,
          0.012672000000293338,
          0.007810999999946944,
          0.00864400000000387,
          0.008295000000089203,
          0.010451000000102795,
          0.010503999999855296,
          0.0068400000000110595,
          0.020156000000042695,
          0.030459999999948195,
          0.007888999999977386,
          0.009230999999999767,
          0.015626000000338536,
          0.01180099999965023,
          0.010725000000093132,
          0.023263000000042666,
          0.00971899999967718,
          0.02178700000013123,
          0.02885100000003149,
          0.02103899999974601,
          0.007600999999795022,
          0.008931000000302447,
          0.023553999999876396,
          0.016322999999829335,
          0.023048999999900843,
          0.027512000000115222,
          0.008429999999862048,
          0.017040000000179134,
          0.021992999999838503,
          0.014101000000209751,
          0.009569000000283268,
          0.012954000000263477,
          0.012451000000055501,
          0.009395000000040454,
          0.013662000000294938,
          0.009675999999672058,
          0.006585000000086438,
          0.01258300000017698,
          0.010608000000047468,
          0.016538999999738735,
          0.013927999999850726,
          0.011880000000019209,
          0.010135999999874912,
          0.022707999999965978,
          0.028660999999829073,
          0.017149999999674037,
          0.012021999999888067,
          0.015526000000136264,
          0.019609999999829597,
          0.02039100000001781,
          0.009922999999616877,
          0.009897999999793683,
          0.011680999999953201,
          0.009082999999918684,
          0.018861000000015338,
          0.027461000000130298,
          0.022122000000308617,
          0.011828000000150496,
          0.01157100000000355,
          0.012537000000065746,
          0.013612000000193802,
          0.0119419999996353,
          0.007225000000289583,
          0.008700000000317232,
          0.006296999999904074,
          0.01123299999972005,
          0.010540000000219152,
          0.014382000000296102,
          0.012092000000393455,
          0.016203000000132306,
          0.012998000000152388,
          0.011018000000149186,
          0.01636800000005678,
          0.014622000000144908,
          0.006176999999752297,
          0.007438999999976659,
          0.01604200000019773,
          0.0168719999996938,
          0.009645000000091386,
          0.009535000000141736,
          0.008902000000034604,
          0.006684999999833963,
          0.011527999999998428,
          0.017119999999977153,
          0.014448999999785883,
          0.005515000000286818,
          0.005068999999821244,
          0.01504800000020623,
          0.011938999999983935,
          0.013396999999713444,
          0.009978999999930238,
          0.009080000000267319,
          0.019380000000182918,
          0.0152909999997064,
          0.00985800000034942,
          0.009496000000126514,
          0.008220000000164873,
          0.007018000000243774,
          0.009067999999842868,
          0.014118000000053144,
          0.00786500000003798,
          0.007748999999876105,
          0.009125000000040018,
          0.00639099999989412,
          0.008907999999792082,
          0.00779499999998734,
          0.00784899999962363,
          0.016754999999648135,
          0.021921999999904074,
          0.009840000000167493,
          0.021084999999857246,
          0.021834000000126252,
          0.03733400000010079,
          0.023522999999840977,
          0.007057999999688036,
          0.005931000000146014,
          0.009267999999792664,
          0.011962000000039552,
          0.009085000000141008,
          0.01352500000029977,
          0.006921000000147615,
          0.014094000000113738,
          0.009164999999939027,
          0.009662999999818567,
          0.007287999999789463,
          0.014629999999669963,
          0.005325000000084401,
          0.005174999999780994,
          0.010986000000229978,
          0.009133999999903608,
          0.005838000000039756,
          0.012736000000131753,
          0.010013999999955558,
          0.01128500000004351,
          0.009614999999939755,
          0.015952000000197586,
          0.01780700000017532,
          0.011031000000002678,
          0.013281999999890104,
          0.014016999999967084,
          0.006168999999772495,
          0.006143999999949301,
          0.011801999999988766,
          0.013885000000300352,
          0.011600999999700434,
          0.00906200000008539,
          0.006867999999940366,
          0.013082999999824096,
          0.006533999999646767,
          0.006136999999853288,
          0.006186999999954423,
          0.00977999999986423,
          0.00956399999995483,
          0.013089000000036322,
          0.00757900000007794,
          0.007738000000244938,
          0.013618000000406028,
          0.013371000000006461,
          0.006281999999828258,
          0.0066440000000511645,
          0.007849999999962165,
          0.010674000000108208,
          0.005861000000095373,
          0.013897999999699095,
          0.01250499999969179,
          0.01603900000009162,
          0.015210999999908381,
          0.011277000000063708,
          0.01823899999999412,
          0.015671999999995023,
          0.013997999999901367,
          0.008032999999613821,
          0.016051000000061322,
          0.009690999999747874,
          0.010463000000072498,
          0.014839000000392844,
          0.01039100000025428,
          0.01260599999977785,
          0.01236700000026758,
          0.009805000000142172,
          0.013026000000081694,
          0.017119000000093365,
          0.007840000000214786,
          0.019189000000096712,
          0.014284999999745196,
          0.013308000000051834,
          0.015744000000267988,
          0.045667999999750464,
          0.023662999999942258,
          0.00680000000011205,
          0.006949000000531669,
          0.012174000000413798,
          0.005453000000670727,
          0.011739999999917927,
          0.013689000000340457,
          0.008401999999477994,
          0.011564000000362284,
          0.00764300000082585,
          0.01641899999958696,
          0.005686000000423519,
          0.016252999999778694,
          0.013491000000612985,
          0.00606800000059593,
          0.005903999999645748,
          0.00766600000042672,
          0.01216500000009546,
          0.007254999999531719,
          0.008023999999750231,
          0.014812000000347325,
          0.00728999999955704,
          0.019003000000338943,
          0.02271500000006199,
          0.016665000000102737,
          0.011367000000063854,
          0.009993000000577013,
          0.007432999999764434,
          0.007118999999875086,
          0.013325999999324267,
          0.01618899999994028,
          0.011118999999780499,
          0.008690999999998894,
          0.007228999999824737,
          0.0074920000006386545,
          0.0066570000008141506,
          0.007138999999369844,
          0.011564000000362284,
          0.009747999999490276,
          0.014842000000498956,
          0.007140000000617874,
          0.011933000000681204,
          0.014592000000448024,
          0.006715999999869382,
          0.013522999999622698,
          0.020207999999911408,
          0.008401000000048953,
          0.01046200000018871,
          0.012388000000100874,
          0.013737000000219268,
          0.015104999999493884,
          0.010483000000022002,
          0.01091199999973469,
          0.008329000000230735,
          0.00959100000000035,
          0.013159999999516003,
          0.007435999999870546,
          0.009871000000202912,
          0.0066450000003897,
          0.009263999999348016,
          0.009487000000262924,
          0.007375999999567284,
          0.01264900000023772,
          0.006188999999722,
          0.006458999999267689,
          0.006797000000005937,
          0.006820999999945343,
          0.012241999999787367,
          0.0075679999999920256,
          0.010793999999805237,
          0.017700999999760825
         ],
         "yaxis": "y"
        }
       ],
       "layout": {
        "legend": {
         "tracegroupgap": 0
        },
        "margin": {
         "t": 60
        },
        "template": {
         "data": {
          "bar": [
           {
            "error_x": {
             "color": "#2a3f5f"
            },
            "error_y": {
             "color": "#2a3f5f"
            },
            "marker": {
             "line": {
              "color": "#E5ECF6",
              "width": 0.5
             }
            },
            "type": "bar"
           }
          ],
          "barpolar": [
           {
            "marker": {
             "line": {
              "color": "#E5ECF6",
              "width": 0.5
             }
            },
            "type": "barpolar"
           }
          ],
          "carpet": [
           {
            "aaxis": {
             "endlinecolor": "#2a3f5f",
             "gridcolor": "white",
             "linecolor": "white",
             "minorgridcolor": "white",
             "startlinecolor": "#2a3f5f"
            },
            "baxis": {
             "endlinecolor": "#2a3f5f",
             "gridcolor": "white",
             "linecolor": "white",
             "minorgridcolor": "white",
             "startlinecolor": "#2a3f5f"
            },
            "type": "carpet"
           }
          ],
          "choropleth": [
           {
            "colorbar": {
             "outlinewidth": 0,
             "ticks": ""
            },
            "type": "choropleth"
           }
          ],
          "contour": [
           {
            "colorbar": {
             "outlinewidth": 0,
             "ticks": ""
            },
            "colorscale": [
             [
              0,
              "#0d0887"
             ],
             [
              0.1111111111111111,
              "#46039f"
             ],
             [
              0.2222222222222222,
              "#7201a8"
             ],
             [
              0.3333333333333333,
              "#9c179e"
             ],
             [
              0.4444444444444444,
              "#bd3786"
             ],
             [
              0.5555555555555556,
              "#d8576b"
             ],
             [
              0.6666666666666666,
              "#ed7953"
             ],
             [
              0.7777777777777778,
              "#fb9f3a"
             ],
             [
              0.8888888888888888,
              "#fdca26"
             ],
             [
              1,
              "#f0f921"
             ]
            ],
            "type": "contour"
           }
          ],
          "contourcarpet": [
           {
            "colorbar": {
             "outlinewidth": 0,
             "ticks": ""
            },
            "type": "contourcarpet"
           }
          ],
          "heatmap": [
           {
            "colorbar": {
             "outlinewidth": 0,
             "ticks": ""
            },
            "colorscale": [
             [
              0,
              "#0d0887"
             ],
             [
              0.1111111111111111,
              "#46039f"
             ],
             [
              0.2222222222222222,
              "#7201a8"
             ],
             [
              0.3333333333333333,
              "#9c179e"
             ],
             [
              0.4444444444444444,
              "#bd3786"
             ],
             [
              0.5555555555555556,
              "#d8576b"
             ],
             [
              0.6666666666666666,
              "#ed7953"
             ],
             [
              0.7777777777777778,
              "#fb9f3a"
             ],
             [
              0.8888888888888888,
              "#fdca26"
             ],
             [
              1,
              "#f0f921"
             ]
            ],
            "type": "heatmap"
           }
          ],
          "heatmapgl": [
           {
            "colorbar": {
             "outlinewidth": 0,
             "ticks": ""
            },
            "colorscale": [
             [
              0,
              "#0d0887"
             ],
             [
              0.1111111111111111,
              "#46039f"
             ],
             [
              0.2222222222222222,
              "#7201a8"
             ],
             [
              0.3333333333333333,
              "#9c179e"
             ],
             [
              0.4444444444444444,
              "#bd3786"
             ],
             [
              0.5555555555555556,
              "#d8576b"
             ],
             [
              0.6666666666666666,
              "#ed7953"
             ],
             [
              0.7777777777777778,
              "#fb9f3a"
             ],
             [
              0.8888888888888888,
              "#fdca26"
             ],
             [
              1,
              "#f0f921"
             ]
            ],
            "type": "heatmapgl"
           }
          ],
          "histogram": [
           {
            "marker": {
             "colorbar": {
              "outlinewidth": 0,
              "ticks": ""
             }
            },
            "type": "histogram"
           }
          ],
          "histogram2d": [
           {
            "colorbar": {
             "outlinewidth": 0,
             "ticks": ""
            },
            "colorscale": [
             [
              0,
              "#0d0887"
             ],
             [
              0.1111111111111111,
              "#46039f"
             ],
             [
              0.2222222222222222,
              "#7201a8"
             ],
             [
              0.3333333333333333,
              "#9c179e"
             ],
             [
              0.4444444444444444,
              "#bd3786"
             ],
             [
              0.5555555555555556,
              "#d8576b"
             ],
             [
              0.6666666666666666,
              "#ed7953"
             ],
             [
              0.7777777777777778,
              "#fb9f3a"
             ],
             [
              0.8888888888888888,
              "#fdca26"
             ],
             [
              1,
              "#f0f921"
             ]
            ],
            "type": "histogram2d"
           }
          ],
          "histogram2dcontour": [
           {
            "colorbar": {
             "outlinewidth": 0,
             "ticks": ""
            },
            "colorscale": [
             [
              0,
              "#0d0887"
             ],
             [
              0.1111111111111111,
              "#46039f"
             ],
             [
              0.2222222222222222,
              "#7201a8"
             ],
             [
              0.3333333333333333,
              "#9c179e"
             ],
             [
              0.4444444444444444,
              "#bd3786"
             ],
             [
              0.5555555555555556,
              "#d8576b"
             ],
             [
              0.6666666666666666,
              "#ed7953"
             ],
             [
              0.7777777777777778,
              "#fb9f3a"
             ],
             [
              0.8888888888888888,
              "#fdca26"
             ],
             [
              1,
              "#f0f921"
             ]
            ],
            "type": "histogram2dcontour"
           }
          ],
          "mesh3d": [
           {
            "colorbar": {
             "outlinewidth": 0,
             "ticks": ""
            },
            "type": "mesh3d"
           }
          ],
          "parcoords": [
           {
            "line": {
             "colorbar": {
              "outlinewidth": 0,
              "ticks": ""
             }
            },
            "type": "parcoords"
           }
          ],
          "pie": [
           {
            "automargin": true,
            "type": "pie"
           }
          ],
          "scatter": [
           {
            "marker": {
             "colorbar": {
              "outlinewidth": 0,
              "ticks": ""
             }
            },
            "type": "scatter"
           }
          ],
          "scatter3d": [
           {
            "line": {
             "colorbar": {
              "outlinewidth": 0,
              "ticks": ""
             }
            },
            "marker": {
             "colorbar": {
              "outlinewidth": 0,
              "ticks": ""
             }
            },
            "type": "scatter3d"
           }
          ],
          "scattercarpet": [
           {
            "marker": {
             "colorbar": {
              "outlinewidth": 0,
              "ticks": ""
             }
            },
            "type": "scattercarpet"
           }
          ],
          "scattergeo": [
           {
            "marker": {
             "colorbar": {
              "outlinewidth": 0,
              "ticks": ""
             }
            },
            "type": "scattergeo"
           }
          ],
          "scattergl": [
           {
            "marker": {
             "colorbar": {
              "outlinewidth": 0,
              "ticks": ""
             }
            },
            "type": "scattergl"
           }
          ],
          "scattermapbox": [
           {
            "marker": {
             "colorbar": {
              "outlinewidth": 0,
              "ticks": ""
             }
            },
            "type": "scattermapbox"
           }
          ],
          "scatterpolar": [
           {
            "marker": {
             "colorbar": {
              "outlinewidth": 0,
              "ticks": ""
             }
            },
            "type": "scatterpolar"
           }
          ],
          "scatterpolargl": [
           {
            "marker": {
             "colorbar": {
              "outlinewidth": 0,
              "ticks": ""
             }
            },
            "type": "scatterpolargl"
           }
          ],
          "scatterternary": [
           {
            "marker": {
             "colorbar": {
              "outlinewidth": 0,
              "ticks": ""
             }
            },
            "type": "scatterternary"
           }
          ],
          "surface": [
           {
            "colorbar": {
             "outlinewidth": 0,
             "ticks": ""
            },
            "colorscale": [
             [
              0,
              "#0d0887"
             ],
             [
              0.1111111111111111,
              "#46039f"
             ],
             [
              0.2222222222222222,
              "#7201a8"
             ],
             [
              0.3333333333333333,
              "#9c179e"
             ],
             [
              0.4444444444444444,
              "#bd3786"
             ],
             [
              0.5555555555555556,
              "#d8576b"
             ],
             [
              0.6666666666666666,
              "#ed7953"
             ],
             [
              0.7777777777777778,
              "#fb9f3a"
             ],
             [
              0.8888888888888888,
              "#fdca26"
             ],
             [
              1,
              "#f0f921"
             ]
            ],
            "type": "surface"
           }
          ],
          "table": [
           {
            "cells": {
             "fill": {
              "color": "#EBF0F8"
             },
             "line": {
              "color": "white"
             }
            },
            "header": {
             "fill": {
              "color": "#C8D4E3"
             },
             "line": {
              "color": "white"
             }
            },
            "type": "table"
           }
          ]
         },
         "layout": {
          "annotationdefaults": {
           "arrowcolor": "#2a3f5f",
           "arrowhead": 0,
           "arrowwidth": 1
          },
          "coloraxis": {
           "colorbar": {
            "outlinewidth": 0,
            "ticks": ""
           }
          },
          "colorscale": {
           "diverging": [
            [
             0,
             "#8e0152"
            ],
            [
             0.1,
             "#c51b7d"
            ],
            [
             0.2,
             "#de77ae"
            ],
            [
             0.3,
             "#f1b6da"
            ],
            [
             0.4,
             "#fde0ef"
            ],
            [
             0.5,
             "#f7f7f7"
            ],
            [
             0.6,
             "#e6f5d0"
            ],
            [
             0.7,
             "#b8e186"
            ],
            [
             0.8,
             "#7fbc41"
            ],
            [
             0.9,
             "#4d9221"
            ],
            [
             1,
             "#276419"
            ]
           ],
           "sequential": [
            [
             0,
             "#0d0887"
            ],
            [
             0.1111111111111111,
             "#46039f"
            ],
            [
             0.2222222222222222,
             "#7201a8"
            ],
            [
             0.3333333333333333,
             "#9c179e"
            ],
            [
             0.4444444444444444,
             "#bd3786"
            ],
            [
             0.5555555555555556,
             "#d8576b"
            ],
            [
             0.6666666666666666,
             "#ed7953"
            ],
            [
             0.7777777777777778,
             "#fb9f3a"
            ],
            [
             0.8888888888888888,
             "#fdca26"
            ],
            [
             1,
             "#f0f921"
            ]
           ],
           "sequentialminus": [
            [
             0,
             "#0d0887"
            ],
            [
             0.1111111111111111,
             "#46039f"
            ],
            [
             0.2222222222222222,
             "#7201a8"
            ],
            [
             0.3333333333333333,
             "#9c179e"
            ],
            [
             0.4444444444444444,
             "#bd3786"
            ],
            [
             0.5555555555555556,
             "#d8576b"
            ],
            [
             0.6666666666666666,
             "#ed7953"
            ],
            [
             0.7777777777777778,
             "#fb9f3a"
            ],
            [
             0.8888888888888888,
             "#fdca26"
            ],
            [
             1,
             "#f0f921"
            ]
           ]
          },
          "colorway": [
           "#636efa",
           "#EF553B",
           "#00cc96",
           "#ab63fa",
           "#FFA15A",
           "#19d3f3",
           "#FF6692",
           "#B6E880",
           "#FF97FF",
           "#FECB52"
          ],
          "font": {
           "color": "#2a3f5f"
          },
          "geo": {
           "bgcolor": "white",
           "lakecolor": "white",
           "landcolor": "#E5ECF6",
           "showlakes": true,
           "showland": true,
           "subunitcolor": "white"
          },
          "hoverlabel": {
           "align": "left"
          },
          "hovermode": "closest",
          "mapbox": {
           "style": "light"
          },
          "paper_bgcolor": "white",
          "plot_bgcolor": "#E5ECF6",
          "polar": {
           "angularaxis": {
            "gridcolor": "white",
            "linecolor": "white",
            "ticks": ""
           },
           "bgcolor": "#E5ECF6",
           "radialaxis": {
            "gridcolor": "white",
            "linecolor": "white",
            "ticks": ""
           }
          },
          "scene": {
           "xaxis": {
            "backgroundcolor": "#E5ECF6",
            "gridcolor": "white",
            "gridwidth": 2,
            "linecolor": "white",
            "showbackground": true,
            "ticks": "",
            "zerolinecolor": "white"
           },
           "yaxis": {
            "backgroundcolor": "#E5ECF6",
            "gridcolor": "white",
            "gridwidth": 2,
            "linecolor": "white",
            "showbackground": true,
            "ticks": "",
            "zerolinecolor": "white"
           },
           "zaxis": {
            "backgroundcolor": "#E5ECF6",
            "gridcolor": "white",
            "gridwidth": 2,
            "linecolor": "white",
            "showbackground": true,
            "ticks": "",
            "zerolinecolor": "white"
           }
          },
          "shapedefaults": {
           "line": {
            "color": "#2a3f5f"
           }
          },
          "ternary": {
           "aaxis": {
            "gridcolor": "white",
            "linecolor": "white",
            "ticks": ""
           },
           "baxis": {
            "gridcolor": "white",
            "linecolor": "white",
            "ticks": ""
           },
           "bgcolor": "#E5ECF6",
           "caxis": {
            "gridcolor": "white",
            "linecolor": "white",
            "ticks": ""
           }
          },
          "title": {
           "x": 0.05
          },
          "xaxis": {
           "automargin": true,
           "gridcolor": "white",
           "linecolor": "white",
           "ticks": "",
           "title": {
            "standoff": 15
           },
           "zerolinecolor": "white",
           "zerolinewidth": 2
          },
          "yaxis": {
           "automargin": true,
           "gridcolor": "white",
           "linecolor": "white",
           "ticks": "",
           "title": {
            "standoff": 15
           },
           "zerolinecolor": "white",
           "zerolinewidth": 2
          }
         }
        },
        "xaxis": {
         "anchor": "y",
         "domain": [
          0,
          1
         ],
         "title": {
          "text": "theoretical complexity"
         }
        },
        "yaxis": {
         "anchor": "x",
         "domain": [
          0,
          1
         ],
         "title": {
          "text": "actual time"
         }
        }
       }
      },
      "text/html": [
       "<div>\n",
       "        \n",
       "        \n",
       "            <div id=\"94fc20c0-dfab-4563-848a-f6cbcc566a3e\" class=\"plotly-graph-div\" style=\"height:525px; width:100%;\"></div>\n",
       "            <script type=\"text/javascript\">\n",
       "                require([\"plotly\"], function(Plotly) {\n",
       "                    window.PLOTLYENV=window.PLOTLYENV || {};\n",
       "                    \n",
       "                if (document.getElementById(\"94fc20c0-dfab-4563-848a-f6cbcc566a3e\")) {\n",
       "                    Plotly.newPlot(\n",
       "                        '94fc20c0-dfab-4563-848a-f6cbcc566a3e',\n",
       "                        [{\"hovertemplate\": \"theoretical complexity=%{x}<br>actual time=%{y}<extra></extra>\", \"legendgroup\": \"\", \"marker\": {\"color\": \"#636efa\", \"symbol\": \"circle\"}, \"mode\": \"markers\", \"name\": \"\", \"showlegend\": false, \"type\": \"scatter\", \"x\": [99229436.99608454, 7447488.945315062, 142847494.32099277, 137055327.62930608, 167317975.49371704, 39050918.04627452, 38653160.260816336, 107387947.63770083, 128186128.50563796, 22616954.558444977, 84320804.64338742, 195040788.13986665, 20503010.58884473, 49810829.00560671, 58628139.6304443, 146700990.957855, 27742942.893151775, 82409173.0330286, 109383433.1380861, 58802811.06601056, 40359128.12390894, 22858334.367667567, 80400900.18003562, 39361059.57274864, 72262027.0185533, 60601379.27793154, 110185526.38014336, 142607845.90702194, 24350753.18617135, 112466138.57499105, 64389298.13297385, 55357775.7033517, 124663137.02739514, 43298131.88873031, 4726179.327424295, 154733971.14739686, 139720307.1338038, 62719615.14475206, 6745332.714988558, 66865995.28476402, 141070324.24316287, 179089066.90500265, 6751818.617868182, 106308642.48762615, 118593684.79307657, 24721233.067536257, 126189952.02580108, 118770840.15059668, 115669568.57467616, 111894368.21435216, 186966600.9554306, 33357346.833795466, 61946016.7296503, 152244595.7638942, 133374415.4912815, 16723924.770777993, 99101784.23102309, 94332672.89803898, 86393382.38173579, 190454189.12410867, 90289645.6537114, 20475044.933786094, 13233608.422970956, 142097058.8595589, 82291029.37517563, 180841880.26944152, 86114551.16469896, 54036428.00929052, 17245037.439826414, 182548080.54492542, 171726460.8308529, 80800335.96987483, 161012120.31980854, 146927941.22929046, 56855843.855337225, 167260148.06735572, 128006761.06653664, 67858618.3691539, 74678033.58957689, 65711366.89628855, 168329721.3979234, 71803719.77843817, 34234059.51073679, 35645383.69274142, 89615180.3482423, 180617672.41027507, 134365473.18777776, 12164220.419592854, 154253196.03932363, 121653351.94404621, 44878738.11280316, 102477686.72622348, 123226358.26204753, 36668807.488385126, 91588637.79014896, 147415803.2501477, 69807360.01650986, 73386039.40011226, 11222621.925449649, 15467368.737109609, 8022616.495172631, 190723888.66705054, 102918908.72123434, 96061973.08680409, 142429876.8708343, 79479620.13830584, 155149388.58149046, 52660579.114484765, 127225332.28226952, 96037031.52323444, 175535021.5968666, 106800819.52233854, 113007221.28394036, 180784197.7371218, 150704384.13655567, 54580830.04653018, 24254575.1200169, 110283723.90066634, 106268853.95738049, 153604654.1272032, 63950033.48836217, 52089037.45667569, 33084761.13628452, 165393429.781984, 198589059.748226, 186439435.30952227, 8431978.602191592, 34789698.10075325, 79588353.34158964, 160804208.5647417, 132132141.89836802, 57997614.730167925, 42692972.86749194, 84456226.80971453, 86814839.77036026, 76519973.52602953, 8239441.201195872, 9770777.667336857, 7244843.631787991, 101426688.78794582, 93586229.57560024, 54135478.45718792, 20318511.54349939, 52024031.08230339, 47697472.43536964, 104717439.41721474, 59292251.93912814, 109172399.33321047, 64174254.32500373, 17908239.469820566, 149451952.72791043, 126718553.0666211, 109486313.17697667, 82539766.20761904, 127092668.74965037, 61252156.032964446, 30944644.44870407, 97510966.19205241, 120033277.25311507, 22729829.7484242, 122421852.49983099, 123130572.70249604, 144305232.88738704, 106341076.76871504, 45466986.86014762, 20918376.1637429, 157351178.43751422, 27092408.880748544, 22061632.161700297, 114642425.00390105, 129972172.71285959, 24274964.492198866, 168043951.26078907, 150751527.94949627, 71701652.79273944, 121492612.69115792, 102814306.98958294, 57781049.036681205, 23367366.84030685, 52409185.32398934, 158673541.2605267, 91612785.13428354, 9874975.027578125, 82109112.79206626, 113773160.31224538, 101681761.67494394, 137865052.25024605, 105132430.39866477, 106076917.1861011, 129096910.87891065, 50309499.79009486, 101280663.50140299, 77782440.35578299, 72166555.99947163, 186514568.15070522, 97477723.80697379, 160798553.2028706, 140819099.80376843, 163877941.94830784, 28980852.413069915, 62724821.59569111, 33334134.75318501, 122155667.99561754, 83283604.2339397, 176868857.4876956, 62762634.55187853, 25850369.206296016, 108997856.93065466, 44924251.912446246, 136494104.67954046, 113440819.71530612, 172921524.7899021, 106750463.46425737, 36527495.06876468, 85703754.27153741, 115981791.0353873, 21465512.022908084, 101204027.94117813, 121585869.30500096, 70222606.66033995, 127550341.32704476, 47635009.85015486, 141690819.75590146, 37764721.68610688, 149917984.81823906, 8561312.34357504, 153939515.49675, 89183484.45471631, 124045225.56034537, 167531242.03778303, 124832613.68545058, 139787450.7270952, 103756695.10456313, 50890351.50146282, 172064382.70289227, 11677141.849670015, 142001760.95785746, 125728344.95818445, 58781503.174887694, 174114076.10779604, 23916363.092879035, 162268672.16423872, 27576762.321572762, 74396942.88604635, 86916649.40992272, 82627791.31412257, 84359101.93131882, 17942397.280059196, 24835577.750552855, 75672142.52486314, 63642692.60402735, 99677374.95006552, 171622144.6845178, 81443096.54120094, 65871974.08483348, 166778441.40578613, 84865496.00071445, 140421122.8008064, 177445154.31906968, 63816718.87837478, 92152827.20536801, 77434035.5929977, 27415648.254749697, 63266311.53242425, 41546957.348492704, 81734107.38480735, 44643413.517161965, 51117581.30010678, 111056827.8035506, 89856540.3145638, 82154922.95515762, 155115315.00404018, 138241711.80266193, 36621360.44759088, 161556934.6045983, 86286367.28256276, 101424495.41577764, 74206486.34013392, 84221955.69267108, 120130268.08485231, 99228084.8338364, 100486535.54041912, 38349409.861762255, 35805913.0901711, 69020471.45505847, 8031134.420898164, 69294505.29761608, 119842677.98890632, 155293141.32496807, 117014882.30102104, 103162466.68022412, 66348723.935365245, 64007026.72225387, 147765321.913701, 121441753.65665945, 41168103.4118725, 176244774.8987124, 39795215.13385258, 123182365.03988977, 116093805.12127353], \"xaxis\": \"x\", \"y\": [0.0189660000000913, 0.017941999999948166, 0.009546000000000276, 0.013946000000032654, 0.022492999999940366, 0.016275999999834312, 0.011661999999887485, 0.02306399999997666, 0.007599999999911233, 0.020009000000072774, 0.00808099999994738, 0.020403999999871303, 0.012392999999974563, 0.007498999999825173, 0.018815000000131477, 0.014239000000088708, 0.009516999999959808, 0.011970999999903142, 0.009986000000026252, 0.009452999999666645, 0.013187999999900057, 0.02018899999984569, 0.011321999999836407, 0.008548000000246248, 0.010159999999814318, 0.015687999999954627, 0.009915999999975611, 0.019697000000178377, 0.008111000000099011, 0.011918000000150641, 0.011127000000215048, 0.009570000000167056, 0.016550000000279397, 0.010053999999854568, 0.007062000000132684, 0.015170000000125583, 0.022707999999965978, 0.011064000000260421, 0.007807999999840831, 0.009528000000045722, 0.022505999999793858, 0.025907000000188418, 0.012672000000293338, 0.007810999999946944, 0.00864400000000387, 0.008295000000089203, 0.010451000000102795, 0.010503999999855296, 0.0068400000000110595, 0.020156000000042695, 0.030459999999948195, 0.007888999999977386, 0.009230999999999767, 0.015626000000338536, 0.01180099999965023, 0.010725000000093132, 0.023263000000042666, 0.00971899999967718, 0.02178700000013123, 0.02885100000003149, 0.02103899999974601, 0.007600999999795022, 0.008931000000302447, 0.023553999999876396, 0.016322999999829335, 0.023048999999900843, 0.027512000000115222, 0.008429999999862048, 0.017040000000179134, 0.021992999999838503, 0.014101000000209751, 0.009569000000283268, 0.012954000000263477, 0.012451000000055501, 0.009395000000040454, 0.013662000000294938, 0.009675999999672058, 0.006585000000086438, 0.01258300000017698, 0.010608000000047468, 0.016538999999738735, 0.013927999999850726, 0.011880000000019209, 0.010135999999874912, 0.022707999999965978, 0.028660999999829073, 0.017149999999674037, 0.012021999999888067, 0.015526000000136264, 0.019609999999829597, 0.02039100000001781, 0.009922999999616877, 0.009897999999793683, 0.011680999999953201, 0.009082999999918684, 0.018861000000015338, 0.027461000000130298, 0.022122000000308617, 0.011828000000150496, 0.01157100000000355, 0.012537000000065746, 0.013612000000193802, 0.0119419999996353, 0.007225000000289583, 0.008700000000317232, 0.006296999999904074, 0.01123299999972005, 0.010540000000219152, 0.014382000000296102, 0.012092000000393455, 0.016203000000132306, 0.012998000000152388, 0.011018000000149186, 0.01636800000005678, 0.014622000000144908, 0.006176999999752297, 0.007438999999976659, 0.01604200000019773, 0.0168719999996938, 0.009645000000091386, 0.009535000000141736, 0.008902000000034604, 0.006684999999833963, 0.011527999999998428, 0.017119999999977153, 0.014448999999785883, 0.005515000000286818, 0.005068999999821244, 0.01504800000020623, 0.011938999999983935, 0.013396999999713444, 0.009978999999930238, 0.009080000000267319, 0.019380000000182918, 0.0152909999997064, 0.00985800000034942, 0.009496000000126514, 0.008220000000164873, 0.007018000000243774, 0.009067999999842868, 0.014118000000053144, 0.00786500000003798, 0.007748999999876105, 0.009125000000040018, 0.00639099999989412, 0.008907999999792082, 0.00779499999998734, 0.00784899999962363, 0.016754999999648135, 0.021921999999904074, 0.009840000000167493, 0.021084999999857246, 0.021834000000126252, 0.03733400000010079, 0.023522999999840977, 0.007057999999688036, 0.005931000000146014, 0.009267999999792664, 0.011962000000039552, 0.009085000000141008, 0.01352500000029977, 0.006921000000147615, 0.014094000000113738, 0.009164999999939027, 0.009662999999818567, 0.007287999999789463, 0.014629999999669963, 0.005325000000084401, 0.005174999999780994, 0.010986000000229978, 0.009133999999903608, 0.005838000000039756, 0.012736000000131753, 0.010013999999955558, 0.01128500000004351, 0.009614999999939755, 0.015952000000197586, 0.01780700000017532, 0.011031000000002678, 0.013281999999890104, 0.014016999999967084, 0.006168999999772495, 0.006143999999949301, 0.011801999999988766, 0.013885000000300352, 0.011600999999700434, 0.00906200000008539, 0.006867999999940366, 0.013082999999824096, 0.006533999999646767, 0.006136999999853288, 0.006186999999954423, 0.00977999999986423, 0.00956399999995483, 0.013089000000036322, 0.00757900000007794, 0.007738000000244938, 0.013618000000406028, 0.013371000000006461, 0.006281999999828258, 0.0066440000000511645, 0.007849999999962165, 0.010674000000108208, 0.005861000000095373, 0.013897999999699095, 0.01250499999969179, 0.01603900000009162, 0.015210999999908381, 0.011277000000063708, 0.01823899999999412, 0.015671999999995023, 0.013997999999901367, 0.008032999999613821, 0.016051000000061322, 0.009690999999747874, 0.010463000000072498, 0.014839000000392844, 0.01039100000025428, 0.01260599999977785, 0.01236700000026758, 0.009805000000142172, 0.013026000000081694, 0.017119000000093365, 0.007840000000214786, 0.019189000000096712, 0.014284999999745196, 0.013308000000051834, 0.015744000000267988, 0.045667999999750464, 0.023662999999942258, 0.00680000000011205, 0.006949000000531669, 0.012174000000413798, 0.005453000000670727, 0.011739999999917927, 0.013689000000340457, 0.008401999999477994, 0.011564000000362284, 0.00764300000082585, 0.01641899999958696, 0.005686000000423519, 0.016252999999778694, 0.013491000000612985, 0.00606800000059593, 0.005903999999645748, 0.00766600000042672, 0.01216500000009546, 0.007254999999531719, 0.008023999999750231, 0.014812000000347325, 0.00728999999955704, 0.019003000000338943, 0.02271500000006199, 0.016665000000102737, 0.011367000000063854, 0.009993000000577013, 0.007432999999764434, 0.007118999999875086, 0.013325999999324267, 0.01618899999994028, 0.011118999999780499, 0.008690999999998894, 0.007228999999824737, 0.0074920000006386545, 0.0066570000008141506, 0.007138999999369844, 0.011564000000362284, 0.009747999999490276, 0.014842000000498956, 0.007140000000617874, 0.011933000000681204, 0.014592000000448024, 0.006715999999869382, 0.013522999999622698, 0.020207999999911408, 0.008401000000048953, 0.01046200000018871, 0.012388000000100874, 0.013737000000219268, 0.015104999999493884, 0.010483000000022002, 0.01091199999973469, 0.008329000000230735, 0.00959100000000035, 0.013159999999516003, 0.007435999999870546, 0.009871000000202912, 0.0066450000003897, 0.009263999999348016, 0.009487000000262924, 0.007375999999567284, 0.01264900000023772, 0.006188999999722, 0.006458999999267689, 0.006797000000005937, 0.006820999999945343, 0.012241999999787367, 0.0075679999999920256, 0.010793999999805237, 0.017700999999760825], \"yaxis\": \"y\"}],\n",
       "                        {\"legend\": {\"tracegroupgap\": 0}, \"margin\": {\"t\": 60}, \"template\": {\"data\": {\"bar\": [{\"error_x\": {\"color\": \"#2a3f5f\"}, \"error_y\": {\"color\": \"#2a3f5f\"}, \"marker\": {\"line\": {\"color\": \"#E5ECF6\", \"width\": 0.5}}, \"type\": \"bar\"}], \"barpolar\": [{\"marker\": {\"line\": {\"color\": \"#E5ECF6\", \"width\": 0.5}}, \"type\": \"barpolar\"}], \"carpet\": [{\"aaxis\": {\"endlinecolor\": \"#2a3f5f\", \"gridcolor\": \"white\", \"linecolor\": \"white\", \"minorgridcolor\": \"white\", \"startlinecolor\": \"#2a3f5f\"}, \"baxis\": {\"endlinecolor\": \"#2a3f5f\", \"gridcolor\": \"white\", \"linecolor\": \"white\", \"minorgridcolor\": \"white\", \"startlinecolor\": \"#2a3f5f\"}, \"type\": \"carpet\"}], \"choropleth\": [{\"colorbar\": {\"outlinewidth\": 0, \"ticks\": \"\"}, \"type\": \"choropleth\"}], \"contour\": [{\"colorbar\": {\"outlinewidth\": 0, \"ticks\": \"\"}, \"colorscale\": [[0.0, \"#0d0887\"], [0.1111111111111111, \"#46039f\"], [0.2222222222222222, \"#7201a8\"], [0.3333333333333333, \"#9c179e\"], [0.4444444444444444, \"#bd3786\"], [0.5555555555555556, \"#d8576b\"], [0.6666666666666666, \"#ed7953\"], [0.7777777777777778, \"#fb9f3a\"], [0.8888888888888888, \"#fdca26\"], [1.0, \"#f0f921\"]], \"type\": \"contour\"}], \"contourcarpet\": [{\"colorbar\": {\"outlinewidth\": 0, \"ticks\": \"\"}, \"type\": \"contourcarpet\"}], \"heatmap\": [{\"colorbar\": {\"outlinewidth\": 0, \"ticks\": \"\"}, \"colorscale\": [[0.0, \"#0d0887\"], [0.1111111111111111, \"#46039f\"], [0.2222222222222222, \"#7201a8\"], [0.3333333333333333, \"#9c179e\"], [0.4444444444444444, \"#bd3786\"], [0.5555555555555556, \"#d8576b\"], [0.6666666666666666, \"#ed7953\"], [0.7777777777777778, \"#fb9f3a\"], [0.8888888888888888, \"#fdca26\"], [1.0, \"#f0f921\"]], \"type\": \"heatmap\"}], \"heatmapgl\": [{\"colorbar\": {\"outlinewidth\": 0, \"ticks\": \"\"}, \"colorscale\": [[0.0, \"#0d0887\"], [0.1111111111111111, \"#46039f\"], [0.2222222222222222, \"#7201a8\"], [0.3333333333333333, \"#9c179e\"], [0.4444444444444444, \"#bd3786\"], [0.5555555555555556, \"#d8576b\"], [0.6666666666666666, \"#ed7953\"], [0.7777777777777778, \"#fb9f3a\"], [0.8888888888888888, \"#fdca26\"], [1.0, \"#f0f921\"]], \"type\": \"heatmapgl\"}], \"histogram\": [{\"marker\": {\"colorbar\": {\"outlinewidth\": 0, \"ticks\": \"\"}}, \"type\": \"histogram\"}], \"histogram2d\": [{\"colorbar\": {\"outlinewidth\": 0, \"ticks\": \"\"}, \"colorscale\": [[0.0, \"#0d0887\"], [0.1111111111111111, \"#46039f\"], [0.2222222222222222, \"#7201a8\"], [0.3333333333333333, \"#9c179e\"], [0.4444444444444444, \"#bd3786\"], [0.5555555555555556, \"#d8576b\"], [0.6666666666666666, \"#ed7953\"], [0.7777777777777778, \"#fb9f3a\"], [0.8888888888888888, \"#fdca26\"], [1.0, \"#f0f921\"]], \"type\": \"histogram2d\"}], \"histogram2dcontour\": [{\"colorbar\": {\"outlinewidth\": 0, \"ticks\": \"\"}, \"colorscale\": [[0.0, \"#0d0887\"], [0.1111111111111111, \"#46039f\"], [0.2222222222222222, \"#7201a8\"], [0.3333333333333333, \"#9c179e\"], [0.4444444444444444, \"#bd3786\"], [0.5555555555555556, \"#d8576b\"], [0.6666666666666666, \"#ed7953\"], [0.7777777777777778, \"#fb9f3a\"], [0.8888888888888888, \"#fdca26\"], [1.0, \"#f0f921\"]], \"type\": \"histogram2dcontour\"}], \"mesh3d\": [{\"colorbar\": {\"outlinewidth\": 0, \"ticks\": \"\"}, \"type\": \"mesh3d\"}], \"parcoords\": [{\"line\": {\"colorbar\": {\"outlinewidth\": 0, \"ticks\": \"\"}}, \"type\": \"parcoords\"}], \"pie\": [{\"automargin\": true, \"type\": \"pie\"}], \"scatter\": [{\"marker\": {\"colorbar\": {\"outlinewidth\": 0, \"ticks\": \"\"}}, \"type\": \"scatter\"}], \"scatter3d\": [{\"line\": {\"colorbar\": {\"outlinewidth\": 0, \"ticks\": \"\"}}, \"marker\": {\"colorbar\": {\"outlinewidth\": 0, \"ticks\": \"\"}}, \"type\": \"scatter3d\"}], \"scattercarpet\": [{\"marker\": {\"colorbar\": {\"outlinewidth\": 0, \"ticks\": \"\"}}, \"type\": \"scattercarpet\"}], \"scattergeo\": [{\"marker\": {\"colorbar\": {\"outlinewidth\": 0, \"ticks\": \"\"}}, \"type\": \"scattergeo\"}], \"scattergl\": [{\"marker\": {\"colorbar\": {\"outlinewidth\": 0, \"ticks\": \"\"}}, \"type\": \"scattergl\"}], \"scattermapbox\": [{\"marker\": {\"colorbar\": {\"outlinewidth\": 0, \"ticks\": \"\"}}, \"type\": \"scattermapbox\"}], \"scatterpolar\": [{\"marker\": {\"colorbar\": {\"outlinewidth\": 0, \"ticks\": \"\"}}, \"type\": \"scatterpolar\"}], \"scatterpolargl\": [{\"marker\": {\"colorbar\": {\"outlinewidth\": 0, \"ticks\": \"\"}}, \"type\": \"scatterpolargl\"}], \"scatterternary\": [{\"marker\": {\"colorbar\": {\"outlinewidth\": 0, \"ticks\": \"\"}}, \"type\": \"scatterternary\"}], \"surface\": [{\"colorbar\": {\"outlinewidth\": 0, \"ticks\": \"\"}, \"colorscale\": [[0.0, \"#0d0887\"], [0.1111111111111111, \"#46039f\"], [0.2222222222222222, \"#7201a8\"], [0.3333333333333333, \"#9c179e\"], [0.4444444444444444, \"#bd3786\"], [0.5555555555555556, \"#d8576b\"], [0.6666666666666666, \"#ed7953\"], [0.7777777777777778, \"#fb9f3a\"], [0.8888888888888888, \"#fdca26\"], [1.0, \"#f0f921\"]], \"type\": \"surface\"}], \"table\": [{\"cells\": {\"fill\": {\"color\": \"#EBF0F8\"}, \"line\": {\"color\": \"white\"}}, \"header\": {\"fill\": {\"color\": \"#C8D4E3\"}, \"line\": {\"color\": \"white\"}}, \"type\": \"table\"}]}, \"layout\": {\"annotationdefaults\": {\"arrowcolor\": \"#2a3f5f\", \"arrowhead\": 0, \"arrowwidth\": 1}, \"coloraxis\": {\"colorbar\": {\"outlinewidth\": 0, \"ticks\": \"\"}}, \"colorscale\": {\"diverging\": [[0, \"#8e0152\"], [0.1, \"#c51b7d\"], [0.2, \"#de77ae\"], [0.3, \"#f1b6da\"], [0.4, \"#fde0ef\"], [0.5, \"#f7f7f7\"], [0.6, \"#e6f5d0\"], [0.7, \"#b8e186\"], [0.8, \"#7fbc41\"], [0.9, \"#4d9221\"], [1, \"#276419\"]], \"sequential\": [[0.0, \"#0d0887\"], [0.1111111111111111, \"#46039f\"], [0.2222222222222222, \"#7201a8\"], [0.3333333333333333, \"#9c179e\"], [0.4444444444444444, \"#bd3786\"], [0.5555555555555556, \"#d8576b\"], [0.6666666666666666, \"#ed7953\"], [0.7777777777777778, \"#fb9f3a\"], [0.8888888888888888, \"#fdca26\"], [1.0, \"#f0f921\"]], \"sequentialminus\": [[0.0, \"#0d0887\"], [0.1111111111111111, \"#46039f\"], [0.2222222222222222, \"#7201a8\"], [0.3333333333333333, \"#9c179e\"], [0.4444444444444444, \"#bd3786\"], [0.5555555555555556, \"#d8576b\"], [0.6666666666666666, \"#ed7953\"], [0.7777777777777778, \"#fb9f3a\"], [0.8888888888888888, \"#fdca26\"], [1.0, \"#f0f921\"]]}, \"colorway\": [\"#636efa\", \"#EF553B\", \"#00cc96\", \"#ab63fa\", \"#FFA15A\", \"#19d3f3\", \"#FF6692\", \"#B6E880\", \"#FF97FF\", \"#FECB52\"], \"font\": {\"color\": \"#2a3f5f\"}, \"geo\": {\"bgcolor\": \"white\", \"lakecolor\": \"white\", \"landcolor\": \"#E5ECF6\", \"showlakes\": true, \"showland\": true, \"subunitcolor\": \"white\"}, \"hoverlabel\": {\"align\": \"left\"}, \"hovermode\": \"closest\", \"mapbox\": {\"style\": \"light\"}, \"paper_bgcolor\": \"white\", \"plot_bgcolor\": \"#E5ECF6\", \"polar\": {\"angularaxis\": {\"gridcolor\": \"white\", \"linecolor\": \"white\", \"ticks\": \"\"}, \"bgcolor\": \"#E5ECF6\", \"radialaxis\": {\"gridcolor\": \"white\", \"linecolor\": \"white\", \"ticks\": \"\"}}, \"scene\": {\"xaxis\": {\"backgroundcolor\": \"#E5ECF6\", \"gridcolor\": \"white\", \"gridwidth\": 2, \"linecolor\": \"white\", \"showbackground\": true, \"ticks\": \"\", \"zerolinecolor\": \"white\"}, \"yaxis\": {\"backgroundcolor\": \"#E5ECF6\", \"gridcolor\": \"white\", \"gridwidth\": 2, \"linecolor\": \"white\", \"showbackground\": true, \"ticks\": \"\", \"zerolinecolor\": \"white\"}, \"zaxis\": {\"backgroundcolor\": \"#E5ECF6\", \"gridcolor\": \"white\", \"gridwidth\": 2, \"linecolor\": \"white\", \"showbackground\": true, \"ticks\": \"\", \"zerolinecolor\": \"white\"}}, \"shapedefaults\": {\"line\": {\"color\": \"#2a3f5f\"}}, \"ternary\": {\"aaxis\": {\"gridcolor\": \"white\", \"linecolor\": \"white\", \"ticks\": \"\"}, \"baxis\": {\"gridcolor\": \"white\", \"linecolor\": \"white\", \"ticks\": \"\"}, \"bgcolor\": \"#E5ECF6\", \"caxis\": {\"gridcolor\": \"white\", \"linecolor\": \"white\", \"ticks\": \"\"}}, \"title\": {\"x\": 0.05}, \"xaxis\": {\"automargin\": true, \"gridcolor\": \"white\", \"linecolor\": \"white\", \"ticks\": \"\", \"title\": {\"standoff\": 15}, \"zerolinecolor\": \"white\", \"zerolinewidth\": 2}, \"yaxis\": {\"automargin\": true, \"gridcolor\": \"white\", \"linecolor\": \"white\", \"ticks\": \"\", \"title\": {\"standoff\": 15}, \"zerolinecolor\": \"white\", \"zerolinewidth\": 2}}}, \"xaxis\": {\"anchor\": \"y\", \"domain\": [0.0, 1.0], \"title\": {\"text\": \"theoretical complexity\"}}, \"yaxis\": {\"anchor\": \"x\", \"domain\": [0.0, 1.0], \"title\": {\"text\": \"actual time\"}}},\n",
       "                        {\"responsive\": true}\n",
       "                    ).then(function(){\n",
       "                            \n",
       "var gd = document.getElementById('94fc20c0-dfab-4563-848a-f6cbcc566a3e');\n",
       "var x = new MutationObserver(function (mutations, observer) {{\n",
       "        var display = window.getComputedStyle(gd).display;\n",
       "        if (!display || display === 'none') {{\n",
       "            console.log([gd, 'removed!']);\n",
       "            Plotly.purge(gd);\n",
       "            observer.disconnect();\n",
       "        }}\n",
       "}});\n",
       "\n",
       "// Listen for the removal of the full notebook cells\n",
       "var notebookContainer = gd.closest('#notebook-container');\n",
       "if (notebookContainer) {{\n",
       "    x.observe(notebookContainer, {childList: true});\n",
       "}}\n",
       "\n",
       "// Listen for the clearing of the current output cell\n",
       "var outputEl = gd.closest('.output');\n",
       "if (outputEl) {{\n",
       "    x.observe(outputEl, {childList: true});\n",
       "}}\n",
       "\n",
       "                        })\n",
       "                };\n",
       "                });\n",
       "            </script>\n",
       "        </div>"
      ]
     },
     "metadata": {},
     "output_type": "display_data"
    }
   ],
   "source": [
    "import plotly.express as px\n",
    "df = pd.DataFrame({'theoretical complexity': X, 'actual time': Y})\n",
    "px.scatter(df, x='theoretical complexity', y='actual time')"
   ]
  },
  {
   "cell_type": "code",
   "execution_count": null,
   "metadata": {},
   "outputs": [],
   "source": []
  }
 ],
 "metadata": {
  "kernelspec": {
   "display_name": "Python 3",
   "language": "python",
   "name": "python3"
  },
  "language_info": {
   "codemirror_mode": {
    "name": "ipython",
    "version": 3
   },
   "file_extension": ".py",
   "mimetype": "text/x-python",
   "name": "python",
   "nbconvert_exporter": "python",
   "pygments_lexer": "ipython3",
   "version": "3.7.7"
  }
 },
 "nbformat": 4,
 "nbformat_minor": 2
}
