{
 "cells": [
  {
   "cell_type": "code",
   "execution_count": 1,
   "metadata": {},
   "outputs": [],
   "source": [
    "import nltk"
   ]
  },
  {
   "cell_type": "code",
   "execution_count": 23,
   "metadata": {},
   "outputs": [
    {
     "data": {
      "text/plain": [
       "['Hi, how are you Martin?', \"What's wrong?\"]"
      ]
     },
     "execution_count": 23,
     "metadata": {},
     "output_type": "execute_result"
    }
   ],
   "source": [
    "doc = \"\"\"Hi, how are you Martin? What's wrong?\"\"\"\n",
    "nltk.sent_tokenize(doc)"
   ]
  },
  {
   "cell_type": "code",
   "execution_count": 24,
   "metadata": {},
   "outputs": [
    {
     "data": {
      "text/plain": [
       "['Hi', ',', 'how', 'are', 'you', 'Martin', '?', 'What', \"'s\", 'wrong', '?']"
      ]
     },
     "execution_count": 24,
     "metadata": {},
     "output_type": "execute_result"
    }
   ],
   "source": [
    "nltk.word_tokenize(doc)"
   ]
  },
  {
   "cell_type": "code",
   "execution_count": 25,
   "metadata": {},
   "outputs": [],
   "source": [
    "pos_tokens = nltk.pos_tag(doc)"
   ]
  },
  {
   "cell_type": "code",
   "execution_count": 26,
   "metadata": {},
   "outputs": [
    {
     "data": {
      "text/plain": [
       "(Tree('S', [('H', 'NNP'), ('i', 'NN'), (',', ','), (' ', 'NNP'), ('h', 'VBZ'), ('o', 'JJ'), ('w', 'NN'), (' ', 'VBD'), ('a', 'DT'), ('r', 'NN'), ('e', 'NN'), (' ', 'NNP'), ('y', 'NNP'), ('o', 'MD'), ('u', 'VB'), (' ', 'NNP'), ('M', 'NNP'), ('a', 'DT'), ('r', 'NN'), ('t', 'NN'), ('i', 'NN'), ('n', 'RB'), ('?', '.'), (' ', 'JJ'), ('W', 'NNP'), ('h', 'NN'), ('a', 'DT'), ('t', 'NN'), (\"'\", 'POS'), ('s', 'NN'), (' ', 'NN'), ('w', 'NN'), ('r', 'NN'), ('o', 'NN'), ('n', 'NN'), ('g', 'NN'), ('?', '.')]),)"
      ]
     },
     "execution_count": 26,
     "metadata": {},
     "output_type": "execute_result"
    }
   ],
   "source": [
    "nltk.ne_chunk(pos_tokens, binary=True),"
   ]
  },
  {
   "cell_type": "code",
   "execution_count": 28,
   "metadata": {},
   "outputs": [
    {
     "name": "stdout",
     "output_type": "stream",
     "text": [
      "GPE Hi\n",
      "PERSON Martin\n"
     ]
    }
   ],
   "source": [
    "for sent in nltk.sent_tokenize(doc):\n",
    "    for chunk in nltk.ne_chunk(nltk.pos_tag(nltk.word_tokenize(sent))):\n",
    "        if hasattr(chunk, 'label'):\n",
    "            print(chunk.label(), ' '.join(c[0] for c in chunk))"
   ]
  },
  {
   "cell_type": "code",
   "execution_count": null,
   "metadata": {},
   "outputs": [],
   "source": []
  },
  {
   "cell_type": "code",
   "execution_count": 15,
   "metadata": {},
   "outputs": [],
   "source": [
    "from sklearn.datasets import fetch_20newsgroups"
   ]
  },
  {
   "cell_type": "code",
   "execution_count": 21,
   "metadata": {},
   "outputs": [
    {
     "data": {
      "text/plain": [
       "\"From: guykuo@carson.u.washington.edu (Guy Kuo)\\nSubject: SI Clock Poll - Final Call\\nSummary: Final call for SI clock reports\\nKeywords: SI,acceleration,clock,upgrade\\nArticle-I.D.: shelley.1qvfo9INNc3s\\nOrganization: University of Washington\\nLines: 11\\nNNTP-Posting-Host: carson.u.washington.edu\\n\\nA fair number of brave souls who upgraded their SI clock oscillator have\\nshared their experiences for this poll. Please send a brief message detailing\\nyour experiences with the procedure. Top speed attained, CPU rated speed,\\nadd on cards and adapters, heat sinks, hour of usage per day, floppy disk\\nfunctionality with 800 and 1.4 m floppies are especially requested.\\n\\nI will be summarizing in the next two days, so please add to the network\\nknowledge base if you have done the clock upgrade and haven't answered this\\npoll. Thanks.\\n\\nGuy Kuo <guykuo@u.washington.edu>\\n\""
      ]
     },
     "execution_count": 21,
     "metadata": {},
     "output_type": "execute_result"
    }
   ],
   "source": [
    "news = fetch_20newsgroups()\n",
    "news.data[1]"
   ]
  },
  {
   "cell_type": "code",
   "execution_count": 31,
   "metadata": {},
   "outputs": [],
   "source": [
    "from tqdm import tqdm_notebook as tqdm"
   ]
  },
  {
   "cell_type": "code",
   "execution_count": 32,
   "metadata": {},
   "outputs": [
    {
     "data": {
      "application/vnd.jupyter.widget-view+json": {
       "model_id": "1b689dab296c44228248dc780209c42d",
       "version_major": 2,
       "version_minor": 0
      },
      "text/plain": [
       "HBox(children=(IntProgress(value=0, max=1470), HTML(value='')))"
      ]
     },
     "metadata": {},
     "output_type": "display_data"
    },
    {
     "name": "stdout",
     "output_type": "stream",
     "text": [
      "\n"
     ]
    }
   ],
   "source": [
    "entities = []\n",
    "for sent in tqdm(nltk.sent_tokenize('\\n'.join(news.data[:100]))):\n",
    "    for chunk in nltk.ne_chunk(nltk.pos_tag(nltk.word_tokenize(sent))):\n",
    "        if hasattr(chunk, 'label'):\n",
    "            entities.append(chunk.label() + ': ' + ' '.join(c[0] for c in chunk))"
   ]
  },
  {
   "cell_type": "code",
   "execution_count": 35,
   "metadata": {},
   "outputs": [
    {
     "data": {
      "text/plain": [
       "'ORGANIZATION: University'"
      ]
     },
     "execution_count": 35,
     "metadata": {},
     "output_type": "execute_result"
    }
   ],
   "source": [
    "entities[0]"
   ]
  },
  {
   "cell_type": "code",
   "execution_count": null,
   "metadata": {},
   "outputs": [],
   "source": []
  },
  {
   "cell_type": "code",
   "execution_count": null,
   "metadata": {},
   "outputs": [],
   "source": []
  },
  {
   "cell_type": "code",
   "execution_count": null,
   "metadata": {},
   "outputs": [],
   "source": [
    "# download https://ronan.collobert.com/senna/download.html\n",
    "from nltk.tag import SennaTagger\n",
    "tagger = SennaTagger('/usr/share/senna-v3.0')\n",
    "tagger.tag('What is the airspeed of an unladen swallow ?'.split())"
   ]
  },
  {
   "cell_type": "code",
   "execution_count": null,
   "metadata": {},
   "outputs": [],
   "source": []
  },
  {
   "cell_type": "code",
   "execution_count": 36,
   "metadata": {},
   "outputs": [],
   "source": [
    "doc = \"\"\"\n",
    "For years, Microsoft Corporation CEO Bill Gates railed against the economic philosophy\n",
    "of open-source software with Orwellian fervor, denouncing its communal licensing as a\n",
    "”cancer”that stifled technological innovation.\n",
    "Today, Microsoft claims to ”love”the open-source concept, by which software code is\n",
    "made public to encourage improvement and development by outside programmers. Gates\n",
    "himself says Microsoft will gladly disclose its crown jewels – the coveted code behind the\n",
    "Windows operating system – to select customers.\n",
    "”We can be open source. We love the concept of shared source,”said Bill Veghte, a\n",
    "company VP. ”That’s a super-important shift for us in terms of code access.“\n",
    "Richard Stallman, founder of the Free Software Foundation, countered saying..\n",
    "\"\"\".strip()"
   ]
  },
  {
   "cell_type": "code",
   "execution_count": 37,
   "metadata": {},
   "outputs": [],
   "source": [
    "label = {\n",
    "    'organizations': ['Microsoft Corporation' , 'Microsoft' , 'Microsoft' , 'Free Software Foundation'],\n",
    "    'positions': ['CEO', 'VP', 'founder'],\n",
    "    'persons': ['Bill Gates' , 'Gates', 'Bill Veghte' , 'Richard Stallman'],\n",
    "}\n",
    "pred = {\n",
    "    'organizations': ['Microsoft Corporation' , 'Free Software Foundation'],\n",
    "    'positions': ['CEO', 'VP', 'founder'],\n",
    "    'persons': ['Bill Gates' , 'Orwellian', 'Windows' , 'Bill Veghte', 'Microsoft VP', 'Richard Stallman'],\n",
    "}"
   ]
  },
  {
   "cell_type": "code",
   "execution_count": 38,
   "metadata": {},
   "outputs": [
    {
     "name": "stdout",
     "output_type": "stream",
     "text": [
      "Precision [organizations]: 1.0\n",
      "Recall [organizations]: 0.6666666666666666\n",
      "F1 [organizations]: 0.8\n",
      "-------------\n",
      "Precision [positions]: 1.0\n",
      "Recall [positions]: 1.0\n",
      "F1 [positions]: 1.0\n",
      "-------------\n",
      "Precision [persons]: 0.5\n",
      "Recall [persons]: 0.75\n",
      "F1 [persons]: 0.6\n",
      "-------------\n"
     ]
    }
   ],
   "source": [
    "for c in label.keys():\n",
    "    p = set(pred[c])\n",
    "    l = set(label[c])\n",
    "    \n",
    "    prec = len(p & l) / len(p)\n",
    "    rec = len(p & l) / len(l)\n",
    "    print(f'Precision [{c}]: {prec}')\n",
    "    print(f'Recall [{c}]: {rec}')\n",
    "    print(f'F1 [{c}]: {2 * prec * rec / (prec + rec)}')\n",
    "    print('-------------')"
   ]
  },
  {
   "cell_type": "code",
   "execution_count": 40,
   "metadata": {},
   "outputs": [
    {
     "name": "stdout",
     "output_type": "stream",
     "text": [
      "Macro-Average precision: 0.8333333333333334\n",
      "Micro-Average precision: 0.7272727272727273\n"
     ]
    }
   ],
   "source": [
    "import numpy as np\n",
    "\n",
    "precisions = []\n",
    "tp = []\n",
    "pred_p = []\n",
    "\n",
    "for c in label.keys():\n",
    "    p = set(pred[c])\n",
    "    l = set(label[c])\n",
    "    \n",
    "    prec = len(p & l) / len(p)\n",
    "    precisions.append(prec)\n",
    "    tp.append(len(p & l))\n",
    "    pred_p.append(len(p))\n",
    "    \n",
    "print('Macro-Average precision:', np.mean(precisions))\n",
    "print('Micro-Average precision:', np.sum(tp) / np.sum(pred_p))"
   ]
  },
  {
   "cell_type": "code",
   "execution_count": null,
   "metadata": {},
   "outputs": [],
   "source": []
  }
 ],
 "metadata": {
  "kernelspec": {
   "display_name": "Python 3",
   "language": "python",
   "name": "python3"
  },
  "language_info": {
   "codemirror_mode": {
    "name": "ipython",
    "version": 3
   },
   "file_extension": ".py",
   "mimetype": "text/x-python",
   "name": "python",
   "nbconvert_exporter": "python",
   "pygments_lexer": "ipython3",
   "version": "3.7.4"
  }
 },
 "nbformat": 4,
 "nbformat_minor": 2
}
