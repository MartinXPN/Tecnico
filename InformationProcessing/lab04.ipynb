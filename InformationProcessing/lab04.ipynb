{
 "cells": [
  {
   "cell_type": "code",
   "execution_count": 3,
   "metadata": {},
   "outputs": [],
   "source": [
    "from whoosh.index import create_in\n",
    "from whoosh.fields import *\n",
    "\n",
    "from tqdm import tqdm_notebook as tqdm"
   ]
  },
  {
   "cell_type": "code",
   "execution_count": 6,
   "metadata": {},
   "outputs": [
    {
     "data": {
      "application/vnd.jupyter.widget-view+json": {
       "model_id": "e8d2e2dd955443a59cecf7a321db5ab8",
       "version_major": 2,
       "version_minor": 0
      },
      "text/plain": [
       "HBox(children=(IntProgress(value=1, bar_style='info', max=1), HTML(value='')))"
      ]
     },
     "metadata": {},
     "output_type": "display_data"
    },
    {
     "name": "stdout",
     "output_type": "stream",
     "text": [
      "\n"
     ]
    }
   ],
   "source": [
    "schema = Schema(id = NUMERIC(stored=True), content=TEXT)\n",
    "ix = create_in(\"indexdir\", schema)\n",
    "writer = ix.writer()\n",
    "\n",
    "with open('pri_cfc.txt', 'r') as f:\n",
    "    for l in tqdm(f):\n",
    "        idx, doc = l.split(' ', 1)\n",
    "        writer.add_document(id=int(idx), content=doc)\n",
    "writer.commit()"
   ]
  },
  {
   "cell_type": "code",
   "execution_count": 7,
   "metadata": {},
   "outputs": [],
   "source": [
    "from whoosh.index import open_dir\n",
    "from whoosh.qparser import *\n",
    "ix = open_dir(\"indexdir\")"
   ]
  },
  {
   "cell_type": "code",
   "execution_count": 37,
   "metadata": {},
   "outputs": [
    {
     "name": "stdout",
     "output_type": "stream",
     "text": [
      "[387, 227, 140, 1130, 494, 817, 872, 590, 1087, 507, 768, 717, 1035, 225, 470, 762, 452, 822, 990, 1160, 180, 842, 349, 58, 303, 437, 597, 744, 242, 272, 627, 421, 719, 1110, 519, 1067, 1099, 315, 424, 137, 643, 1038, 1206, 258]\n"
     ]
    }
   ],
   "source": [
    "def query(q):\n",
    "    ids = []\n",
    "    with ix.searcher() as searcher:\n",
    "        query = QueryParser(fieldname=\"content\", schema=ix.schema, group=OrGroup).parse(q)\n",
    "        results = searcher.search(query, limit=100)\n",
    "        for r in results:\n",
    "            ids += r.values()\n",
    "    return ids\n",
    "\n",
    "print(query('second document'))"
   ]
  },
  {
   "cell_type": "code",
   "execution_count": 42,
   "metadata": {},
   "outputs": [
    {
     "data": {
      "text/plain": [
       "(0.25, 1.0, 0.4)"
      ]
     },
     "execution_count": 42,
     "metadata": {},
     "output_type": "execute_result"
    }
   ],
   "source": [
    "def stats(predictions, labels):\n",
    "    predictions = set(predictions)\n",
    "    labels = set(labels)\n",
    "    both = predictions.intersection(labels)\n",
    "    \n",
    "    precision = len(both) / len(predictions)\n",
    "    recall = len(both) / len(labels)\n",
    "    if precision + recall == 0:\n",
    "        f1 = 0\n",
    "    else:\n",
    "        f1 = 2 * precision * recall / (precision + recall)\n",
    "    \n",
    "    return precision, recall, f1\n",
    "\n",
    "stats([1, 2, 3, 4], [2])"
   ]
  },
  {
   "cell_type": "code",
   "execution_count": 46,
   "metadata": {
    "scrolled": true
   },
   "outputs": [
    {
     "name": "stdout",
     "output_type": "stream",
     "text": [
      "Precision: 0.18\t Recall: 0.53\t F1: 0.27\n",
      "Precision: 0.03\t Recall: 0.43\t F1: 0.06\n",
      "Precision: 0.11\t Recall: 0.26\t F1: 0.15\n",
      "Precision: 0.04\t Recall: 0.44\t F1: 0.07\n",
      "Precision: 0.35\t Recall: 0.27\t F1: 0.30\n",
      "Precision: 0.12\t Recall: 0.50\t F1: 0.19\n",
      "Precision: 0.06\t Recall: 0.21\t F1: 0.09\n",
      "Precision: 0.03\t Recall: 0.14\t F1: 0.05\n",
      "Precision: 0.07\t Recall: 0.70\t F1: 0.13\n",
      "Precision: 0.13\t Recall: 0.52\t F1: 0.21\n",
      "Precision: 0.16\t Recall: 0.73\t F1: 0.26\n",
      "Precision: 0.04\t Recall: 0.57\t F1: 0.07\n",
      "Precision: 0.09\t Recall: 0.38\t F1: 0.15\n",
      "Precision: 0.17\t Recall: 0.31\t F1: 0.22\n",
      "Precision: 0.25\t Recall: 0.24\t F1: 0.25\n",
      "Precision: 0.36\t Recall: 0.20\t F1: 0.26\n",
      "Precision: 0.17\t Recall: 0.31\t F1: 0.22\n",
      "Precision: 0.16\t Recall: 0.76\t F1: 0.26\n",
      "Precision: 0.08\t Recall: 0.36\t F1: 0.13\n",
      "Precision: 0.26\t Recall: 0.57\t F1: 0.36\n",
      "Precision: 0.07\t Recall: 0.28\t F1: 0.11\n",
      "Precision: 0.17\t Recall: 0.24\t F1: 0.20\n",
      "Precision: 0.07\t Recall: 0.20\t F1: 0.10\n",
      "Precision: 0.08\t Recall: 0.26\t F1: 0.12\n",
      "Precision: 0.14\t Recall: 0.27\t F1: 0.19\n",
      "Precision: 0.17\t Recall: 0.45\t F1: 0.25\n",
      "Precision: 0.04\t Recall: 0.36\t F1: 0.07\n",
      "Precision: 0.14\t Recall: 0.27\t F1: 0.19\n",
      "Precision: 0.09\t Recall: 0.20\t F1: 0.12\n",
      "Precision: 0.10\t Recall: 0.59\t F1: 0.17\n",
      "Precision: 0.13\t Recall: 0.22\t F1: 0.16\n",
      "Precision: 0.09\t Recall: 0.30\t F1: 0.14\n",
      "Precision: 0.27\t Recall: 0.47\t F1: 0.34\n",
      "Precision: 0.22\t Recall: 0.56\t F1: 0.32\n",
      "Precision: 0.07\t Recall: 0.50\t F1: 0.12\n",
      "Precision: 0.04\t Recall: 0.44\t F1: 0.07\n",
      "Precision: 0.41\t Recall: 0.42\t F1: 0.41\n",
      "Precision: 0.06\t Recall: 0.11\t F1: 0.08\n",
      "Precision: 0.55\t Recall: 0.34\t F1: 0.42\n",
      "Precision: 0.26\t Recall: 0.18\t F1: 0.21\n",
      "Precision: 0.06\t Recall: 0.40\t F1: 0.10\n",
      "Precision: 0.14\t Recall: 0.30\t F1: 0.19\n",
      "Precision: 0.37\t Recall: 0.38\t F1: 0.37\n",
      "Precision: 0.42\t Recall: 0.30\t F1: 0.35\n",
      "Precision: 0.06\t Recall: 0.30\t F1: 0.10\n",
      "Precision: 0.08\t Recall: 0.44\t F1: 0.14\n",
      "Precision: 0.09\t Recall: 0.15\t F1: 0.11\n",
      "Precision: 0.13\t Recall: 0.43\t F1: 0.20\n",
      "Precision: 0.15\t Recall: 0.42\t F1: 0.22\n",
      "Precision: 0.09\t Recall: 0.36\t F1: 0.14\n",
      "Precision: 0.36\t Recall: 0.15\t F1: 0.21\n",
      "Precision: 0.01\t Recall: 0.50\t F1: 0.02\n",
      "Precision: 0.16\t Recall: 0.70\t F1: 0.26\n",
      "Precision: 0.26\t Recall: 0.42\t F1: 0.32\n",
      "Precision: 0.01\t Recall: 0.04\t F1: 0.02\n",
      "Precision: 0.06\t Recall: 0.19\t F1: 0.09\n",
      "Precision: 0.33\t Recall: 0.65\t F1: 0.44\n",
      "Precision: 0.32\t Recall: 0.34\t F1: 0.33\n",
      "Precision: 0.16\t Recall: 0.11\t F1: 0.13\n",
      "Precision: 0.02\t Recall: 0.06\t F1: 0.03\n",
      "Precision: 0.30\t Recall: 0.43\t F1: 0.35\n",
      "Precision: 0.29\t Recall: 0.20\t F1: 0.24\n",
      "Precision: 0.09\t Recall: 0.23\t F1: 0.13\n",
      "Precision: 0.12\t Recall: 0.24\t F1: 0.16\n",
      "Precision: 0.26\t Recall: 0.28\t F1: 0.27\n",
      "Precision: 0.17\t Recall: 0.27\t F1: 0.21\n",
      "Precision: 0.08\t Recall: 0.57\t F1: 0.14\n",
      "Precision: 0.03\t Recall: 0.07\t F1: 0.04\n",
      "Precision: 0.06\t Recall: 0.40\t F1: 0.10\n",
      "Precision: 0.11\t Recall: 0.65\t F1: 0.19\n",
      "Precision: 0.04\t Recall: 0.67\t F1: 0.08\n",
      "Precision: 0.09\t Recall: 0.69\t F1: 0.16\n",
      "Precision: 0.13\t Recall: 0.72\t F1: 0.22\n",
      "Precision: 0.03\t Recall: 0.43\t F1: 0.06\n",
      "Precision: 0.11\t Recall: 0.52\t F1: 0.18\n",
      "Precision: 0.06\t Recall: 0.35\t F1: 0.10\n",
      "Precision: 0.13\t Recall: 0.16\t F1: 0.14\n",
      "Precision: 0.18\t Recall: 0.23\t F1: 0.20\n",
      "Precision: 0.14\t Recall: 0.33\t F1: 0.20\n",
      "Precision: 0.15\t Recall: 0.44\t F1: 0.22\n",
      "Precision: 0.12\t Recall: 0.43\t F1: 0.19\n",
      "Precision: 0.16\t Recall: 0.26\t F1: 0.20\n",
      "Precision: 0.17\t Recall: 0.53\t F1: 0.26\n",
      "Precision: 0.12\t Recall: 0.75\t F1: 0.21\n",
      "Precision: 0.06\t Recall: 0.19\t F1: 0.09\n",
      "Precision: 0.25\t Recall: 0.53\t F1: 0.34\n",
      "Precision: 0.08\t Recall: 0.21\t F1: 0.12\n",
      "Precision: 0.04\t Recall: 0.29\t F1: 0.07\n",
      "Precision: 0.11\t Recall: 0.65\t F1: 0.19\n",
      "Precision: 0.24\t Recall: 0.86\t F1: 0.38\n",
      "Precision: 0.31\t Recall: 0.10\t F1: 0.15\n",
      "Precision: 0.36\t Recall: 0.33\t F1: 0.35\n",
      "Precision: 0.00\t Recall: 0.00\t F1: 0.00\n",
      "Precision: 0.17\t Recall: 0.40\t F1: 0.24\n",
      "Precision: 0.04\t Recall: 0.44\t F1: 0.07\n",
      "Precision: 0.06\t Recall: 0.50\t F1: 0.11\n",
      "Precision: 0.08\t Recall: 0.73\t F1: 0.14\n",
      "Precision: 0.03\t Recall: 0.20\t F1: 0.05\n",
      "Precision: 0.03\t Recall: 0.60\t F1: 0.06\n",
      "Precision: 0.04\t Recall: 0.36\t F1: 0.07\n",
      "0.14350454545454544 0.37979718286912373 0.179520272334517\n"
     ]
    }
   ],
   "source": [
    "import numpy as np\n",
    "precisions, recalls, f1s = [], [], []\n",
    "\n",
    "with open('pri_queries.txt', 'r') as f:\n",
    "    for q in f:\n",
    "        label = [int(val) for val in next(f).strip().split()]\n",
    "        q = q.strip()\n",
    "#         print('Q:', q.strip())\n",
    "#         print('Label:', label)\n",
    "        \n",
    "        pred = query(q)\n",
    "        precision, recall, f1 = stats(predictions=pred, labels=label)\n",
    "        precisions.append(precision)\n",
    "        recalls.append(recall)\n",
    "        f1s.append(f1)\n",
    "        print(f'Precision: {precision:.2f}\\t Recall: {recall:.2f}\\t F1: {f1:.2f}')\n",
    "\n",
    "print(np.mean(precisions), np.mean(recalls), np.mean(f1s))"
   ]
  },
  {
   "cell_type": "code",
   "execution_count": 48,
   "metadata": {},
   "outputs": [],
   "source": [
    "D = [0, 0, 1, 1, 0, 0, 1, 1, 0, 1]\n",
    "C = [0, 1, 1, 1, 0, 0, 0, 1, 1, 1]"
   ]
  },
  {
   "cell_type": "code",
   "execution_count": 51,
   "metadata": {},
   "outputs": [
    {
     "name": "stdout",
     "output_type": "stream",
     "text": [
      "0.5333333333333333\n"
     ]
    }
   ],
   "source": [
    "tp, tn, fp, fn = 0, 0, 0, 0\n",
    "for i, d1 in enumerate(D):\n",
    "    for j, d2 in enumerate(D):\n",
    "        if j <= i:\n",
    "            continue\n",
    "            \n",
    "        if c[i] == c[j]:\n",
    "            if d1 == d2:\n",
    "                tp += 1\n",
    "            else:\n",
    "                fp += 1\n",
    "        else:\n",
    "            if d1 == d2:\n",
    "                fn += 1\n",
    "            else:\n",
    "                tn += 1\n",
    "            \n",
    "print((tp + tn) / (tp + tn + fp + fn))"
   ]
  },
  {
   "cell_type": "code",
   "execution_count": null,
   "metadata": {},
   "outputs": [],
   "source": []
  }
 ],
 "metadata": {
  "kernelspec": {
   "display_name": "Python 3",
   "language": "python",
   "name": "python3"
  },
  "language_info": {
   "codemirror_mode": {
    "name": "ipython",
    "version": 3
   },
   "file_extension": ".py",
   "mimetype": "text/x-python",
   "name": "python",
   "nbconvert_exporter": "python",
   "pygments_lexer": "ipython3",
   "version": "3.7.2"
  }
 },
 "nbformat": 4,
 "nbformat_minor": 2
}
