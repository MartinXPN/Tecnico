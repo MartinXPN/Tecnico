{
 "cells": [
  {
   "cell_type": "markdown",
   "metadata": {},
   "source": [
    "## KeyPhrase extraction\n",
    "* Use 20-news grpus dataset for TF-IDF vectorization\n",
    "* Use alice.txt for an inference and extract keyphrases for the whole text (used to extract per each paraphgraph)\n",
    "* Each inference is saved in per line with a comma separated extracted keyphrases"
   ]
  },
  {
   "cell_type": "code",
   "execution_count": 1,
   "metadata": {},
   "outputs": [],
   "source": [
    "import operator\n",
    "from sklearn.datasets import fetch_20newsgroups\n",
    "from sklearn.feature_extraction.text import TfidfVectorizer"
   ]
  },
  {
   "cell_type": "code",
   "execution_count": 2,
   "metadata": {},
   "outputs": [],
   "source": [
    "train = fetch_20newsgroups(subset='train')\n",
    "vectorizer = TfidfVectorizer(lowercase=True, stop_words='english', token_pattern=u'(?u)[a-zA-Z]+', ngram_range=(1, 3))\n",
    "trainvec = vectorizer.fit_transform(train.data)"
   ]
  },
  {
   "cell_type": "code",
   "execution_count": 3,
   "metadata": {
    "scrolled": true
   },
   "outputs": [
    {
     "name": "stdout",
     "output_type": "stream",
     "text": [
      "1\n"
     ]
    }
   ],
   "source": [
    "with open('alice.txt', 'r') as f:\n",
    "    alice = f.read()\n",
    "    docs = [alice] # alice.split('\\n\\n')\n",
    "docs = [doc.replace('\\n', ' ').lower().strip() for doc in docs]\n",
    "print(len(docs))"
   ]
  },
  {
   "cell_type": "code",
   "execution_count": 4,
   "metadata": {},
   "outputs": [],
   "source": [
    "def extract_keyphrases(vec, feature_names, nb_keywords=5):\n",
    "    feature_index = vec.nonzero()[1]\n",
    "    tfidf_scores = zip(feature_index, [vec[0, x] for x in feature_index])\n",
    "    # Scale scores by n-gram length\n",
    "    scores = {feature_names[i]: s * len(feature_names[i].split()) for i, s in tfidf_scores}\n",
    "    scores = sorted(scores.items(), key=operator.itemgetter(1), reverse=True)[:nb_keywords]\n",
    "    return [keyphrase for keyphrase, score in scores]"
   ]
  },
  {
   "cell_type": "code",
   "execution_count": 5,
   "metadata": {},
   "outputs": [],
   "source": [
    "testvec = vectorizer.transform(docs)\n",
    "feature_names = vectorizer.get_feature_names()"
   ]
  },
  {
   "cell_type": "code",
   "execution_count": 6,
   "metadata": {},
   "outputs": [
    {
     "name": "stdout",
     "output_type": "stream",
     "text": [
      "alice, said alice, said, hatter, said king\n"
     ]
    }
   ],
   "source": [
    "for doc, vec in zip(docs, testvec):\n",
    "    keyphrases = extract_keyphrases(vec, feature_names=feature_names, nb_keywords=5)\n",
    "    print(', '.join(keyphrases))\n",
    "    # f.write(', '.join(keyphrases) + '\\n')"
   ]
  },
  {
   "cell_type": "code",
   "execution_count": null,
   "metadata": {},
   "outputs": [],
   "source": []
  }
 ],
 "metadata": {
  "kernelspec": {
   "display_name": "Python 3",
   "language": "python",
   "name": "python3"
  },
  "language_info": {
   "codemirror_mode": {
    "name": "ipython",
    "version": 3
   },
   "file_extension": ".py",
   "mimetype": "text/x-python",
   "name": "python",
   "nbconvert_exporter": "python",
   "pygments_lexer": "ipython3",
   "version": "3.7.4"
  }
 },
 "nbformat": 4,
 "nbformat_minor": 2
}
