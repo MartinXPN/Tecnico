{
 "cells": [
  {
   "cell_type": "markdown",
   "metadata": {},
   "source": [
    "## KeyPhrase extraction\n",
    "* Use SemEval 2010 dataset - [H49](https://github.com/boudinfl/ake-datasets/blob/master/datasets/SemEval-2010/train/H-49.xml) dataset for TF-IDF vectorization\n",
    "* Use SemEval 2010 dataset - [H7](https://github.com/boudinfl/ake-datasets/blob/master/datasets/SemEval-2010/test/H-7.xml) for inference\n",
    "* Evaluation of the results shows precisoin, recall, f1, and precision@5 per each document and also the mean of those"
   ]
  },
  {
   "cell_type": "code",
   "execution_count": 62,
   "metadata": {},
   "outputs": [],
   "source": [
    "import operator\n",
    "import json\n",
    "import numpy as np\n",
    "from pathlib import Path\n",
    "from glob import glob\n",
    "from sklearn.datasets import fetch_20newsgroups\n",
    "from sklearn.feature_extraction.text import TfidfVectorizer\n",
    "from xml.etree import ElementTree"
   ]
  },
  {
   "cell_type": "code",
   "execution_count": 39,
   "metadata": {},
   "outputs": [],
   "source": [
    "def read(directory):\n",
    "    docs = {}\n",
    "    for doc_path in glob(f'{directory}/*.xml'):\n",
    "        doc = ElementTree.parse(doc_path)\n",
    "        sentences = []\n",
    "        for sentence in doc.find('document').find('sentences').findall('sentence'):\n",
    "            for token in sentence.find('tokens').findall('token'):\n",
    "                t = token.find('lemma').text.lower()\n",
    "                sentences.append(t)\n",
    "\n",
    "        docs[doc_path.split('/')[-1].split('.')[0]] = '\\n'.join(sentences)\n",
    "    return docs"
   ]
  },
  {
   "cell_type": "code",
   "execution_count": 40,
   "metadata": {},
   "outputs": [
    {
     "data": {
      "text/plain": [
       "(144, 100)"
      ]
     },
     "execution_count": 40,
     "metadata": {},
     "output_type": "execute_result"
    }
   ],
   "source": [
    "train_sentences = read('ake-datasets/datasets/SemEval-2010/train')\n",
    "test_sentences = read('ake-datasets/datasets/SemEval-2010/test')\n",
    "len(train_sentences), len(test_sentences)"
   ]
  },
  {
   "cell_type": "raw",
   "metadata": {},
   "source": []
  },
  {
   "cell_type": "code",
   "execution_count": 44,
   "metadata": {},
   "outputs": [],
   "source": [
    "vectorizer = TfidfVectorizer(lowercase=True, stop_words='english', ngram_range=(1, 3))\n",
    "trainvec = vectorizer.fit_transform(train_sentences.values())\n",
    "feature_names = vectorizer.get_feature_names()"
   ]
  },
  {
   "cell_type": "code",
   "execution_count": 74,
   "metadata": {},
   "outputs": [],
   "source": [
    "with open('ake-datasets/datasets/SemEval-2010/references/test.author.stem.json', 'r') as f:\n",
    "    target = json.load(f)\n",
    "    target = {doc_name: [k[0] for k in keyphrases] for doc_name, keyphrases in target.items()}"
   ]
  },
  {
   "cell_type": "code",
   "execution_count": 75,
   "metadata": {
    "scrolled": true
   },
   "outputs": [
    {
     "data": {
      "text/plain": [
       "['uddi', 'dht', 'web servic', 'grid comput', 'md', 'discoveri']"
      ]
     },
     "execution_count": 75,
     "metadata": {},
     "output_type": "execute_result"
    }
   ],
   "source": [
    "target['C-1']"
   ]
  },
  {
   "cell_type": "code",
   "execution_count": 76,
   "metadata": {},
   "outputs": [],
   "source": [
    "def extract_keyphrases(vec, feature_names, nb_keywords=5):\n",
    "    feature_index = vec.nonzero()[1]\n",
    "    tfidf_scores = zip(feature_index, [vec[0, x] for x in feature_index])\n",
    "    # Scale scores by n-gram length\n",
    "    scores = {feature_names[i]: s * len(feature_names[i].split()) for i, s in tfidf_scores}\n",
    "    scores = sorted(scores.items(), key=operator.itemgetter(1), reverse=True)[:nb_keywords]\n",
    "    return [keyphrase for keyphrase, score in scores]"
   ]
  },
  {
   "cell_type": "code",
   "execution_count": 77,
   "metadata": {},
   "outputs": [],
   "source": [
    "predictions = {}\n",
    "for doc_id, doc in test_sentences.items():\n",
    "    vec = vectorizer.transform([doc])[0]\n",
    "    keyphrases = extract_keyphrases(vec, feature_names=feature_names, nb_keywords=5)\n",
    "    predictions[doc_id] = keyphrases"
   ]
  },
  {
   "cell_type": "code",
   "execution_count": 78,
   "metadata": {
    "scrolled": false
   },
   "outputs": [
    {
     "name": "stdout",
     "output_type": "stream",
     "text": [
      "C-1   -> Precision: 0.20 Recall: 0.17 F1: 0.18 precision@5: 0.20\n",
      "C-14  -> Precision: 0.20 Recall: 0.20 F1: 0.20 precision@5: 0.20\n",
      "C-17  -> Precision: 0.00 Recall: 0.00 F1: 0.00 precision@5: 0.00\n",
      "C-18  -> Precision: 0.00 Recall: 0.00 F1: 0.00 precision@5: 0.00\n",
      "C-19  -> Precision: 0.20 Recall: 0.33 F1: 0.25 precision@5: 0.20\n",
      "C-20  -> Precision: 0.00 Recall: 0.00 F1: 0.00 precision@5: 0.00\n",
      "C-22  -> Precision: 0.00 Recall: 0.00 F1: 0.00 precision@5: 0.00\n",
      "C-23  -> Precision: 0.00 Recall: 0.00 F1: 0.00 precision@5: 0.00\n",
      "C-27  -> Precision: 0.00 Recall: 0.00 F1: 0.00 precision@5: 0.00\n",
      "C-28  -> Precision: 0.00 Recall: 0.00 F1: 0.00 precision@5: 0.00\n",
      "C-29  -> Precision: 0.00 Recall: 0.00 F1: 0.00 precision@5: 0.00\n",
      "C-3   -> Precision: 0.00 Recall: 0.00 F1: 0.00 precision@5: 0.00\n",
      "C-30  -> Precision: 0.20 Recall: 0.33 F1: 0.25 precision@5: 0.20\n",
      "C-31  -> Precision: 0.00 Recall: 0.00 F1: 0.00 precision@5: 0.00\n",
      "C-32  -> Precision: 0.00 Recall: 0.00 F1: 0.00 precision@5: 0.00\n",
      "C-33  -> Precision: 0.00 Recall: 0.00 F1: 0.00 precision@5: 0.00\n",
      "C-34  -> Precision: 0.20 Recall: 0.20 F1: 0.20 precision@5: 0.20\n",
      "C-36  -> Precision: 0.00 Recall: 0.00 F1: 0.00 precision@5: 0.00\n",
      "C-38  -> Precision: 0.00 Recall: 0.00 F1: 0.00 precision@5: 0.00\n",
      "C-4   -> Precision: 0.00 Recall: 0.00 F1: 0.00 precision@5: 0.00\n",
      "C-40  -> Precision: 0.00 Recall: 0.00 F1: 0.00 precision@5: 0.00\n",
      "C-6   -> Precision: 0.00 Recall: 0.00 F1: 0.00 precision@5: 0.00\n",
      "C-8   -> Precision: 0.20 Recall: 0.14 F1: 0.17 precision@5: 0.20\n",
      "C-86  -> Precision: 0.00 Recall: 0.00 F1: 0.00 precision@5: 0.00\n",
      "C-9   -> Precision: 0.00 Recall: 0.00 F1: 0.00 precision@5: 0.00\n",
      "H-10  -> Precision: 0.00 Recall: 0.00 F1: 0.00 precision@5: 0.00\n",
      "H-11  -> Precision: 0.00 Recall: 0.00 F1: 0.00 precision@5: 0.00\n",
      "H-12  -> Precision: 0.00 Recall: 0.00 F1: 0.00 precision@5: 0.00\n",
      "H-13  -> Precision: 0.20 Recall: 0.25 F1: 0.22 precision@5: 0.20\n",
      "H-14  -> Precision: 0.00 Recall: 0.00 F1: 0.00 precision@5: 0.00\n",
      "H-16  -> Precision: 0.00 Recall: 0.00 F1: 0.00 precision@5: 0.00\n",
      "H-17  -> Precision: 0.00 Recall: 0.00 F1: 0.00 precision@5: 0.00\n",
      "H-18  -> Precision: 0.20 Recall: 0.17 F1: 0.18 precision@5: 0.00\n",
      "H-19  -> Precision: 0.00 Recall: 0.00 F1: 0.00 precision@5: 0.00\n",
      "H-2   -> Precision: 0.00 Recall: 0.00 F1: 0.00 precision@5: 0.00\n",
      "H-20  -> Precision: 0.00 Recall: 0.00 F1: 0.00 precision@5: 0.00\n",
      "H-21  -> Precision: 0.00 Recall: 0.00 F1: 0.00 precision@5: 0.00\n",
      "H-24  -> Precision: 0.00 Recall: 0.00 F1: 0.00 precision@5: 0.00\n",
      "H-25  -> Precision: 0.00 Recall: 0.00 F1: 0.00 precision@5: 0.00\n",
      "H-26  -> Precision: 0.00 Recall: 0.00 F1: 0.00 precision@5: 0.00\n",
      "H-29  -> Precision: 0.00 Recall: 0.00 F1: 0.00 precision@5: 0.00\n",
      "H-3   -> Precision: 0.20 Recall: 0.25 F1: 0.22 precision@5: 0.20\n",
      "H-30  -> Precision: 0.00 Recall: 0.00 F1: 0.00 precision@5: 0.00\n",
      "H-31  -> Precision: 0.00 Recall: 0.00 F1: 0.00 precision@5: 0.00\n",
      "H-32  -> Precision: 0.00 Recall: 0.00 F1: 0.00 precision@5: 0.00\n",
      "H-4   -> Precision: 0.00 Recall: 0.00 F1: 0.00 precision@5: 0.00\n",
      "H-5   -> Precision: 0.00 Recall: 0.00 F1: 0.00 precision@5: 0.00\n",
      "H-7   -> Precision: 0.00 Recall: 0.00 F1: 0.00 precision@5: 0.00\n",
      "H-8   -> Precision: 0.00 Recall: 0.00 F1: 0.00 precision@5: 0.00\n",
      "H-9   -> Precision: 0.00 Recall: 0.00 F1: 0.00 precision@5: 0.00\n",
      "I-1   -> Precision: 0.00 Recall: 0.00 F1: 0.00 precision@5: 0.00\n",
      "I-10  -> Precision: 0.00 Recall: 0.00 F1: 0.00 precision@5: 0.00\n",
      "I-11  -> Precision: 0.00 Recall: 0.00 F1: 0.00 precision@5: 0.00\n",
      "I-12  -> Precision: 0.00 Recall: 0.00 F1: 0.00 precision@5: 0.00\n",
      "I-14  -> Precision: 0.00 Recall: 0.00 F1: 0.00 precision@5: 0.00\n",
      "I-15  -> Precision: 0.00 Recall: 0.00 F1: 0.00 precision@5: 0.00\n",
      "I-16  -> Precision: 0.20 Recall: 0.33 F1: 0.25 precision@5: 0.20\n",
      "I-18  -> Precision: 0.00 Recall: 0.00 F1: 0.00 precision@5: 0.00\n",
      "I-19  -> Precision: 0.00 Recall: 0.00 F1: 0.00 precision@5: 0.00\n",
      "I-20  -> Precision: 0.00 Recall: 0.00 F1: 0.00 precision@5: 0.00\n",
      "I-21  -> Precision: 0.00 Recall: 0.00 F1: 0.00 precision@5: 0.00\n",
      "I-22  -> Precision: 0.00 Recall: 0.00 F1: 0.00 precision@5: 0.00\n",
      "I-26  -> Precision: 0.00 Recall: 0.00 F1: 0.00 precision@5: 0.00\n",
      "I-29  -> Precision: 0.00 Recall: 0.00 F1: 0.00 precision@5: 0.00\n",
      "I-30  -> Precision: 0.40 Recall: 0.40 F1: 0.40 precision@5: 0.40\n",
      "I-31  -> Precision: 0.00 Recall: 0.00 F1: 0.00 precision@5: 0.00\n",
      "I-32  -> Precision: 0.20 Recall: 0.33 F1: 0.25 precision@5: 0.20\n",
      "I-33  -> Precision: 0.00 Recall: 0.00 F1: 0.00 precision@5: 0.00\n",
      "I-34  -> Precision: 0.00 Recall: 0.00 F1: 0.00 precision@5: 0.00\n",
      "I-35  -> Precision: 0.00 Recall: 0.00 F1: 0.00 precision@5: 0.00\n",
      "I-4   -> Precision: 0.00 Recall: 0.00 F1: 0.00 precision@5: 0.00\n",
      "I-5   -> Precision: 0.00 Recall: 0.00 F1: 0.00 precision@5: 0.00\n",
      "I-6   -> Precision: 0.00 Recall: 0.00 F1: 0.00 precision@5: 0.00\n",
      "I-7   -> Precision: 0.00 Recall: 0.00 F1: 0.00 precision@5: 0.00\n",
      "I-9   -> Precision: 0.00 Recall: 0.00 F1: 0.00 precision@5: 0.00\n",
      "J-1   -> Precision: 0.00 Recall: 0.00 F1: 0.00 precision@5: 0.00\n",
      "J-10  -> Precision: 0.00 Recall: 0.00 F1: 0.00 precision@5: 0.00\n",
      "J-11  -> Precision: 0.00 Recall: 0.00 F1: 0.00 precision@5: 0.00\n",
      "J-13  -> Precision: 0.20 Recall: 0.33 F1: 0.25 precision@5: 0.20\n",
      "J-14  -> Precision: 0.20 Recall: 0.33 F1: 0.25 precision@5: 0.20\n",
      "J-15  -> Precision: 0.20 Recall: 0.33 F1: 0.25 precision@5: 0.20\n",
      "J-17  -> Precision: 0.00 Recall: 0.00 F1: 0.00 precision@5: 0.00\n",
      "J-18  -> Precision: 0.20 Recall: 0.33 F1: 0.25 precision@5: 0.20\n",
      "J-2   -> Precision: 0.00 Recall: 0.00 F1: 0.00 precision@5: 0.00\n",
      "J-20  -> Precision: 0.00 Recall: 0.00 F1: 0.00 precision@5: 0.00\n",
      "J-21  -> Precision: 0.20 Recall: 0.17 F1: 0.18 precision@5: 0.20\n",
      "J-22  -> Precision: 0.00 Recall: 0.00 F1: 0.00 precision@5: 0.00\n",
      "J-23  -> Precision: 0.20 Recall: 0.33 F1: 0.25 precision@5: 0.20\n",
      "J-25  -> Precision: 0.00 Recall: 0.00 F1: 0.00 precision@5: 0.00\n",
      "J-26  -> Precision: 0.00 Recall: 0.00 F1: 0.00 precision@5: 0.00\n",
      "J-27  -> Precision: 0.00 Recall: 0.00 F1: 0.00 precision@5: 0.00\n",
      "J-28  -> Precision: 0.00 Recall: 0.00 F1: 0.00 precision@5: 0.00\n",
      "J-3   -> Precision: 0.20 Recall: 0.25 F1: 0.22 precision@5: 0.20\n",
      "J-30  -> Precision: 0.00 Recall: 0.00 F1: 0.00 precision@5: 0.00\n",
      "J-31  -> Precision: 0.00 Recall: 0.00 F1: 0.00 precision@5: 0.00\n",
      "J-32  -> Precision: 0.00 Recall: 0.00 F1: 0.00 precision@5: 0.00\n",
      "J-4   -> Precision: 0.20 Recall: 0.33 F1: 0.25 precision@5: 0.20\n",
      "J-7   -> Precision: 0.00 Recall: 0.00 F1: 0.00 precision@5: 0.00\n",
      "J-8   -> Precision: 0.00 Recall: 0.00 F1: 0.00 precision@5: 0.00\n",
      "J-9   -> Precision: 0.00 Recall: 0.00 F1: 0.00 precision@5: 0.00\n",
      "\n",
      "--------------Mean-------------\n",
      "Precision: 0.04 Recall: 0.06   F1: 0.05   precision@5: 0.04\n"
     ]
    }
   ],
   "source": [
    "precision, recall, f1, precision_5 = [], [], [], []\n",
    "for doc_id in sorted(predictions.keys()):\n",
    "    p = set(predictions[doc_id])\n",
    "    t = set(target[doc_id])\n",
    "    at_5 = set(target[doc_id][:5])\n",
    "\n",
    "    # We always predict 5 keywords\n",
    "    precision.append(len(p.intersection(t)) / len(p))\n",
    "    recall.append(len(p.intersection(t)) / len(t))\n",
    "    f1.append(0 if precision[-1] + recall[-1] == 0 else 2 * precision[-1] * recall[-1] / (precision[-1] + recall[-1]))\n",
    "    precision_5.append(len(p.intersection(at_5)) / len(p))\n",
    "    print(f'{doc_id:5} -> Precision: {precision[-1]:.2f} Recall: {recall[-1]:.2f} F1: {f1[-1]:.2f} precision@5: {precision_5[-1]:.2f}')\n",
    "\n",
    "print()\n",
    "print('--------------Mean-------------')\n",
    "print(f'Precision: {np.mean(precision):.2f} Recall: {np.mean(recall):.2f} F1: {np.mean(f1):.2f}   precision@5: {np.mean(precision_5):.2f}')"
   ]
  },
  {
   "cell_type": "code",
   "execution_count": null,
   "metadata": {},
   "outputs": [],
   "source": []
  }
 ],
 "metadata": {
  "kernelspec": {
   "display_name": "Python 3",
   "language": "python",
   "name": "python3"
  },
  "language_info": {
   "codemirror_mode": {
    "name": "ipython",
    "version": 3
   },
   "file_extension": ".py",
   "mimetype": "text/x-python",
   "name": "python",
   "nbconvert_exporter": "python",
   "pygments_lexer": "ipython3",
   "version": "3.7.2"
  }
 },
 "nbformat": 4,
 "nbformat_minor": 2
}
