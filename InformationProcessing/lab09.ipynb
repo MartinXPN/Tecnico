{
 "cells": [
  {
   "cell_type": "code",
   "execution_count": 17,
   "metadata": {},
   "outputs": [],
   "source": [
    "import numpy as np\n",
    "from scipy.sparse import dok_matrix\n",
    "from scipy.stats import pearsonr"
   ]
  },
  {
   "cell_type": "code",
   "execution_count": 9,
   "metadata": {},
   "outputs": [],
   "source": [
    "data = {}\n",
    "max_user, max_movie = 0, 0\n",
    "with open('u1.base', 'r') as f:\n",
    "    for l in f:\n",
    "        user_id, movie_id, rating, timestamp = l.split()\n",
    "        user_id, movie_id, rating = int(user_id), int(movie_id), int(rating)\n",
    "        \n",
    "        max_user = max(max_user, user_id)\n",
    "        max_movie = max(max_movie, movie_id)\n",
    "        data[(user_id, movie_id)] = rating"
   ]
  },
  {
   "cell_type": "code",
   "execution_count": 13,
   "metadata": {},
   "outputs": [],
   "source": [
    "M = dok_matrix((max_user + 1, max_movie + 1), dtype=np.int32)\n",
    "for (uid, mid), r in data.items():\n",
    "    M[uid, mid] = r"
   ]
  },
  {
   "cell_type": "code",
   "execution_count": 53,
   "metadata": {},
   "outputs": [],
   "source": [
    "# TODO: similarity has to be computed for those values that are present for both users\n",
    "def similarity(matrix, u1, u2):\n",
    "    cor, p_val = pearsonr(matrix.getrow(u1).A[0], matrix.getrow(u2).A[0])\n",
    "    return cor"
   ]
  },
  {
   "cell_type": "code",
   "execution_count": 87,
   "metadata": {},
   "outputs": [],
   "source": [
    "def most_similar(matrix, u, n):\n",
    "    similarities = [similarity(matrix, u, other) for other in range(0, matrix.shape[0])]\n",
    "    res = np.argsort(similarities)[-(n+1):][::-1]\n",
    "    res = res[res != 0]\n",
    "    return res"
   ]
  },
  {
   "cell_type": "code",
   "execution_count": 88,
   "metadata": {},
   "outputs": [],
   "source": [
    "def predict_rating(matrix, u, mid):\n",
    "    user_mean_rating = matrix[u].A[matrix[u].A.nonzero()].mean()\n",
    "    top_similars = most_similar(matrix, u, 5)\n",
    "    print('Most similars:', top_similars)\n",
    "    \n",
    "    res = 0.\n",
    "    for other in top_similars:\n",
    "        other_mean = matrix[other].A[matrix[other].A.nonzero()].mean()\n",
    "        print('Other mean:', other_mean)\n",
    "        res += similarity(matrix, u, other) * (matrix[other].A[0][mid] - other_mean)\n",
    "    print('Res:', res)\n",
    "    \n",
    "    res /= sum(similarity(matrix, u, other) for other in top_similars)\n",
    "    print('Res:', res)\n",
    "    return res"
   ]
  },
  {
   "cell_type": "code",
   "execution_count": 89,
   "metadata": {},
   "outputs": [
    {
     "name": "stdout",
     "output_type": "stream",
     "text": [
      "Most similars: [  1 823 514 521 864]\n",
      "Other mean: 3.6814814814814816\n",
      "Other mean: 4.005405405405406\n",
      "Other mean: 3.8402061855670104\n",
      "Other mean: 3.14\n",
      "Other mean: 3.82312925170068\n",
      "Res: -4.311895553335287\n",
      "Res: -1.8648334222052085\n"
     ]
    },
    {
     "data": {
      "text/plain": [
       "-1.8648334222052085"
      ]
     },
     "execution_count": 89,
     "metadata": {},
     "output_type": "execute_result"
    }
   ],
   "source": [
    "predict_rating(M, 1, 5)"
   ]
  },
  {
   "cell_type": "code",
   "execution_count": null,
   "metadata": {},
   "outputs": [],
   "source": []
  },
  {
   "cell_type": "code",
   "execution_count": null,
   "metadata": {},
   "outputs": [],
   "source": []
  },
  {
   "cell_type": "code",
   "execution_count": null,
   "metadata": {},
   "outputs": [],
   "source": []
  },
  {
   "cell_type": "markdown",
   "metadata": {},
   "source": [
    "## Pen and paper"
   ]
  },
  {
   "cell_type": "code",
   "execution_count": 76,
   "metadata": {},
   "outputs": [],
   "source": [
    "A = np.array([\n",
    "    [2, 4, 3, 3],\n",
    "    [1, 5, 5, 3],\n",
    "    [1, 3, 3, -1],\n",
    "    [3, 2, 1, -1],\n",
    "])"
   ]
  },
  {
   "cell_type": "code",
   "execution_count": 77,
   "metadata": {},
   "outputs": [
    {
     "data": {
      "text/plain": [
       "array([[ 2,  4,  3,  3],\n",
       "       [ 1,  5,  5,  3],\n",
       "       [ 1,  3,  3, -1],\n",
       "       [ 3,  2,  1, -1]])"
      ]
     },
     "execution_count": 77,
     "metadata": {},
     "output_type": "execute_result"
    }
   ],
   "source": [
    "A"
   ]
  },
  {
   "cell_type": "code",
   "execution_count": null,
   "metadata": {},
   "outputs": [],
   "source": [
    "# sim(u1, u2) = 0.866\n",
    "# sim(i1, i2) = 0.773\n",
    "# ans = 0.85"
   ]
  }
 ],
 "metadata": {
  "kernelspec": {
   "display_name": "Python 3",
   "language": "python",
   "name": "python3"
  },
  "language_info": {
   "codemirror_mode": {
    "name": "ipython",
    "version": 3
   },
   "file_extension": ".py",
   "mimetype": "text/x-python",
   "name": "python",
   "nbconvert_exporter": "python",
   "pygments_lexer": "ipython3",
   "version": "3.7.5"
  }
 },
 "nbformat": 4,
 "nbformat_minor": 2
}
