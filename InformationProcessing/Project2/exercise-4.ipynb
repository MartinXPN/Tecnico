{
 "cells": [
  {
   "cell_type": "markdown",
   "metadata": {},
   "source": [
    "* Train set: use the same from the previous exercise\n",
    "* Test set: Parse XML/RSS New York Times feed and take {doc_id: title, doc: description}\n",
    "* Extract keyphrases for the test set\n",
    "* Generate html page from the keyphrases extracted"
   ]
  },
  {
   "cell_type": "code",
   "execution_count": 1,
   "metadata": {},
   "outputs": [],
   "source": [
    "import re\n",
    "import operator\n",
    "import json\n",
    "import itertools\n",
    "import spacy\n",
    "import requests\n",
    "import networkx as nx\n",
    "import numpy as np\n",
    "import pandas as pd\n",
    "from glob import glob\n",
    "from nltk import ngrams, pos_tag, word_tokenize, everygrams\n",
    "from nltk.stem import WordNetLemmatizer\n",
    "from sklearn.feature_extraction.text import TfidfVectorizer\n",
    "from xml.etree import ElementTree\n",
    "from collections import Counter\n",
    "from math import log\n",
    "\n",
    "from tqdm import tqdm_notebook as tqdm\n",
    "\n",
    "pd.set_option('display.max_rows', 500)\n",
    "pd.set_option('display.max_columns', 500)\n",
    "pd.set_option('display.width', 1000)\n",
    "pd.set_option('display.max_colwidth', 500)"
   ]
  },
  {
   "cell_type": "code",
   "execution_count": 2,
   "metadata": {},
   "outputs": [],
   "source": [
    "from nltk.stem.snowball import SnowballStemmer\n",
    "sno = SnowballStemmer('english')\n",
    "nlp = spacy.load('en_core_web_sm')\n",
    "lemmatizer = WordNetLemmatizer()"
   ]
  },
  {
   "cell_type": "code",
   "execution_count": 3,
   "metadata": {},
   "outputs": [
    {
     "data": {
      "application/vnd.jupyter.widget-view+json": {
       "model_id": "38e3824dcc5f43b7ab8505daf7d0fb8e",
       "version_major": 2,
       "version_minor": 0
      },
      "text/plain": [
       "HBox(children=(IntProgress(value=0, max=1000), HTML(value='')))"
      ]
     },
     "metadata": {},
     "output_type": "display_data"
    },
    {
     "name": "stdout",
     "output_type": "stream",
     "text": [
      "\n"
     ]
    },
    {
     "data": {
      "text/plain": [
       "1000"
      ]
     },
     "execution_count": 3,
     "metadata": {},
     "output_type": "execute_result"
    }
   ],
   "source": [
    "def read(directory):\n",
    "    docs = {}\n",
    "    for doc_path in tqdm(glob(f'{directory}/*.xml')):\n",
    "        doc = ElementTree.parse(doc_path)\n",
    "        sentences = []\n",
    "        for sentence in doc.find('document').find('sentences').findall('sentence'):\n",
    "            sentences.append(' '.join([token.find('lemma').text.lower()\n",
    "                                       for token in sentence.find('tokens').findall('token')]))\n",
    "\n",
    "        docs[doc_path.split('/')[-1].split('.')[0]] = '\\n'.join(sentences)\n",
    "    return docs\n",
    "\n",
    "\n",
    "train_docs = read('../Project1/ake-datasets/datasets/Inspec/train')\n",
    "# test_docs = read('../Project1/ake-datasets/datasets/Inspec/test')\n",
    "len(train_docs)"
   ]
  },
  {
   "cell_type": "code",
   "execution_count": 4,
   "metadata": {},
   "outputs": [],
   "source": [
    "CATEGORY = 'Dance'\n",
    "URL = f'https://rss.nytimes.com/services/xml/rss/nyt/{CATEGORY}.xml'\n",
    "r = requests.get(URL)\n",
    "tree = ElementTree.fromstring(r.content)"
   ]
  },
  {
   "cell_type": "code",
   "execution_count": 5,
   "metadata": {},
   "outputs": [
    {
     "data": {
      "text/plain": [
       "20"
      ]
     },
     "execution_count": 5,
     "metadata": {},
     "output_type": "execute_result"
    }
   ],
   "source": [
    "items = []\n",
    "test_docs = {}\n",
    "for item in tree.find('channel').findall('item'):\n",
    "    try:\n",
    "        image = item.find('{http://search.yahoo.com/mrss/}content').attrib['url']\n",
    "    except:\n",
    "        image = None\n",
    "    title = item.find('title').text\n",
    "    description = item.find('description').text\n",
    "    items.append({\n",
    "        'title': title,\n",
    "        'link': item.find('link').text, \n",
    "        'description': description,\n",
    "        'image': image,\n",
    "    })\n",
    "    \n",
    "    doc = nlp(description.lower())\n",
    "    test_docs[title] = ' '.join([t.lemma_ for t in doc if t.is_alpha and not t.is_stop])\n",
    "\n",
    "len(test_docs)"
   ]
  },
  {
   "cell_type": "code",
   "execution_count": 6,
   "metadata": {},
   "outputs": [],
   "source": [
    "train_candidates = {doc_id: [' '.join(gram) for gram in everygrams(doc.split(), 1, 3)] for doc_id, doc in train_docs.items()}\n",
    "train_frequencies = {doc_id: Counter([' '.join(gram) for gram in everygrams(doc.split(), 1, 3)])\n",
    "                    for doc_id, doc in train_docs.items()}\n",
    "\n",
    "test_candidates = {doc_id: [' '.join(gram) for gram in everygrams(doc.split(), 1, 3)] for doc_id, doc in test_docs.items()}\n",
    "test_frequencies = {doc_id: Counter([' '.join(gram) for gram in everygrams(doc.split(), 1, 3)])\n",
    "                    for doc_id, doc in test_docs.items()}"
   ]
  },
  {
   "cell_type": "code",
   "execution_count": null,
   "metadata": {},
   "outputs": [],
   "source": []
  },
  {
   "cell_type": "code",
   "execution_count": 7,
   "metadata": {},
   "outputs": [],
   "source": [
    "def tf(d, t, frequencies):\n",
    "    return 1. * frequencies[d][t] / frequencies[d].most_common(1)[0][1]\n",
    "\n",
    "def idf(t, frequencies):\n",
    "    N = 1. * len(frequencies)\n",
    "    nt = sum(1 for doc in frequencies.values() if t in doc)\n",
    "    return log(N / nt) if N != 0 and nt != 0 else 0\n",
    "\n",
    "dls = {}\n",
    "def bm25(t, d, frequencies, background_frequencies, k1=1.2, b=0.75):\n",
    "    \"\"\"\n",
    "    :param t: term\n",
    "    :param d: document-id in test dataset\n",
    "    \n",
    "    ftd = f(t, d): term frequency\n",
    "    avgdl = mean([len(doc) for doc in train])\n",
    "    N = len(train)\n",
    "    nt = n(t) = sum(1 for doc in train if t in doc)\n",
    "    \"\"\"\n",
    "    N = len(background_frequencies)\n",
    "    nt = sum(1 for doc in background_frequencies.values() if t in doc)\n",
    "    # Dangerous but works for our train/test split\n",
    "    if len(background_frequencies) not in dls:\n",
    "        dls[len(background_frequencies)] = np.mean([sum(freq.values()) for freq in background_frequencies.values()])\n",
    "    avgdl = dls[len(background_frequencies)]\n",
    "    \n",
    "    ftd = 1. * frequencies[d][t] / frequencies[d].most_common(1)[0][1]\n",
    "    ld = sum(frequencies[d].values())\n",
    "    \n",
    "    tf = (ftd * (k1 + 1)) / (ftd + k1 * (1 - b + b * ld / avgdl))\n",
    "    idf = log((N - nt + 0.5) / (nt + 0.5))\n",
    "    return tf * idf"
   ]
  },
  {
   "cell_type": "code",
   "execution_count": 8,
   "metadata": {},
   "outputs": [
    {
     "data": {
      "text/plain": [
       "(0.8, 1.9105430052180221, 1.8559239707875061)"
      ]
     },
     "execution_count": 8,
     "metadata": {},
     "output_type": "execute_result"
    }
   ],
   "source": [
    "tf(t='datum', d='1390', frequencies=train_frequencies), \\\n",
    "idf(t='datum', frequencies=train_frequencies), \\\n",
    "bm25(t='datum', d='1390', frequencies=train_frequencies, background_frequencies=train_frequencies)"
   ]
  },
  {
   "cell_type": "code",
   "execution_count": 9,
   "metadata": {},
   "outputs": [
    {
     "data": {
      "text/html": [
       "<div>\n",
       "<style scoped>\n",
       "    .dataframe tbody tr th:only-of-type {\n",
       "        vertical-align: middle;\n",
       "    }\n",
       "\n",
       "    .dataframe tbody tr th {\n",
       "        vertical-align: top;\n",
       "    }\n",
       "\n",
       "    .dataframe thead th {\n",
       "        text-align: right;\n",
       "    }\n",
       "</style>\n",
       "<table border=\"1\" class=\"dataframe\">\n",
       "  <thead>\n",
       "    <tr style=\"text-align: right;\">\n",
       "      <th></th>\n",
       "      <th>token</th>\n",
       "    </tr>\n",
       "    <tr>\n",
       "      <th>id</th>\n",
       "      <th></th>\n",
       "    </tr>\n",
       "  </thead>\n",
       "  <tbody>\n",
       "    <tr>\n",
       "      <th>Visions of Sugar Rum Cherries Tap Dance in Her Head:::0</th>\n",
       "      <td>michelle</td>\n",
       "    </tr>\n",
       "    <tr>\n",
       "      <th>Visions of Sugar Rum Cherries Tap Dance in Her Head:::1</th>\n",
       "      <td>dorrance</td>\n",
       "    </tr>\n",
       "    <tr>\n",
       "      <th>Visions of Sugar Rum Cherries Tap Dance in Her Head:::2</th>\n",
       "      <td>make</td>\n",
       "    </tr>\n",
       "  </tbody>\n",
       "</table>\n",
       "</div>"
      ],
      "text/plain": [
       "                                                            token\n",
       "id                                                               \n",
       "Visions of Sugar Rum Cherries Tap Dance in Her Head:::0  michelle\n",
       "Visions of Sugar Rum Cherries Tap Dance in Her Head:::1  dorrance\n",
       "Visions of Sugar Rum Cherries Tap Dance in Her Head:::2      make"
      ]
     },
     "execution_count": 9,
     "metadata": {},
     "output_type": "execute_result"
    }
   ],
   "source": [
    "test_data = pd.DataFrame([\n",
    "    {'id': doc_id + ':::' + str(i), 'token': candidate} \n",
    "    for doc_id, candidates in test_frequencies.items()\n",
    "        for i, candidate in enumerate(candidates)\n",
    "])\n",
    "test_data.set_index('id', inplace=True)\n",
    "test_data.head(3)"
   ]
  },
  {
   "cell_type": "code",
   "execution_count": 10,
   "metadata": {},
   "outputs": [
    {
     "data": {
      "application/vnd.jupyter.widget-view+json": {
       "model_id": "731b268641cf4d289d1a12e3266f3462",
       "version_major": 2,
       "version_minor": 0
      },
      "text/plain": [
       "HBox(children=(IntProgress(value=0, max=597), HTML(value='')))"
      ]
     },
     "metadata": {},
     "output_type": "display_data"
    },
    {
     "name": "stdout",
     "output_type": "stream",
     "text": [
      "\n"
     ]
    },
    {
     "data": {
      "application/vnd.jupyter.widget-view+json": {
       "model_id": "25461072cb4a4ae689e890ea46949fe3",
       "version_major": 2,
       "version_minor": 0
      },
      "text/plain": [
       "HBox(children=(IntProgress(value=0, max=597), HTML(value='')))"
      ]
     },
     "metadata": {},
     "output_type": "display_data"
    },
    {
     "name": "stdout",
     "output_type": "stream",
     "text": [
      "\n"
     ]
    },
    {
     "data": {
      "application/vnd.jupyter.widget-view+json": {
       "model_id": "e8f51a0764b24e62a4ab5447badcb814",
       "version_major": 2,
       "version_minor": 0
      },
      "text/plain": [
       "HBox(children=(IntProgress(value=0, max=597), HTML(value='')))"
      ]
     },
     "metadata": {},
     "output_type": "display_data"
    },
    {
     "name": "stdout",
     "output_type": "stream",
     "text": [
      "\n"
     ]
    },
    {
     "data": {
      "application/vnd.jupyter.widget-view+json": {
       "model_id": "40c695dd2abb4f9cb019c6e5cc83ae79",
       "version_major": 2,
       "version_minor": 0
      },
      "text/plain": [
       "HBox(children=(IntProgress(value=0, max=597), HTML(value='')))"
      ]
     },
     "metadata": {},
     "output_type": "display_data"
    },
    {
     "name": "stdout",
     "output_type": "stream",
     "text": [
      "\n"
     ]
    },
    {
     "data": {
      "text/html": [
       "<div>\n",
       "<style scoped>\n",
       "    .dataframe tbody tr th:only-of-type {\n",
       "        vertical-align: middle;\n",
       "    }\n",
       "\n",
       "    .dataframe tbody tr th {\n",
       "        vertical-align: top;\n",
       "    }\n",
       "\n",
       "    .dataframe thead th {\n",
       "        text-align: right;\n",
       "    }\n",
       "</style>\n",
       "<table border=\"1\" class=\"dataframe\">\n",
       "  <thead>\n",
       "    <tr style=\"text-align: right;\">\n",
       "      <th></th>\n",
       "      <th>token</th>\n",
       "      <th>tf</th>\n",
       "      <th>idf</th>\n",
       "      <th>tf-idf</th>\n",
       "      <th>bm25</th>\n",
       "      <th>len</th>\n",
       "    </tr>\n",
       "    <tr>\n",
       "      <th>id</th>\n",
       "      <th></th>\n",
       "      <th></th>\n",
       "      <th></th>\n",
       "      <th></th>\n",
       "      <th></th>\n",
       "      <th></th>\n",
       "    </tr>\n",
       "  </thead>\n",
       "  <tbody>\n",
       "    <tr>\n",
       "      <th>Visions of Sugar Rum Cherries Tap Dance in Her Head:::0</th>\n",
       "      <td>michelle</td>\n",
       "      <td>1.0</td>\n",
       "      <td>2.995732</td>\n",
       "      <td>2.995732</td>\n",
       "      <td>12.202547</td>\n",
       "      <td>8</td>\n",
       "    </tr>\n",
       "    <tr>\n",
       "      <th>Visions of Sugar Rum Cherries Tap Dance in Her Head:::1</th>\n",
       "      <td>dorrance</td>\n",
       "      <td>1.0</td>\n",
       "      <td>2.995732</td>\n",
       "      <td>2.995732</td>\n",
       "      <td>12.202547</td>\n",
       "      <td>8</td>\n",
       "    </tr>\n",
       "  </tbody>\n",
       "</table>\n",
       "</div>"
      ],
      "text/plain": [
       "                                                            token   tf       idf    tf-idf       bm25  len\n",
       "id                                                                                                        \n",
       "Visions of Sugar Rum Cherries Tap Dance in Her Head:::0  michelle  1.0  2.995732  2.995732  12.202547    8\n",
       "Visions of Sugar Rum Cherries Tap Dance in Her Head:::1  dorrance  1.0  2.995732  2.995732  12.202547    8"
      ]
     },
     "execution_count": 10,
     "metadata": {},
     "output_type": "execute_result"
    }
   ],
   "source": [
    "test_data['tf'] = [tf(d=i.split(':::')[0], t=row['token'], frequencies=test_frequencies) for i, row in tqdm(test_data.iterrows(), total=len(test_data))]\n",
    "test_data['idf'] = [idf(t=row['token'], frequencies=test_frequencies) for i, row in tqdm(test_data.iterrows(), total=len(test_data))]\n",
    "test_data['tf-idf'] = test_data['tf'] * test_data['idf']\n",
    "test_data['bm25'] = [bm25(t=row['token'], d=i.split(':::')[0], frequencies=test_frequencies, background_frequencies=train_frequencies) for i, row in tqdm(test_data.iterrows(), total=len(test_data))]\n",
    "test_data['len'] = [len(row['token']) for i, row in tqdm(test_data.iterrows(), total=len(test_data))]\n",
    "test_data.head(2)"
   ]
  },
  {
   "cell_type": "code",
   "execution_count": null,
   "metadata": {},
   "outputs": [],
   "source": []
  },
  {
   "cell_type": "markdown",
   "metadata": {},
   "source": [
    "## Add graph centrality score for each candidate"
   ]
  },
  {
   "cell_type": "code",
   "execution_count": 11,
   "metadata": {},
   "outputs": [
    {
     "name": "stderr",
     "output_type": "stream",
     "text": [
      "\n"
     ]
    }
   ],
   "source": [
    "from sklearn.metrics.pairwise import cosine_similarity\n",
    "from fasttext import load_model\n",
    "model = load_model('./cc.en.300.bin')"
   ]
  },
  {
   "cell_type": "code",
   "execution_count": 12,
   "metadata": {},
   "outputs": [],
   "source": [
    "def get_ranks(doc_id, doc, get_weight, get_personalization=None, weight='weight'):\n",
    "    G = nx.Graph(name=doc_id)\n",
    "    doc = nlp(doc)\n",
    "    \n",
    "    for sentence in doc.sents:\n",
    "        tokens = [str(t) for t in sentence if t.is_alpha and not t.is_stop]\n",
    "        grams = everygrams(tokens, min_len=1, max_len=3)\n",
    "        grams = [' '.join(g) for g in grams]\n",
    "        G.add_nodes_from(grams)\n",
    "        \n",
    "        edges = list(itertools.combinations(grams, 2))\n",
    "        weighted_edges = [(v1, v2, get_weight(v1, v2)) for v1, v2 in edges]\n",
    "        G.add_weighted_edges_from(weighted_edges)\n",
    "    \n",
    "    personalization = {node: get_personalization(node) for node in G.nodes} if get_personalization else None\n",
    "    rank = nx.pagerank(G, alpha=1-0.15, max_iter=50, weight=weight, personalization=personalization)\n",
    "    return rank"
   ]
  },
  {
   "cell_type": "code",
   "execution_count": 13,
   "metadata": {},
   "outputs": [],
   "source": [
    "def weight(w1, w2):\n",
    "    v1 = model.get_sentence_vector(w1)\n",
    "    v2 = model.get_sentence_vector(w2)\n",
    "    return cosine_similarity([v1], [v2])[0]"
   ]
  },
  {
   "cell_type": "code",
   "execution_count": 14,
   "metadata": {},
   "outputs": [
    {
     "data": {
      "application/vnd.jupyter.widget-view+json": {
       "model_id": "ebd9bdc6a219470fabcc121edd1f59ee",
       "version_major": 2,
       "version_minor": 0
      },
      "text/plain": [
       "HBox(children=(IntProgress(value=0, max=597), HTML(value='')))"
      ]
     },
     "metadata": {},
     "output_type": "display_data"
    },
    {
     "name": "stdout",
     "output_type": "stream",
     "text": [
      "\n"
     ]
    },
    {
     "data": {
      "text/html": [
       "<div>\n",
       "<style scoped>\n",
       "    .dataframe tbody tr th:only-of-type {\n",
       "        vertical-align: middle;\n",
       "    }\n",
       "\n",
       "    .dataframe tbody tr th {\n",
       "        vertical-align: top;\n",
       "    }\n",
       "\n",
       "    .dataframe thead th {\n",
       "        text-align: right;\n",
       "    }\n",
       "</style>\n",
       "<table border=\"1\" class=\"dataframe\">\n",
       "  <thead>\n",
       "    <tr style=\"text-align: right;\">\n",
       "      <th></th>\n",
       "      <th>token</th>\n",
       "      <th>tf</th>\n",
       "      <th>idf</th>\n",
       "      <th>tf-idf</th>\n",
       "      <th>bm25</th>\n",
       "      <th>len</th>\n",
       "      <th>centrality</th>\n",
       "    </tr>\n",
       "    <tr>\n",
       "      <th>id</th>\n",
       "      <th></th>\n",
       "      <th></th>\n",
       "      <th></th>\n",
       "      <th></th>\n",
       "      <th></th>\n",
       "      <th></th>\n",
       "      <th></th>\n",
       "    </tr>\n",
       "  </thead>\n",
       "  <tbody>\n",
       "    <tr>\n",
       "      <th>Visions of Sugar Rum Cherries Tap Dance in Her Head:::0</th>\n",
       "      <td>michelle</td>\n",
       "      <td>1.0</td>\n",
       "      <td>2.995732</td>\n",
       "      <td>2.995732</td>\n",
       "      <td>12.202547</td>\n",
       "      <td>8</td>\n",
       "      <td>0.038876</td>\n",
       "    </tr>\n",
       "    <tr>\n",
       "      <th>Visions of Sugar Rum Cherries Tap Dance in Her Head:::1</th>\n",
       "      <td>dorrance</td>\n",
       "      <td>1.0</td>\n",
       "      <td>2.995732</td>\n",
       "      <td>2.995732</td>\n",
       "      <td>12.202547</td>\n",
       "      <td>8</td>\n",
       "      <td>0.023146</td>\n",
       "    </tr>\n",
       "    <tr>\n",
       "      <th>Visions of Sugar Rum Cherries Tap Dance in Her Head:::2</th>\n",
       "      <td>make</td>\n",
       "      <td>1.0</td>\n",
       "      <td>2.995732</td>\n",
       "      <td>2.995732</td>\n",
       "      <td>3.004345</td>\n",
       "      <td>4</td>\n",
       "      <td>0.000000</td>\n",
       "    </tr>\n",
       "    <tr>\n",
       "      <th>Visions of Sugar Rum Cherries Tap Dance in Her Head:::3</th>\n",
       "      <td>tap</td>\n",
       "      <td>1.0</td>\n",
       "      <td>2.302585</td>\n",
       "      <td>2.302585</td>\n",
       "      <td>9.615700</td>\n",
       "      <td>3</td>\n",
       "      <td>0.020905</td>\n",
       "    </tr>\n",
       "    <tr>\n",
       "      <th>Visions of Sugar Rum Cherries Tap Dance in Her Head:::4</th>\n",
       "      <td>nutcracker</td>\n",
       "      <td>1.0</td>\n",
       "      <td>2.302585</td>\n",
       "      <td>2.302585</td>\n",
       "      <td>12.202547</td>\n",
       "      <td>10</td>\n",
       "      <td>0.028531</td>\n",
       "    </tr>\n",
       "  </tbody>\n",
       "</table>\n",
       "</div>"
      ],
      "text/plain": [
       "                                                              token   tf       idf    tf-idf       bm25  len  centrality\n",
       "id                                                                                                                      \n",
       "Visions of Sugar Rum Cherries Tap Dance in Her Head:::0    michelle  1.0  2.995732  2.995732  12.202547    8    0.038876\n",
       "Visions of Sugar Rum Cherries Tap Dance in Her Head:::1    dorrance  1.0  2.995732  2.995732  12.202547    8    0.023146\n",
       "Visions of Sugar Rum Cherries Tap Dance in Her Head:::2        make  1.0  2.995732  2.995732   3.004345    4    0.000000\n",
       "Visions of Sugar Rum Cherries Tap Dance in Her Head:::3         tap  1.0  2.302585  2.302585   9.615700    3    0.020905\n",
       "Visions of Sugar Rum Cherries Tap Dance in Her Head:::4  nutcracker  1.0  2.302585  2.302585  12.202547   10    0.028531"
      ]
     },
     "execution_count": 14,
     "metadata": {},
     "output_type": "execute_result"
    }
   ],
   "source": [
    "cur_doc_id = -1\n",
    "centralities = []\n",
    "doc = None\n",
    "for i, row in tqdm(test_data.iterrows(), total=len(test_data)):\n",
    "    doc_id = i.split(':::')[0]\n",
    "    if cur_doc_id != doc_id:\n",
    "        cur_doc_id = doc_id\n",
    "        doc = test_docs[doc_id]\n",
    "        d = nlp(doc)\n",
    "        d = ' '.join([str(t) for t in d if t.is_alpha and not t.is_stop])\n",
    "        doc_ranks = get_ranks(doc_id, doc, get_weight=weight, \n",
    "                              get_personalization=lambda x: 1 / (1 + log(1 + d.find(x))))\n",
    "\n",
    "    token = row['token']\n",
    "    if token not in doc_ranks: # To remove stop words and non alphanumeric tokens later on\n",
    "        centralities.append(0)\n",
    "    else:\n",
    "        try:\n",
    "            centralities.append(doc_ranks[token][0])\n",
    "        except:\n",
    "            centralities.append(doc_ranks[token])\n",
    "\n",
    "test_data['centrality'] = centralities\n",
    "test_data.head()"
   ]
  },
  {
   "cell_type": "code",
   "execution_count": 15,
   "metadata": {},
   "outputs": [],
   "source": [
    "def avg_precisoin(pred, targ):\n",
    "    pred = set([sno.stem(p) for p in pred])\n",
    "    targ = set([sno.stem(t) for t in targ])\n",
    "    res, nb_correct = 0, 0\n",
    "    for i, p in enumerate(pred):\n",
    "        if p in targ:\n",
    "            nb_correct += 1\n",
    "            res += nb_correct / (i + 1)\n",
    "    return res / len(targ)"
   ]
  },
  {
   "cell_type": "code",
   "execution_count": 16,
   "metadata": {
    "scrolled": true
   },
   "outputs": [
    {
     "data": {
      "text/plain": [
       "597"
      ]
     },
     "execution_count": 16,
     "metadata": {},
     "output_type": "execute_result"
    }
   ],
   "source": [
    "len(test_data)"
   ]
  },
  {
   "cell_type": "code",
   "execution_count": 17,
   "metadata": {},
   "outputs": [],
   "source": [
    "test_data['doc_id'] = [i.split(':::')[0] for i in test_data.index]"
   ]
  },
  {
   "cell_type": "code",
   "execution_count": 18,
   "metadata": {
    "scrolled": false
   },
   "outputs": [
    {
     "data": {
      "application/vnd.jupyter.widget-view+json": {
       "model_id": "79e13ddc75ae43e6a0daba5e504c6a0f",
       "version_major": 2,
       "version_minor": 0
      },
      "text/plain": [
       "HBox(children=(IntProgress(value=0, max=20), HTML(value='')))"
      ]
     },
     "metadata": {},
     "output_type": "display_data"
    },
    {
     "name": "stdout",
     "output_type": "stream",
     "text": [
      "\n",
      "{'11 Dance Performances to See in N.Y.C. This Weekend': ['performance happen weekend', 'dance performance happen', 'guide dance performance', 'week ahead', 'dance performance'], '6 Dance Performances to See in N.Y.C. This Weekend': ['performance happen weekend', 'dance performance happen', 'guide dance performance', 'week ahead', 'dance performance'], '8 Dance Performances to See in N.Y.C. This Weekend': ['performance happen weekend', 'dance performance happen', 'guide dance performance', 'week ahead', 'dance performance'], 'A Choreographer Dances Out His Feelings About Race and Religion': ['kyle marshall rise', 'company brooklyn', 'marshall rise young', 'brooklyn academy', 'academy music'], 'After Misty Comes Marie: Breaking Barriers in ‘The Nutcracker’': ['black marie', 'marie young', 'young heroine', 'year time new', 'ballet nutcracker'], 'At Alvin Ailey, a Quiet Disrupter With No Time for Tears': ['choreographer want bring', 'resident choreographer want', 'company resident choreographer', 'roberts company resident', 'jamar roberts company'], 'Best Dance of 2019': ['body speak', 'old work bristle', 'work bristle fresh', 'actor body', 'bristle fresh energy'], 'Can Dance Make a More Just America? Donald Byrd Is Working on It': ['choreographer commitment dance', 'commitment dance catalyst', 'museum seattle', 'seattle new', 'dance catalyst social'], 'Don McDonagh, Dance Critic and Author, Dies at 87': ['times champion experimental', 'york times champion', 'review new york', 'new york times', 'choreographer emerge'], 'How to Spend the Holidays in New York City': ['manhattan annual holiday', 'spectacular manhattan annual', 'city christmas spectacular', 'christmas spectacular manhattan', 'roundup'], 'Review: A Dance About Gun Violence? ‘Ode’ Is Daring and Delicate': ['ailey resident choreographer', 'alvin ailey resident', 'roberts alvin ailey', 'jamar roberts alvin', 'choreographer heartbreaking'], 'Review: At Alvin Ailey, Tragic Themes Overwhelm a Dance': ['struggle translate traumatic', 'tulsa struggle translate', 'citizen tulsa struggle', 'donald', 'black citizen tulsa'], 'Review: Dancing the ‘Twisted Beauty’ of the Black Experience': ['wave festival choreograph', 'festival choreograph kyle', 'choreograph kyle marshall', 'festival choreograph', 'unveil new'], 'Review: Gandini Juggling’s Drab ‘Spring’ Mixes It Up With Dancers': ['delight juggling bad', 'met delight juggling', 'akhnaten met delight', 'troupe', 'troupe buzz akhnaten'], 'Review: Pam Tanowitz’s Delicate Dance With Bach': ['balanced unstrained partnership', 'work goldberg variation', 'show balanced unstrained', 'new work goldberg', 'variation show balanced'], 'Review: The Tap Dancer Dormeshia Finds Her Groove, and Then Some': ['samuels smith derick', 'smith derick grant', 'jason samuels smith', 'join jason samuels', 'swing joyce theater'], 'Sara Mearns and Caleb Teicher to Debut Shows at the Joyce': ['festival presentation', 'theater come season', 'presentation paul', 'second installment', 'come season include'], 'The Cage Cunningham Fellowship Puts a Spotlight on Light': ['jennifer tipton lighting', 'jennifer', 'opera year', 'tipton lighting designer', 'award baryshnikov'], 'Visions of Sugar Rum Cherries Tap Dance in Her Head': ['swinge riff tchaikovsky', 'ellington swinge riff', 'nutcracker duke ellington', 'duke ellington swinge', 'michelle'], '‘Cunningham’ Review: Exploring Space, Time and Dance in 3-D': ['choreography difficult convey', 'aspect choreography difficult', 'documentary merce cunningham', 'alla', 'kovgan documentary merce']}\n"
     ]
    }
   ],
   "source": [
    "pd.options.mode.chained_assignment = None  # default='warn'\n",
    "test_doc_groups = test_data.copy()\n",
    "test_doc_groups.reset_index(inplace=True)\n",
    "del test_doc_groups['id']\n",
    "test_doc_groups = test_doc_groups.groupby('doc_id')\n",
    "\n",
    "\n",
    "def RRFScore(ranks):\n",
    "    return sum(1. / (50 + r) for r in ranks)\n",
    "\n",
    "\n",
    "def rank(arr):\n",
    "    order = arr.argsort()\n",
    "    ranks = order.argsort()\n",
    "    return ranks\n",
    "\n",
    "\n",
    "def score(doc_id, df):\n",
    "    ranking = {}\n",
    "    for i, row in df.iterrows():\n",
    "        ranking[row['token']] = RRFScore([row['tf'], row['idf'], row['tf-idf'], row['bm25'], \n",
    "                                          row['len'], row['centrality']])\n",
    "        \n",
    "    top = sorted(ranking.items(), key=operator.itemgetter(1), reverse=True)[:5]\n",
    "    top_keywords = [k for k, s in top]\n",
    "#     print(doc_id)\n",
    "#     print(top_keywords)\n",
    "#     print(target[doc_id])\n",
    "    return top_keywords\n",
    "\n",
    "\n",
    "keywords = {}\n",
    "for name, group in tqdm(test_doc_groups):    \n",
    "    group['tf']         = rank(-group['tf'].values)\n",
    "    group['idf']        = rank(-group['idf'].values)\n",
    "    group['tf-idf']     = rank(-group['tf-idf'].values)\n",
    "    group['bm25']       = rank(-group['bm25'].values)\n",
    "    group['len']        = rank(-group['len'].values)\n",
    "    group['centrality'] = rank(-group['centrality'].values)\n",
    "    \n",
    "    keywords[name] = score(name, group)\n",
    "    \n",
    "print(keywords)"
   ]
  },
  {
   "cell_type": "code",
   "execution_count": null,
   "metadata": {},
   "outputs": [],
   "source": []
  },
  {
   "cell_type": "code",
   "execution_count": null,
   "metadata": {},
   "outputs": [],
   "source": []
  },
  {
   "cell_type": "markdown",
   "metadata": {},
   "source": [
    "## Generate the HTML"
   ]
  },
  {
   "cell_type": "code",
   "execution_count": 19,
   "metadata": {},
   "outputs": [
    {
     "data": {
      "text/html": [
       "<div>\n",
       "<style scoped>\n",
       "    .dataframe tbody tr th:only-of-type {\n",
       "        vertical-align: middle;\n",
       "    }\n",
       "\n",
       "    .dataframe tbody tr th {\n",
       "        vertical-align: top;\n",
       "    }\n",
       "\n",
       "    .dataframe thead th {\n",
       "        text-align: right;\n",
       "    }\n",
       "</style>\n",
       "<table border=\"1\" class=\"dataframe\">\n",
       "  <thead>\n",
       "    <tr style=\"text-align: right;\">\n",
       "      <th></th>\n",
       "      <th>title</th>\n",
       "      <th>link</th>\n",
       "      <th>description</th>\n",
       "      <th>image</th>\n",
       "      <th>keywords</th>\n",
       "    </tr>\n",
       "  </thead>\n",
       "  <tbody>\n",
       "    <tr>\n",
       "      <th>0</th>\n",
       "      <td>Visions of Sugar Rum Cherries Tap Dance in Her Head</td>\n",
       "      <td>https://www.nytimes.com/2019/12/16/arts/dance/michelle-dorrance-duke-ellington-nutcracker-at-joyce.html?emc=rss&amp;partner=rss</td>\n",
       "      <td>Michelle Dorrance makes a tap “Nutcracker” to Duke Ellington’s swinging riffs on Tchaikovsky’s classic score.</td>\n",
       "      <td>https://static01.nyt.com/images/2019/12/22/arts/22TAP-NUTCRACKER-M/22TAP-NUTCRACKER-M-moth.jpg</td>\n",
       "      <td>[swinge riff tchaikovsky, ellington swinge riff, nutcracker duke ellington, duke ellington swinge, michelle]</td>\n",
       "    </tr>\n",
       "    <tr>\n",
       "      <th>1</th>\n",
       "      <td>‘Cunningham’ Review: Exploring Space, Time and Dance in 3-D</td>\n",
       "      <td>https://www.nytimes.com/2019/12/11/movies/cunningham-documentary-review.html?emc=rss&amp;partner=rss</td>\n",
       "      <td>Alla Kovgan’s documentary about  Merce Cunningham shows aspects of his choreography that can be difficult to convey on conventional film.</td>\n",
       "      <td>None</td>\n",
       "      <td>[choreography difficult convey, aspect choreography difficult, documentary merce cunningham, alla, kovgan documentary merce]</td>\n",
       "    </tr>\n",
       "  </tbody>\n",
       "</table>\n",
       "</div>"
      ],
      "text/plain": [
       "                                                         title                                                                                                                         link                                                                                                                                description                                                                                           image                                                                                                                      keywords\n",
       "0          Visions of Sugar Rum Cherries Tap Dance in Her Head  https://www.nytimes.com/2019/12/16/arts/dance/michelle-dorrance-duke-ellington-nutcracker-at-joyce.html?emc=rss&partner=rss                              Michelle Dorrance makes a tap “Nutcracker” to Duke Ellington’s swinging riffs on Tchaikovsky’s classic score.  https://static01.nyt.com/images/2019/12/22/arts/22TAP-NUTCRACKER-M/22TAP-NUTCRACKER-M-moth.jpg                  [swinge riff tchaikovsky, ellington swinge riff, nutcracker duke ellington, duke ellington swinge, michelle]\n",
       "1  ‘Cunningham’ Review: Exploring Space, Time and Dance in 3-D                             https://www.nytimes.com/2019/12/11/movies/cunningham-documentary-review.html?emc=rss&partner=rss  Alla Kovgan’s documentary about  Merce Cunningham shows aspects of his choreography that can be difficult to convey on conventional film.                                                                                            None  [choreography difficult convey, aspect choreography difficult, documentary merce cunningham, alla, kovgan documentary merce]"
      ]
     },
     "execution_count": 19,
     "metadata": {},
     "output_type": "execute_result"
    }
   ],
   "source": [
    "data = pd.DataFrame(items)\n",
    "data['keywords'] = [keywords[row['title']] for i, row in data.iterrows()]\n",
    "data.head(2)"
   ]
  },
  {
   "cell_type": "code",
   "execution_count": 20,
   "metadata": {},
   "outputs": [],
   "source": [
    "html = \"\"\"\n",
    "<style>\n",
    "    body {\n",
    "        margin-left: auto;\n",
    "        margin-right: auto;\n",
    "        text-align: center;\n",
    "        display: inline-block;\n",
    "    }\n",
    "    .card {\n",
    "        padding: 20px;\n",
    "        margin: 0 auto;\n",
    "    }\n",
    "    .center {\n",
    "        display: block;\n",
    "        margin-left: auto;\n",
    "        margin-right: auto;\n",
    "        text-align:center;\n",
    "    }\n",
    "</style>\n",
    "<html>\n",
    "<body>\n",
    "    <table>\n",
    "        \"\"\"\n",
    "\n",
    "for i, row in data.iterrows():\n",
    "    if i % 5 == 0:  html += '\\n<tr>\\n'\n",
    "    \n",
    "    title = row['title']\n",
    "    url = row['link']\n",
    "    image = row['image']\n",
    "    html += f'''\n",
    "    <td class=\"card\">\n",
    "        <br/><br/>\n",
    "        <p>{title}</p>\n",
    "        <img src=\"{image}\" class=\"center\" />\n",
    "        <a href=\"{url}\" class=\"center\" target=\"_blank\">Read Full article</a>\n",
    "        <ul style=\"list-style-type:disc;\">\n",
    "    '''\n",
    "    \n",
    "    for key in row['keywords']:\n",
    "        html += f'<li>{key}</li>'\n",
    "    html += '''\n",
    "        </ul>\n",
    "    </td>\n",
    "    '''\n",
    "    \n",
    "    if i % 5 == 4:  html += '\\n</tr>\\n'\n",
    "\n",
    "\n",
    "html += \"\"\"\n",
    "    </table>\n",
    "</body>\n",
    "</html>\n",
    "\"\"\"\n",
    "with open('keywords.html', 'w') as f:\n",
    "    f.write(html)"
   ]
  },
  {
   "cell_type": "code",
   "execution_count": null,
   "metadata": {},
   "outputs": [],
   "source": []
  }
 ],
 "metadata": {
  "kernelspec": {
   "display_name": "Python 3",
   "language": "python",
   "name": "python3"
  },
  "language_info": {
   "codemirror_mode": {
    "name": "ipython",
    "version": 3
   },
   "file_extension": ".py",
   "mimetype": "text/x-python",
   "name": "python",
   "nbconvert_exporter": "python",
   "pygments_lexer": "ipython3",
   "version": "3.7.5"
  }
 },
 "nbformat": 4,
 "nbformat_minor": 2
}
