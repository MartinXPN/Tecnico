{
 "cells": [
  {
   "cell_type": "code",
   "execution_count": 1,
   "metadata": {},
   "outputs": [],
   "source": [
    "import re\n",
    "import operator\n",
    "import json\n",
    "import itertools\n",
    "import spacy\n",
    "import networkx as nx\n",
    "import numpy as np\n",
    "from nltk import everygrams\n",
    "import pandas as pd\n",
    "from glob import glob\n",
    "from nltk import ngrams\n",
    "from sklearn.feature_extraction.text import TfidfVectorizer\n",
    "from xml.etree import ElementTree\n",
    "from collections import Counter\n",
    "from math import log\n",
    "\n",
    "from tqdm import tqdm_notebook as tqdm\n",
    "\n",
    "pd.set_option('display.max_rows', 500)\n",
    "pd.set_option('display.max_columns', 500)\n",
    "pd.set_option('display.width', 1000)\n",
    "pd.set_option('display.max_colwidth', 500)"
   ]
  },
  {
   "cell_type": "code",
   "execution_count": 2,
   "metadata": {},
   "outputs": [],
   "source": [
    "from nltk.stem.snowball import SnowballStemmer\n",
    "sno = SnowballStemmer('english')\n",
    "nlp = spacy.load('en_core_web_sm')"
   ]
  },
  {
   "cell_type": "code",
   "execution_count": 3,
   "metadata": {},
   "outputs": [
    {
     "data": {
      "application/vnd.jupyter.widget-view+json": {
       "model_id": "bb72836762674f68a8b91705a0a68ed3",
       "version_major": 2,
       "version_minor": 0
      },
      "text/plain": [
       "HBox(children=(IntProgress(value=0, max=1000), HTML(value='')))"
      ]
     },
     "metadata": {},
     "output_type": "display_data"
    },
    {
     "name": "stdout",
     "output_type": "stream",
     "text": [
      "\n"
     ]
    },
    {
     "data": {
      "application/vnd.jupyter.widget-view+json": {
       "model_id": "44e3a8574a144f238772162bca170c0b",
       "version_major": 2,
       "version_minor": 0
      },
      "text/plain": [
       "HBox(children=(IntProgress(value=0, max=500), HTML(value='')))"
      ]
     },
     "metadata": {},
     "output_type": "display_data"
    },
    {
     "name": "stdout",
     "output_type": "stream",
     "text": [
      "\n"
     ]
    },
    {
     "data": {
      "text/plain": [
       "(1000, 500)"
      ]
     },
     "execution_count": 3,
     "metadata": {},
     "output_type": "execute_result"
    }
   ],
   "source": [
    "def read(directory):\n",
    "    docs = {}\n",
    "    for doc_path in tqdm(glob(f'{directory}/*.xml')):\n",
    "        doc = ElementTree.parse(doc_path)\n",
    "        sentences = []\n",
    "        for sentence in doc.find('document').find('sentences').findall('sentence'):\n",
    "            sentences.append(' '.join([token.find('lemma').text.lower() + '~' + token.find('POS').text\n",
    "                                       for token in sentence.find('tokens').findall('token')]))\n",
    "\n",
    "        docs[doc_path.split('/')[-1].split('.')[0]] = '\\n'.join(sentences)\n",
    "    return docs\n",
    "\n",
    "\n",
    "train_docs = read('../Project1/ake-datasets/datasets/Inspec/train')\n",
    "test_docs = read('../Project1/ake-datasets/datasets/Inspec/test')\n",
    "len(train_docs), len(test_docs)"
   ]
  },
  {
   "cell_type": "code",
   "execution_count": 4,
   "metadata": {},
   "outputs": [],
   "source": [
    "pattern = re.compile(r'(((\\w+~JJ)* (\\w+~NN)+ (\\w+~IN))?(\\w+~JJ)+ (\\w+~NN)+)+')"
   ]
  },
  {
   "cell_type": "code",
   "execution_count": 5,
   "metadata": {},
   "outputs": [],
   "source": [
    "train_candidates = {doc_id: [candidate[0] for candidate in re.findall(pattern, doc)] for doc_id, doc in train_docs.items()}\n",
    "train_candidates = {doc_id: [' '.join([w.split('~')[0] for w in candidate.split()]) for candidate in candidates] for doc_id, candidates in train_candidates.items()}\n",
    "train_docs = {doc_id: ' '.join([w.split('~')[0] for w in sentences.split()]) for doc_id, sentences in train_docs.items()}\n",
    "train_frequencies = {doc_id: Counter(\n",
    "                                [' '.join(gram) for gram in ngrams(doc.split(), 1)] + \\\n",
    "                                [' '.join(gram) for gram in ngrams(doc.split(), 2)] + \\\n",
    "                                [' '.join(gram) for gram in ngrams(doc.split(), 3)])\n",
    "                    for doc_id, doc in train_docs.items()}\n",
    "\n",
    "test_candidates = {doc_id: [candidate[0] for candidate in re.findall(pattern, doc)] for doc_id, doc in test_docs.items()}\n",
    "test_candidates = {doc_id: [' '.join([w.split('~')[0] for w in candidate.split()]) for candidate in candidates] for doc_id, candidates in test_candidates.items()}\n",
    "test_docs = {doc_id: ' '.join([w.split('~')[0] for w in sentences.split()]) for doc_id, sentences in test_docs.items()}\n",
    "test_frequencies = {doc_id: Counter(\n",
    "                                [' '.join(gram) for gram in ngrams(doc.split(), 1)] + \\\n",
    "                                [' '.join(gram) for gram in ngrams(doc.split(), 2)] + \\\n",
    "                                [' '.join(gram) for gram in ngrams(doc.split(), 3)])\n",
    "                    for doc_id, doc in test_docs.items()}"
   ]
  },
  {
   "cell_type": "code",
   "execution_count": 6,
   "metadata": {},
   "outputs": [
    {
     "data": {
      "text/plain": [
       "['out-of-print materials',\n",
       " 'recurring issues',\n",
       " 'changing practices',\n",
       " 'out-of-print books',\n",
       " 'library materials',\n",
       " 'acquisition']"
      ]
     },
     "execution_count": 6,
     "metadata": {},
     "output_type": "execute_result"
    }
   ],
   "source": [
    "with open('../Project1/ake-datasets/datasets/Inspec/references/test.uncontr.json', 'r') as f:\n",
    "    target = json.load(f)\n",
    "    target = {doc_name: [k[0] for k in keyphrases] for doc_name, keyphrases in target.items()}\n",
    "target['193']"
   ]
  },
  {
   "cell_type": "code",
   "execution_count": 7,
   "metadata": {},
   "outputs": [],
   "source": [
    "def tf(d, t, frequencies):\n",
    "    return 1. * frequencies[d][t] / frequencies[d].most_common(1)[0][1]\n",
    "\n",
    "def idf(t, frequencies):\n",
    "    N = 1. * len(frequencies)\n",
    "    nt = sum(1 for doc in frequencies.values() if t in doc)\n",
    "    return log(N / nt) if N != 0 and nt != 0 else 0\n",
    "\n",
    "dls = {}\n",
    "def bm25(t, d, frequencies, background_frequencies, k1=1.2, b=0.75):\n",
    "    \"\"\"\n",
    "    :param t: term\n",
    "    :param d: document-id in test dataset\n",
    "    \n",
    "    ftd = f(t, d): term frequency\n",
    "    avgdl = mean([len(doc) for doc in train])\n",
    "    N = len(train)\n",
    "    nt = n(t) = sum(1 for doc in train if t in doc)\n",
    "    \"\"\"\n",
    "    N = len(background_frequencies)\n",
    "    nt = sum(1 for doc in background_frequencies.values() if t in doc)\n",
    "    # Dangerous but works for our train/test split\n",
    "    if len(background_frequencies) not in dls:\n",
    "        dls[len(background_frequencies)] = np.mean([sum(freq.values()) for freq in background_frequencies.values()])\n",
    "    avgdl = dls[len(background_frequencies)]\n",
    "    \n",
    "    ftd = 1. * frequencies[d][t] / frequencies[d].most_common(1)[0][1]\n",
    "    ld = sum(frequencies[d].values())\n",
    "    \n",
    "    tf = (ftd * (k1 + 1)) / (ftd + k1 * (1 - b + b * ld / avgdl))\n",
    "    idf = log((N - nt + 0.5) / (nt + 0.5))\n",
    "    return tf * idf"
   ]
  },
  {
   "cell_type": "code",
   "execution_count": 8,
   "metadata": {},
   "outputs": [
    {
     "data": {
      "text/plain": [
       "(0.8, 1.9105430052180221, 1.8559195292811537)"
      ]
     },
     "execution_count": 8,
     "metadata": {},
     "output_type": "execute_result"
    }
   ],
   "source": [
    "tf(t='datum', d='1390', frequencies=train_frequencies), \\\n",
    "idf(t='datum', frequencies=train_frequencies), \\\n",
    "bm25(t='datum', d='1390', frequencies=train_frequencies, background_frequencies=train_frequencies)"
   ]
  },
  {
   "cell_type": "code",
   "execution_count": 9,
   "metadata": {},
   "outputs": [
    {
     "name": "stdout",
     "output_type": "stream",
     "text": [
      "(161326, 1)\n",
      "(10540, 1)\n"
     ]
    },
    {
     "data": {
      "text/html": [
       "<div>\n",
       "<style scoped>\n",
       "    .dataframe tbody tr th:only-of-type {\n",
       "        vertical-align: middle;\n",
       "    }\n",
       "\n",
       "    .dataframe tbody tr th {\n",
       "        vertical-align: top;\n",
       "    }\n",
       "\n",
       "    .dataframe thead th {\n",
       "        text-align: right;\n",
       "    }\n",
       "</style>\n",
       "<table border=\"1\" class=\"dataframe\">\n",
       "  <thead>\n",
       "    <tr style=\"text-align: right;\">\n",
       "      <th></th>\n",
       "      <th>token</th>\n",
       "    </tr>\n",
       "    <tr>\n",
       "      <th>id</th>\n",
       "      <th></th>\n",
       "    </tr>\n",
       "  </thead>\n",
       "  <tbody>\n",
       "    <tr>\n",
       "      <th>1390:0</th>\n",
       "      <td>many organisation</td>\n",
       "    </tr>\n",
       "    <tr>\n",
       "      <th>1390:1</th>\n",
       "      <td>valuable asset</td>\n",
       "    </tr>\n",
       "    <tr>\n",
       "      <th>1390:2</th>\n",
       "      <td>wide datum</td>\n",
       "    </tr>\n",
       "  </tbody>\n",
       "</table>\n",
       "</div>"
      ],
      "text/plain": [
       "                    token\n",
       "id                       \n",
       "1390:0  many organisation\n",
       "1390:1     valuable asset\n",
       "1390:2         wide datum"
      ]
     },
     "execution_count": 9,
     "metadata": {},
     "output_type": "execute_result"
    }
   ],
   "source": [
    "train_data = pd.DataFrame([\n",
    "    {'id': doc_id + ':' + str(i), 'token': candidate} \n",
    "    for doc_id, candidates in train_candidates.items()\n",
    "        for i, candidate in enumerate(candidates)\n",
    "])\n",
    "train_data.set_index('id', inplace=True)\n",
    "\n",
    "\n",
    "test_data = pd.DataFrame([\n",
    "    {'id': doc_id + ':' + str(i), 'token': candidate} \n",
    "    for doc_id, candidates in test_frequencies.items()\n",
    "        for i, candidate in enumerate(candidates)\n",
    "])\n",
    "test_data.set_index('id', inplace=True)\n",
    "\n",
    "\n",
    "print(test_data.shape)\n",
    "print(train_data.shape)\n",
    "train_data.head(3)"
   ]
  },
  {
   "cell_type": "code",
   "execution_count": 10,
   "metadata": {},
   "outputs": [
    {
     "data": {
      "application/vnd.jupyter.widget-view+json": {
       "model_id": "e8f78c50a7d44beab4af376c2bfec782",
       "version_major": 2,
       "version_minor": 0
      },
      "text/plain": [
       "HBox(children=(IntProgress(value=0, max=10540), HTML(value='')))"
      ]
     },
     "metadata": {},
     "output_type": "display_data"
    },
    {
     "name": "stdout",
     "output_type": "stream",
     "text": [
      "\n"
     ]
    },
    {
     "data": {
      "application/vnd.jupyter.widget-view+json": {
       "model_id": "28715e83564f4619b1f1a054afd82e8d",
       "version_major": 2,
       "version_minor": 0
      },
      "text/plain": [
       "HBox(children=(IntProgress(value=0, max=10540), HTML(value='')))"
      ]
     },
     "metadata": {},
     "output_type": "display_data"
    },
    {
     "name": "stdout",
     "output_type": "stream",
     "text": [
      "\n"
     ]
    },
    {
     "data": {
      "application/vnd.jupyter.widget-view+json": {
       "model_id": "98f6910e72284469b18b8f5cf90cf407",
       "version_major": 2,
       "version_minor": 0
      },
      "text/plain": [
       "HBox(children=(IntProgress(value=0, max=10540), HTML(value='')))"
      ]
     },
     "metadata": {},
     "output_type": "display_data"
    },
    {
     "name": "stdout",
     "output_type": "stream",
     "text": [
      "\n"
     ]
    },
    {
     "data": {
      "application/vnd.jupyter.widget-view+json": {
       "model_id": "dad1217bc19147589cc3690729ffa426",
       "version_major": 2,
       "version_minor": 0
      },
      "text/plain": [
       "HBox(children=(IntProgress(value=0, max=10540), HTML(value='')))"
      ]
     },
     "metadata": {},
     "output_type": "display_data"
    },
    {
     "name": "stdout",
     "output_type": "stream",
     "text": [
      "\n"
     ]
    },
    {
     "data": {
      "text/html": [
       "<div>\n",
       "<style scoped>\n",
       "    .dataframe tbody tr th:only-of-type {\n",
       "        vertical-align: middle;\n",
       "    }\n",
       "\n",
       "    .dataframe tbody tr th {\n",
       "        vertical-align: top;\n",
       "    }\n",
       "\n",
       "    .dataframe thead th {\n",
       "        text-align: right;\n",
       "    }\n",
       "</style>\n",
       "<table border=\"1\" class=\"dataframe\">\n",
       "  <thead>\n",
       "    <tr style=\"text-align: right;\">\n",
       "      <th></th>\n",
       "      <th>token</th>\n",
       "      <th>tf</th>\n",
       "      <th>idf</th>\n",
       "      <th>tf-idf</th>\n",
       "      <th>bm25</th>\n",
       "      <th>len</th>\n",
       "    </tr>\n",
       "    <tr>\n",
       "      <th>id</th>\n",
       "      <th></th>\n",
       "      <th></th>\n",
       "      <th></th>\n",
       "      <th></th>\n",
       "      <th></th>\n",
       "      <th></th>\n",
       "    </tr>\n",
       "  </thead>\n",
       "  <tbody>\n",
       "    <tr>\n",
       "      <th>1390:0</th>\n",
       "      <td>many organisation</td>\n",
       "      <td>0.200000</td>\n",
       "      <td>6.907755</td>\n",
       "      <td>1.381551</td>\n",
       "      <td>2.705831</td>\n",
       "      <td>17</td>\n",
       "    </tr>\n",
       "    <tr>\n",
       "      <th>1390:1</th>\n",
       "      <td>valuable asset</td>\n",
       "      <td>0.200000</td>\n",
       "      <td>6.907755</td>\n",
       "      <td>1.381551</td>\n",
       "      <td>2.705831</td>\n",
       "      <td>14</td>\n",
       "    </tr>\n",
       "    <tr>\n",
       "      <th>1390:2</th>\n",
       "      <td>wide datum</td>\n",
       "      <td>0.000000</td>\n",
       "      <td>0.000000</td>\n",
       "      <td>0.000000</td>\n",
       "      <td>0.000000</td>\n",
       "      <td>10</td>\n",
       "    </tr>\n",
       "    <tr>\n",
       "      <th>604:0</th>\n",
       "      <td>geographic area</td>\n",
       "      <td>0.250000</td>\n",
       "      <td>6.907755</td>\n",
       "      <td>1.726939</td>\n",
       "      <td>2.181924</td>\n",
       "      <td>15</td>\n",
       "    </tr>\n",
       "    <tr>\n",
       "      <th>604:1</th>\n",
       "      <td>preventive inspection</td>\n",
       "      <td>0.083333</td>\n",
       "      <td>6.907755</td>\n",
       "      <td>0.575646</td>\n",
       "      <td>0.809643</td>\n",
       "      <td>21</td>\n",
       "    </tr>\n",
       "  </tbody>\n",
       "</table>\n",
       "</div>"
      ],
      "text/plain": [
       "                        token        tf       idf    tf-idf      bm25  len\n",
       "id                                                                        \n",
       "1390:0      many organisation  0.200000  6.907755  1.381551  2.705831   17\n",
       "1390:1         valuable asset  0.200000  6.907755  1.381551  2.705831   14\n",
       "1390:2             wide datum  0.000000  0.000000  0.000000  0.000000   10\n",
       "604:0         geographic area  0.250000  6.907755  1.726939  2.181924   15\n",
       "604:1   preventive inspection  0.083333  6.907755  0.575646  0.809643   21"
      ]
     },
     "execution_count": 10,
     "metadata": {},
     "output_type": "execute_result"
    }
   ],
   "source": [
    "train_data['tf'] = [tf(d=i.split(':')[0], t=row['token'], frequencies=train_frequencies) for i, row in tqdm(train_data.iterrows(), total=len(train_data))]\n",
    "train_data['idf'] = [idf(t=row['token'], frequencies=train_frequencies) for i, row in tqdm(train_data.iterrows(), total=len(train_data))]\n",
    "train_data['tf-idf'] = train_data['tf'] * train_data['idf']\n",
    "train_data['bm25'] = [bm25(t=row['token'], d=i.split(':')[0], frequencies=train_frequencies, background_frequencies=train_frequencies) for i, row in tqdm(train_data.iterrows(), total=len(train_data))]\n",
    "train_data['len'] = [len(row['token']) for i, row in tqdm(train_data.iterrows(), total=len(train_data))]\n",
    "train_data.head()"
   ]
  },
  {
   "cell_type": "code",
   "execution_count": 11,
   "metadata": {},
   "outputs": [
    {
     "data": {
      "application/vnd.jupyter.widget-view+json": {
       "model_id": "51374b490f004d39a6579fd369d12f03",
       "version_major": 2,
       "version_minor": 0
      },
      "text/plain": [
       "HBox(children=(IntProgress(value=0, max=161326), HTML(value='')))"
      ]
     },
     "metadata": {},
     "output_type": "display_data"
    },
    {
     "name": "stdout",
     "output_type": "stream",
     "text": [
      "\n"
     ]
    },
    {
     "data": {
      "application/vnd.jupyter.widget-view+json": {
       "model_id": "de00c17e384749b79b11a79427e6d2aa",
       "version_major": 2,
       "version_minor": 0
      },
      "text/plain": [
       "HBox(children=(IntProgress(value=0, max=161326), HTML(value='')))"
      ]
     },
     "metadata": {},
     "output_type": "display_data"
    },
    {
     "name": "stdout",
     "output_type": "stream",
     "text": [
      "\n"
     ]
    },
    {
     "data": {
      "application/vnd.jupyter.widget-view+json": {
       "model_id": "5df88b1c89ee46e88a81bbaee4857976",
       "version_major": 2,
       "version_minor": 0
      },
      "text/plain": [
       "HBox(children=(IntProgress(value=0, max=161326), HTML(value='')))"
      ]
     },
     "metadata": {},
     "output_type": "display_data"
    },
    {
     "name": "stdout",
     "output_type": "stream",
     "text": [
      "\n"
     ]
    },
    {
     "data": {
      "application/vnd.jupyter.widget-view+json": {
       "model_id": "6da22bd695f04c9892c9c7f4bf4494c4",
       "version_major": 2,
       "version_minor": 0
      },
      "text/plain": [
       "HBox(children=(IntProgress(value=0, max=161326), HTML(value='')))"
      ]
     },
     "metadata": {},
     "output_type": "display_data"
    },
    {
     "name": "stdout",
     "output_type": "stream",
     "text": [
      "\n"
     ]
    },
    {
     "data": {
      "text/html": [
       "<div>\n",
       "<style scoped>\n",
       "    .dataframe tbody tr th:only-of-type {\n",
       "        vertical-align: middle;\n",
       "    }\n",
       "\n",
       "    .dataframe tbody tr th {\n",
       "        vertical-align: top;\n",
       "    }\n",
       "\n",
       "    .dataframe thead th {\n",
       "        text-align: right;\n",
       "    }\n",
       "</style>\n",
       "<table border=\"1\" class=\"dataframe\">\n",
       "  <thead>\n",
       "    <tr style=\"text-align: right;\">\n",
       "      <th></th>\n",
       "      <th>token</th>\n",
       "      <th>tf</th>\n",
       "      <th>idf</th>\n",
       "      <th>tf-idf</th>\n",
       "      <th>bm25</th>\n",
       "      <th>len</th>\n",
       "    </tr>\n",
       "    <tr>\n",
       "      <th>id</th>\n",
       "      <th></th>\n",
       "      <th></th>\n",
       "      <th></th>\n",
       "      <th></th>\n",
       "      <th></th>\n",
       "      <th></th>\n",
       "    </tr>\n",
       "  </thead>\n",
       "  <tbody>\n",
       "    <tr>\n",
       "      <th>2128:0</th>\n",
       "      <td>a</td>\n",
       "      <td>1.000000</td>\n",
       "      <td>0.070422</td>\n",
       "      <td>0.070422</td>\n",
       "      <td>-3.176262</td>\n",
       "      <td>1</td>\n",
       "    </tr>\n",
       "    <tr>\n",
       "      <th>2128:1</th>\n",
       "      <td>optimal</td>\n",
       "      <td>0.166667</td>\n",
       "      <td>2.847312</td>\n",
       "      <td>0.474552</td>\n",
       "      <td>1.273193</td>\n",
       "      <td>7</td>\n",
       "    </tr>\n",
       "    <tr>\n",
       "      <th>2128:2</th>\n",
       "      <td>control</td>\n",
       "      <td>0.333333</td>\n",
       "      <td>2.024953</td>\n",
       "      <td>0.674984</td>\n",
       "      <td>1.096980</td>\n",
       "      <td>7</td>\n",
       "    </tr>\n",
       "    <tr>\n",
       "      <th>2128:3</th>\n",
       "      <td>algorithm</td>\n",
       "      <td>0.333333</td>\n",
       "      <td>1.883875</td>\n",
       "      <td>0.627958</td>\n",
       "      <td>1.162560</td>\n",
       "      <td>9</td>\n",
       "    </tr>\n",
       "    <tr>\n",
       "      <th>2128:4</th>\n",
       "      <td>base</td>\n",
       "      <td>0.166667</td>\n",
       "      <td>1.487220</td>\n",
       "      <td>0.247870</td>\n",
       "      <td>0.526747</td>\n",
       "      <td>4</td>\n",
       "    </tr>\n",
       "  </tbody>\n",
       "</table>\n",
       "</div>"
      ],
      "text/plain": [
       "            token        tf       idf    tf-idf      bm25  len\n",
       "id                                                            \n",
       "2128:0          a  1.000000  0.070422  0.070422 -3.176262    1\n",
       "2128:1    optimal  0.166667  2.847312  0.474552  1.273193    7\n",
       "2128:2    control  0.333333  2.024953  0.674984  1.096980    7\n",
       "2128:3  algorithm  0.333333  1.883875  0.627958  1.162560    9\n",
       "2128:4       base  0.166667  1.487220  0.247870  0.526747    4"
      ]
     },
     "execution_count": 11,
     "metadata": {},
     "output_type": "execute_result"
    }
   ],
   "source": [
    "test_data['tf'] = [tf(d=i.split(':')[0], t=row['token'], frequencies=test_frequencies) for i, row in tqdm(test_data.iterrows(), total=len(test_data))]\n",
    "test_data['idf'] = [idf(t=row['token'], frequencies=test_frequencies) for i, row in tqdm(test_data.iterrows(), total=len(test_data))]\n",
    "test_data['tf-idf'] = test_data['tf'] * test_data['idf']\n",
    "test_data['bm25'] = [bm25(t=row['token'], d=i.split(':')[0], frequencies=test_frequencies, background_frequencies=train_frequencies) for i, row in tqdm(test_data.iterrows(), total=len(test_data))]\n",
    "test_data['len'] = [len(row['token']) for i, row in tqdm(test_data.iterrows(), total=len(test_data))]\n",
    "test_data.head()"
   ]
  },
  {
   "cell_type": "code",
   "execution_count": null,
   "metadata": {},
   "outputs": [],
   "source": []
  },
  {
   "cell_type": "markdown",
   "metadata": {},
   "source": [
    "## Add graph centrality score for each candidate"
   ]
  },
  {
   "cell_type": "code",
   "execution_count": 12,
   "metadata": {},
   "outputs": [
    {
     "name": "stderr",
     "output_type": "stream",
     "text": [
      "\n"
     ]
    }
   ],
   "source": [
    "from sklearn.metrics.pairwise import cosine_similarity\n",
    "from fasttext import load_model\n",
    "model = load_model('./cc.en.300.bin')"
   ]
  },
  {
   "cell_type": "code",
   "execution_count": 13,
   "metadata": {},
   "outputs": [],
   "source": [
    "def get_ranks(doc_id, doc, get_weight, get_personalization=None, weight='weight'):\n",
    "    G = nx.Graph(name=doc_id)\n",
    "    doc = nlp(doc)\n",
    "    \n",
    "    for sentence in doc.sents:\n",
    "        tokens = [str(t) for t in sentence if t.is_alpha and not t.is_stop]\n",
    "        grams = everygrams(tokens, min_len=1, max_len=3)\n",
    "        grams = [' '.join(g) for g in grams]\n",
    "        G.add_nodes_from(grams)\n",
    "        \n",
    "        edges = list(itertools.combinations(grams, 2))\n",
    "        weighted_edges = [(v1, v2, get_weight(v1, v2)) for v1, v2 in edges]\n",
    "        G.add_weighted_edges_from(weighted_edges)\n",
    "    \n",
    "    personalization = {node: get_personalization(node) for node in G.nodes} if get_personalization else None\n",
    "    rank = nx.pagerank(G, alpha=1-0.15, max_iter=50, weight=weight, personalization=personalization)\n",
    "    return rank"
   ]
  },
  {
   "cell_type": "code",
   "execution_count": 14,
   "metadata": {},
   "outputs": [],
   "source": [
    "def weight(w1, w2):\n",
    "    v1 = model.get_sentence_vector(w1)\n",
    "    v2 = model.get_sentence_vector(w2)\n",
    "    return cosine_similarity([v1], [v2])[0]"
   ]
  },
  {
   "cell_type": "code",
   "execution_count": 15,
   "metadata": {},
   "outputs": [
    {
     "data": {
      "application/vnd.jupyter.widget-view+json": {
       "model_id": "34bf2865e2114fabb5e1e178df08302d",
       "version_major": 2,
       "version_minor": 0
      },
      "text/plain": [
       "HBox(children=(IntProgress(value=0, max=161326), HTML(value='')))"
      ]
     },
     "metadata": {},
     "output_type": "display_data"
    },
    {
     "name": "stdout",
     "output_type": "stream",
     "text": [
      "\n"
     ]
    },
    {
     "data": {
      "text/html": [
       "<div>\n",
       "<style scoped>\n",
       "    .dataframe tbody tr th:only-of-type {\n",
       "        vertical-align: middle;\n",
       "    }\n",
       "\n",
       "    .dataframe tbody tr th {\n",
       "        vertical-align: top;\n",
       "    }\n",
       "\n",
       "    .dataframe thead th {\n",
       "        text-align: right;\n",
       "    }\n",
       "</style>\n",
       "<table border=\"1\" class=\"dataframe\">\n",
       "  <thead>\n",
       "    <tr style=\"text-align: right;\">\n",
       "      <th></th>\n",
       "      <th>token</th>\n",
       "      <th>tf</th>\n",
       "      <th>idf</th>\n",
       "      <th>tf-idf</th>\n",
       "      <th>bm25</th>\n",
       "      <th>len</th>\n",
       "      <th>centrality</th>\n",
       "    </tr>\n",
       "    <tr>\n",
       "      <th>id</th>\n",
       "      <th></th>\n",
       "      <th></th>\n",
       "      <th></th>\n",
       "      <th></th>\n",
       "      <th></th>\n",
       "      <th></th>\n",
       "      <th></th>\n",
       "    </tr>\n",
       "  </thead>\n",
       "  <tbody>\n",
       "    <tr>\n",
       "      <th>2128:0</th>\n",
       "      <td>a</td>\n",
       "      <td>1.000000</td>\n",
       "      <td>0.070422</td>\n",
       "      <td>0.070422</td>\n",
       "      <td>-3.176262</td>\n",
       "      <td>1</td>\n",
       "      <td>NaN</td>\n",
       "    </tr>\n",
       "    <tr>\n",
       "      <th>2128:1</th>\n",
       "      <td>optimal</td>\n",
       "      <td>0.166667</td>\n",
       "      <td>2.847312</td>\n",
       "      <td>0.474552</td>\n",
       "      <td>1.273193</td>\n",
       "      <td>7</td>\n",
       "      <td>0.018735</td>\n",
       "    </tr>\n",
       "    <tr>\n",
       "      <th>2128:2</th>\n",
       "      <td>control</td>\n",
       "      <td>0.333333</td>\n",
       "      <td>2.024953</td>\n",
       "      <td>0.674984</td>\n",
       "      <td>1.096980</td>\n",
       "      <td>7</td>\n",
       "      <td>0.012428</td>\n",
       "    </tr>\n",
       "    <tr>\n",
       "      <th>2128:3</th>\n",
       "      <td>algorithm</td>\n",
       "      <td>0.333333</td>\n",
       "      <td>1.883875</td>\n",
       "      <td>0.627958</td>\n",
       "      <td>1.162560</td>\n",
       "      <td>9</td>\n",
       "      <td>0.017170</td>\n",
       "    </tr>\n",
       "    <tr>\n",
       "      <th>2128:4</th>\n",
       "      <td>base</td>\n",
       "      <td>0.166667</td>\n",
       "      <td>1.487220</td>\n",
       "      <td>0.247870</td>\n",
       "      <td>0.526747</td>\n",
       "      <td>4</td>\n",
       "      <td>0.009201</td>\n",
       "    </tr>\n",
       "  </tbody>\n",
       "</table>\n",
       "</div>"
      ],
      "text/plain": [
       "            token        tf       idf    tf-idf      bm25  len  centrality\n",
       "id                                                                        \n",
       "2128:0          a  1.000000  0.070422  0.070422 -3.176262    1         NaN\n",
       "2128:1    optimal  0.166667  2.847312  0.474552  1.273193    7    0.018735\n",
       "2128:2    control  0.333333  2.024953  0.674984  1.096980    7    0.012428\n",
       "2128:3  algorithm  0.333333  1.883875  0.627958  1.162560    9    0.017170\n",
       "2128:4       base  0.166667  1.487220  0.247870  0.526747    4    0.009201"
      ]
     },
     "execution_count": 15,
     "metadata": {},
     "output_type": "execute_result"
    }
   ],
   "source": [
    "cur_doc_id = -1\n",
    "centralities = []\n",
    "doc = None\n",
    "for i, row in tqdm(test_data.iterrows(), total=len(test_data)):\n",
    "    doc_id = i.split(':')[0]\n",
    "    if cur_doc_id != doc_id:\n",
    "        cur_doc_id = doc_id\n",
    "        doc = test_docs[doc_id]\n",
    "        d = nlp(doc)\n",
    "        d = ' '.join([str(t) for t in d if t.is_alpha and not t.is_stop])\n",
    "        doc_ranks = get_ranks(doc_id, doc, get_weight=weight, \n",
    "                              get_personalization=lambda x: 1 / (1 + log(1 + d.find(x))))\n",
    "\n",
    "    token = row['token']\n",
    "    if token not in doc_ranks: # To remove stop words and non alphanumeric tokens later on\n",
    "        centralities.append(None)\n",
    "    else:\n",
    "        try:\n",
    "            centralities.append(doc_ranks[token][0])\n",
    "        except:\n",
    "            centralities.append(doc_ranks[token])\n",
    "\n",
    "test_data['centrality'] = centralities\n",
    "test_data.head()"
   ]
  },
  {
   "cell_type": "code",
   "execution_count": 16,
   "metadata": {},
   "outputs": [
    {
     "data": {
      "text/html": [
       "<div>\n",
       "<style scoped>\n",
       "    .dataframe tbody tr th:only-of-type {\n",
       "        vertical-align: middle;\n",
       "    }\n",
       "\n",
       "    .dataframe tbody tr th {\n",
       "        vertical-align: top;\n",
       "    }\n",
       "\n",
       "    .dataframe thead th {\n",
       "        text-align: right;\n",
       "    }\n",
       "</style>\n",
       "<table border=\"1\" class=\"dataframe\">\n",
       "  <thead>\n",
       "    <tr style=\"text-align: right;\">\n",
       "      <th></th>\n",
       "      <th>token</th>\n",
       "      <th>tf</th>\n",
       "      <th>idf</th>\n",
       "      <th>tf-idf</th>\n",
       "      <th>bm25</th>\n",
       "      <th>len</th>\n",
       "      <th>centrality</th>\n",
       "    </tr>\n",
       "    <tr>\n",
       "      <th>id</th>\n",
       "      <th></th>\n",
       "      <th></th>\n",
       "      <th></th>\n",
       "      <th></th>\n",
       "      <th></th>\n",
       "      <th></th>\n",
       "      <th></th>\n",
       "    </tr>\n",
       "  </thead>\n",
       "  <tbody>\n",
       "    <tr>\n",
       "      <th>2128:1</th>\n",
       "      <td>optimal</td>\n",
       "      <td>0.166667</td>\n",
       "      <td>2.847312</td>\n",
       "      <td>0.474552</td>\n",
       "      <td>1.273193</td>\n",
       "      <td>7</td>\n",
       "      <td>0.018735</td>\n",
       "    </tr>\n",
       "    <tr>\n",
       "      <th>2128:2</th>\n",
       "      <td>control</td>\n",
       "      <td>0.333333</td>\n",
       "      <td>2.024953</td>\n",
       "      <td>0.674984</td>\n",
       "      <td>1.096980</td>\n",
       "      <td>7</td>\n",
       "      <td>0.012428</td>\n",
       "    </tr>\n",
       "    <tr>\n",
       "      <th>2128:3</th>\n",
       "      <td>algorithm</td>\n",
       "      <td>0.333333</td>\n",
       "      <td>1.883875</td>\n",
       "      <td>0.627958</td>\n",
       "      <td>1.162560</td>\n",
       "      <td>9</td>\n",
       "      <td>0.017170</td>\n",
       "    </tr>\n",
       "    <tr>\n",
       "      <th>2128:4</th>\n",
       "      <td>base</td>\n",
       "      <td>0.166667</td>\n",
       "      <td>1.487220</td>\n",
       "      <td>0.247870</td>\n",
       "      <td>0.526747</td>\n",
       "      <td>4</td>\n",
       "      <td>0.009201</td>\n",
       "    </tr>\n",
       "    <tr>\n",
       "      <th>2128:6</th>\n",
       "      <td>reachability</td>\n",
       "      <td>0.333333</td>\n",
       "      <td>5.521461</td>\n",
       "      <td>1.840487</td>\n",
       "      <td>3.843042</td>\n",
       "      <td>12</td>\n",
       "      <td>0.014872</td>\n",
       "    </tr>\n",
       "  </tbody>\n",
       "</table>\n",
       "</div>"
      ],
      "text/plain": [
       "               token        tf       idf    tf-idf      bm25  len  centrality\n",
       "id                                                                           \n",
       "2128:1       optimal  0.166667  2.847312  0.474552  1.273193    7    0.018735\n",
       "2128:2       control  0.333333  2.024953  0.674984  1.096980    7    0.012428\n",
       "2128:3     algorithm  0.333333  1.883875  0.627958  1.162560    9    0.017170\n",
       "2128:4          base  0.166667  1.487220  0.247870  0.526747    4    0.009201\n",
       "2128:6  reachability  0.333333  5.521461  1.840487  3.843042   12    0.014872"
      ]
     },
     "execution_count": 16,
     "metadata": {},
     "output_type": "execute_result"
    }
   ],
   "source": [
    "test_data.dropna(inplace=True)\n",
    "test_data.head()"
   ]
  },
  {
   "cell_type": "code",
   "execution_count": 17,
   "metadata": {},
   "outputs": [],
   "source": [
    "def avg_precisoin(pred, targ):\n",
    "    pred = set([sno.stem(p) for p in pred])\n",
    "    targ = set([sno.stem(t) for t in targ])\n",
    "    res, nb_correct = 0, 0\n",
    "    for i, p in enumerate(pred):\n",
    "        if p in targ:\n",
    "            nb_correct += 1\n",
    "            res += nb_correct / (i + 1)\n",
    "    return res / len(targ)"
   ]
  },
  {
   "cell_type": "code",
   "execution_count": 18,
   "metadata": {
    "scrolled": true
   },
   "outputs": [
    {
     "data": {
      "text/plain": [
       "39095"
      ]
     },
     "execution_count": 18,
     "metadata": {},
     "output_type": "execute_result"
    }
   ],
   "source": [
    "len(test_data)"
   ]
  },
  {
   "cell_type": "code",
   "execution_count": 19,
   "metadata": {},
   "outputs": [],
   "source": [
    "test_data['doc_id'] = [i.split(':')[0] for i in test_data.index]"
   ]
  },
  {
   "cell_type": "code",
   "execution_count": 20,
   "metadata": {
    "scrolled": false
   },
   "outputs": [
    {
     "data": {
      "application/vnd.jupyter.widget-view+json": {
       "model_id": "7fb199a4a2e546fbaba975f52a3a94de",
       "version_major": 2,
       "version_minor": 0
      },
      "text/plain": [
       "HBox(children=(IntProgress(value=0, max=500), HTML(value='')))"
      ]
     },
     "metadata": {},
     "output_type": "display_data"
    },
    {
     "name": "stdout",
     "output_type": "stream",
     "text": [
      "\n",
      "0.07975969274338386\n"
     ]
    }
   ],
   "source": [
    "pd.options.mode.chained_assignment = None  # default='warn'\n",
    "test_doc_groups = test_data.copy()\n",
    "test_doc_groups.reset_index(inplace=True)\n",
    "del test_doc_groups['id']\n",
    "test_doc_groups = test_doc_groups.groupby('doc_id')\n",
    "\n",
    "\n",
    "def RRFScore(ranks):\n",
    "    return sum(1. / (50 + r) for r in ranks)\n",
    "\n",
    "\n",
    "def rank(arr):\n",
    "    order = arr.argsort()\n",
    "    ranks = order.argsort()\n",
    "    return ranks\n",
    "\n",
    "\n",
    "def score(doc_id, df):\n",
    "    ranking = {}\n",
    "    for i, row in df.iterrows():\n",
    "        ranking[row['token']] = RRFScore([row['tf'], row['idf'], row['tf-idf'], row['bm25'], \n",
    "                                          row['len'], row['centrality']])\n",
    "        \n",
    "    top = sorted(ranking.items(), key=operator.itemgetter(1), reverse=True)[:5]\n",
    "    top_keywords = [k for k, s in top]\n",
    "#     print(doc_id)\n",
    "#     print(top_keywords)\n",
    "#     print(target[doc_id])\n",
    "    return avg_precisoin(pred=top_keywords, targ=target[doc_id])\n",
    "\n",
    "\n",
    "precision = []\n",
    "for name, group in tqdm(test_doc_groups):    \n",
    "    group['tf']         = rank(-group['tf'].values)\n",
    "    group['idf']        = rank(-group['idf'].values)\n",
    "    group['tf-idf']     = rank(-group['tf-idf'].values)\n",
    "    group['bm25']       = rank(-group['bm25'].values)\n",
    "    group['len']        = rank(-group['len'].values)\n",
    "    group['centrality'] = rank(-group['centrality'].values)\n",
    "    \n",
    "    s = score(name, group)\n",
    "    precision.append(s)\n",
    "#     print(name)\n",
    "#     print(group)\n",
    "#     break\n",
    "\n",
    "print(np.mean(precision))"
   ]
  },
  {
   "cell_type": "code",
   "execution_count": null,
   "metadata": {},
   "outputs": [],
   "source": []
  }
 ],
 "metadata": {
  "kernelspec": {
   "display_name": "Python 3",
   "language": "python",
   "name": "python3"
  },
  "language_info": {
   "codemirror_mode": {
    "name": "ipython",
    "version": 3
   },
   "file_extension": ".py",
   "mimetype": "text/x-python",
   "name": "python",
   "nbconvert_exporter": "python",
   "pygments_lexer": "ipython3",
   "version": "3.7.5"
  }
 },
 "nbformat": 4,
 "nbformat_minor": 2
}
