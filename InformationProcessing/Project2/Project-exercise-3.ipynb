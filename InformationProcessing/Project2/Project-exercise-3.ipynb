{
 "cells": [
  {
   "cell_type": "code",
   "execution_count": 12,
   "metadata": {},
   "outputs": [],
   "source": [
    "import re\n",
    "import operator\n",
    "import json\n",
    "import itertools\n",
    "import spacy\n",
    "import networkx as nx\n",
    "import numpy as np\n",
    "from nltk import everygrams\n",
    "import pandas as pd\n",
    "from glob import glob\n",
    "from nltk import ngrams\n",
    "from sklearn.feature_extraction.text import TfidfVectorizer\n",
    "from xml.etree import ElementTree\n",
    "from collections import Counter\n",
    "from math import log\n",
    "\n",
    "from tqdm import tqdm_notebook as tqdm\n",
    "\n",
    "pd.set_option('display.max_rows', 500)\n",
    "pd.set_option('display.max_columns', 500)\n",
    "pd.set_option('display.width', 1000)\n",
    "pd.set_option('display.max_colwidth', 500)"
   ]
  },
  {
   "cell_type": "code",
   "execution_count": 32,
   "metadata": {},
   "outputs": [],
   "source": [
    "from nltk.stem.snowball import SnowballStemmer\n",
    "sno = SnowballStemmer('english')\n",
    "nlp = spacy.load('en_core_web_sm')"
   ]
  },
  {
   "cell_type": "code",
   "execution_count": 19,
   "metadata": {},
   "outputs": [
    {
     "data": {
      "application/vnd.jupyter.widget-view+json": {
       "model_id": "157793c0d3964ca398ab4c6db4d948dc",
       "version_major": 2,
       "version_minor": 0
      },
      "text/plain": [
       "HBox(children=(IntProgress(value=0, max=1000), HTML(value='')))"
      ]
     },
     "metadata": {},
     "output_type": "display_data"
    },
    {
     "name": "stdout",
     "output_type": "stream",
     "text": [
      "\n"
     ]
    },
    {
     "data": {
      "application/vnd.jupyter.widget-view+json": {
       "model_id": "ca9408fc9c394bc596c7b8206df5b8ef",
       "version_major": 2,
       "version_minor": 0
      },
      "text/plain": [
       "HBox(children=(IntProgress(value=0, max=500), HTML(value='')))"
      ]
     },
     "metadata": {},
     "output_type": "display_data"
    },
    {
     "name": "stdout",
     "output_type": "stream",
     "text": [
      "\n"
     ]
    },
    {
     "data": {
      "text/plain": [
       "(1000, 500)"
      ]
     },
     "execution_count": 19,
     "metadata": {},
     "output_type": "execute_result"
    }
   ],
   "source": [
    "def read(directory):\n",
    "    docs = {}\n",
    "    for doc_path in tqdm(glob(f'{directory}/*.xml')):\n",
    "        doc = ElementTree.parse(doc_path)\n",
    "        sentences = []\n",
    "        for sentence in doc.find('document').find('sentences').findall('sentence'):\n",
    "            sentences.append(' '.join([token.find('lemma').text.lower() + '~' + token.find('POS').text\n",
    "                                       for token in sentence.find('tokens').findall('token')]))\n",
    "\n",
    "        docs[doc_path.split('/')[-1].split('.')[0]] = '\\n'.join(sentences)\n",
    "    return docs\n",
    "\n",
    "\n",
    "train_docs = read('../Project1/ake-datasets/datasets/Inspec/train')\n",
    "test_docs = read('../Project1/ake-datasets/datasets/Inspec/test')\n",
    "len(train_docs), len(test_docs)"
   ]
  },
  {
   "cell_type": "code",
   "execution_count": 20,
   "metadata": {},
   "outputs": [],
   "source": [
    "pattern = re.compile(r'(((\\w+~JJ)* (\\w+~NN)+ (\\w+~IN))?(\\w+~JJ)+ (\\w+~NN)+)+')"
   ]
  },
  {
   "cell_type": "code",
   "execution_count": 21,
   "metadata": {},
   "outputs": [],
   "source": [
    "train_candidates = {doc_id: [candidate[0] for candidate in re.findall(pattern, doc)] for doc_id, doc in train_docs.items()}\n",
    "train_candidates = {doc_id: [' '.join([w.split('~')[0] for w in candidate.split()]) for candidate in candidates] for doc_id, candidates in train_candidates.items()}\n",
    "train_docs = {doc_id: ' '.join([w.split('~')[0] for w in sentences.split()]) for doc_id, sentences in train_docs.items()}\n",
    "train_frequencies = {doc_id: Counter(\n",
    "                                [' '.join(gram) for gram in ngrams(doc.split(), 1)] + \\\n",
    "                                [' '.join(gram) for gram in ngrams(doc.split(), 2)] + \\\n",
    "                                [' '.join(gram) for gram in ngrams(doc.split(), 3)])\n",
    "                    for doc_id, doc in train_docs.items()}\n",
    "\n",
    "test_candidates = {doc_id: [candidate[0] for candidate in re.findall(pattern, doc)] for doc_id, doc in test_docs.items()}\n",
    "test_candidates = {doc_id: [' '.join([w.split('~')[0] for w in candidate.split()]) for candidate in candidates] for doc_id, candidates in test_candidates.items()}\n",
    "test_docs = {doc_id: ' '.join([w.split('~')[0] for w in sentences.split()]) for doc_id, sentences in test_docs.items()}\n",
    "test_frequencies = {doc_id: Counter(\n",
    "                                [' '.join(gram) for gram in ngrams(doc.split(), 1)] + \\\n",
    "                                [' '.join(gram) for gram in ngrams(doc.split(), 2)] + \\\n",
    "                                [' '.join(gram) for gram in ngrams(doc.split(), 3)])\n",
    "                    for doc_id, doc in test_docs.items()}"
   ]
  },
  {
   "cell_type": "code",
   "execution_count": 87,
   "metadata": {},
   "outputs": [
    {
     "data": {
      "text/plain": [
       "['out-of-print materials',\n",
       " 'recurring issues',\n",
       " 'changing practices',\n",
       " 'out-of-print books',\n",
       " 'library materials',\n",
       " 'acquisition']"
      ]
     },
     "execution_count": 87,
     "metadata": {},
     "output_type": "execute_result"
    }
   ],
   "source": [
    "with open('../Project1/ake-datasets/datasets/Inspec/references/test.uncontr.json', 'r') as f:\n",
    "    target = json.load(f)\n",
    "    target = {doc_name: [k[0] for k in keyphrases] for doc_name, keyphrases in target.items()}\n",
    "target['193']"
   ]
  },
  {
   "cell_type": "code",
   "execution_count": 24,
   "metadata": {},
   "outputs": [],
   "source": [
    "def tf(d, t, frequencies):\n",
    "    return 1. * frequencies[d][t] / frequencies[d].most_common(1)[0][1]\n",
    "\n",
    "def idf(t, frequencies):\n",
    "    N = 1. * len(frequencies)\n",
    "    nt = sum(1 for doc in frequencies.values() if t in doc)\n",
    "    return log(N / nt) if N != 0 and nt != 0 else 0\n",
    "\n",
    "dls = {}\n",
    "def bm25(t, d, frequencies, background_frequencies, k1=1.2, b=0.75):\n",
    "    \"\"\"\n",
    "    :param t: term\n",
    "    :param d: document-id in test dataset\n",
    "    \n",
    "    ftd = f(t, d): term frequency\n",
    "    avgdl = mean([len(doc) for doc in train])\n",
    "    N = len(train)\n",
    "    nt = n(t) = sum(1 for doc in train if t in doc)\n",
    "    \"\"\"\n",
    "    N = len(background_frequencies)\n",
    "    nt = sum(1 for doc in background_frequencies.values() if t in doc)\n",
    "    # Dangerous but works for our train/test split\n",
    "    if len(background_frequencies) not in dls:\n",
    "        dls[len(background_frequencies)] = np.mean([sum(freq.values()) for freq in background_frequencies.values()])\n",
    "    avgdl = dls[len(background_frequencies)]\n",
    "    \n",
    "    ftd = 1. * frequencies[d][t] / frequencies[d].most_common(1)[0][1]\n",
    "    ld = sum(frequencies[d].values())\n",
    "    \n",
    "    tf = (ftd * (k1 + 1)) / (ftd + k1 * (1 - b + b * ld / avgdl))\n",
    "    idf = log((N - nt + 0.5) / (nt + 0.5))\n",
    "    return tf * idf"
   ]
  },
  {
   "cell_type": "code",
   "execution_count": 25,
   "metadata": {},
   "outputs": [
    {
     "data": {
      "text/plain": [
       "(0.8, 1.9105430052180221, 1.8559195292811537)"
      ]
     },
     "execution_count": 25,
     "metadata": {},
     "output_type": "execute_result"
    }
   ],
   "source": [
    "tf(t='datum', d='1390', frequencies=train_frequencies), \\\n",
    "idf(t='datum', frequencies=train_frequencies), \\\n",
    "bm25(t='datum', d='1390', frequencies=train_frequencies, background_frequencies=train_frequencies)"
   ]
  },
  {
   "cell_type": "code",
   "execution_count": 29,
   "metadata": {},
   "outputs": [
    {
     "name": "stdout",
     "output_type": "stream",
     "text": [
      "(161326, 1)\n",
      "(10540, 1)\n"
     ]
    },
    {
     "data": {
      "text/html": [
       "<div>\n",
       "<style scoped>\n",
       "    .dataframe tbody tr th:only-of-type {\n",
       "        vertical-align: middle;\n",
       "    }\n",
       "\n",
       "    .dataframe tbody tr th {\n",
       "        vertical-align: top;\n",
       "    }\n",
       "\n",
       "    .dataframe thead th {\n",
       "        text-align: right;\n",
       "    }\n",
       "</style>\n",
       "<table border=\"1\" class=\"dataframe\">\n",
       "  <thead>\n",
       "    <tr style=\"text-align: right;\">\n",
       "      <th></th>\n",
       "      <th>token</th>\n",
       "    </tr>\n",
       "    <tr>\n",
       "      <th>id</th>\n",
       "      <th></th>\n",
       "    </tr>\n",
       "  </thead>\n",
       "  <tbody>\n",
       "    <tr>\n",
       "      <th>1390:0</th>\n",
       "      <td>many organisation</td>\n",
       "    </tr>\n",
       "    <tr>\n",
       "      <th>1390:1</th>\n",
       "      <td>valuable asset</td>\n",
       "    </tr>\n",
       "    <tr>\n",
       "      <th>1390:2</th>\n",
       "      <td>wide datum</td>\n",
       "    </tr>\n",
       "  </tbody>\n",
       "</table>\n",
       "</div>"
      ],
      "text/plain": [
       "                    token\n",
       "id                       \n",
       "1390:0  many organisation\n",
       "1390:1     valuable asset\n",
       "1390:2         wide datum"
      ]
     },
     "execution_count": 29,
     "metadata": {},
     "output_type": "execute_result"
    }
   ],
   "source": [
    "train_data = pd.DataFrame([\n",
    "    {'id': doc_id + ':' + str(i), 'token': candidate} \n",
    "    for doc_id, candidates in train_candidates.items()\n",
    "        for i, candidate in enumerate(candidates)\n",
    "])\n",
    "train_data.set_index('id', inplace=True)\n",
    "\n",
    "\n",
    "test_data = pd.DataFrame([\n",
    "    {'id': doc_id + ':' + str(i), 'token': candidate} \n",
    "    for doc_id, candidates in test_frequencies.items()\n",
    "        for i, candidate in enumerate(candidates)\n",
    "])\n",
    "test_data.set_index('id', inplace=True)\n",
    "\n",
    "\n",
    "print(test_data.shape)\n",
    "print(train_data.shape)\n",
    "train_data.head(3)"
   ]
  },
  {
   "cell_type": "code",
   "execution_count": 30,
   "metadata": {},
   "outputs": [
    {
     "data": {
      "application/vnd.jupyter.widget-view+json": {
       "model_id": "73ce4523b0b74c7aa84df7b51f24dc94",
       "version_major": 2,
       "version_minor": 0
      },
      "text/plain": [
       "HBox(children=(IntProgress(value=0, max=10540), HTML(value='')))"
      ]
     },
     "metadata": {},
     "output_type": "display_data"
    },
    {
     "name": "stdout",
     "output_type": "stream",
     "text": [
      "\n"
     ]
    },
    {
     "data": {
      "application/vnd.jupyter.widget-view+json": {
       "model_id": "51c50c19bcf0468d8bc041a72e2767b4",
       "version_major": 2,
       "version_minor": 0
      },
      "text/plain": [
       "HBox(children=(IntProgress(value=0, max=10540), HTML(value='')))"
      ]
     },
     "metadata": {},
     "output_type": "display_data"
    },
    {
     "name": "stdout",
     "output_type": "stream",
     "text": [
      "\n"
     ]
    },
    {
     "data": {
      "application/vnd.jupyter.widget-view+json": {
       "model_id": "74fac7bdf5a34c9cb3fdd4145b6bbdec",
       "version_major": 2,
       "version_minor": 0
      },
      "text/plain": [
       "HBox(children=(IntProgress(value=0, max=10540), HTML(value='')))"
      ]
     },
     "metadata": {},
     "output_type": "display_data"
    },
    {
     "name": "stdout",
     "output_type": "stream",
     "text": [
      "\n"
     ]
    },
    {
     "data": {
      "application/vnd.jupyter.widget-view+json": {
       "model_id": "3fd28a6358e44c12b26fee04ee7c55d3",
       "version_major": 2,
       "version_minor": 0
      },
      "text/plain": [
       "HBox(children=(IntProgress(value=0, max=10540), HTML(value='')))"
      ]
     },
     "metadata": {},
     "output_type": "display_data"
    },
    {
     "name": "stdout",
     "output_type": "stream",
     "text": [
      "\n"
     ]
    },
    {
     "data": {
      "text/html": [
       "<div>\n",
       "<style scoped>\n",
       "    .dataframe tbody tr th:only-of-type {\n",
       "        vertical-align: middle;\n",
       "    }\n",
       "\n",
       "    .dataframe tbody tr th {\n",
       "        vertical-align: top;\n",
       "    }\n",
       "\n",
       "    .dataframe thead th {\n",
       "        text-align: right;\n",
       "    }\n",
       "</style>\n",
       "<table border=\"1\" class=\"dataframe\">\n",
       "  <thead>\n",
       "    <tr style=\"text-align: right;\">\n",
       "      <th></th>\n",
       "      <th>token</th>\n",
       "      <th>tf</th>\n",
       "      <th>idf</th>\n",
       "      <th>tf-idf</th>\n",
       "      <th>bm25</th>\n",
       "      <th>len</th>\n",
       "    </tr>\n",
       "    <tr>\n",
       "      <th>id</th>\n",
       "      <th></th>\n",
       "      <th></th>\n",
       "      <th></th>\n",
       "      <th></th>\n",
       "      <th></th>\n",
       "      <th></th>\n",
       "    </tr>\n",
       "  </thead>\n",
       "  <tbody>\n",
       "    <tr>\n",
       "      <th>1390:0</th>\n",
       "      <td>many organisation</td>\n",
       "      <td>0.200000</td>\n",
       "      <td>6.907755</td>\n",
       "      <td>1.381551</td>\n",
       "      <td>2.705831</td>\n",
       "      <td>17</td>\n",
       "    </tr>\n",
       "    <tr>\n",
       "      <th>1390:1</th>\n",
       "      <td>valuable asset</td>\n",
       "      <td>0.200000</td>\n",
       "      <td>6.907755</td>\n",
       "      <td>1.381551</td>\n",
       "      <td>2.705831</td>\n",
       "      <td>14</td>\n",
       "    </tr>\n",
       "    <tr>\n",
       "      <th>1390:2</th>\n",
       "      <td>wide datum</td>\n",
       "      <td>0.000000</td>\n",
       "      <td>0.000000</td>\n",
       "      <td>0.000000</td>\n",
       "      <td>0.000000</td>\n",
       "      <td>10</td>\n",
       "    </tr>\n",
       "    <tr>\n",
       "      <th>604:0</th>\n",
       "      <td>geographic area</td>\n",
       "      <td>0.250000</td>\n",
       "      <td>6.907755</td>\n",
       "      <td>1.726939</td>\n",
       "      <td>2.181924</td>\n",
       "      <td>15</td>\n",
       "    </tr>\n",
       "    <tr>\n",
       "      <th>604:1</th>\n",
       "      <td>preventive inspection</td>\n",
       "      <td>0.083333</td>\n",
       "      <td>6.907755</td>\n",
       "      <td>0.575646</td>\n",
       "      <td>0.809643</td>\n",
       "      <td>21</td>\n",
       "    </tr>\n",
       "  </tbody>\n",
       "</table>\n",
       "</div>"
      ],
      "text/plain": [
       "                        token        tf       idf    tf-idf      bm25  len\n",
       "id                                                                        \n",
       "1390:0      many organisation  0.200000  6.907755  1.381551  2.705831   17\n",
       "1390:1         valuable asset  0.200000  6.907755  1.381551  2.705831   14\n",
       "1390:2             wide datum  0.000000  0.000000  0.000000  0.000000   10\n",
       "604:0         geographic area  0.250000  6.907755  1.726939  2.181924   15\n",
       "604:1   preventive inspection  0.083333  6.907755  0.575646  0.809643   21"
      ]
     },
     "execution_count": 30,
     "metadata": {},
     "output_type": "execute_result"
    }
   ],
   "source": [
    "train_data['tf'] = [tf(d=i.split(':')[0], t=row['token'], frequencies=train_frequencies) for i, row in tqdm(train_data.iterrows(), total=len(train_data))]\n",
    "train_data['idf'] = [idf(t=row['token'], frequencies=train_frequencies) for i, row in tqdm(train_data.iterrows(), total=len(train_data))]\n",
    "train_data['tf-idf'] = train_data['tf'] * train_data['idf']\n",
    "train_data['bm25'] = [bm25(t=row['token'], d=i.split(':')[0], frequencies=train_frequencies, background_frequencies=train_frequencies) for i, row in tqdm(train_data.iterrows(), total=len(train_data))]\n",
    "train_data['len'] = [len(row['token']) for i, row in tqdm(train_data.iterrows(), total=len(train_data))]\n",
    "train_data.head()"
   ]
  },
  {
   "cell_type": "code",
   "execution_count": 31,
   "metadata": {},
   "outputs": [
    {
     "data": {
      "application/vnd.jupyter.widget-view+json": {
       "model_id": "beeed927c4bb48698d71eca3551b3de3",
       "version_major": 2,
       "version_minor": 0
      },
      "text/plain": [
       "HBox(children=(IntProgress(value=0, max=161326), HTML(value='')))"
      ]
     },
     "metadata": {},
     "output_type": "display_data"
    },
    {
     "name": "stdout",
     "output_type": "stream",
     "text": [
      "\n"
     ]
    },
    {
     "data": {
      "application/vnd.jupyter.widget-view+json": {
       "model_id": "cd1141c150c740b989e312a4bfe9b2cb",
       "version_major": 2,
       "version_minor": 0
      },
      "text/plain": [
       "HBox(children=(IntProgress(value=0, max=161326), HTML(value='')))"
      ]
     },
     "metadata": {},
     "output_type": "display_data"
    },
    {
     "name": "stdout",
     "output_type": "stream",
     "text": [
      "\n"
     ]
    },
    {
     "data": {
      "application/vnd.jupyter.widget-view+json": {
       "model_id": "7d5e283648374b3cab6656882e03f491",
       "version_major": 2,
       "version_minor": 0
      },
      "text/plain": [
       "HBox(children=(IntProgress(value=0, max=161326), HTML(value='')))"
      ]
     },
     "metadata": {},
     "output_type": "display_data"
    },
    {
     "name": "stdout",
     "output_type": "stream",
     "text": [
      "\n"
     ]
    },
    {
     "data": {
      "application/vnd.jupyter.widget-view+json": {
       "model_id": "0c29dcbefae8459f86970c9b1c315f06",
       "version_major": 2,
       "version_minor": 0
      },
      "text/plain": [
       "HBox(children=(IntProgress(value=0, max=161326), HTML(value='')))"
      ]
     },
     "metadata": {},
     "output_type": "display_data"
    },
    {
     "name": "stdout",
     "output_type": "stream",
     "text": [
      "\n"
     ]
    },
    {
     "data": {
      "text/html": [
       "<div>\n",
       "<style scoped>\n",
       "    .dataframe tbody tr th:only-of-type {\n",
       "        vertical-align: middle;\n",
       "    }\n",
       "\n",
       "    .dataframe tbody tr th {\n",
       "        vertical-align: top;\n",
       "    }\n",
       "\n",
       "    .dataframe thead th {\n",
       "        text-align: right;\n",
       "    }\n",
       "</style>\n",
       "<table border=\"1\" class=\"dataframe\">\n",
       "  <thead>\n",
       "    <tr style=\"text-align: right;\">\n",
       "      <th></th>\n",
       "      <th>token</th>\n",
       "      <th>tf</th>\n",
       "      <th>idf</th>\n",
       "      <th>tf-idf</th>\n",
       "      <th>bm25</th>\n",
       "      <th>len</th>\n",
       "    </tr>\n",
       "    <tr>\n",
       "      <th>id</th>\n",
       "      <th></th>\n",
       "      <th></th>\n",
       "      <th></th>\n",
       "      <th></th>\n",
       "      <th></th>\n",
       "      <th></th>\n",
       "    </tr>\n",
       "  </thead>\n",
       "  <tbody>\n",
       "    <tr>\n",
       "      <th>2128:0</th>\n",
       "      <td>a</td>\n",
       "      <td>1.000000</td>\n",
       "      <td>0.070422</td>\n",
       "      <td>0.070422</td>\n",
       "      <td>-3.176262</td>\n",
       "      <td>1</td>\n",
       "    </tr>\n",
       "    <tr>\n",
       "      <th>2128:1</th>\n",
       "      <td>optimal</td>\n",
       "      <td>0.166667</td>\n",
       "      <td>2.847312</td>\n",
       "      <td>0.474552</td>\n",
       "      <td>1.273193</td>\n",
       "      <td>7</td>\n",
       "    </tr>\n",
       "    <tr>\n",
       "      <th>2128:2</th>\n",
       "      <td>control</td>\n",
       "      <td>0.333333</td>\n",
       "      <td>2.024953</td>\n",
       "      <td>0.674984</td>\n",
       "      <td>1.096980</td>\n",
       "      <td>7</td>\n",
       "    </tr>\n",
       "    <tr>\n",
       "      <th>2128:3</th>\n",
       "      <td>algorithm</td>\n",
       "      <td>0.333333</td>\n",
       "      <td>1.883875</td>\n",
       "      <td>0.627958</td>\n",
       "      <td>1.162560</td>\n",
       "      <td>9</td>\n",
       "    </tr>\n",
       "    <tr>\n",
       "      <th>2128:4</th>\n",
       "      <td>base</td>\n",
       "      <td>0.166667</td>\n",
       "      <td>1.487220</td>\n",
       "      <td>0.247870</td>\n",
       "      <td>0.526747</td>\n",
       "      <td>4</td>\n",
       "    </tr>\n",
       "  </tbody>\n",
       "</table>\n",
       "</div>"
      ],
      "text/plain": [
       "            token        tf       idf    tf-idf      bm25  len\n",
       "id                                                            \n",
       "2128:0          a  1.000000  0.070422  0.070422 -3.176262    1\n",
       "2128:1    optimal  0.166667  2.847312  0.474552  1.273193    7\n",
       "2128:2    control  0.333333  2.024953  0.674984  1.096980    7\n",
       "2128:3  algorithm  0.333333  1.883875  0.627958  1.162560    9\n",
       "2128:4       base  0.166667  1.487220  0.247870  0.526747    4"
      ]
     },
     "execution_count": 31,
     "metadata": {},
     "output_type": "execute_result"
    }
   ],
   "source": [
    "test_data['tf'] = [tf(d=i.split(':')[0], t=row['token'], frequencies=test_frequencies) for i, row in tqdm(test_data.iterrows(), total=len(test_data))]\n",
    "test_data['idf'] = [idf(t=row['token'], frequencies=test_frequencies) for i, row in tqdm(test_data.iterrows(), total=len(test_data))]\n",
    "test_data['tf-idf'] = test_data['tf'] * test_data['idf']\n",
    "test_data['bm25'] = [bm25(t=row['token'], d=i.split(':')[0], frequencies=test_frequencies, background_frequencies=train_frequencies) for i, row in tqdm(test_data.iterrows(), total=len(test_data))]\n",
    "test_data['len'] = [len(row['token']) for i, row in tqdm(test_data.iterrows(), total=len(test_data))]\n",
    "test_data.head()"
   ]
  },
  {
   "cell_type": "code",
   "execution_count": null,
   "metadata": {},
   "outputs": [],
   "source": []
  },
  {
   "cell_type": "markdown",
   "metadata": {},
   "source": [
    "## Add graph centrality score for each candidate"
   ]
  },
  {
   "cell_type": "code",
   "execution_count": 34,
   "metadata": {},
   "outputs": [
    {
     "name": "stderr",
     "output_type": "stream",
     "text": [
      "\n"
     ]
    }
   ],
   "source": [
    "from sklearn.metrics.pairwise import cosine_similarity\n",
    "from fasttext import load_model\n",
    "model = load_model('./cc.en.300.bin')"
   ]
  },
  {
   "cell_type": "code",
   "execution_count": 42,
   "metadata": {},
   "outputs": [],
   "source": [
    "def get_ranks(doc_id, doc, get_weight, get_personalization=None, weight='weight'):\n",
    "    G = nx.Graph(name=doc_id)\n",
    "    doc = nlp(doc)\n",
    "    \n",
    "    for sentence in doc.sents:\n",
    "        tokens = [str(t) for t in sentence if t.is_alpha and not t.is_stop]\n",
    "        grams = everygrams(tokens, min_len=1, max_len=3)\n",
    "        grams = [' '.join(g) for g in grams]\n",
    "        G.add_nodes_from(grams)\n",
    "        \n",
    "        edges = list(itertools.combinations(grams, 2))\n",
    "        weighted_edges = [(v1, v2, get_weight(v1, v2)) for v1, v2 in edges]\n",
    "        G.add_weighted_edges_from(weighted_edges)\n",
    "    \n",
    "    personalization = {node: get_personalization(node) for node in G.nodes} if get_personalization else None\n",
    "    rank = nx.pagerank(G, alpha=1-0.15, max_iter=50, weight=weight, personalization=personalization)\n",
    "    return rank"
   ]
  },
  {
   "cell_type": "code",
   "execution_count": 35,
   "metadata": {},
   "outputs": [],
   "source": [
    "def weight(w1, w2):\n",
    "    v1 = model.get_sentence_vector(w1)\n",
    "    v2 = model.get_sentence_vector(w2)\n",
    "    return cosine_similarity([v1], [v2])[0]"
   ]
  },
  {
   "cell_type": "code",
   "execution_count": 38,
   "metadata": {},
   "outputs": [
    {
     "data": {
      "text/html": [
       "<div>\n",
       "<style scoped>\n",
       "    .dataframe tbody tr th:only-of-type {\n",
       "        vertical-align: middle;\n",
       "    }\n",
       "\n",
       "    .dataframe tbody tr th {\n",
       "        vertical-align: top;\n",
       "    }\n",
       "\n",
       "    .dataframe thead th {\n",
       "        text-align: right;\n",
       "    }\n",
       "</style>\n",
       "<table border=\"1\" class=\"dataframe\">\n",
       "  <thead>\n",
       "    <tr style=\"text-align: right;\">\n",
       "      <th></th>\n",
       "      <th>token</th>\n",
       "      <th>tf</th>\n",
       "      <th>idf</th>\n",
       "      <th>tf-idf</th>\n",
       "      <th>bm25</th>\n",
       "      <th>len</th>\n",
       "    </tr>\n",
       "    <tr>\n",
       "      <th>id</th>\n",
       "      <th></th>\n",
       "      <th></th>\n",
       "      <th></th>\n",
       "      <th></th>\n",
       "      <th></th>\n",
       "      <th></th>\n",
       "    </tr>\n",
       "  </thead>\n",
       "  <tbody>\n",
       "    <tr>\n",
       "      <th>2128:0</th>\n",
       "      <td>a</td>\n",
       "      <td>1.000000</td>\n",
       "      <td>0.070422</td>\n",
       "      <td>0.070422</td>\n",
       "      <td>-3.176262</td>\n",
       "      <td>1</td>\n",
       "    </tr>\n",
       "    <tr>\n",
       "      <th>2128:1</th>\n",
       "      <td>optimal</td>\n",
       "      <td>0.166667</td>\n",
       "      <td>2.847312</td>\n",
       "      <td>0.474552</td>\n",
       "      <td>1.273193</td>\n",
       "      <td>7</td>\n",
       "    </tr>\n",
       "    <tr>\n",
       "      <th>2128:2</th>\n",
       "      <td>control</td>\n",
       "      <td>0.333333</td>\n",
       "      <td>2.024953</td>\n",
       "      <td>0.674984</td>\n",
       "      <td>1.096980</td>\n",
       "      <td>7</td>\n",
       "    </tr>\n",
       "    <tr>\n",
       "      <th>2128:3</th>\n",
       "      <td>algorithm</td>\n",
       "      <td>0.333333</td>\n",
       "      <td>1.883875</td>\n",
       "      <td>0.627958</td>\n",
       "      <td>1.162560</td>\n",
       "      <td>9</td>\n",
       "    </tr>\n",
       "    <tr>\n",
       "      <th>2128:4</th>\n",
       "      <td>base</td>\n",
       "      <td>0.166667</td>\n",
       "      <td>1.487220</td>\n",
       "      <td>0.247870</td>\n",
       "      <td>0.526747</td>\n",
       "      <td>4</td>\n",
       "    </tr>\n",
       "  </tbody>\n",
       "</table>\n",
       "</div>"
      ],
      "text/plain": [
       "            token        tf       idf    tf-idf      bm25  len\n",
       "id                                                            \n",
       "2128:0          a  1.000000  0.070422  0.070422 -3.176262    1\n",
       "2128:1    optimal  0.166667  2.847312  0.474552  1.273193    7\n",
       "2128:2    control  0.333333  2.024953  0.674984  1.096980    7\n",
       "2128:3  algorithm  0.333333  1.883875  0.627958  1.162560    9\n",
       "2128:4       base  0.166667  1.487220  0.247870  0.526747    4"
      ]
     },
     "execution_count": 38,
     "metadata": {},
     "output_type": "execute_result"
    }
   ],
   "source": [
    "test_data.head()"
   ]
  },
  {
   "cell_type": "code",
   "execution_count": 51,
   "metadata": {},
   "outputs": [
    {
     "data": {
      "application/vnd.jupyter.widget-view+json": {
       "model_id": "dbf4c115054b4b9b8d09cbd3ec4d59fc",
       "version_major": 2,
       "version_minor": 0
      },
      "text/plain": [
       "HBox(children=(IntProgress(value=0, max=161326), HTML(value='')))"
      ]
     },
     "metadata": {},
     "output_type": "display_data"
    },
    {
     "name": "stdout",
     "output_type": "stream",
     "text": [
      "0.0034874741080549916\n",
      "0.001572862112095863\n",
      "0.0007703163779657459\n",
      "0.0007682834238317009\n",
      "0.0014857836252993822\n",
      "0.0014121202118040986\n",
      "0.000783294567830146\n",
      "0.000824687542600032\n",
      "0.0005505548020815532\n",
      "0.0006879434530956503\n",
      "0.0018622210708023911\n",
      "0.0005726894348194147\n",
      "0.0004639071615894727\n",
      "0.0006593731044681119\n",
      "0.0006570560182528882\n",
      "0.0006130904038636286\n",
      "0.000763387240020447\n",
      "0.0009703580930604412\n",
      "0.0007348376439657143\n",
      "0.00065977027173706\n",
      "0.0006081732711808055\n",
      "0.0005073665736975265\n",
      "0.0005180603749158203\n",
      "0.0005842107383068192\n",
      "0.0013540604304614087\n",
      "0.001225542158264265\n",
      "0.000789844019045361\n",
      "0.00414324569955844\n",
      "0.001055578403002834\n",
      "0.006471727182678705\n",
      "0.0008015375538574186\n",
      "0.0010413940658357823\n",
      "0.0007249776958083408\n",
      "0.0011138112411589664\n",
      "0.0011459155632339744\n",
      "0.0011574477980241134\n",
      "0.0005722434589827151\n",
      "0.0005711413322010701\n",
      "0.0005702731042017558\n",
      "0.0005687815995437506\n",
      "0.0005833170838796458\n",
      "0.0014995744908062026\n",
      "0.0013955832725334211\n",
      "0.0007499763440754189\n",
      "0.0006797206545101186\n",
      "0.0010699397707251957\n",
      "0.001050236214727028\n",
      "0.0010440887044776133\n",
      "0.0007957864639632112\n",
      "0.0007595187391395057\n",
      "0.000706487085578417\n",
      "0.0017887419424155102\n",
      "0.00037820849349326084\n",
      "0.000682923323999814\n",
      "0.0006239932234511204\n",
      "0.0007871839314530462\n",
      "0.00040074082258608363\n",
      "0.0003998849699655\n",
      "0.005948030603523654\n",
      "0.0009696773803769315\n",
      "0.0006311166419811829\n"
     ]
    },
    {
     "data": {
      "text/html": [
       "<div>\n",
       "<style scoped>\n",
       "    .dataframe tbody tr th:only-of-type {\n",
       "        vertical-align: middle;\n",
       "    }\n",
       "\n",
       "    .dataframe tbody tr th {\n",
       "        vertical-align: top;\n",
       "    }\n",
       "\n",
       "    .dataframe thead th {\n",
       "        text-align: right;\n",
       "    }\n",
       "</style>\n",
       "<table border=\"1\" class=\"dataframe\">\n",
       "  <thead>\n",
       "    <tr style=\"text-align: right;\">\n",
       "      <th></th>\n",
       "      <th>token</th>\n",
       "      <th>tf</th>\n",
       "      <th>idf</th>\n",
       "      <th>tf-idf</th>\n",
       "      <th>bm25</th>\n",
       "      <th>len</th>\n",
       "      <th>centrality</th>\n",
       "    </tr>\n",
       "    <tr>\n",
       "      <th>id</th>\n",
       "      <th></th>\n",
       "      <th></th>\n",
       "      <th></th>\n",
       "      <th></th>\n",
       "      <th></th>\n",
       "      <th></th>\n",
       "      <th></th>\n",
       "    </tr>\n",
       "  </thead>\n",
       "  <tbody>\n",
       "    <tr>\n",
       "      <th>2128:0</th>\n",
       "      <td>a</td>\n",
       "      <td>1.000000</td>\n",
       "      <td>0.070422</td>\n",
       "      <td>0.070422</td>\n",
       "      <td>-3.176262</td>\n",
       "      <td>1</td>\n",
       "      <td>NaN</td>\n",
       "    </tr>\n",
       "    <tr>\n",
       "      <th>2128:1</th>\n",
       "      <td>optimal</td>\n",
       "      <td>0.166667</td>\n",
       "      <td>2.847312</td>\n",
       "      <td>0.474552</td>\n",
       "      <td>1.273193</td>\n",
       "      <td>7</td>\n",
       "      <td>0.018735</td>\n",
       "    </tr>\n",
       "    <tr>\n",
       "      <th>2128:2</th>\n",
       "      <td>control</td>\n",
       "      <td>0.333333</td>\n",
       "      <td>2.024953</td>\n",
       "      <td>0.674984</td>\n",
       "      <td>1.096980</td>\n",
       "      <td>7</td>\n",
       "      <td>0.012428</td>\n",
       "    </tr>\n",
       "    <tr>\n",
       "      <th>2128:3</th>\n",
       "      <td>algorithm</td>\n",
       "      <td>0.333333</td>\n",
       "      <td>1.883875</td>\n",
       "      <td>0.627958</td>\n",
       "      <td>1.162560</td>\n",
       "      <td>9</td>\n",
       "      <td>0.017170</td>\n",
       "    </tr>\n",
       "    <tr>\n",
       "      <th>2128:4</th>\n",
       "      <td>base</td>\n",
       "      <td>0.166667</td>\n",
       "      <td>1.487220</td>\n",
       "      <td>0.247870</td>\n",
       "      <td>0.526747</td>\n",
       "      <td>4</td>\n",
       "      <td>0.009201</td>\n",
       "    </tr>\n",
       "  </tbody>\n",
       "</table>\n",
       "</div>"
      ],
      "text/plain": [
       "            token        tf       idf    tf-idf      bm25  len  centrality\n",
       "id                                                                        \n",
       "2128:0          a  1.000000  0.070422  0.070422 -3.176262    1         NaN\n",
       "2128:1    optimal  0.166667  2.847312  0.474552  1.273193    7    0.018735\n",
       "2128:2    control  0.333333  2.024953  0.674984  1.096980    7    0.012428\n",
       "2128:3  algorithm  0.333333  1.883875  0.627958  1.162560    9    0.017170\n",
       "2128:4       base  0.166667  1.487220  0.247870  0.526747    4    0.009201"
      ]
     },
     "execution_count": 51,
     "metadata": {},
     "output_type": "execute_result"
    }
   ],
   "source": [
    "cur_doc_id = -1\n",
    "centralities = []\n",
    "doc = None\n",
    "for i, row in tqdm(test_data.iterrows(), total=len(test_data)):\n",
    "    doc_id = i.split(':')[0]\n",
    "    if cur_doc_id != doc_id:\n",
    "        cur_doc_id = doc_id\n",
    "        doc = test_docs[doc_id]\n",
    "        d = nlp(doc)\n",
    "        d = ' '.join([str(t) for t in d if t.is_alpha and not t.is_stop])\n",
    "        doc_ranks = get_ranks(doc_id, doc, get_weight=weight, \n",
    "                              get_personalization=lambda x: 1 / (1 + log(1 + d.find(x))))\n",
    "\n",
    "    token = row['token']\n",
    "    if token not in doc_ranks: # To remove stop words and non alphanumeric tokens later on\n",
    "        centralities.append(None)\n",
    "    else:\n",
    "        try:\n",
    "            centralities.append(doc_ranks[token][0])\n",
    "        except:\n",
    "            centralities.append(doc_ranks[token])\n",
    "            print(doc_ranks[token])\n",
    "\n",
    "test_data['centrality'] = centralities\n",
    "test_data.head()"
   ]
  },
  {
   "cell_type": "code",
   "execution_count": 52,
   "metadata": {},
   "outputs": [
    {
     "data": {
      "text/html": [
       "<div>\n",
       "<style scoped>\n",
       "    .dataframe tbody tr th:only-of-type {\n",
       "        vertical-align: middle;\n",
       "    }\n",
       "\n",
       "    .dataframe tbody tr th {\n",
       "        vertical-align: top;\n",
       "    }\n",
       "\n",
       "    .dataframe thead th {\n",
       "        text-align: right;\n",
       "    }\n",
       "</style>\n",
       "<table border=\"1\" class=\"dataframe\">\n",
       "  <thead>\n",
       "    <tr style=\"text-align: right;\">\n",
       "      <th></th>\n",
       "      <th>token</th>\n",
       "      <th>tf</th>\n",
       "      <th>idf</th>\n",
       "      <th>tf-idf</th>\n",
       "      <th>bm25</th>\n",
       "      <th>len</th>\n",
       "      <th>centrality</th>\n",
       "    </tr>\n",
       "    <tr>\n",
       "      <th>id</th>\n",
       "      <th></th>\n",
       "      <th></th>\n",
       "      <th></th>\n",
       "      <th></th>\n",
       "      <th></th>\n",
       "      <th></th>\n",
       "      <th></th>\n",
       "    </tr>\n",
       "  </thead>\n",
       "  <tbody>\n",
       "    <tr>\n",
       "      <th>2128:1</th>\n",
       "      <td>optimal</td>\n",
       "      <td>0.166667</td>\n",
       "      <td>2.847312</td>\n",
       "      <td>0.474552</td>\n",
       "      <td>1.273193</td>\n",
       "      <td>7</td>\n",
       "      <td>0.018735</td>\n",
       "    </tr>\n",
       "    <tr>\n",
       "      <th>2128:2</th>\n",
       "      <td>control</td>\n",
       "      <td>0.333333</td>\n",
       "      <td>2.024953</td>\n",
       "      <td>0.674984</td>\n",
       "      <td>1.096980</td>\n",
       "      <td>7</td>\n",
       "      <td>0.012428</td>\n",
       "    </tr>\n",
       "    <tr>\n",
       "      <th>2128:3</th>\n",
       "      <td>algorithm</td>\n",
       "      <td>0.333333</td>\n",
       "      <td>1.883875</td>\n",
       "      <td>0.627958</td>\n",
       "      <td>1.162560</td>\n",
       "      <td>9</td>\n",
       "      <td>0.017170</td>\n",
       "    </tr>\n",
       "    <tr>\n",
       "      <th>2128:4</th>\n",
       "      <td>base</td>\n",
       "      <td>0.166667</td>\n",
       "      <td>1.487220</td>\n",
       "      <td>0.247870</td>\n",
       "      <td>0.526747</td>\n",
       "      <td>4</td>\n",
       "      <td>0.009201</td>\n",
       "    </tr>\n",
       "    <tr>\n",
       "      <th>2128:6</th>\n",
       "      <td>reachability</td>\n",
       "      <td>0.333333</td>\n",
       "      <td>5.521461</td>\n",
       "      <td>1.840487</td>\n",
       "      <td>3.843042</td>\n",
       "      <td>12</td>\n",
       "      <td>0.014872</td>\n",
       "    </tr>\n",
       "  </tbody>\n",
       "</table>\n",
       "</div>"
      ],
      "text/plain": [
       "               token        tf       idf    tf-idf      bm25  len  centrality\n",
       "id                                                                           \n",
       "2128:1       optimal  0.166667  2.847312  0.474552  1.273193    7    0.018735\n",
       "2128:2       control  0.333333  2.024953  0.674984  1.096980    7    0.012428\n",
       "2128:3     algorithm  0.333333  1.883875  0.627958  1.162560    9    0.017170\n",
       "2128:4          base  0.166667  1.487220  0.247870  0.526747    4    0.009201\n",
       "2128:6  reachability  0.333333  5.521461  1.840487  3.843042   12    0.014872"
      ]
     },
     "execution_count": 52,
     "metadata": {},
     "output_type": "execute_result"
    }
   ],
   "source": [
    "test_data.dropna(inplace=True)\n",
    "test_data.head()"
   ]
  },
  {
   "cell_type": "code",
   "execution_count": 56,
   "metadata": {},
   "outputs": [],
   "source": [
    "def avg_precisoin(pred, targ):\n",
    "    pred = set(pred)\n",
    "    targ = set(targ)\n",
    "    res, nb_correct = 0, 0\n",
    "    for i, p in enumerate(pred):\n",
    "        if p in targ:\n",
    "            nb_correct += 1\n",
    "        res += nb_correct / (i + 1)\n",
    "    return 1. / len(targ) * res"
   ]
  },
  {
   "cell_type": "code",
   "execution_count": 64,
   "metadata": {
    "scrolled": true
   },
   "outputs": [
    {
     "data": {
      "text/plain": [
       "39095"
      ]
     },
     "execution_count": 64,
     "metadata": {},
     "output_type": "execute_result"
    }
   ],
   "source": [
    "len(test_data)"
   ]
  },
  {
   "cell_type": "code",
   "execution_count": 68,
   "metadata": {},
   "outputs": [],
   "source": [
    "test_data['doc_id'] = [i.split(':')[0] for i in test_data.index]"
   ]
  },
  {
   "cell_type": "code",
   "execution_count": 110,
   "metadata": {
    "scrolled": false
   },
   "outputs": [
    {
     "data": {
      "application/vnd.jupyter.widget-view+json": {
       "model_id": "7ec90070579248bda7bca97ffee5ffd4",
       "version_major": 2,
       "version_minor": 0
      },
      "text/plain": [
       "HBox(children=(IntProgress(value=0, max=500), HTML(value='')))"
      ]
     },
     "metadata": {},
     "output_type": "display_data"
    },
    {
     "name": "stdout",
     "output_type": "stream",
     "text": [
      "0.08898128074871457\n"
     ]
    }
   ],
   "source": [
    "pd.options.mode.chained_assignment = None  # default='warn'\n",
    "test_doc_groups = test_data.copy()\n",
    "test_doc_groups.reset_index(inplace=True)\n",
    "del test_doc_groups['id']\n",
    "test_doc_groups = test_doc_groups.groupby('doc_id')\n",
    "\n",
    "\n",
    "def RRFScore(ranks):\n",
    "    return sum(1. / (50 + r) for r in ranks)\n",
    "\n",
    "\n",
    "def rank(arr):\n",
    "    order = arr.argsort()\n",
    "    ranks = order.argsort()\n",
    "    return ranks\n",
    "\n",
    "\n",
    "def score(doc_id, df):\n",
    "    ranking = {}\n",
    "    for i, row in df.iterrows():\n",
    "        ranking[row['token']] = RRFScore([row['tf'], row['idf'], row['tf-idf'], row['bm25'], \n",
    "                                          row['len'], row['centrality']])\n",
    "        \n",
    "    top = sorted(ranking.items(), key=operator.itemgetter(1), reverse=True)[:5]\n",
    "    top_keywords = [k for k, s in top]\n",
    "#     print(doc_id)\n",
    "#     print(top_keywords)\n",
    "#     print(target[doc_id])\n",
    "    return avg_precisoin(pred=top_keywords, targ=target[doc_id])\n",
    "\n",
    "\n",
    "precision = []\n",
    "for name, group in tqdm(test_doc_groups):    \n",
    "    group['tf']         = rank(1 / (1 + np.log((1 + group['tf'].values))))\n",
    "    group['idf']        = rank(1 / (1 + np.log((1 + group['idf'].values))))\n",
    "    group['tf-idf']     = rank(1 / (1 + np.log((1 + group['tf-idf'].values))))\n",
    "    group['bm25']       = rank(1 / (1 + np.log((1 + group['bm25'].values))))\n",
    "    group['len']        = rank(1 / (1 + np.log((1 + group['len'].values))))\n",
    "    group['centrality'] = rank(1 / (1 + np.log((1 + group['centrality'].values))))\n",
    "    \n",
    "    s = score(name, group)\n",
    "    precision.append(s)\n",
    "#     print(name)\n",
    "#     print(group)\n",
    "#     break\n",
    "\n",
    "print(np.mean(precision))"
   ]
  },
  {
   "cell_type": "code",
   "execution_count": null,
   "metadata": {},
   "outputs": [],
   "source": []
  }
 ],
 "metadata": {
  "kernelspec": {
   "display_name": "Python 3",
   "language": "python",
   "name": "python3"
  },
  "language_info": {
   "codemirror_mode": {
    "name": "ipython",
    "version": 3
   },
   "file_extension": ".py",
   "mimetype": "text/x-python",
   "name": "python",
   "nbconvert_exporter": "python",
   "pygments_lexer": "ipython3",
   "version": "3.7.5"
  }
 },
 "nbformat": 4,
 "nbformat_minor": 2
}
