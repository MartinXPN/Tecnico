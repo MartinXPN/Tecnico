{
 "cells": [
  {
   "cell_type": "code",
   "execution_count": 43,
   "metadata": {},
   "outputs": [],
   "source": [
    "import numpy as np\n",
    "import matplotlib.pyplot as plt\n",
    "from sklearn.mixture import GaussianMixture\n",
    "\n",
    "%matplotlib inline\n",
    "np.set_printoptions(formatter={'all':lambda x: str(x)})"
   ]
  },
  {
   "cell_type": "code",
   "execution_count": 44,
   "metadata": {},
   "outputs": [
    {
     "data": {
      "image/png": "[encoded data removed]",
      "text/plain": [
       "<Figure size 432x288 with 1 Axes>"
      ]
     },
     "metadata": {
      "needs_background": "light"
     },
     "output_type": "display_data"
    }
   ],
   "source": [
    "X = np.array([[2, 4], [4, 2], [0, 0]])\n",
    "plt.plot(X[:,0], X[:,1], 'bx')\n",
    "plt.axis('equal')\n",
    "plt.show()"
   ]
  },
  {
   "cell_type": "code",
   "execution_count": 66,
   "metadata": {},
   "outputs": [],
   "source": [
    "model = GaussianMixture(n_components=2, max_iter=1,\n",
    "                        warm_start=True,\n",
    "                        verbose=1, verbose_interval=1)"
   ]
  },
  {
   "cell_type": "code",
   "execution_count": 67,
   "metadata": {},
   "outputs": [
    {
     "name": "stdout",
     "output_type": "stream",
     "text": [
      "Initialization 0\n",
      "  Iteration 1\n",
      "Initialization converged: False\n"
     ]
    },
    {
     "name": "stderr",
     "output_type": "stream",
     "text": [
      "/Users/martin/Library/Python/3.7/lib/python/site-packages/sklearn/mixture/base.py:265: ConvergenceWarning: Initialization 1 did not converge. Try different init parameters, or increase max_iter, tol or check for degenerate data.\n",
      "  % (init + 1), ConvergenceWarning)\n"
     ]
    }
   ],
   "source": [
    "sigma = np.array([             \n",
    "    np.identity(2),\n",
    "    np.identity(2)\n",
    "])\n",
    "model.fit(X)                                # Now it thinks it is trained\n",
    "model.weights_ = np.array([0.7, 0.3])       # mixture weights (n_components,) \n",
    "model.means_ = np.array([[0, 4], [4, 0]])   # mixture means (n_components, 2) \n",
    "model.covariances_ = sigma                  # mixture cov (n_components, 2, 2)\n",
    "model.precisions_cholesky_ = np.linalg.cholesky(np.linalg.inv(sigma)).transpose((0, 2, 1))"
   ]
  },
  {
   "cell_type": "code",
   "execution_count": 68,
   "metadata": {
    "scrolled": false
   },
   "outputs": [
    {
     "name": "stdout",
     "output_type": "stream",
     "text": [
      "--------------------------------------------\n",
      "Iteration: 0\n",
      "\n",
      "Weights: [0.7 0.3]\n",
      "\n",
      "Means:\n",
      "[[0 4]\n",
      " [4 0]]\n",
      "\n",
      "Covariances\n",
      "[[[1.0 0.0]\n",
      "  [0.0 1.0]]\n",
      "\n",
      " [[1.0 0.0]\n",
      "  [0.0 1.0]]]\n",
      "Likelihoods:\n",
      "x: [2 4], myu: [0 4] => likelihood:  0.0215392793 => joint:  0.0150774955\n",
      "x: [2 4], myu: [4 0] => likelihood:  0.0000072256 => joint:  0.0000021677\n",
      "x: [4 2], myu: [0 4] => likelihood:  0.0000072256 => joint:  0.0000050579\n",
      "x: [4 2], myu: [4 0] => likelihood:  0.0215392793 => joint:  0.0064617838\n",
      "x: [0 0], myu: [0 4] => likelihood:  0.0000533905 => joint:  0.0000373734\n",
      "x: [0 0], myu: [4 0] => likelihood:  0.0000533905 => joint:  0.0000160172\n",
      "Initialization 0\n",
      "  Iteration 1\n",
      "Initialization converged: False\n",
      "--------------------------------------------\n",
      "Iteration: 1\n",
      "\n",
      "Weights: [0.5668794616295193 0.4331205383704826]\n",
      "\n",
      "Means:\n",
      "[[1.1776995364874705 2.3526396365429902]\n",
      " [3.0762483021642173 1.538456042595401]]\n",
      "\n",
      "Covariances\n",
      "[[[0.9721031233080706 1.9364162878952134]\n",
      "  [1.9364162878952134 3.8738066624508534]]\n",
      "\n",
      " [[2.8412480700709004 1.4202663373577664]\n",
      "  [1.4202663373577664 0.710951134227942]]]\n",
      "Likelihoods:\n",
      "x: [2 4], myu: [1.1776995364874705 2.3526396365429902] => likelihood:  0.8853971969 => joint:  0.5019134863\n",
      "x: [2 4], myu: [3.0762483021642173 1.538456042595401] => likelihood:  0.0000000000 => joint:  0.0000000000\n",
      "x: [4 2], myu: [1.1776995364874705 2.3526396365429902] => likelihood:  0.0000000000 => joint:  0.0000000000\n",
      "x: [4 2], myu: [3.0762483021642173 1.538456042595401] => likelihood:  2.5736048367 => joint:  1.1146811124\n",
      "x: [0 0], myu: [1.1776995364874705 2.3526396365429902] => likelihood:  0.6150699840 => joint:  0.3486705414\n",
      "x: [0 0], myu: [3.0762483021642173 1.538456042595401] => likelihood:  0.5654658529 => joint:  0.2449148746\n",
      "Initialization 0\n",
      "  Iteration 1\n",
      "Initialization converged: False\n",
      "--------------------------------------------\n",
      "Iteration: 2\n",
      "\n",
      "Weights: [0.5291324730398489 0.47086752696015255]\n",
      "\n",
      "Means:\n",
      "[[1.2599239332953585 2.519847866590717]\n",
      " [2.831652762170978 1.415826381085489]]\n",
      "\n",
      "Covariances\n",
      "[[[0.932440548900268 1.8648790978005358]\n",
      "  [1.8648790978005358 3.729759195601072]]\n",
      "\n",
      " [[3.3083546831733703 1.654176841586685]\n",
      "  [1.654176841586685 0.8270894207933426]]]\n",
      "Likelihoods:\n",
      "x: [2 4], myu: [1.2599239332953585 2.519847866590717] => likelihood:  54.9506758854 => joint:  29.0761870265\n",
      "x: [2 4], myu: [2.831652762170978 1.415826381085489] => likelihood:  0.0000000000 => joint:  0.0000000000\n",
      "x: [4 2], myu: [1.2599239332953585 2.519847866590717] => likelihood:  0.0000000000 => joint:  0.0000000000\n",
      "x: [4 2], myu: [2.831652762170978 1.415826381085489] => likelihood:  63.6742174441 => joint:  29.9821212990\n",
      "x: [0 0], myu: [1.2599239332953585 2.519847866590717] => likelihood:  31.4664643032 => joint:  16.6499280746\n",
      "x: [0 0], myu: [2.831652762170978 1.415826381085489] => likelihood:  23.2955279545 => joint:  10.9691076372\n",
      "Initialization 0\n",
      "  Iteration 1\n",
      "Initialization converged: False\n"
     ]
    },
    {
     "name": "stderr",
     "output_type": "stream",
     "text": [
      "/Users/martin/Library/Python/3.7/lib/python/site-packages/sklearn/mixture/base.py:265: ConvergenceWarning: Initialization 1 did not converge. Try different init parameters, or increase max_iter, tol or check for degenerate data.\n",
      "  % (init + 1), ConvergenceWarning)\n",
      "/Users/martin/Library/Python/3.7/lib/python/site-packages/sklearn/mixture/base.py:265: ConvergenceWarning: Initialization 1 did not converge. Try different init parameters, or increase max_iter, tol or check for degenerate data.\n",
      "  % (init + 1), ConvergenceWarning)\n",
      "/Users/martin/Library/Python/3.7/lib/python/site-packages/sklearn/mixture/base.py:265: ConvergenceWarning: Initialization 1 did not converge. Try different init parameters, or increase max_iter, tol or check for degenerate data.\n",
      "  % (init + 1), ConvergenceWarning)\n"
     ]
    }
   ],
   "source": [
    "D = 2\n",
    "for iteration in range(0, 3):\n",
    "    print('--------------------------------------------')\n",
    "    print('Iteration:', iteration)\n",
    "    print('\\nWeights:', model.weights_)\n",
    "    print('\\nMeans:')\n",
    "    print(model.means_)\n",
    "    print('\\nCovariances')\n",
    "    print(model.covariances_)\n",
    "    \n",
    "    print('Likelihoods:')\n",
    "    for i, x in enumerate(X):\n",
    "        for j, (c, m, p) in enumerate(zip(model.covariances_, model.means_, model.weights_)):\n",
    "            likelihood = ( 1. / ((2 * np.pi)**(D/2)) ) * \\\n",
    "                         ( 1. / np.linalg.det(c)**0.5 ) * \\\n",
    "                         np.exp( -0.5 * (x-m).T @ np.linalg.inv(c) @ (x-m))\n",
    "            print(f'x: {x}, myu: {m} => likelihood: {likelihood: 0.10f} => joint: {p * likelihood: 0.10f}')\n",
    "    model.fit(X)"
   ]
  },
  {
   "cell_type": "code",
   "execution_count": null,
   "metadata": {},
   "outputs": [],
   "source": []
  },
  {
   "cell_type": "code",
   "execution_count": null,
   "metadata": {},
   "outputs": [],
   "source": []
  },
  {
   "cell_type": "code",
   "execution_count": null,
   "metadata": {},
   "outputs": [],
   "source": []
  },
  {
   "cell_type": "code",
   "execution_count": null,
   "metadata": {},
   "outputs": [],
   "source": []
  },
  {
   "cell_type": "code",
   "execution_count": null,
   "metadata": {},
   "outputs": [],
   "source": [
    "X, Y = np.meshgrid(np.linspace(-1, 6), np.linspace(-1,6))\n",
    "XX = np.array([X.ravel(), Y.ravel()]).T\n",
    "Z = model.score_samples(XX)\n",
    "Z = Z.reshape((50,50))\n",
    " \n",
    "plt.contour(X, Y, Z)\n",
    "plt.scatter(X_train[:, 0], X_train[:, 1])\n",
    " \n",
    "plt.show()"
   ]
  },
  {
   "cell_type": "code",
   "execution_count": null,
   "metadata": {},
   "outputs": [],
   "source": []
  }
 ],
 "metadata": {
  "kernelspec": {
   "display_name": "Python 3",
   "language": "python",
   "name": "python3"
  },
  "language_info": {
   "codemirror_mode": {
    "name": "ipython",
    "version": 3
   },
   "file_extension": ".py",
   "mimetype": "text/x-python",
   "name": "python",
   "nbconvert_exporter": "python",
   "pygments_lexer": "ipython3",
   "version": "3.7.7"
  }
 },
 "nbformat": 4,
 "nbformat_minor": 2
}
