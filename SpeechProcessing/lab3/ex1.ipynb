{
 "cells": [
  {
   "cell_type": "markdown",
   "metadata": {},
   "source": [
    "## Exercise 1"
   ]
  },
  {
   "cell_type": "code",
   "execution_count": 1,
   "metadata": {},
   "outputs": [],
   "source": [
    "import pandas as pd"
   ]
  },
  {
   "cell_type": "code",
   "execution_count": null,
   "metadata": {},
   "outputs": [],
   "source": [
    "data = pd.read_csv('./corpus/labels/train_labels.csv')\n",
    "data['label'] = data['kss'] > 7.5\n",
    "data['label'] = data['label'].astype(int)\n",
    "data.to_csv('./corpus/labels/train_labels_transformed.csv', index=False)\n",
    "data.head()"
   ]
  },
  {
   "cell_type": "code",
   "execution_count": null,
   "metadata": {},
   "outputs": [],
   "source": [
    "data = pd.read_csv('./corpus/labels/dev_labels.csv')\n",
    "data['label'] = data['kss'] > 7.5\n",
    "data['label'] = data['label'].astype(int)\n",
    "data.to_csv('./corpus/labels/dev_labels_tranformed.csv', index=False)\n",
    "data.head()"
   ]
  },
  {
   "cell_type": "code",
   "execution_count": null,
   "metadata": {},
   "outputs": [],
   "source": [
    "data.describe()"
   ]
  },
  {
   "cell_type": "markdown",
   "metadata": {},
   "source": [
    "## Exercise 2"
   ]
  },
  {
   "cell_type": "code",
   "execution_count": 2,
   "metadata": {},
   "outputs": [],
   "source": [
    "import glob\n",
    "import librosa\n",
    "import numpy as np\n",
    "from datetime import datetime, timedelta"
   ]
  },
  {
   "cell_type": "code",
   "execution_count": null,
   "metadata": {},
   "outputs": [],
   "source": [
    "def summary(path, data):\n",
    "#     print(data['Gender'].value_counts())\n",
    "#     print('\\n\\nM1:\\n', data[(data['Gender'] == 'M') & (data['label'] == 1)].count())\n",
    "#     print('\\n\\nM0:\\n', data[(data['Gender'] == 'M') & (data['label'] == 0)].count())\n",
    "#     print('\\n\\nF1:\\n', data[(data['Gender'] == 'F') & (data['label'] == 1)].count())\n",
    "#     print('\\n\\nF0:\\n', data[(data['Gender'] == 'F') & (data['label'] == 0)].count())\n",
    "    \n",
    "    durations = []\n",
    "    for p in glob.glob(f'{path}/*.wav'):\n",
    "        durations.append(librosa.get_duration(filename=p))\n",
    "\n",
    "    print('Mean: ', np.mean(durations))\n",
    "    \n",
    "    d = datetime(1,1,1) + timedelta(seconds=int(sum(durations)))\n",
    "    print(\"HOURS:MIN:SEC\")\n",
    "    print(\"%d:%d:%d\" % (d.hour, d.minute, d.second))"
   ]
  },
  {
   "cell_type": "code",
   "execution_count": null,
   "metadata": {},
   "outputs": [],
   "source": [
    "summary('./corpus/wav/test', None)"
   ]
  },
  {
   "cell_type": "markdown",
   "metadata": {},
   "source": [
    "#### Results:\n",
    "|       | Speakers | | SL  recordings |     | NSL  recordings |     | Average  duration (s) | Total  duration (h:m:s) |\n",
    "|-------|----------|----------|----------------|-----|-----------------|-----|-----------------------|-------------------------|\n",
    "|       | F        | M        | F              | M   | F               | M   |                       |                         |\n",
    "| Train | 1991     | 706      | 825            | 247 | 1166            | 459 | 9.0717                | 6:47:46                 |\n",
    "| Dev   | 967      | 372      | 294            | 194 | 673             | 178 | 7.8596                | 2:55:24                 |\n",
    "| Test  |          |          |                |     |                 |     | 10.1975               | 3:31:15                 |\n",
    "\n",
    "#### Comments:\n",
    "* Train set is twice the size of the dev set\n",
    "    * train: 35% males are sleepy and 41% of femaes are sleepy\n",
    "    * dev: 52% males are sleepy 30% of females are sleepy\n",
    "\n",
    "* Proportions in the train/dev set for males and females are almost the same\n",
    "* There are more females in the datasets compared to males ~70% females\n",
    "* There are more not sleepy recordings than sleepy ones\n",
    "\n",
    "* Average recording length of the train set is closer to test set then to dev set which is smaller\n",
    "\n",
    "\n",
    "* Train samples: 2697 (51%)\n",
    "* Dev samples: 1339   (25%)\n",
    "* Test samples: 1243  (24%)"
   ]
  },
  {
   "cell_type": "code",
   "execution_count": 3,
   "metadata": {},
   "outputs": [
    {
     "data": {
      "text/plain": [
       "(2697, 1339, 1243)"
      ]
     },
     "execution_count": 3,
     "metadata": {},
     "output_type": "execute_result"
    }
   ],
   "source": [
    "len(list(glob.glob('./corpus/wav/train/*.wav'))), len(list(glob.glob('./corpus/wav/dev/*.wav'))), len(list(glob.glob('./corpus/wav/test/*.wav')))"
   ]
  },
  {
   "cell_type": "code",
   "execution_count": null,
   "metadata": {},
   "outputs": [],
   "source": []
  },
  {
   "cell_type": "markdown",
   "metadata": {},
   "source": [
    "## Exercise 3"
   ]
  },
  {
   "cell_type": "code",
   "execution_count": 15,
   "metadata": {},
   "outputs": [],
   "source": [
    "import os\n",
    "from tqdm.notebook import tqdm"
   ]
  },
  {
   "cell_type": "code",
   "execution_count": 4,
   "metadata": {},
   "outputs": [],
   "source": [
    "opensmile_path = '/Users/martin/Downloads/opensmile-2.3.0'\n",
    "opensmile_executable_path = f'{opensmile_path}/inst/bin/SMILExtract'"
   ]
  },
  {
   "cell_type": "code",
   "execution_count": 13,
   "metadata": {
    "scrolled": true
   },
   "outputs": [
    {
     "name": "stderr",
     "output_type": "stream",
     "text": [
      "/usr/local/lib/python3.7/site-packages/ipykernel_launcher.py:3: TqdmDeprecationWarning: This function will be removed in tqdm==5.0.0\n",
      "Please use `tqdm.notebook.tqdm` instead of `tqdm.tqdm_notebook`\n",
      "  This is separate from the ipykernel package so we can avoid doing imports until\n"
     ]
    },
    {
     "data": {
      "application/vnd.jupyter.widget-view+json": {
       "model_id": "a7b4880865d342fb9cb9c88b896c0f09",
       "version_major": 2,
       "version_minor": 0
      },
      "text/plain": [
       "HBox(children=(FloatProgress(value=0.0, max=1243.0), HTML(value='')))"
      ]
     },
     "metadata": {},
     "output_type": "display_data"
    },
    {
     "name": "stdout",
     "output_type": "stream",
     "text": [
      "\n"
     ]
    }
   ],
   "source": [
    "config_file_path = '/Users/martin/Downloads/opensmile-2.3.0/config/gemaps/eGeMAPSv01a.conf'\n",
    "path = './corpus/wav/test'\n",
    "for p in tqdm(glob.glob(f'{path}/*.wav')):\n",
    "    out_path = p[:-4] + '_eGeMAPS.csv'\n",
    "    os.system(f'{opensmile_executable_path} -C {config_file_path} -I {p} -csvoutput {out_path}')"
   ]
  },
  {
   "cell_type": "code",
   "execution_count": 14,
   "metadata": {},
   "outputs": [
    {
     "name": "stderr",
     "output_type": "stream",
     "text": [
      "/usr/local/lib/python3.7/site-packages/ipykernel_launcher.py:3: TqdmDeprecationWarning: This function will be removed in tqdm==5.0.0\n",
      "Please use `tqdm.notebook.tqdm` instead of `tqdm.tqdm_notebook`\n",
      "  This is separate from the ipykernel package so we can avoid doing imports until\n"
     ]
    },
    {
     "data": {
      "application/vnd.jupyter.widget-view+json": {
       "model_id": "e5ce9d7495e74c72a6319843dd66e051",
       "version_major": 2,
       "version_minor": 0
      },
      "text/plain": [
       "HBox(children=(FloatProgress(value=0.0, max=1243.0), HTML(value='')))"
      ]
     },
     "metadata": {},
     "output_type": "display_data"
    },
    {
     "name": "stdout",
     "output_type": "stream",
     "text": [
      "\n"
     ]
    }
   ],
   "source": [
    "config_file_path = '/Users/martin/Downloads/opensmile-2.3.0/config/IS11_speaker_state.conf'\n",
    "path = './corpus/wav/test'\n",
    "for p in tqdm(glob.glob(f'{path}/*.wav')):\n",
    "    out_path = p[:-4] + '_IS11.csv'\n",
    "    os.system(f'{opensmile_executable_path} -C {config_file_path} -I {p} -csvoutput {out_path}')"
   ]
  },
  {
   "cell_type": "markdown",
   "metadata": {},
   "source": [
    "#### Comments:\n",
    "* eGeMAPS = 88 features + name;frameTime\n",
    "* IS11 = 4368 features + name;frameTime\n",
    "* Features are all functionals"
   ]
  },
  {
   "cell_type": "code",
   "execution_count": null,
   "metadata": {},
   "outputs": [],
   "source": []
  },
  {
   "cell_type": "markdown",
   "metadata": {},
   "source": [
    "## Exercise 4"
   ]
  },
  {
   "cell_type": "code",
   "execution_count": 26,
   "metadata": {},
   "outputs": [
    {
     "data": {
      "application/vnd.jupyter.widget-view+json": {
       "model_id": "ce4982bd30d9474fb0b93d010b6311d9",
       "version_major": 2,
       "version_minor": 0
      },
      "text/plain": [
       "HBox(children=(FloatProgress(value=0.0, max=1243.0), HTML(value='')))"
      ]
     },
     "metadata": {},
     "output_type": "display_data"
    },
    {
     "name": "stdout",
     "output_type": "stream",
     "text": [
      "\n"
     ]
    }
   ],
   "source": [
    "csvs = []\n",
    "for f in tqdm(glob.glob('./corpus/wav/test/*_IS11.csv')):\n",
    "    df = pd.read_csv(f, sep=';')\n",
    "    df['name'] = f.split('/')[-1].replace('.csv', '')\n",
    "    csvs.append(df)\n",
    "\n",
    "combined = pd.concat( csvs )\n",
    "combined.to_csv('./corpus/is11_test.csv', index=False )"
   ]
  },
  {
   "cell_type": "code",
   "execution_count": null,
   "metadata": {},
   "outputs": [],
   "source": []
  }
 ],
 "metadata": {
  "kernelspec": {
   "display_name": "Python 3",
   "language": "python",
   "name": "python3"
  },
  "language_info": {
   "codemirror_mode": {
    "name": "ipython",
    "version": 3
   },
   "file_extension": ".py",
   "mimetype": "text/x-python",
   "name": "python",
   "nbconvert_exporter": "python",
   "pygments_lexer": "ipython3",
   "version": "3.7.7"
  }
 },
 "nbformat": 4,
 "nbformat_minor": 2
}
