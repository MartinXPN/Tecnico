{
 "cells": [
  {
   "cell_type": "markdown",
   "metadata": {},
   "source": [
    "## Ex 1\n",
    "* precision = tp / (predicted_positives) = tp / (tp + fp)\n",
    "* recall = tp / (actual_positives) = tp / (tp + fn)\n",
    "* f1 = 2 * pr * re / (pr + re) = 2 * tp / (2 * tp + fn + fp)\n",
    "* acc = (tp + tn) / (tp + tn + fp + fn)"
   ]
  },
  {
   "cell_type": "code",
   "execution_count": 1,
   "metadata": {},
   "outputs": [],
   "source": [
    "import pandas as pd"
   ]
  },
  {
   "cell_type": "code",
   "execution_count": 4,
   "metadata": {},
   "outputs": [],
   "source": [
    "data = pd.read_csv('./corpus/labels/dev_labels_tranformed.csv')\n",
    "label = data['label'].values"
   ]
  },
  {
   "cell_type": "code",
   "execution_count": 11,
   "metadata": {},
   "outputs": [
    {
     "data": {
      "text/plain": [
       "0    851\n",
       "1    488\n",
       "Name: label, dtype: int64"
      ]
     },
     "execution_count": 11,
     "metadata": {},
     "output_type": "execute_result"
    }
   ],
   "source": [
    "data['label'].value_counts()"
   ]
  },
  {
   "cell_type": "markdown",
   "metadata": {},
   "source": [
    "## Ex 2\n",
    "* Assume positive class is 1 and negative class is 0\n",
    "* We predict 0 always as 851 > 488"
   ]
  },
  {
   "cell_type": "code",
   "execution_count": 12,
   "metadata": {},
   "outputs": [
    {
     "name": "stdout",
     "output_type": "stream",
     "text": [
      "Precision: 0, Recall: 0, f1: 0, Accuracy: 0.6355489171023152\n"
     ]
    }
   ],
   "source": [
    "# Always predict 0 (positive class is 1)\n",
    "precision = 0  # We always predict 0 (0/0)\n",
    "recall = 0     # We always predict 0 (0/488)\n",
    "f1 = 0         # 2 * pr * re / (pr + re) = 2 * tp / (2 * tp + fn + fp)\n",
    "acc = 851 / (488+851)\n",
    "print(f'Precision: {precision}, Recall: {recall}, f1: {f1}, Accuracy: {acc}')"
   ]
  },
  {
   "cell_type": "markdown",
   "metadata": {},
   "source": [
    "* We should use the unweighted average recall since the distribution of the classes is unbalanced"
   ]
  },
  {
   "cell_type": "code",
   "execution_count": 3,
   "metadata": {},
   "outputs": [
    {
     "name": "stdout",
     "output_type": "stream",
     "text": [
      "Precision: 0.6355489171023152, Recall: 1.0, f1: 0.7771689497716895, Accuracy: 0.6355489171023152\n"
     ]
    }
   ],
   "source": [
    "# Always predict 0 (positive class 0)\n",
    "precision = 851 / (851 + 488)\n",
    "recall = 851 / 851\n",
    "f1 = 2 * precision * recall / (precision + recall)\n",
    "acc = 851 / (488+851)\n",
    "print(f'Precision: {precision}, Recall: {recall}, f1: {f1}, Accuracy: {acc}')"
   ]
  },
  {
   "cell_type": "markdown",
   "metadata": {},
   "source": [
    "* The results are in the ex2/SVM_comments.txt"
   ]
  },
  {
   "cell_type": "code",
   "execution_count": null,
   "metadata": {},
   "outputs": [],
   "source": []
  }
 ],
 "metadata": {
  "kernelspec": {
   "display_name": "Python 3",
   "language": "python",
   "name": "python3"
  },
  "language_info": {
   "codemirror_mode": {
    "name": "ipython",
    "version": 3
   },
   "file_extension": ".py",
   "mimetype": "text/x-python",
   "name": "python",
   "nbconvert_exporter": "python",
   "pygments_lexer": "ipython3",
   "version": "3.7.7"
  }
 },
 "nbformat": 4,
 "nbformat_minor": 2
}
